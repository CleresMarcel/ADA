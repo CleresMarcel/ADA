{
 "cells": [
  {
   "cell_type": "markdown",
   "id": "u5b4sc5lKnEl",
   "metadata": {
    "cell_id": "25afe9c0-611c-4026-b5b0-64f532210d28",
    "deepnote_cell_type": "markdown",
    "id": "u5b4sc5lKnEl"
   },
   "source": [
    "## Aula 04 - Árvores de Decisão\n",
    "\n",
    "Iremos explorar os seguintes tópicos em Machine Learning:\n",
    "- 1. Introdução árvores de decisão\n",
    "- 2. Árvores de decisão\n",
    "- 3. Árvores de regressão\n",
    "\n",
    "<img src=\"https://miro.medium.com/max/899/0*Wy3QjtXL9qf-Ssyz.jpg\" width=800>"
   ]
  },
  {
   "cell_type": "markdown",
   "id": "ldEeCdR8KnEo",
   "metadata": {
    "cell_id": "00001-cdb1840f-cee6-4ae4-8b58-1da48166b089",
    "deepnote_cell_type": "markdown",
    "id": "ldEeCdR8KnEo"
   },
   "source": [
    "### 1. Introdução - Árvores de Decisão\n",
    "\n",
    "Podemos pensar que a árvore de decisão é uma árvore binaria.\n",
    "\n",
    "Com a seguinte estrutura:\n",
    "<img src=\"https://i1.wp.com/www.vooo.pro/insights/wp-content/uploads/2016/12/RDS-Vooo_insights-Tutorial_arvore_de_decisao_02.jpg?resize=640%2C371&ssl=1\" width=600>"
   ]
  },
  {
   "cell_type": "markdown",
   "id": "yi75baGwKnEo",
   "metadata": {
    "cell_id": "00002-21ce8f65-51c5-4cbc-9239-22c0c4db86ea",
    "deepnote_cell_type": "markdown",
    "id": "yi75baGwKnEo"
   },
   "source": [
    "**Um exemplo simples**:\n",
    "Imagine que você gostaria de viajar, mas não sabe para onde ir. Você pergunta para um amigo, vamos chamá-lo de Pedro, \"você pode me indicar um lugar para eu passar as férias?\". Pedro por sua vez começa a fazer diversas perguntas com resposta binária (somente duas opções), por exemplo:\n",
    "\n",
    "1-) Você gosta de frio ou de calor?<br>\n",
    "2-) Você quer ir para o exterior ou não?<br>\n",
    "3-) Você gosta de praia ou montanha?<br>\n",
    "4-) Vai sozinho ou acompanhado?<br>\n",
    "\n",
    "E assim por diante. A partir das experiências dele, ele irá te indicar um local. Essa seria uma árvore de decisão.\n",
    "\n"
   ]
  },
  {
   "cell_type": "markdown",
   "id": "NxgcVmuHKnEp",
   "metadata": {
    "cell_id": "00003-ad6230c0-cd1e-4c55-a6e1-b6e1b04b4529",
    "deepnote_cell_type": "markdown",
    "id": "NxgcVmuHKnEp"
   },
   "source": [
    "**Alguns exemplos de aplicações de Árvores de Decisão:** <br>\n",
    "\n",
    "<img src=\"https://web.tecnico.ulisboa.pt/ana.freitas/bioinformatics.ath.cx/bioinformatics.ath.cx/uploads/RTEmagicC_arv_dec4_01.gif.gif\" width=500>\n",
    "\n",
    "<br><br>\n",
    "\n",
    "<img src=\"https://didatica.tech/wp-content/uploads/2020/07/image-3.png\" width=500>\n",
    "\n",
    "<br><br>"
   ]
  },
  {
   "cell_type": "markdown",
   "id": "qQDtLMKcKnEp",
   "metadata": {
    "cell_id": "00004-d8615c5b-1606-4af3-8c84-f169e34239e6",
    "deepnote_cell_type": "markdown",
    "id": "qQDtLMKcKnEp"
   },
   "source": [
    "Quando trabalhamos com múltiplas variáveis, como definir qual variável vamos utilizar primeiro para o Nó?\n",
    "\n",
    "Vamos utilizar o exemplo de uma amostra de 30 alunos com duas variáveis: Sexo (menino ou menina), Classe (IX ou X). Além disso 15 dos 30 alunos jogam tênis no intervalo. Dado isso, a pergunta que fica é: **Qual variável/feature utilizar para fazer a quebra do nó raiz: sexo ou classe?**\n",
    "\n",
    "Há duas possibilidades de quebras:\n",
    "\n",
    "<img src=\"https://i2.wp.com/www.vooo.pro/insights/wp-content/uploads/2016/12/RDS-Vooo-Tutorial_completo_arvore_decisao_03.jpg?resize=617%2C293&ssl=1\" width=500>\n",
    "\n",
    "Vemos que, **dependendo da feature que utilizamos pra fazer a quebra**, conseguimos **graus de separações diferentes dos dados com relação ao target**.\n",
    "\n",
    "Como decidir então, qual das quebras acima **separou melhor os dados com relação ao target [ joga(s/n) ]?**\n",
    "\n",
    "Matematicamente, o modelo pode usar dois critérios diferentes para decidir como fazer as quebras na árvore: o **critério de Gini** ou o **critério da entropia**."
   ]
  },
  {
   "cell_type": "markdown",
   "id": "Al8NiwM5KnEq",
   "metadata": {
    "cell_id": "00005-52a14611-6e84-4d51-b5e6-562b1ba28001",
    "deepnote_cell_type": "markdown",
    "id": "Al8NiwM5KnEq"
   },
   "source": [
    "### **Critério de Gini**\n",
    "\n",
    "A **impureza de Gini** mede o quão \"impuras\" são as folhas das árvores construídas após as quebras nos nós. O coeficiente é dado por:\n",
    "\n",
    "$$Gini(D) = 1 - \\sum{p_{i}^2}$$\n",
    "\n",
    "Onde $p_i$ são as proporções de separação do target em cada quebra.\n",
    "\n",
    "Aqui estaremos interessados **em como a impureza muda após as quebras**. Nosso objetivo será **maximizar a purificação proporcionada pela quebra nos nós** -- mais precisamente, estamos interessados em determinar **qual é a quebra que proporciona a maior purificação**.\n",
    "\n",
    "<table border=\"1px\">\n",
    "<thead>\n",
    "  <tr>\n",
    "    <th colspan=\"4\"><center>Sexo</center></th>\n",
    "  </tr>\n",
    "</thead>\n",
    "<tbody>\n",
    "  <tr>\n",
    "    <td colspan=\"2\"><center>Meninas</center></td>\n",
    "    <td colspan=\"2\"><center>Meninos</center></td>\n",
    "  </tr>\n",
    "  <tr>\n",
    "    <td><center>jogam tênis</center></td>\n",
    "    <td><center>NÃO jogam tênis</center></td>\n",
    "    <td><center>jogam tênis</center></td>\n",
    "    <td><center>NÃO jogam tênis</center></td>\n",
    "  </tr>\n",
    "  <tr>\n",
    "    <td><center>2</center></td>\n",
    "    <td><center>8</center></td>\n",
    "    <td><center>13</center></td>\n",
    "    <td><center>7</center></td>\n",
    "  </tr>\n",
    "  <tr>\n",
    "    <td colspan=\"2\"><center>10</center></td>\n",
    "    <td colspan=\"2\"><center>20</center></td>\n",
    "  </tr>\n",
    "</tbody>\n",
    "</table>\n",
    "\n",
    "\n",
    "- **Impureza antes da divisão**: Como não havia separação alguma, a impureza era dada simplesmente pelo balanço natural dos dados:\n",
    "\n",
    "$$G(\\text{pré-divisão}) = 1 - ((15/30)^2 + (15/30)^2) = 0.5$$\n",
    "\n",
    "Temos duas quebras possíveis:\n",
    "\n",
    "- Divisão por **sexo**: após a divisão dos dados pela feature **sexo**, passamos a ter as seguintes impurezas, segundo a tabela acima:\n",
    "\n",
    "    - $G(\\text{meninas}) = 1 - (\\frac{2}{10}^2 + \\frac{8}{10}^2) = 0.319$\n",
    "\n",
    "    - $G(\\text{meninos}) = 1 - ( \\frac{13}{20}^2 + \\frac{7}{20}^2) = 0.454$\n",
    "\n",
    "    Ou seja, após a divisão, a impureza total passa a ser a média ponderada:\n",
    "\n",
    "    <br>\n",
    "\n",
    "    - $G(\\text{pós-divisão}) = \\frac{10}{30} \\times G(\\text{meninas}) + \\frac{20}{30} \\times G(\\text{meninos})\n",
    "    = 0.33 \\times 0.319 + 0.66 \\times 0.454\n",
    "    = 0.40491$\n",
    "\n",
    "    Assim, **a perda de impureza proporcionada pela quebra** dos dados segundo a feature **sexo** é de:\n",
    "\n",
    "    <br>\n",
    "\n",
    "    - $\\Delta G_{\\text{sexo}} = G(\\text{pré-divisão}) - G(\\text{pós-divisão}) = 0.5 - 0.40491 = $ **0.095**\n",
    "\n",
    "\n",
    "<br>\n",
    "\n",
    "<table>\n",
    "<thead>\n",
    "  <tr>\n",
    "    <th colspan=\"4\"><center>Classe</center></th>\n",
    "  </tr>\n",
    "</thead>\n",
    "<tbody>\n",
    "  <tr>\n",
    "    <td colspan=\"2\"><center>Classe IX</center></td>\n",
    "    <td colspan=\"2\"><center>Classe X</center></td>\n",
    "  </tr>\n",
    "  <tr>\n",
    "    <td><center>jogam tênis</center></td>\n",
    "    <td><center>NÃO jogam tênis</center></td>\n",
    "    <td><center>jogam tênis</center></td>\n",
    "    <td><center>NÃO jogam tênis</center></td>\n",
    "  </tr>\n",
    "  <tr>\n",
    "    <td><center>6</center></td>\n",
    "    <td><center>8</center></td>\n",
    "    <td><center>9</center></td>\n",
    "    <td><center>7</center></td>\n",
    "  </tr>\n",
    "  <tr>\n",
    "    <td colspan=\"2\"><center>14</center></td>\n",
    "    <td colspan=\"2\"><center>16</center></td>\n",
    "  </tr>\n",
    "</tbody>\n",
    "</table>\n",
    "\n",
    "\n",
    "\n",
    "- Divisão por **classe**: após a divisão dos dados pela feature **classe**, passamos a ter as seguintes impurezas, segundo a tabela acima:\n",
    "\n",
    "    - $G(\\text{IX}) = 1 - (\\frac{6}{14}^2 + \\frac{8}{14}^2) = 0.489$\n",
    "\n",
    "    - $G(\\text{X}) = 1 - ( \\frac{9}{16}^2 + \\frac{7}{16}^2) = 0.492$\n",
    "\n",
    "    Ou seja, após a divisão, a impureza total passa a ser a média ponderada:\n",
    "\n",
    "    <br>\n",
    "\n",
    "    - $G(\\text{pós-divisão}) = \\frac{14}{30} \\times G(\\text{IX}) + \\frac{16}{30} \\times G(\\text{X})\n",
    "    = 0.46 \\times 0.489 + 0.53 \\times 0.492\n",
    "    = 0.4857$\n",
    "\n",
    "    Assim, **a perda de impureza proporcionada pela quebra** dos dados segundo a feature **classe** é de:\n",
    "\n",
    "    <br>\n",
    "\n",
    "    - $\\Delta G_{\\text{classe}} = G(\\text{pré-divisão}) - G(\\text{pós-divisão}) = 0.5 - 0.4857 = $ **0.014**\n",
    "\n",
    "Agora, como escolher a melhor quebra?\n",
    "\n",
    "> O **critério de Gini** consiste em **escolher a quebra que proporciona a maior perda de impureza**, ou, equivalentemente, **a maior purificação**.\n",
    "\n",
    "Assim, a divisão a ser escolhida seria por **sexo**.\n",
    "\n",
    "Depois, aplica-se o mesmo procedimento para os nós resultantes."
   ]
  },
  {
   "cell_type": "markdown",
   "id": "rUWRhSsFKnEs",
   "metadata": {
    "cell_id": "00006-9e0f2e62-2203-4e43-8049-977b13480137",
    "deepnote_cell_type": "markdown",
    "id": "rUWRhSsFKnEs"
   },
   "source": [
    "### **Critério de entropia**\n",
    "\n",
    "A **entropia** é uma quantidade definida em física e teoria da informação com o objetivo de quantificar **o grau de desordem de um sistema**, ou, equivalentemente, **o quanto de informação se tem sobre determinado sistema**.\n",
    "\n",
    "A entropia é dada por:\n",
    "\n",
    " $$E = -\\sum{p_{i} \\times \\log_{2}{p_{i}}}$$\n",
    "\n",
    "\n",
    "Onde $p_i$ são as proporções de separação do target em cada quebra.\n",
    "\n",
    "Aqui estaremos interessados **em como a impureza muda após as quebras**.\n",
    "\n",
    "Aqui também estaremos interessados **em como a entropia muda após as quebras**. Nosso objetivo será **maximizar o ganho de informação proporcionado pela quebra nos nós** -- mais precisamente, estamos interessados em determinar **qual é a quebra que proporciona o maior ganho de informação**.\n",
    "\n",
    "- **Entropia antes da divisão**:\n",
    "\n",
    "$$E(pré-divisão) = -1 * ( \\frac{15}{30}log_{2}{\\frac{15}{30}} + \\frac{15}{30}log_{2}{\\frac{15}{30}} ) = 1$$\n",
    "\n",
    "\n",
    "Temos duas quebras possíveis:\n",
    "\n",
    "- **Divisão por sexo**:\n",
    "\n",
    "    - $E(\\text{meninas}) = -1 \\times (\\frac{2}{10} \\log_{2}\\frac{2}{10} + \\frac{8}{10} \\log_{2}\\frac{8}{10}) = 0.721$\n",
    "    - $E(\\text{meninos}) = -1 \\times (\\frac{13}{20} \\log_{2}\\frac{13}{20} + \\frac{7}{20} \\log_{2}\\frac{7}{20}) = 0.934$\n",
    "\n",
    "    A entropia ponderada após a divisão por **sexo** é:\n",
    "\n",
    "    <br>\n",
    "\n",
    "    - $E(\\text{pós-divisão}) = \\frac{10}{30} \\times E(\\text{meninas}) + \\frac{20}{30} \\times E(\\text{meninos}) =  0.863$\n",
    "\n",
    "    Assim, o ganho de informação após a divisão por **sexo** é:\n",
    "\n",
    "    <br>\n",
    "\n",
    "    - $\\Delta E_{\\text{sexo}} = E(\\text{pré-divisão}) - E(\\text{pós-divisão}) = 1 - 0.863 =$ **0.137**\n",
    "\n",
    "<br>\n",
    "\n",
    "- **Divisão por classe**:\n",
    "\n",
    "    - $E(\\text{IX}) = -1 \\times (\\frac{6}{14} \\log_{2}\\frac{6}{14} + \\frac{8}{14} \\log_{2}\\frac{8}{14}) = 0.985$\n",
    "    - $E(\\text{X}) = -1 \\times (\\frac{9}{16} \\log_{2}\\frac{9}{16} + \\frac{7}{16} \\log_{2}\\frac{7}{16}) = 0.988$\n",
    "\n",
    "    A entropia ponderada após a divisão por **classe** é:\n",
    "\n",
    "    <br>\n",
    "\n",
    "    - $E(\\text{pós-divisão}) = \\frac{10}{30} \\times E(\\text{IX}) + \\frac{20}{30} \\times E(\\text{X}) =  0.986$\n",
    "\n",
    "    Assim, o ganho de informação após a divisão por **classe** é:\n",
    "\n",
    "    <br>\n",
    "\n",
    "    - $\\Delta E_{\\text{classe}} = E(\\text{pré-divisão}) - E(\\text{pós-divisão}) = 1 - 0.986 =$ **0.014**\n",
    "\n",
    "Também pela entropia, a divisão a ser escolhida seria por **sexo**.\n",
    "\n",
    "Depois, aplica-se o mesmo procedimento para os nós resultantes, até obter-se nós puros."
   ]
  },
  {
   "cell_type": "markdown",
   "id": "3-Zs9xFAKnEt",
   "metadata": {
    "cell_id": "00007-4364dbeb-0849-47b7-a143-e3ae999427a8",
    "deepnote_cell_type": "markdown",
    "id": "3-Zs9xFAKnEt"
   },
   "source": [
    "**Obs**:\n",
    "- Estima-se que poucos casos importa se você usa a impureza de gini ou entropia\n",
    "- Entropia pode ser um pouco mais lenta para computar (logaritmo).\n",
    "\n",
    "\n",
    "Referência extra:\n",
    "https://www.unine.ch/files/live/sites/imi/files/shared/documents/papers/Gini_index_fulltext.pdf"
   ]
  },
  {
   "cell_type": "markdown",
   "id": "U3KpbPEoKnEt",
   "metadata": {
    "cell_id": "00008-c96b2104-c73e-40cf-96fc-a9a7c0c7c42d",
    "deepnote_cell_type": "markdown",
    "id": "U3KpbPEoKnEt"
   },
   "source": [
    "## Exemplos"
   ]
  },
  {
   "cell_type": "raw",
   "id": "f592e2df",
   "metadata": {
    "cell_id": "00009-89ee988d-5d75-4881-b304-5ec68897f75b",
    "deepnote_cell_type": "markdown",
    "id": "cqmCG6wRKnEt"
   },
   "source": [
    "!pip install dtreeviz\n",
    "!pip install mlxtend"
   ]
  },
  {
   "cell_type": "code",
   "execution_count": 1,
   "id": "h2rKU8YUKnEu",
   "metadata": {
    "cell_id": "00010-635a838c-54ab-4f01-ae41-8b9f6ac52c67",
    "deepnote_cell_type": "code",
    "deepnote_to_be_reexecuted": false,
    "execution_millis": 1841,
    "execution_start": 1643414182749,
    "id": "h2rKU8YUKnEu",
    "source_hash": "27095af7"
   },
   "outputs": [],
   "source": [
    "import numpy as np\n",
    "import pandas as pd\n",
    "import seaborn as sns\n",
    "import matplotlib.pyplot as plt"
   ]
  },
  {
   "cell_type": "code",
   "execution_count": 2,
   "id": "3xl7wfEtKnEu",
   "metadata": {
    "cell_id": "00011-cbf86c0e-2741-456f-9e97-13b3d9a28d89",
    "deepnote_cell_type": "code",
    "deepnote_to_be_reexecuted": false,
    "execution_millis": 8,
    "execution_start": 1643414267876,
    "id": "3xl7wfEtKnEu",
    "source_hash": "725a41d8"
   },
   "outputs": [],
   "source": [
    "df = pd.read_csv('heart_failure.csv')"
   ]
  },
  {
   "cell_type": "markdown",
   "id": "6e9ebaab",
   "metadata": {},
   "source": [
    "#### Divisão de treino e teste"
   ]
  },
  {
   "cell_type": "markdown",
   "id": "QLrbMROjKnE0",
   "metadata": {
    "cell_id": "00063-f145e0c7-f2cb-4f36-9c77-c9ea60940e75",
    "deepnote_cell_type": "markdown",
    "id": "QLrbMROjKnE0"
   },
   "source": [
    "## Atividade\n",
    "__1)__ Use os dados imobiliários do Sklearn para classificar os quartis.\n",
    "\n",
    "Para pegar os dados, use:\n",
    "\n"
   ]
  },
  {
   "cell_type": "code",
   "execution_count": 4,
   "id": "80c973cb",
   "metadata": {
    "cell_id": "00064-fdf46c86-0ecd-4587-9a25-9f0de9e049d7",
    "deepnote_cell_type": "code",
    "id": "R5h6QbzlKnE0"
   },
   "outputs": [
    {
     "name": "stdout",
     "output_type": "stream",
     "text": [
      ".. _california_housing_dataset:\n",
      "\n",
      "California Housing dataset\n",
      "--------------------------\n",
      "\n",
      "**Data Set Characteristics:**\n",
      "\n",
      "    :Number of Instances: 20640\n",
      "\n",
      "    :Number of Attributes: 8 numeric, predictive attributes and the target\n",
      "\n",
      "    :Attribute Information:\n",
      "        - MedInc        median income in block group\n",
      "        - HouseAge      median house age in block group\n",
      "        - AveRooms      average number of rooms per household\n",
      "        - AveBedrms     average number of bedrooms per household\n",
      "        - Population    block group population\n",
      "        - AveOccup      average number of household members\n",
      "        - Latitude      block group latitude\n",
      "        - Longitude     block group longitude\n",
      "\n",
      "    :Missing Attribute Values: None\n",
      "\n",
      "This dataset was obtained from the StatLib repository.\n",
      "https://www.dcc.fc.up.pt/~ltorgo/Regression/cal_housing.html\n",
      "\n",
      "The target variable is the median house value for California districts,\n",
      "expressed in hundreds of thousands of dollars ($100,000).\n",
      "\n",
      "This dataset was derived from the 1990 U.S. census, using one row per census\n",
      "block group. A block group is the smallest geographical unit for which the U.S.\n",
      "Census Bureau publishes sample data (a block group typically has a population\n",
      "of 600 to 3,000 people).\n",
      "\n",
      "A household is a group of people residing within a home. Since the average\n",
      "number of rooms and bedrooms in this dataset are provided per household, these\n",
      "columns may take surprisingly large values for block groups with few households\n",
      "and many empty houses, such as vacation resorts.\n",
      "\n",
      "It can be downloaded/loaded using the\n",
      ":func:`sklearn.datasets.fetch_california_housing` function.\n",
      "\n",
      ".. topic:: References\n",
      "\n",
      "    - Pace, R. Kelley and Ronald Barry, Sparse Spatial Autoregressions,\n",
      "      Statistics and Probability Letters, 33 (1997) 291-297\n",
      "\n"
     ]
    }
   ],
   "source": [
    "from sklearn.datasets import fetch_california_housing\n",
    "dados = fetch_california_housing()\n",
    "print(dados['DESCR'])"
   ]
  },
  {
   "cell_type": "markdown",
   "id": "uOa95AgzKnE1",
   "metadata": {
    "cell_id": "00081-b1e32bef-4a7b-471e-81bf-09331340e99b",
    "deepnote_cell_type": "markdown",
    "id": "uOa95AgzKnE1"
   },
   "source": [
    "## Exercício 2 - Base Insurance"
   ]
  },
  {
   "cell_type": "markdown",
   "id": "h5IjwQ-NdDeB",
   "metadata": {
    "id": "h5IjwQ-NdDeB"
   },
   "source": [
    "2-) Utilize os modelo de árvore aprendido durante a aula e compare o desempenho entre ele e uma Regressão Linear."
   ]
  },
  {
   "cell_type": "code",
   "execution_count": 45,
   "id": "vZHdmp1BKnE1",
   "metadata": {
    "cell_id": "00083-5209b28d-afe9-4ee3-aa22-cba3e6ef2432",
    "deepnote_cell_type": "code",
    "id": "vZHdmp1BKnE1"
   },
   "outputs": [],
   "source": [
    "import pandas as pd\n",
    "insurance = pd.read_csv('insurance.csv')"
   ]
  },
  {
   "cell_type": "code",
   "execution_count": null,
   "id": "7dd316ef",
   "metadata": {},
   "outputs": [],
   "source": []
  }
 ],
 "metadata": {
  "colab": {
   "provenance": []
  },
  "deepnote": {},
  "deepnote_execution_queue": [],
  "deepnote_notebook_id": "ae345024-e25b-4f2b-a619-7d1dc1e97f53",
  "kernelspec": {
   "display_name": "Python 3 (ipykernel)",
   "language": "python",
   "name": "python3"
  },
  "language_info": {
   "codemirror_mode": {
    "name": "ipython",
    "version": 3
   },
   "file_extension": ".py",
   "mimetype": "text/x-python",
   "name": "python",
   "nbconvert_exporter": "python",
   "pygments_lexer": "ipython3",
   "version": "3.10.11"
  }
 },
 "nbformat": 4,
 "nbformat_minor": 5
}
