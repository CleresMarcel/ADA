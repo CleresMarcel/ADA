{
 "cells": [
  {
   "cell_type": "markdown",
   "id": "Ma9swFvdKnEy",
   "metadata": {
    "cell_id": "00037-5e6f9250-22c8-49ac-ac6a-3bfde9f429f4",
    "deepnote_cell_type": "markdown",
    "id": "Ma9swFvdKnEy"
   },
   "source": [
    "## Árvores de Regressão\n",
    "\n",
    "Alguns algoritmos de classificação podem ser utilizados como algoritmos de regressão, inclusive árvores de decisão!\n",
    " As **árvores de regressão** consistem em funções com valores discretos, similar a uma escada, onde cada degrau é o valor de uma folha. [Aqui](https://scikit-learn.org/stable/auto_examples/tree/plot_tree_regression.html) há detalhes sobre a classe do sklearn.\n",
    "\n",
    "Considere o seguinte dataset:\n",
    "\n",
    "<img src='https://s3-sa-east-1.amazonaws.com/lcpi/800a4332-e709-4ea3-8c24-959c05c8fd65.png' width=500>\n",
    "\n",
    "O algoritmo irá obter os valores do target como sendo **a média dos valores de cada folha da árvore final**.\n",
    "\n",
    "Visualmente:\n",
    "\n",
    "<img src='https://s3-sa-east-1.amazonaws.com/lcpi/64cb4edd-20e1-486a-8fc9-60e60e1485d5.png' width=500>\n",
    "\n",
    "Para a escolha das melhores divisões:\n",
    "\n",
    "- o algoritmo percorre a médida entre cada par de pontos das features;\n",
    "- define estes valores como divisões (sequencialmente);\n",
    "- para cada divisão experimentada, o algoritmo calcula o MSE;\n",
    "- a melhor divisão é aquela que apresentar o menor erro!\n",
    "\n",
    "Visualmente:\n",
    "\n",
    "<img src='https://s3-sa-east-1.amazonaws.com/lcpi/be58ac8b-5c59-4b9f-be79-e000d060e9e3.png' width=500>\n",
    "\n",
    "<img src='https://s3-sa-east-1.amazonaws.com/lcpi/1f317afd-6119-41a5-849d-cee038403cf2.png' width=500>"
   ]
  },
  {
   "cell_type": "markdown",
   "id": "0eLQh6bbKnEy",
   "metadata": {
    "cell_id": "00038-7fb15b1c-12e6-497d-821b-c337b7f01b82",
    "deepnote_cell_type": "markdown",
    "id": "0eLQh6bbKnEy"
   },
   "source": [
    "Outro exemplo de árvore de regressão treinada:\n",
    "\n",
    "<img src=\"https://res.cloudinary.com/practicaldev/image/fetch/s--YryIJN_o--/c_imagga_scale,f_auto,fl_progressive,h_900,q_auto,w_1600/https://thepracticaldev.s3.amazonaws.com/i/7oxf0e3cggdj9jayxeig.png\" width=600>"
   ]
  },
  {
   "cell_type": "markdown",
   "id": "9JFnVz-TKnEz",
   "metadata": {
    "cell_id": "00039-969e57e2-d891-4738-b782-03e898482ea8",
    "deepnote_cell_type": "markdown",
    "id": "9JFnVz-TKnEz"
   },
   "source": [
    "### Exemplo Regressão"
   ]
  },
  {
   "cell_type": "code",
   "execution_count": null,
   "id": "3e7870a0",
   "metadata": {},
   "outputs": [],
   "source": []
  }
 ],
 "metadata": {
  "colab": {
   "provenance": []
  },
  "deepnote": {},
  "deepnote_execution_queue": [],
  "deepnote_notebook_id": "ae345024-e25b-4f2b-a619-7d1dc1e97f53",
  "kernelspec": {
   "display_name": "Python 3 (ipykernel)",
   "language": "python",
   "name": "python3"
  },
  "language_info": {
   "codemirror_mode": {
    "name": "ipython",
    "version": 3
   },
   "file_extension": ".py",
   "mimetype": "text/x-python",
   "name": "python",
   "nbconvert_exporter": "python",
   "pygments_lexer": "ipython3",
   "version": "3.10.11"
  }
 },
 "nbformat": 4,
 "nbformat_minor": 5
}
