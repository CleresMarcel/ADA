{
 "cells": [
  {
   "cell_type": "markdown",
   "id": "54d98d3e",
   "metadata": {},
   "source": [
    "<div style=\"background-color: lightgreen; padding: 18px;\">\n",
    "    <h1> Aula 4 | Lógica de Programação II\n",
    "</div>"
   ]
  },
  {
   "cell_type": "markdown",
   "id": "045c1ccd",
   "metadata": {},
   "source": [
    "<div style=\"background-color: lightblue; padding: 10px;\">\n",
    "    <h2> Tópicos da aula 4\n",
    "</div>\n",
    "\n",
    "- Exercícios\n",
    "- Set\n",
    "- List comprehension\n"
   ]
  },
  {
   "cell_type": "markdown",
   "id": "28bced50",
   "metadata": {},
   "source": [
    "#### Set"
   ]
  },
  {
   "cell_type": "code",
   "execution_count": 1,
   "id": "e52560cf",
   "metadata": {},
   "outputs": [],
   "source": [
    "#set --> conjunto"
   ]
  },
  {
   "cell_type": "code",
   "execution_count": 3,
   "id": "91b21f32",
   "metadata": {},
   "outputs": [
    {
     "data": {
      "text/plain": [
       "{2, 3, 'casa'}"
      ]
     },
     "execution_count": 3,
     "metadata": {},
     "output_type": "execute_result"
    }
   ],
   "source": [
    "B = {2, 2, 3, 'casa'}\n",
    "B"
   ]
  },
  {
   "cell_type": "code",
   "execution_count": 4,
   "id": "0f0c8142",
   "metadata": {},
   "outputs": [
    {
     "data": {
      "text/plain": [
       "['1', '1', 2, 2, 3, -3, 3]"
      ]
     },
     "execution_count": 4,
     "metadata": {},
     "output_type": "execute_result"
    }
   ],
   "source": [
    "lista = ['1', '1', 2, 2, 3, -3, 3]\n",
    "lista"
   ]
  },
  {
   "cell_type": "code",
   "execution_count": 5,
   "id": "18e0069f",
   "metadata": {},
   "outputs": [
    {
     "data": {
      "text/plain": [
       "['1', 2, 3, -3]"
      ]
     },
     "execution_count": 5,
     "metadata": {},
     "output_type": "execute_result"
    }
   ],
   "source": [
    "lista_nova = []\n",
    "lista = ['1', '1', 2, 2, 3, -3, 3]\n",
    "for elem in lista:\n",
    "    if elem not in lista_nova:\n",
    "        lista_nova.append(elem)\n",
    "\n",
    "lista_nova\n"
   ]
  },
  {
   "cell_type": "code",
   "execution_count": 6,
   "id": "cf124583",
   "metadata": {},
   "outputs": [],
   "source": [
    "def teste_i(n):\n",
    "    lista = [0] * n\n",
    "    new_list = []\n",
    "    \n",
    "    for i in range(n):\n",
    "        new_list.append(lista[i])\n",
    "    \n",
    "    return new_list\n",
    "\n",
    "    "
   ]
  },
  {
   "cell_type": "code",
   "execution_count": 7,
   "id": "a39a47e8",
   "metadata": {},
   "outputs": [],
   "source": [
    "def teste_each(n):\n",
    "    lista = [0] * n\n",
    "    new_list = []\n",
    "\n",
    "    for i in lista:\n",
    "        new_list.append(i)\n",
    "    \n",
    "    return new_list\n"
   ]
  },
  {
   "cell_type": "code",
   "execution_count": 26,
   "id": "28e8bed6",
   "metadata": {},
   "outputs": [
    {
     "name": "stdout",
     "output_type": "stream",
     "text": [
      "4.52 µs ± 165 ns per loop (mean ± std. dev. of 7 runs, 100,000 loops each)\n",
      "4.97 µs ± 345 ns per loop (mean ± std. dev. of 7 runs, 100,000 loops each)\n",
      "4.64 µs ± 244 ns per loop (mean ± std. dev. of 7 runs, 100,000 loops each)\n",
      "4.89 µs ± 533 ns per loop (mean ± std. dev. of 7 runs, 100,000 loops each)\n",
      "4.52 µs ± 299 ns per loop (mean ± std. dev. of 7 runs, 100,000 loops each)\n"
     ]
    }
   ],
   "source": [
    "%timeit teste_i(30)\n",
    "%timeit teste_i(30)\n",
    "%timeit teste_i(30)\n",
    "%timeit teste_i(30)\n",
    "%timeit teste_i(30)"
   ]
  },
  {
   "cell_type": "code",
   "execution_count": 25,
   "id": "137348a3",
   "metadata": {},
   "outputs": [
    {
     "name": "stdout",
     "output_type": "stream",
     "text": [
      "3.59 µs ± 315 ns per loop (mean ± std. dev. of 7 runs, 100,000 loops each)\n",
      "4.17 µs ± 669 ns per loop (mean ± std. dev. of 7 runs, 100,000 loops each)\n",
      "4.38 µs ± 641 ns per loop (mean ± std. dev. of 7 runs, 100,000 loops each)\n",
      "3.5 µs ± 266 ns per loop (mean ± std. dev. of 7 runs, 100,000 loops each)\n",
      "3.39 µs ± 122 ns per loop (mean ± std. dev. of 7 runs, 100,000 loops each)\n"
     ]
    }
   ],
   "source": [
    "%timeit teste_each(30)\n",
    "%timeit teste_each(30)\n",
    "%timeit teste_each(30)\n",
    "%timeit teste_each(30)\n",
    "%timeit teste_each(30)"
   ]
  },
  {
   "cell_type": "code",
   "execution_count": 34,
   "id": "75e4550e",
   "metadata": {},
   "outputs": [],
   "source": [
    "B = set(lista)"
   ]
  },
  {
   "cell_type": "code",
   "execution_count": 36,
   "id": "ef6fe747",
   "metadata": {},
   "outputs": [
    {
     "data": {
      "text/plain": [
       "({-3, '1', 2, 3}, set)"
      ]
     },
     "execution_count": 36,
     "metadata": {},
     "output_type": "execute_result"
    }
   ],
   "source": [
    "B, type(B)"
   ]
  },
  {
   "cell_type": "code",
   "execution_count": 42,
   "id": "b095d83b",
   "metadata": {},
   "outputs": [
    {
     "data": {
      "text/plain": [
       "set"
      ]
     },
     "execution_count": 42,
     "metadata": {},
     "output_type": "execute_result"
    }
   ],
   "source": [
    "A = set()\n",
    "type(A)"
   ]
  },
  {
   "cell_type": "code",
   "execution_count": 43,
   "id": "69d7ee2e",
   "metadata": {},
   "outputs": [
    {
     "data": {
      "text/plain": [
       "4"
      ]
     },
     "execution_count": 43,
     "metadata": {},
     "output_type": "execute_result"
    }
   ],
   "source": [
    "# Cardinalidade de um conjunto: len(B)\n",
    "len(B)"
   ]
  },
  {
   "cell_type": "code",
   "execution_count": 45,
   "id": "e7f7ab5c",
   "metadata": {},
   "outputs": [
    {
     "ename": "TypeError",
     "evalue": "'set' object is not subscriptable",
     "output_type": "error",
     "traceback": [
      "\u001b[1;31m---------------------------------------------------------------------------\u001b[0m",
      "\u001b[1;31mTypeError\u001b[0m                                 Traceback (most recent call last)",
      "Cell \u001b[1;32mIn[45], line 2\u001b[0m\n\u001b[0;32m      1\u001b[0m \u001b[38;5;66;03m# Os elementos não têm uma ordem definida\u001b[39;00m\n\u001b[1;32m----> 2\u001b[0m \u001b[43mB\u001b[49m\u001b[43m[\u001b[49m\u001b[38;5;241;43m0\u001b[39;49m\u001b[43m]\u001b[49m\n",
      "\u001b[1;31mTypeError\u001b[0m: 'set' object is not subscriptable"
     ]
    }
   ],
   "source": [
    "# Os elementos não têm uma ordem definida\n",
    "B[0]"
   ]
  },
  {
   "cell_type": "code",
   "execution_count": 46,
   "id": "34ca52ef",
   "metadata": {},
   "outputs": [
    {
     "name": "stdout",
     "output_type": "stream",
     "text": [
      "1\n",
      "2\n",
      "3\n",
      "-3\n"
     ]
    }
   ],
   "source": [
    "for elem in B:\n",
    "    print(elem)"
   ]
  },
  {
   "cell_type": "code",
   "execution_count": 47,
   "id": "69abab87",
   "metadata": {},
   "outputs": [
    {
     "data": {
      "text/plain": [
       "{-3, '1', 2, 3, 'Santos'}"
      ]
     },
     "execution_count": 47,
     "metadata": {},
     "output_type": "execute_result"
    }
   ],
   "source": [
    "# Métodos de set\n",
    "# Adicionar elementos\n",
    "B.add('Santos')\n",
    "B"
   ]
  },
  {
   "cell_type": "code",
   "execution_count": 49,
   "id": "500e051e",
   "metadata": {},
   "outputs": [
    {
     "data": {
      "text/plain": [
       "set()"
      ]
     },
     "execution_count": 49,
     "metadata": {},
     "output_type": "execute_result"
    }
   ],
   "source": [
    "# Limpando (retirando todos os elementos)\n",
    "B.clear()\n",
    "B"
   ]
  },
  {
   "cell_type": "code",
   "execution_count": 76,
   "id": "fbb71170",
   "metadata": {},
   "outputs": [
    {
     "name": "stdout",
     "output_type": "stream",
     "text": [
      "Qual o tipo do dado?: dict\n",
      "Qual é o valor?: {'chave':'valor'}\n",
      "{'chave': 'valor'} <class 'dict'>\n",
      "Qual o tipo do dado?: int \n",
      "Qual é o valor?: 99\n",
      "99 <class 'int'>\n"
     ]
    }
   ],
   "source": [
    "#int, float, bool, str, list, tuple, set\n",
    "\n",
    "for i in range(2):\n",
    "    tipo = input('Qual o tipo do dado?: ')\n",
    "    valor = input('Qual é o valor?: ')\n",
    "    \n",
    "    var = eval(f\"{tipo}({valor})\")\n",
    "    print(var, type(var))\n",
    "    "
   ]
  },
  {
   "cell_type": "code",
   "execution_count": 81,
   "id": "a3673a91",
   "metadata": {},
   "outputs": [
    {
     "data": {
      "text/plain": [
       "[34]"
      ]
     },
     "execution_count": 81,
     "metadata": {},
     "output_type": "execute_result"
    }
   ],
   "source": [
    "dados = []\n",
    "metodo = '.append'\n",
    "eval('dados'+metodo+'(34)')\n",
    "dados"
   ]
  },
  {
   "cell_type": "code",
   "execution_count": 54,
   "id": "07e70e73",
   "metadata": {},
   "outputs": [
    {
     "name": "stdout",
     "output_type": "stream",
     "text": [
      "Qual o tipo do dado?: float\n",
      "Qual é o valor?: 3.14\n",
      "3.14 <class 'float'>\n"
     ]
    }
   ],
   "source": [
    "tipo = input('Qual o tipo do dado?: ')\n",
    "valor = input('Qual é o valor?: ')\n",
    "\n",
    "tipo, valor\n",
    "\n",
    "if tipo == 'int':\n",
    "    var = int(valor)\n",
    "elif tipo == 'float':\n",
    "    var = float(valor)\n",
    "elif tipo == 'bool':\n",
    "    var = bool(valor)\n",
    "elif tipo == 'list':\n",
    "    var = list(valor)\n",
    "\n",
    "    \n",
    "print(var, type(var))"
   ]
  },
  {
   "cell_type": "code",
   "execution_count": null,
   "id": "79e38dcb",
   "metadata": {},
   "outputs": [],
   "source": [
    "# tipo = input('Qual o tipo do dado?: ')\n",
    "# valor = input('Qual é o valor?: ')\n",
    "\n",
    "\n",
    "\n",
    "\n",
    "# match tipo:\n",
    "#     case 'int' :\n",
    "#         var = int(valor)\n",
    "#     case 'float':\n",
    "#         var = float(valor)\n",
    "#     case 'list':\n",
    "#         var = list(valor)\n",
    "#     case _:\n",
    "#         var = None \n",
    "\n",
    "# print(var, type(var))\n",
    "\n",
    "\n",
    "mes = input('Mês: ')\n",
    "\n",
    "match mes:\n",
    "    case 'Janeiro'|'Março':\n",
    "        print('31 dias')\n",
    "    case 'Fevereiro':\n",
    "        print('28 ou 29 dias')\n",
    "    case 'Abril'|'Novembro':\n",
    "        print('30 dias')\n",
    "    case _:\n",
    "        print('Mês inválido')\n",
    "\n",
    "\n",
    "\n",
    "if tipo == 'int':\n",
    "    var = int(valor)\n",
    "elif tipo == 'float':\n",
    "    var = float(valor)\n",
    "elif tipo == 'bool':\n",
    "    var = bool(valor)\n",
    "elif tipo == 'list':\n",
    "    var = list(valor)\n",
    "\n",
    "    \n",
    "print(var, type(var))\n"
   ]
  },
  {
   "cell_type": "code",
   "execution_count": 92,
   "id": "37349768",
   "metadata": {},
   "outputs": [],
   "source": [
    "# Voltando para os conjuntos...\n",
    "A = {1, 2, 5, 6, 7}\n",
    "B = {1, 2, 3, 4}\n"
   ]
  },
  {
   "cell_type": "code",
   "execution_count": 93,
   "id": "940c86b7",
   "metadata": {},
   "outputs": [
    {
     "data": {
      "text/plain": [
       "{1, 2, 3, 4, 5, 6, 7}"
      ]
     },
     "execution_count": 93,
     "metadata": {},
     "output_type": "execute_result"
    }
   ],
   "source": [
    "A.union(B)"
   ]
  },
  {
   "cell_type": "code",
   "execution_count": 94,
   "id": "16e76c29",
   "metadata": {},
   "outputs": [
    {
     "data": {
      "text/plain": [
       "{1, 2}"
      ]
     },
     "execution_count": 94,
     "metadata": {},
     "output_type": "execute_result"
    }
   ],
   "source": [
    "A.intersection(B)"
   ]
  },
  {
   "cell_type": "code",
   "execution_count": 96,
   "id": "8642d312",
   "metadata": {},
   "outputs": [
    {
     "data": {
      "text/plain": [
       "({5, 6, 7}, {3, 4})"
      ]
     },
     "execution_count": 96,
     "metadata": {},
     "output_type": "execute_result"
    }
   ],
   "source": [
    "A.difference(B), B.difference(A)"
   ]
  },
  {
   "cell_type": "code",
   "execution_count": 97,
   "id": "5f30ea46",
   "metadata": {},
   "outputs": [
    {
     "data": {
      "text/plain": [
       "{3, 4, 5, 6, 7}"
      ]
     },
     "execution_count": 97,
     "metadata": {},
     "output_type": "execute_result"
    }
   ],
   "source": [
    "A.symmetric_difference(B)"
   ]
  },
  {
   "cell_type": "code",
   "execution_count": 98,
   "id": "8346c227",
   "metadata": {},
   "outputs": [
    {
     "name": "stdout",
     "output_type": "stream",
     "text": [
      "A: {1, 2, 5, 6, 7}\n",
      "B: {1, 2, 3, 4}\n",
      "A | B: {1, 2, 3, 4, 5, 6, 7}\n",
      "A & B: {1, 2}\n",
      "A - B: {5, 6, 7}\n",
      "B - A: {3, 4}\n",
      "(A - B) | (B - A): {3, 4, 5, 6, 7}\n",
      "A ^ B: {3, 4, 5, 6, 7}\n",
      "(A | B) - (A & B): {3, 4, 5, 6, 7}\n"
     ]
    }
   ],
   "source": [
    "print('A:', A)\n",
    "print('B:', B)\n",
    "print('A | B:', A | B)\n",
    "print('A & B:', A & B)\n",
    "print('A - B:', A - B)\n",
    "print('B - A:', B - A)\n",
    "print('(A - B) | (B - A):', (A - B)|(B - A) )\n",
    "print('A ^ B:', A ^ B)\n",
    "print('(A | B) - (A & B):',(A | B) - (A & B))"
   ]
  },
  {
   "cell_type": "code",
   "execution_count": 99,
   "id": "89f294c9",
   "metadata": {},
   "outputs": [],
   "source": [
    "C = {0, 1}"
   ]
  },
  {
   "cell_type": "markdown",
   "id": "234234dd",
   "metadata": {},
   "source": []
  },
  {
   "cell_type": "markdown",
   "id": "20d09c7a",
   "metadata": {},
   "source": [
    "#### List comprehension"
   ]
  },
  {
   "cell_type": "code",
   "execution_count": 101,
   "id": "632757e6",
   "metadata": {},
   "outputs": [
    {
     "data": {
      "text/plain": [
       "['1', 2, 3, -3]"
      ]
     },
     "execution_count": 101,
     "metadata": {},
     "output_type": "execute_result"
    }
   ],
   "source": [
    "lista_nova = []\n",
    "lista = ['1', '1', 2, 2, 3, -3, 3]\n",
    "for elem in lista:\n",
    "    if elem not in lista_nova:\n",
    "        lista_nova.append(elem)\n",
    "\n",
    "lista_nova\n"
   ]
  },
  {
   "cell_type": "code",
   "execution_count": null,
   "id": "e5908855",
   "metadata": {},
   "outputs": [],
   "source": [
    "# Estrutura mais simples de um list comprehension\n",
    "[expressão for elem in lista ]"
   ]
  },
  {
   "cell_type": "code",
   "execution_count": 108,
   "id": "6c9a1eb5",
   "metadata": {},
   "outputs": [
    {
     "data": {
      "text/plain": [
       "['11', '11', 4, 4, 6, -6, 6]"
      ]
     },
     "execution_count": 108,
     "metadata": {},
     "output_type": "execute_result"
    }
   ],
   "source": [
    "[2 * elem for elem in lista]"
   ]
  },
  {
   "cell_type": "code",
   "execution_count": null,
   "id": "64050485",
   "metadata": {},
   "outputs": [],
   "source": [
    "# Incluindo um filtro\n",
    "[expressão for elem in lista if condição]"
   ]
  },
  {
   "cell_type": "code",
   "execution_count": 109,
   "id": "71a4a9e6",
   "metadata": {},
   "outputs": [
    {
     "data": {
      "text/plain": [
       "[4, 4, 6, -6, 6]"
      ]
     },
     "execution_count": 109,
     "metadata": {},
     "output_type": "execute_result"
    }
   ],
   "source": [
    "[2 * elem for elem in lista if type(elem)==int]"
   ]
  },
  {
   "cell_type": "code",
   "execution_count": 112,
   "id": "506ed06e",
   "metadata": {},
   "outputs": [
    {
     "data": {
      "text/plain": [
       "[4, 4, 6, -6, 6]"
      ]
     },
     "execution_count": 112,
     "metadata": {},
     "output_type": "execute_result"
    }
   ],
   "source": [
    "[2 * elem for elem in lista if isinstance(elem,int)]"
   ]
  },
  {
   "cell_type": "code",
   "execution_count": null,
   "id": "7a0cf027",
   "metadata": {},
   "outputs": [],
   "source": [
    "# Operador ternário\n",
    "valor if condição else outro_valor"
   ]
  },
  {
   "cell_type": "code",
   "execution_count": 115,
   "id": "d9f3f458",
   "metadata": {},
   "outputs": [],
   "source": [
    "# filtro com else\n",
    "resultado = [elem * 3 if isinstance(elem,str) else elem * 2 for elem in lista]"
   ]
  },
  {
   "cell_type": "code",
   "execution_count": 120,
   "id": "3265f20e",
   "metadata": {},
   "outputs": [
    {
     "data": {
      "text/plain": [
       "['1', 2, -3, 3]"
      ]
     },
     "execution_count": 120,
     "metadata": {},
     "output_type": "execute_result"
    }
   ],
   "source": [
    "[lista[elemento_index] for elemento_index in range(len(lista)) if lista[elemento_index] not in lista[elemento_index+1:]]"
   ]
  },
  {
   "cell_type": "code",
   "execution_count": null,
   "id": "9b57e9b1",
   "metadata": {},
   "outputs": [],
   "source": []
  },
  {
   "cell_type": "code",
   "execution_count": 160,
   "id": "99a2f8b6",
   "metadata": {},
   "outputs": [
    {
     "name": "stdout",
     "output_type": "stream",
     "text": [
      "cont: 1\n",
      "{'nome': 'carlos'}\n",
      "cont: 2\n",
      "{'nome': 'carlos', 'idade': 21}\n",
      "cont: 3\n",
      "{'liguagem': 'python'}\n",
      "cont: 4\n",
      "{'liguagem': 'python', 'empresa': 'raia-drogasil'}\n",
      "cont: 5\n",
      "{'casado': False}\n",
      "cont: 6\n",
      "{'casado': False, 'inglês': 'intermediário'}\n"
     ]
    },
    {
     "data": {
      "text/plain": [
       "[{'nome': 'carlos', 'idade': 21},\n",
       " {'nome': 'carlos', 'idade': 21},\n",
       " {'liguagem': 'python', 'empresa': 'raia-drogasil'},\n",
       " {'liguagem': 'python', 'empresa': 'raia-drogasil'},\n",
       " {'casado': False, 'inglês': 'intermediário'},\n",
       " {'casado': False, 'inglês': 'intermediário'}]"
      ]
     },
     "execution_count": 160,
     "metadata": {},
     "output_type": "execute_result"
    }
   ],
   "source": [
    "#Jonatan Andres Gomez Parada22:20\n",
    "dados = {'nome': 'carlos', 'idade': 21, 'liguagem':'python', 'empresa':'raia-drogasil', 'casado':False, 'inglês': 'intermediário'}\n",
    "N = 2\n",
    "dados_chaves = list(dados.keys())\n",
    "N_chaves = len(dados_chaves)\n",
    "N_subdicionarios = N_chaves//N\n",
    "lista = []\n",
    "\n",
    "cont = 1\n",
    "for j in range(N_subdicionarios):\n",
    "    dict_ = {}\n",
    "    \n",
    "    for i in range(j*N,(j+1)*N):\n",
    "        dict_[dados_chaves[i]] = dados[dados_chaves[i]]\n",
    "    \n",
    "        print('cont:',cont)\n",
    "        cont += 1\n",
    "        print(dict_)\n",
    "        lista.append(dict_)\n",
    "\n",
    "lista"
   ]
  },
  {
   "cell_type": "code",
   "execution_count": 155,
   "id": "87e6e3a1",
   "metadata": {},
   "outputs": [],
   "source": [
    "dict_ = {}"
   ]
  },
  {
   "cell_type": "code",
   "execution_count": 156,
   "id": "a41653b2",
   "metadata": {},
   "outputs": [],
   "source": [
    "dict_[dados_chaves[0]] = dados[dados_chaves[0]]\n",
    "dict_\n",
    "lista = []\n",
    "lista.append(dict_)"
   ]
  },
  {
   "cell_type": "code",
   "execution_count": 157,
   "id": "256bf655",
   "metadata": {},
   "outputs": [
    {
     "data": {
      "text/plain": [
       "[{'nome': 'carlos'}]"
      ]
     },
     "execution_count": 157,
     "metadata": {},
     "output_type": "execute_result"
    }
   ],
   "source": [
    "lista"
   ]
  },
  {
   "cell_type": "code",
   "execution_count": 158,
   "id": "e1cfddb6",
   "metadata": {},
   "outputs": [],
   "source": [
    "dict_[dados_chaves[1]] = dados[dados_chaves[1]]\n",
    "dict_\n",
    "lista.append(dict_)"
   ]
  },
  {
   "cell_type": "code",
   "execution_count": 159,
   "id": "b4cacd6b",
   "metadata": {},
   "outputs": [
    {
     "data": {
      "text/plain": [
       "[{'nome': 'carlos', 'idade': 21}, {'nome': 'carlos', 'idade': 21}]"
      ]
     },
     "execution_count": 159,
     "metadata": {},
     "output_type": "execute_result"
    }
   ],
   "source": [
    "lista"
   ]
  },
  {
   "cell_type": "code",
   "execution_count": 139,
   "id": "1e4c7dde",
   "metadata": {},
   "outputs": [
    {
     "data": {
      "text/plain": [
       "{'nome': 'carlos', 'idade': 21}"
      ]
     },
     "execution_count": 139,
     "metadata": {},
     "output_type": "execute_result"
    }
   ],
   "source": [
    "dict_[dados_chaves[1]] = dados[dados_chaves[1]]\n",
    "dict_"
   ]
  },
  {
   "cell_type": "code",
   "execution_count": null,
   "id": "5a2a99dd",
   "metadata": {},
   "outputs": [],
   "source": [
    "[var]"
   ]
  },
  {
   "cell_type": "code",
   "execution_count": 145,
   "id": "ef366931",
   "metadata": {},
   "outputs": [],
   "source": []
  },
  {
   "cell_type": "code",
   "execution_count": 168,
   "id": "e8fec91e",
   "metadata": {},
   "outputs": [
    {
     "name": "stdout",
     "output_type": "stream",
     "text": [
      "[1, '1', 3, 4]\n"
     ]
    }
   ],
   "source": [
    "#Fábio22:35\n",
    "lista = [1, '1', 3, 3, 4,4]\n",
    "[lista.remove(elem) for elem in lista if lista.count(elem) > 1]\n",
    "print(lista)"
   ]
  },
  {
   "cell_type": "code",
   "execution_count": null,
   "id": "fedf5960",
   "metadata": {},
   "outputs": [],
   "source": []
  },
  {
   "cell_type": "code",
   "execution_count": null,
   "id": "2b590895",
   "metadata": {},
   "outputs": [],
   "source": []
  },
  {
   "cell_type": "code",
   "execution_count": null,
   "id": "6d669ed6",
   "metadata": {},
   "outputs": [],
   "source": []
  }
 ],
 "metadata": {
  "kernelspec": {
   "display_name": "Python 3 (ipykernel)",
   "language": "python",
   "name": "python3"
  },
  "language_info": {
   "codemirror_mode": {
    "name": "ipython",
    "version": 3
   },
   "file_extension": ".py",
   "mimetype": "text/x-python",
   "name": "python",
   "nbconvert_exporter": "python",
   "pygments_lexer": "ipython3",
   "version": "3.9.18"
  }
 },
 "nbformat": 4,
 "nbformat_minor": 5
}
