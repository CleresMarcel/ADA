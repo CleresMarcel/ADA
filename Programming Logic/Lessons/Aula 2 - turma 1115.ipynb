{
 "cells": [
  {
   "cell_type": "markdown",
   "id": "80c4775e",
   "metadata": {},
   "source": [
    "<div style=\"background-color: lightgreen; padding: 18px;\">\n",
    "    <h1> Aula 2 | Lógica de Programação II\n",
    "</div>"
   ]
  },
  {
   "cell_type": "markdown",
   "id": "20b0d826",
   "metadata": {},
   "source": [
    "<div style=\"background-color: lightblue; padding: 10px;\">\n",
    "    <h2> Tópicos da aula 1\n",
    "</div>\n",
    "\n",
    "- Introdução à função\n",
    "- Exercícios"
   ]
  },
  {
   "cell_type": "code",
   "execution_count": 1,
   "id": "e804be79",
   "metadata": {},
   "outputs": [
    {
     "data": {
      "text/plain": [
       "7"
      ]
     },
     "execution_count": 1,
     "metadata": {},
     "output_type": "execute_result"
    }
   ],
   "source": [
    "#Continuação tuplas\n",
    "tupla = (1, 2, 7, -9, 12, -0.3, -149)\n",
    "len(tupla)"
   ]
  },
  {
   "cell_type": "code",
   "execution_count": 2,
   "id": "4f93d753",
   "metadata": {},
   "outputs": [],
   "source": [
    "a, b, c, *resto  = tupla "
   ]
  },
  {
   "cell_type": "code",
   "execution_count": 3,
   "id": "28eb7063",
   "metadata": {},
   "outputs": [
    {
     "data": {
      "text/plain": [
       "[-9, 12, -0.3, -149]"
      ]
     },
     "execution_count": 3,
     "metadata": {},
     "output_type": "execute_result"
    }
   ],
   "source": [
    "resto"
   ]
  },
  {
   "cell_type": "code",
   "execution_count": 4,
   "id": "287cfc22",
   "metadata": {},
   "outputs": [],
   "source": [
    "a, b, *_, c = tupla"
   ]
  },
  {
   "cell_type": "code",
   "execution_count": 5,
   "id": "d447d20d",
   "metadata": {},
   "outputs": [
    {
     "ename": "SyntaxError",
     "evalue": "multiple starred expressions in assignment (1432769676.py, line 1)",
     "output_type": "error",
     "traceback": [
      "\u001b[1;36m  Cell \u001b[1;32mIn[5], line 1\u001b[1;36m\u001b[0m\n\u001b[1;33m    a, *primeiro, b, *restante = tupla\u001b[0m\n\u001b[1;37m    ^\u001b[0m\n\u001b[1;31mSyntaxError\u001b[0m\u001b[1;31m:\u001b[0m multiple starred expressions in assignment\n"
     ]
    }
   ],
   "source": [
    "a, *primeiro, b, *restante = tupla"
   ]
  },
  {
   "cell_type": "code",
   "execution_count": 6,
   "id": "db84a32c",
   "metadata": {},
   "outputs": [
    {
     "data": {
      "text/plain": [
       "(1, -0.3, -149, (1, 2, 7, -9, 12, -0.3, -149))"
      ]
     },
     "execution_count": 6,
     "metadata": {},
     "output_type": "execute_result"
    }
   ],
   "source": [
    "a, *qq, b, c = tupla \n",
    "a, b, c, tupla"
   ]
  },
  {
   "cell_type": "code",
   "execution_count": null,
   "id": "9faf0797",
   "metadata": {},
   "outputs": [],
   "source": []
  },
  {
   "cell_type": "markdown",
   "id": "afae254a",
   "metadata": {},
   "source": [
    "#### Introdução às funções"
   ]
  },
  {
   "cell_type": "code",
   "execution_count": 7,
   "id": "4eacd67d",
   "metadata": {},
   "outputs": [],
   "source": [
    "#Criando função\n",
    "def nome():\n",
    "    pass #para fazer nada e não dar erro -->será codificado no futuro"
   ]
  },
  {
   "cell_type": "code",
   "execution_count": 8,
   "id": "db8c6ebf",
   "metadata": {},
   "outputs": [],
   "source": [
    "def mostra_nome():\n",
    "    print('Mateus')"
   ]
  },
  {
   "cell_type": "code",
   "execution_count": 9,
   "id": "1e1951a4",
   "metadata": {},
   "outputs": [
    {
     "name": "stdout",
     "output_type": "stream",
     "text": [
      "Mateus\n"
     ]
    }
   ],
   "source": [
    "#Para usar uma função é necessário 'chamá-la':\n",
    "mostra_nome()"
   ]
  },
  {
   "cell_type": "code",
   "execution_count": 10,
   "id": "c4a897ff",
   "metadata": {},
   "outputs": [],
   "source": [
    "#Função que não mostra nada na tela\n",
    "def soma_nada():\n",
    "    a = 1\n",
    "    a = a + 1"
   ]
  },
  {
   "cell_type": "code",
   "execution_count": 11,
   "id": "9ec20172",
   "metadata": {},
   "outputs": [
    {
     "name": "stdout",
     "output_type": "stream",
     "text": [
      "None\n"
     ]
    }
   ],
   "source": [
    "print(soma_nada())"
   ]
  },
  {
   "cell_type": "code",
   "execution_count": 12,
   "id": "972fe7b9",
   "metadata": {},
   "outputs": [],
   "source": [
    "def soma_algo_retorna_texto():\n",
    "    a = 1\n",
    "    a = a + 1\n",
    "    return 'qualquer coisa' "
   ]
  },
  {
   "cell_type": "code",
   "execution_count": 13,
   "id": "6b9190e3",
   "metadata": {},
   "outputs": [
    {
     "data": {
      "text/plain": [
       "'qualquer coisa'"
      ]
     },
     "execution_count": 13,
     "metadata": {},
     "output_type": "execute_result"
    }
   ],
   "source": [
    "soma_algo_retorna_texto()"
   ]
  },
  {
   "cell_type": "code",
   "execution_count": null,
   "id": "788f95c1",
   "metadata": {},
   "outputs": [],
   "source": []
  },
  {
   "cell_type": "code",
   "execution_count": null,
   "id": "cac849e5",
   "metadata": {},
   "outputs": [],
   "source": []
  },
  {
   "cell_type": "code",
   "execution_count": null,
   "id": "3f9c1a9c",
   "metadata": {},
   "outputs": [],
   "source": []
  },
  {
   "cell_type": "code",
   "execution_count": null,
   "id": "1f84eb84",
   "metadata": {},
   "outputs": [],
   "source": []
  },
  {
   "cell_type": "code",
   "execution_count": 14,
   "id": "b80f6b7b",
   "metadata": {},
   "outputs": [],
   "source": [
    "def soma_meio_util():\n",
    "    a = 1\n",
    "    a = a + 1\n",
    "    return f'Resultado: {a}'"
   ]
  },
  {
   "cell_type": "code",
   "execution_count": null,
   "id": "2064abeb",
   "metadata": {},
   "outputs": [],
   "source": []
  },
  {
   "cell_type": "code",
   "execution_count": 15,
   "id": "5f39d8e0",
   "metadata": {},
   "outputs": [
    {
     "data": {
      "text/plain": [
       "'ul'"
      ]
     },
     "execution_count": 15,
     "metadata": {},
     "output_type": "execute_result"
    }
   ],
   "source": [
    "retorno = soma_meio_util()\n",
    "retorno[3:5]"
   ]
  },
  {
   "cell_type": "code",
   "execution_count": 16,
   "id": "1b777d15",
   "metadata": {},
   "outputs": [],
   "source": [
    "#Funções com parâmetros/argumentos\n",
    "def soma_dois_numeros(a, b):\n",
    "    soma = a + b\n",
    "    \n",
    "    return soma"
   ]
  },
  {
   "cell_type": "code",
   "execution_count": 17,
   "id": "c05342ab",
   "metadata": {},
   "outputs": [
    {
     "data": {
      "text/plain": [
       "9"
      ]
     },
     "execution_count": 17,
     "metadata": {},
     "output_type": "execute_result"
    }
   ],
   "source": [
    "soma_dois_numeros(5, 4)"
   ]
  },
  {
   "cell_type": "code",
   "execution_count": 18,
   "id": "56ee80cd",
   "metadata": {},
   "outputs": [],
   "source": [
    "def mostra_idade():\n",
    "    print(idade)"
   ]
  },
  {
   "cell_type": "code",
   "execution_count": 19,
   "id": "959ce3a8",
   "metadata": {},
   "outputs": [
    {
     "ename": "NameError",
     "evalue": "name 'idade' is not defined",
     "output_type": "error",
     "traceback": [
      "\u001b[1;31m---------------------------------------------------------------------------\u001b[0m",
      "\u001b[1;31mNameError\u001b[0m                                 Traceback (most recent call last)",
      "Cell \u001b[1;32mIn[19], line 1\u001b[0m\n\u001b[1;32m----> 1\u001b[0m \u001b[43mmostra_idade\u001b[49m\u001b[43m(\u001b[49m\u001b[43m)\u001b[49m\n",
      "Cell \u001b[1;32mIn[18], line 2\u001b[0m, in \u001b[0;36mmostra_idade\u001b[1;34m()\u001b[0m\n\u001b[0;32m      1\u001b[0m \u001b[38;5;28;01mdef\u001b[39;00m \u001b[38;5;21mmostra_idade\u001b[39m():\n\u001b[1;32m----> 2\u001b[0m     \u001b[38;5;28mprint\u001b[39m(\u001b[43midade\u001b[49m)\n",
      "\u001b[1;31mNameError\u001b[0m: name 'idade' is not defined"
     ]
    }
   ],
   "source": [
    "mostra_idade()"
   ]
  },
  {
   "cell_type": "code",
   "execution_count": 20,
   "id": "b62180cf",
   "metadata": {},
   "outputs": [],
   "source": [
    "idade = 23"
   ]
  },
  {
   "cell_type": "code",
   "execution_count": 21,
   "id": "10dae78e",
   "metadata": {},
   "outputs": [
    {
     "name": "stdout",
     "output_type": "stream",
     "text": [
      "23\n"
     ]
    }
   ],
   "source": [
    "mostra_idade()"
   ]
  },
  {
   "cell_type": "code",
   "execution_count": 22,
   "id": "b5a1c9cb",
   "metadata": {},
   "outputs": [],
   "source": [
    "def variavel_local():\n",
    "    sapato = 39\n",
    "    print(sapato)\n"
   ]
  },
  {
   "cell_type": "code",
   "execution_count": 23,
   "id": "0d6f2318",
   "metadata": {},
   "outputs": [
    {
     "ename": "NameError",
     "evalue": "name 'sapato' is not defined",
     "output_type": "error",
     "traceback": [
      "\u001b[1;31m---------------------------------------------------------------------------\u001b[0m",
      "\u001b[1;31mNameError\u001b[0m                                 Traceback (most recent call last)",
      "Cell \u001b[1;32mIn[23], line 1\u001b[0m\n\u001b[1;32m----> 1\u001b[0m \u001b[43msapato\u001b[49m\n",
      "\u001b[1;31mNameError\u001b[0m: name 'sapato' is not defined"
     ]
    }
   ],
   "source": [
    "sapato"
   ]
  },
  {
   "cell_type": "code",
   "execution_count": 24,
   "id": "026d25b0",
   "metadata": {},
   "outputs": [
    {
     "name": "stdout",
     "output_type": "stream",
     "text": [
      "39\n"
     ]
    }
   ],
   "source": [
    "variavel_local()"
   ]
  },
  {
   "cell_type": "code",
   "execution_count": 25,
   "id": "1604ad84",
   "metadata": {},
   "outputs": [
    {
     "ename": "NameError",
     "evalue": "name 'sapato' is not defined",
     "output_type": "error",
     "traceback": [
      "\u001b[1;31m---------------------------------------------------------------------------\u001b[0m",
      "\u001b[1;31mNameError\u001b[0m                                 Traceback (most recent call last)",
      "Cell \u001b[1;32mIn[25], line 1\u001b[0m\n\u001b[1;32m----> 1\u001b[0m \u001b[43msapato\u001b[49m\n",
      "\u001b[1;31mNameError\u001b[0m: name 'sapato' is not defined"
     ]
    }
   ],
   "source": [
    "sapato"
   ]
  },
  {
   "cell_type": "code",
   "execution_count": 26,
   "id": "47595a7f",
   "metadata": {},
   "outputs": [],
   "source": [
    "def mostra_idade2(idade):\n",
    "    print(idade)"
   ]
  },
  {
   "cell_type": "code",
   "execution_count": 27,
   "id": "5dfd256b",
   "metadata": {},
   "outputs": [
    {
     "name": "stdout",
     "output_type": "stream",
     "text": [
      "23\n"
     ]
    }
   ],
   "source": [
    "mostra_idade2(idade)"
   ]
  },
  {
   "cell_type": "code",
   "execution_count": 28,
   "id": "0d5ff0aa",
   "metadata": {},
   "outputs": [],
   "source": [
    "#Não modifica a variável global\n",
    "def modifica_idade():\n",
    "    idade = 40\n",
    "    print(idade)\n",
    "    "
   ]
  },
  {
   "cell_type": "code",
   "execution_count": 29,
   "id": "5d4bf1ab",
   "metadata": {},
   "outputs": [
    {
     "data": {
      "text/plain": [
       "23"
      ]
     },
     "execution_count": 29,
     "metadata": {},
     "output_type": "execute_result"
    }
   ],
   "source": [
    "idade"
   ]
  },
  {
   "cell_type": "code",
   "execution_count": 30,
   "id": "3f5f7077",
   "metadata": {},
   "outputs": [
    {
     "name": "stdout",
     "output_type": "stream",
     "text": [
      "40\n"
     ]
    }
   ],
   "source": [
    "modifica_idade()"
   ]
  },
  {
   "cell_type": "code",
   "execution_count": 31,
   "id": "bbbb47ce",
   "metadata": {},
   "outputs": [
    {
     "data": {
      "text/plain": [
       "23"
      ]
     },
     "execution_count": 31,
     "metadata": {},
     "output_type": "execute_result"
    }
   ],
   "source": [
    "idade"
   ]
  },
  {
   "cell_type": "code",
   "execution_count": 32,
   "id": "9392aa1d",
   "metadata": {},
   "outputs": [],
   "source": [
    "#Modificando internamente uma variável global\n",
    "def modifica_de_verdade_a_idade():\n",
    "    global idade \n",
    "    idade = 40\n",
    "    print(idade)\n",
    "    "
   ]
  },
  {
   "cell_type": "code",
   "execution_count": 33,
   "id": "936afa75",
   "metadata": {},
   "outputs": [
    {
     "data": {
      "text/plain": [
       "23"
      ]
     },
     "execution_count": 33,
     "metadata": {},
     "output_type": "execute_result"
    }
   ],
   "source": [
    "idade"
   ]
  },
  {
   "cell_type": "code",
   "execution_count": 34,
   "id": "bbda0a3c",
   "metadata": {},
   "outputs": [
    {
     "name": "stdout",
     "output_type": "stream",
     "text": [
      "40\n"
     ]
    }
   ],
   "source": [
    "modifica_de_verdade_a_idade()"
   ]
  },
  {
   "cell_type": "code",
   "execution_count": 35,
   "id": "4f0d5e81",
   "metadata": {},
   "outputs": [
    {
     "data": {
      "text/plain": [
       "40"
      ]
     },
     "execution_count": 35,
     "metadata": {},
     "output_type": "execute_result"
    }
   ],
   "source": [
    "idade"
   ]
  },
  {
   "cell_type": "code",
   "execution_count": 36,
   "id": "8501695a",
   "metadata": {},
   "outputs": [],
   "source": [
    "def mexendo_na_idade(idade):\n",
    "    idade = idade + 5\n",
    "    print(idade)\n",
    "    return idade"
   ]
  },
  {
   "cell_type": "code",
   "execution_count": 37,
   "id": "29456869",
   "metadata": {},
   "outputs": [
    {
     "name": "stdout",
     "output_type": "stream",
     "text": [
      "85\n"
     ]
    },
    {
     "data": {
      "text/plain": [
       "85"
      ]
     },
     "execution_count": 37,
     "metadata": {},
     "output_type": "execute_result"
    }
   ],
   "source": [
    "mexendo_na_idade(80)"
   ]
  },
  {
   "cell_type": "code",
   "execution_count": 38,
   "id": "5dee4e70",
   "metadata": {},
   "outputs": [
    {
     "data": {
      "text/plain": [
       "40"
      ]
     },
     "execution_count": 38,
     "metadata": {},
     "output_type": "execute_result"
    }
   ],
   "source": [
    "idade"
   ]
  },
  {
   "cell_type": "code",
   "execution_count": 39,
   "id": "4eab1d84",
   "metadata": {},
   "outputs": [
    {
     "name": "stdout",
     "output_type": "stream",
     "text": [
      "Digite a sua idade: 23\n",
      "28\n"
     ]
    },
    {
     "data": {
      "text/plain": [
       "28"
      ]
     },
     "execution_count": 39,
     "metadata": {},
     "output_type": "execute_result"
    }
   ],
   "source": [
    "mexendo_na_idade(int(input('Digite a sua idade: ')))"
   ]
  },
  {
   "cell_type": "code",
   "execution_count": 40,
   "id": "bd51b69c",
   "metadata": {},
   "outputs": [
    {
     "name": "stdout",
     "output_type": "stream",
     "text": [
      "94\n"
     ]
    }
   ],
   "source": [
    "idade = mexendo_na_idade(89)"
   ]
  },
  {
   "cell_type": "code",
   "execution_count": 41,
   "id": "a7978164",
   "metadata": {},
   "outputs": [
    {
     "data": {
      "text/plain": [
       "(94, int)"
      ]
     },
     "execution_count": 41,
     "metadata": {},
     "output_type": "execute_result"
    }
   ],
   "source": [
    "idade, type(idade)"
   ]
  },
  {
   "cell_type": "markdown",
   "id": "93e4ef07",
   "metadata": {},
   "source": [
    "##### Exercícios de fixação"
   ]
  },
  {
   "cell_type": "markdown",
   "id": "c92549b5",
   "metadata": {},
   "source": [
    "Faça uma função que recebe uma lista de listas, chamada **listas**, e retorna outra lista, chamada **tamanhos**, com o tamanho de cada lista da **listas**."
   ]
  },
  {
   "cell_type": "code",
   "execution_count": 42,
   "id": "d0895fa8",
   "metadata": {},
   "outputs": [],
   "source": [
    "listas = [[1, 2], ['casa', 'mesa', 'sapato'], list(range(3,20,2)) ]"
   ]
  },
  {
   "cell_type": "code",
   "execution_count": 43,
   "id": "1c4d2e95",
   "metadata": {},
   "outputs": [
    {
     "data": {
      "text/plain": [
       "[[1, 2], ['casa', 'mesa', 'sapato'], [3, 5, 7, 9, 11, 13, 15, 17, 19]]"
      ]
     },
     "execution_count": 43,
     "metadata": {},
     "output_type": "execute_result"
    }
   ],
   "source": [
    "listas"
   ]
  },
  {
   "cell_type": "code",
   "execution_count": null,
   "id": "e6be1fe1",
   "metadata": {},
   "outputs": [],
   "source": [
    "[2, 3, 9]"
   ]
  },
  {
   "cell_type": "code",
   "execution_count": 44,
   "id": "32ef6f5e",
   "metadata": {},
   "outputs": [],
   "source": [
    "#Luciane Berger da Silva21:05\n",
    "def tamanho_lista(listas):\n",
    "    tamanho = []\n",
    "    for lista in listas:\n",
    "        tamanho.append(len(lista))\n",
    "    return tamanho"
   ]
  },
  {
   "cell_type": "code",
   "execution_count": 45,
   "id": "27cc2f6e",
   "metadata": {},
   "outputs": [
    {
     "data": {
      "text/plain": [
       "[2, 3, 9, 14]"
      ]
     },
     "execution_count": 45,
     "metadata": {},
     "output_type": "execute_result"
    }
   ],
   "source": [
    "listas.append([4,4,4,4,4,4,4,4,44,4,4,4,4,4])\n",
    "tamanho_lista(listas)"
   ]
  },
  {
   "cell_type": "code",
   "execution_count": 46,
   "id": "6870aed0",
   "metadata": {},
   "outputs": [],
   "source": [
    "#Márcio Siena21:04\n",
    "# Com comprehension\n",
    "def calcula_tamanhos2 (listas):\n",
    "    tamanhos_das_listas = [len(lista) for lista in listas]\n",
    "    return tamanhos_das_listas\n"
   ]
  },
  {
   "cell_type": "code",
   "execution_count": 47,
   "id": "911534e8",
   "metadata": {},
   "outputs": [
    {
     "data": {
      "text/plain": [
       "[8, 6, 4, 2]"
      ]
     },
     "execution_count": 47,
     "metadata": {},
     "output_type": "execute_result"
    }
   ],
   "source": [
    "#List comprehension: [expressão for elem in lista]\n",
    "[2 * elem for elem in [4, 3, 2, 1]]"
   ]
  },
  {
   "cell_type": "code",
   "execution_count": 48,
   "id": "3f2bd065",
   "metadata": {},
   "outputs": [],
   "source": [
    "meus_cursos = [23, 22, 34, 65, 123, 78, 18, 90, 5, 9]\n",
    "obrigatorios = [65, 123, 90, 100, 77]\n",
    "\n"
   ]
  },
  {
   "cell_type": "code",
   "execution_count": null,
   "id": "13e6ea95",
   "metadata": {},
   "outputs": [],
   "source": [
    "#Continuar...\n",
    "\n",
    "for meu in meus_cursos:\n",
    "    faltantes = []\n",
    "    incluir = False\n",
    "    for obrig in obrigatorios:\n",
    "        print(meu, obrig)\n",
    "        if meu == obrig:\n",
    "            incluir = False\n",
    "        else:\n",
    "            incluir = True\n",
    "    \n",
    "    if incluir:\n",
    "        faltantes.append(meu)\n",
    "    \n",
    "faltantes    \n",
    "            "
   ]
  },
  {
   "cell_type": "code",
   "execution_count": 49,
   "id": "32a3e476",
   "metadata": {},
   "outputs": [
    {
     "data": {
      "text/plain": [
       "[100, 77]"
      ]
     },
     "execution_count": 49,
     "metadata": {},
     "output_type": "execute_result"
    }
   ],
   "source": [
    "#Mateus Falcão Meirelles De Almeida21:25\n",
    "\n",
    "a = [curso for curso in obrigatorios if (curso not in meus_cursos)]\n",
    "a"
   ]
  },
  {
   "cell_type": "code",
   "execution_count": null,
   "id": "296aecdc",
   "metadata": {},
   "outputs": [],
   "source": [
    "#List comprehension: [expressão for elem in lista if condição]"
   ]
  },
  {
   "cell_type": "code",
   "execution_count": 50,
   "id": "5a57dce6",
   "metadata": {},
   "outputs": [
    {
     "data": {
      "text/plain": [
       "['FábioFábio', 'KarinaKarina']"
      ]
     },
     "execution_count": 50,
     "metadata": {},
     "output_type": "execute_result"
    }
   ],
   "source": [
    "nomes = ['Fábio', 'Karina']\n",
    "duplicada = [nome * 2 for nome in nomes]\n",
    "duplicada"
   ]
  },
  {
   "cell_type": "code",
   "execution_count": 51,
   "id": "ff17aa5e",
   "metadata": {},
   "outputs": [
    {
     "data": {
      "text/plain": [
       "['FábioFábio', 'KarinaKarina']"
      ]
     },
     "execution_count": 51,
     "metadata": {},
     "output_type": "execute_result"
    }
   ],
   "source": [
    "nomes = ['Fábio', 'Karina']\n",
    "duplicada = []\n",
    "\n",
    "for nome in nomes:\n",
    "    duplicada.append(nome * 2)\n",
    "\n",
    "duplicada"
   ]
  },
  {
   "cell_type": "code",
   "execution_count": 52,
   "id": "0a58f922",
   "metadata": {},
   "outputs": [
    {
     "data": {
      "text/plain": [
       "['FábioFábio']"
      ]
     },
     "execution_count": 52,
     "metadata": {},
     "output_type": "execute_result"
    }
   ],
   "source": [
    "nomes = ['Fábio', 'Karina']\n",
    "duplicada = [nome * 2 for nome in nomes if len(nome) < 6]\n",
    "duplicada"
   ]
  },
  {
   "cell_type": "code",
   "execution_count": 53,
   "id": "c6bfb83c",
   "metadata": {},
   "outputs": [
    {
     "data": {
      "text/plain": [
       "['FábioFábio']"
      ]
     },
     "execution_count": 53,
     "metadata": {},
     "output_type": "execute_result"
    }
   ],
   "source": [
    "nomes = ['Fábio', 'Karina']\n",
    "duplicada = []\n",
    "\n",
    "for nome in nomes:\n",
    "    if len(nome) < 6:\n",
    "        duplicada.append(nome * 2)\n",
    "\n",
    "duplicada"
   ]
  },
  {
   "cell_type": "code",
   "execution_count": 54,
   "id": "18e44b71",
   "metadata": {},
   "outputs": [
    {
     "data": {
      "text/plain": [
       "[100, 77]"
      ]
     },
     "execution_count": 54,
     "metadata": {},
     "output_type": "execute_result"
    }
   ],
   "source": [
    "lista = []\n",
    "meus_cursos=[22,22,34,65,123,78,18,90,5,9]\n",
    "obrigatorios=[65,123,90,100,77]\n",
    "for obrigatorio in (obrigatorios):\n",
    "    if obrigatorio not in meus_cursos:\n",
    "        lista.append(obrigatorio)\n",
    "lista"
   ]
  },
  {
   "cell_type": "code",
   "execution_count": 58,
   "id": "a30bbaf2",
   "metadata": {},
   "outputs": [
    {
     "name": "stdout",
     "output_type": "stream",
     "text": [
      "(0, -1) <class 'tuple'>\n",
      "(1, -2) <class 'tuple'>\n",
      "(2, -4) <class 'tuple'>\n"
     ]
    }
   ],
   "source": [
    "for elem in enumerate([-1, -2, -4]):\n",
    "    print(elem, type(elem))"
   ]
  },
  {
   "cell_type": "code",
   "execution_count": null,
   "id": "7f5486d9",
   "metadata": {},
   "outputs": [],
   "source": [
    "[['Curso'],\n",
    " 12,\n",
    " \"casa\",\n",
    " 3.14,\n",
    " [3, 9, -10],\n",
    " [['Santos', 'Fluminense', [10]], True,]\n",
    "]\n"
   ]
  },
  {
   "cell_type": "code",
   "execution_count": null,
   "id": "ad624933",
   "metadata": {},
   "outputs": [],
   "source": [
    "['Curso', 12, \"casa\", 3.14, 3, 9 , -10, 'Santos','Fluminense', 10, True]"
   ]
  },
  {
   "cell_type": "code",
   "execution_count": null,
   "id": "5fc53e60",
   "metadata": {},
   "outputs": [],
   "source": []
  },
  {
   "cell_type": "code",
   "execution_count": null,
   "id": "7dab0f3f",
   "metadata": {},
   "outputs": [],
   "source": []
  },
  {
   "cell_type": "markdown",
   "id": "f300001d",
   "metadata": {},
   "source": [
    "**Exercícios**"
   ]
  },
  {
   "cell_type": "markdown",
   "id": "44a69040",
   "metadata": {},
   "source": [
    "Faça um programa que peça o raio de um círculo, calcula e mostra sua área e seu perímetro."
   ]
  },
  {
   "cell_type": "code",
   "execution_count": null,
   "id": "92433cc8",
   "metadata": {},
   "outputs": [],
   "source": []
  },
  {
   "cell_type": "markdown",
   "id": "0b98fcbd",
   "metadata": {},
   "source": [
    "Faça um programa que recebe uma nota digita pelo usuário e a classifica como:\n",
    "* Menor do que 4: baixa\n",
    "* Entre 4 e 7: média\n",
    "* Maior do que 7: alta"
   ]
  },
  {
   "cell_type": "code",
   "execution_count": null,
   "id": "7f115681",
   "metadata": {},
   "outputs": [],
   "source": []
  },
  {
   "cell_type": "markdown",
   "id": "14b3a2a8",
   "metadata": {},
   "source": [
    "Faça um programa que lê três números inteiros e mostra o maior deles."
   ]
  },
  {
   "cell_type": "code",
   "execution_count": null,
   "id": "76aa94aa",
   "metadata": {},
   "outputs": [],
   "source": []
  },
  {
   "cell_type": "markdown",
   "id": "edf2b3e5",
   "metadata": {},
   "source": [
    "Faça um programa que lê três números inteiros e os mostra em ordem crescente."
   ]
  },
  {
   "cell_type": "code",
   "execution_count": null,
   "id": "3f4a8b45",
   "metadata": {},
   "outputs": [],
   "source": []
  },
  {
   "cell_type": "markdown",
   "id": "735ae64c",
   "metadata": {},
   "source": [
    "Faça um programa que lê um número natural menor do que 1000 e mostra a soma de seus dígitos."
   ]
  },
  {
   "cell_type": "code",
   "execution_count": null,
   "id": "c3b9d24c",
   "metadata": {},
   "outputs": [],
   "source": []
  },
  {
   "cell_type": "markdown",
   "id": "f7fc3880",
   "metadata": {},
   "source": [
    "Faça um programa que peça uma temperatura, peça uma das três escalas (Celsius, Fahrenheit ou Kelvin) para a temperatura digitada, peça para qual temperatura quer transformar (Celsius, Fahrenheit ou Kelvin) e mostra essa temperatura transformada."
   ]
  },
  {
   "cell_type": "code",
   "execution_count": null,
   "id": "78023218",
   "metadata": {},
   "outputs": [],
   "source": []
  },
  {
   "cell_type": "markdown",
   "id": "9236fd87",
   "metadata": {},
   "source": [
    "Desenvolva um programa que leia quatro notas e que apresente a média final, a maior nota e a menor nota (não use lista)."
   ]
  },
  {
   "cell_type": "code",
   "execution_count": null,
   "id": "6fe6a4ef",
   "metadata": {},
   "outputs": [],
   "source": []
  },
  {
   "cell_type": "markdown",
   "id": "5232bc8c",
   "metadata": {},
   "source": [
    "Faça um programa que, dado um inteiro digitado pelo usuário, mostre o fatorial desse número."
   ]
  },
  {
   "cell_type": "code",
   "execution_count": null,
   "id": "ee080507",
   "metadata": {},
   "outputs": [],
   "source": []
  },
  {
   "cell_type": "markdown",
   "id": "6e2776d6",
   "metadata": {},
   "source": [
    "Faça um programa que lê um número natural menor do que 1000 e mostra a soma de seus dígitos."
   ]
  },
  {
   "cell_type": "code",
   "execution_count": null,
   "id": "83492d30",
   "metadata": {},
   "outputs": [],
   "source": []
  },
  {
   "cell_type": "markdown",
   "id": "96965216",
   "metadata": {},
   "source": [
    "Faça um programa que peça as notas do usuário, calcula e mostra a sua média. O programa deve parar de pedir notas quando uma nota negativa for digitada."
   ]
  },
  {
   "cell_type": "code",
   "execution_count": null,
   "id": "3f7c5aa4",
   "metadata": {},
   "outputs": [],
   "source": []
  },
  {
   "cell_type": "markdown",
   "id": "91c53d3c",
   "metadata": {},
   "source": [
    "Faça um programa que pede um número natural (inteiro não negativo) para o usuário e mostra a tabuada desse número na tela."
   ]
  },
  {
   "cell_type": "code",
   "execution_count": null,
   "id": "afd68686",
   "metadata": {},
   "outputs": [],
   "source": []
  },
  {
   "cell_type": "markdown",
   "id": "8d20ce09",
   "metadata": {},
   "source": [
    "Faça um programa que recebe dois números inteiros e mostra suas tabuadas lado a lado.\n",
    "\n",
    "* Exemplo: 3 e 7 \n",
    "\n",
    "\n",
    "\n",
    "|Tab do 3 | Tab do 7|\n",
    "| :-: | :-: |\n",
    "|3 x  1 =  6 | 7 x  1 =  7|\n",
    "|3 x  2 =  6 | 7 x  2 = 14|\n",
    "|3 x  3 =  9 | 7 x  3 = 21|\n",
    "|3 x  4 = 12 | 7 x  4 = 28|\n",
    "|3 x  5 = 15 | 7 x  5 = 35|\n",
    "|3 x  6 = 18 | 7 x  6 = 42|\n",
    "|3 x  7 = 21 | 7 x  7 = 49|\n",
    "|3 x  8 = 24 | 7 x  8 = 56|\n",
    "|3 x  9 = 27 | 7 x  9 = 63|\n",
    "|3 x 10 = 30 | 7 x 10 = 70|"
   ]
  },
  {
   "cell_type": "code",
   "execution_count": null,
   "id": "ae402a55",
   "metadata": {},
   "outputs": [],
   "source": []
  },
  {
   "cell_type": "markdown",
   "id": "4ffbc9e6",
   "metadata": {},
   "source": [
    "Faça um programa que pede um número natural n e mostra um triângulo n níveis (linhas), cada um com um asterisco a mais que o anterior.  \n",
    "  \n",
    "Exemplo:\n",
    "Digite um número: 5\n"
   ]
  },
  {
   "cell_type": "code",
   "execution_count": null,
   "id": "4b0b4315",
   "metadata": {},
   "outputs": [],
   "source": [
    "*\n",
    "**\n",
    "***\n",
    "****\n",
    "*****\n",
    "******"
   ]
  },
  {
   "cell_type": "code",
   "execution_count": null,
   "id": "13ee41df",
   "metadata": {},
   "outputs": [],
   "source": []
  },
  {
   "cell_type": "markdown",
   "id": "5c586c3a",
   "metadata": {},
   "source": [
    "Dado um número natural, faça um programa que mostra na tela a quantidade de dígitos que esse número tem."
   ]
  },
  {
   "cell_type": "code",
   "execution_count": null,
   "id": "08167744",
   "metadata": {},
   "outputs": [],
   "source": []
  },
  {
   "cell_type": "markdown",
   "id": "d8e8b46a",
   "metadata": {},
   "source": [
    "Dado um número natural, faça um programa que mostra na tela a quantidade de dígitos que esse número tem. Não use string."
   ]
  },
  {
   "cell_type": "code",
   "execution_count": null,
   "id": "224c8588",
   "metadata": {},
   "outputs": [],
   "source": []
  },
  {
   "cell_type": "markdown",
   "id": "7c668b03",
   "metadata": {},
   "source": [
    "Escreva um programa que leia um número inteiro qualquer e que apresente o número informado, seguido do seu antecessor e do seu sucessor."
   ]
  },
  {
   "cell_type": "code",
   "execution_count": null,
   "id": "b04f74e2",
   "metadata": {},
   "outputs": [],
   "source": []
  },
  {
   "cell_type": "markdown",
   "id": "405129c4",
   "metadata": {},
   "source": [
    "Escreva um algoritmo que recebe um número n, fornecido pelo usuário, e mostra os n primeiros números da sequência de Fibonacci.\n"
   ]
  },
  {
   "cell_type": "code",
   "execution_count": null,
   "id": "e567a3e6",
   "metadata": {},
   "outputs": [],
   "source": []
  },
  {
   "cell_type": "markdown",
   "id": "2646de8a",
   "metadata": {},
   "source": [
    "Escreva um algoritmo que recebe 5 números reais e calcula a variância e o desvio padrão desses números."
   ]
  },
  {
   "cell_type": "code",
   "execution_count": null,
   "id": "5a58422f",
   "metadata": {},
   "outputs": [],
   "source": []
  },
  {
   "cell_type": "markdown",
   "id": "a472f7f7",
   "metadata": {},
   "source": [
    "Faça um programa que peça um número, n, ao usuário e n valores e armazena esses valores em uma lista. "
   ]
  },
  {
   "cell_type": "code",
   "execution_count": null,
   "id": "097e62b2",
   "metadata": {},
   "outputs": [],
   "source": []
  },
  {
   "cell_type": "markdown",
   "id": "cfd6c1ab",
   "metadata": {},
   "source": [
    "Faça um programa que, dadas duas listas, monta uma terceira lista com os elementos das duas primeiras em sequência.\n"
   ]
  },
  {
   "cell_type": "code",
   "execution_count": null,
   "id": "33f2b01a",
   "metadata": {},
   "outputs": [],
   "source": []
  },
  {
   "cell_type": "markdown",
   "id": "4110632c",
   "metadata": {},
   "source": [
    " Faça um programa que, dado uma lista de 10 elementos formados pelos caracteres 'a', 'b' e 'c', conta e mostra a quantidade de 'b' dessa lista."
   ]
  },
  {
   "cell_type": "code",
   "execution_count": null,
   "id": "69f66978",
   "metadata": {},
   "outputs": [],
   "source": []
  },
  {
   "cell_type": "markdown",
   "id": "69469d8d",
   "metadata": {},
   "source": [
    "Faça um programa que, dado uma lista de inteiros, remove os elementos pares e os ímpares negativos."
   ]
  },
  {
   "cell_type": "code",
   "execution_count": null,
   "id": "068d6de6",
   "metadata": {},
   "outputs": [],
   "source": []
  },
  {
   "cell_type": "markdown",
   "id": "8320d7c8",
   "metadata": {},
   "source": [
    "Faça um programa que, dadas duas listas de mesmo tamanho, forma uma terceira lista cujos elementos são listas de 2 elementos, um da primeira lista e outro da segunda lista."
   ]
  },
  {
   "cell_type": "code",
   "execution_count": null,
   "id": "9548b6b9",
   "metadata": {},
   "outputs": [],
   "source": []
  },
  {
   "cell_type": "markdown",
   "id": "28f3fdce",
   "metadata": {},
   "source": [
    "Faça um programa que, dado uma lista, copia essa lista em outra lista. Modifique o terceiro elemento da primeira lista. Mostre as duas listas na tela."
   ]
  },
  {
   "cell_type": "code",
   "execution_count": null,
   "id": "77dbb6f1",
   "metadata": {},
   "outputs": [],
   "source": []
  },
  {
   "cell_type": "markdown",
   "id": "61d3bad8",
   "metadata": {},
   "source": [
    "Faça um programa que, dada uma lista de inteiros positivos digitados pelo usuário (representando segmentos de reta), verifica se esses três números formam um triângulo."
   ]
  },
  {
   "cell_type": "code",
   "execution_count": null,
   "id": "e5d6906d",
   "metadata": {},
   "outputs": [],
   "source": []
  },
  {
   "cell_type": "markdown",
   "id": "81170fd9",
   "metadata": {},
   "source": [
    "Faça um programa que, dados dois vetores de mesmo tamanho, mostra o produto escalar desses vetores."
   ]
  },
  {
   "cell_type": "code",
   "execution_count": null,
   "id": "38984e73",
   "metadata": {},
   "outputs": [],
   "source": []
  },
  {
   "cell_type": "markdown",
   "id": "3687a281",
   "metadata": {},
   "source": [
    "Faça um programa que, dada uma lista vazia chamada 'mat', popule essa lista com outras 3 listas de tamanho 3 (a lista 'mat' terá, como elementos, três listas contendo três elementos cada). Considere, nesse caso, apenas valores inteiros digitados pelo usuário. Mostre todos os elementos de 'mat' na forma de tabela 3x3."
   ]
  },
  {
   "cell_type": "code",
   "execution_count": null,
   "id": "b277e99d",
   "metadata": {},
   "outputs": [],
   "source": []
  },
  {
   "cell_type": "markdown",
   "id": "9717116d",
   "metadata": {},
   "source": [
    "Considere a lista 'mat' do exercício anterior, com todos elementos inicialmente iguais a zero. Peça ao usuário 4 valores diferentes de zero e armazene esses valores em uma lista chamada 'inicial'. Utilizando a lista 'inicial', coloque cada valor em uma lado da tabela (3x3) formada pela lista 'mat' (por exemplo, 'inicial[0]' na primeira coluna, 'inicial[1]' na última coluna, 'inicial[2] na primeira linha e 'inicial[3]' na última linha). Nas quinas (vértices), utilize o valor média da coluna e da linha."
   ]
  },
  {
   "cell_type": "code",
   "execution_count": null,
   "id": "a67d03c5",
   "metadata": {},
   "outputs": [],
   "source": []
  },
  {
   "cell_type": "markdown",
   "id": "ce1ea21d",
   "metadata": {},
   "source": [
    "Faça uma função que recebe 3 números e retorna o maior deles."
   ]
  },
  {
   "cell_type": "code",
   "execution_count": null,
   "id": "aec70699",
   "metadata": {},
   "outputs": [],
   "source": []
  },
  {
   "cell_type": "markdown",
   "id": "841f4a99",
   "metadata": {},
   "source": [
    "Faça uma função que recebe 3 números e retorna uma lista com os 3 números em ordem crescente."
   ]
  },
  {
   "cell_type": "code",
   "execution_count": null,
   "id": "4edfe490",
   "metadata": {},
   "outputs": [],
   "source": []
  },
  {
   "cell_type": "markdown",
   "id": "43dc6bbe",
   "metadata": {},
   "source": [
    "Faça uma função que recebe 3 números e retorna uma tupla com os 3 números em ordem crescente."
   ]
  },
  {
   "cell_type": "code",
   "execution_count": null,
   "id": "33bb7014",
   "metadata": {},
   "outputs": [],
   "source": []
  },
  {
   "cell_type": "markdown",
   "id": "31a65a99",
   "metadata": {},
   "source": [
    "Faça uma função que recebe uma lista de 3 elementos e retorna o maior deles."
   ]
  },
  {
   "cell_type": "code",
   "execution_count": null,
   "id": "8d1dc634",
   "metadata": {},
   "outputs": [],
   "source": []
  },
  {
   "cell_type": "markdown",
   "id": "ac62b40c",
   "metadata": {},
   "source": [
    "Faça uma função que recebe uma lista com n elementos (n>5) e retorna os 5 maiores deles. "
   ]
  },
  {
   "cell_type": "code",
   "execution_count": null,
   "id": "428c7029",
   "metadata": {},
   "outputs": [],
   "source": []
  },
  {
   "cell_type": "markdown",
   "id": "6847f314",
   "metadata": {},
   "source": [
    "Faça uma função que recebe a altura e a massa de uma pessoa e retorna o imc."
   ]
  },
  {
   "cell_type": "code",
   "execution_count": null,
   "id": "b0053286",
   "metadata": {},
   "outputs": [],
   "source": []
  },
  {
   "cell_type": "markdown",
   "id": "9fb1c0de",
   "metadata": {},
   "source": [
    "Faça uma função que recebe uma lista de tamanho n (n > 5) contendo as strings 'Alto', 'Médio' e 'Baixo' e mostra qual das palavras apareceu mais vez e quantidade de vezes que essa palavra apareceu."
   ]
  },
  {
   "cell_type": "code",
   "execution_count": null,
   "id": "a48140c5",
   "metadata": {},
   "outputs": [],
   "source": []
  },
  {
   "cell_type": "code",
   "execution_count": null,
   "id": "67ad8d7d",
   "metadata": {},
   "outputs": [],
   "source": []
  },
  {
   "cell_type": "code",
   "execution_count": null,
   "id": "14b0ee83",
   "metadata": {},
   "outputs": [],
   "source": []
  },
  {
   "cell_type": "code",
   "execution_count": null,
   "id": "40ed8277",
   "metadata": {},
   "outputs": [],
   "source": []
  },
  {
   "cell_type": "markdown",
   "id": "cd5e4e25",
   "metadata": {},
   "source": [
    "**Desafio** \n",
    "\n",
    "Escreva um programa que calcula a integral da função $f(x) = x^m$, com $m$ natural dado pelo usuário, entre o valores $a = x_1$ e $b = x_2$ (informados pelo usuário, onde $x_1 \\le x_2$ ),  \n",
    "pelo método 1/3 de Simpson, com número de passos $n$, um inteiro par, também informado pelo usuário."
   ]
  },
  {
   "cell_type": "code",
   "execution_count": null,
   "id": "ab3f53b3",
   "metadata": {},
   "outputs": [],
   "source": []
  },
  {
   "cell_type": "code",
   "execution_count": null,
   "id": "9c92083f",
   "metadata": {},
   "outputs": [],
   "source": []
  },
  {
   "cell_type": "code",
   "execution_count": null,
   "id": "1e68e58d",
   "metadata": {},
   "outputs": [],
   "source": []
  },
  {
   "cell_type": "code",
   "execution_count": null,
   "id": "1e922318",
   "metadata": {},
   "outputs": [],
   "source": []
  },
  {
   "cell_type": "code",
   "execution_count": null,
   "id": "c9c54fcd",
   "metadata": {},
   "outputs": [],
   "source": []
  },
  {
   "cell_type": "markdown",
   "id": "8f022cd6",
   "metadata": {},
   "source": [
    "**Documentação do Python:**\n",
    "https://docs.python.org/3/"
   ]
  },
  {
   "cell_type": "markdown",
   "id": "088dd62a",
   "metadata": {},
   "source": [
    "**Sugestão de listas de exercícios:**\n",
    "* https://wiki.python.org.br/ListaDeExercicios\n",
    "* https://www.w3resource.com/python-exercises/python-basic-exercises.php\n",
    "* https://www.hackerrank.com/\n",
    "* https://www.beecrowd.com.br/judge/pt/login\n",
    "* https://www.codewars.com/\n",
    "* https://leetcode.com/\n",
    "* https://www.geeksforgeeks.org/\n",
    "* https://www.kaggle.com/\n",
    "* https://pythoninstitute.org/"
   ]
  },
  {
   "cell_type": "code",
   "execution_count": null,
   "id": "c96051f7",
   "metadata": {},
   "outputs": [],
   "source": []
  },
  {
   "cell_type": "code",
   "execution_count": null,
   "id": "9d0f57ff",
   "metadata": {},
   "outputs": [],
   "source": []
  },
  {
   "cell_type": "code",
   "execution_count": null,
   "id": "2235f6ad",
   "metadata": {},
   "outputs": [],
   "source": []
  }
 ],
 "metadata": {
  "kernelspec": {
   "display_name": "Python 3 (ipykernel)",
   "language": "python",
   "name": "python3"
  },
  "language_info": {
   "codemirror_mode": {
    "name": "ipython",
    "version": 3
   },
   "file_extension": ".py",
   "mimetype": "text/x-python",
   "name": "python",
   "nbconvert_exporter": "python",
   "pygments_lexer": "ipython3",
   "version": "3.9.18"
  }
 },
 "nbformat": 4,
 "nbformat_minor": 5
}
