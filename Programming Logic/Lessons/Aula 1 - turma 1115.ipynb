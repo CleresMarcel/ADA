{
 "cells": [
  {
   "cell_type": "markdown",
   "id": "e875d3a3",
   "metadata": {},
   "source": [
    "<div style=\"background-color: lightgreen; padding: 18px;\">\n",
    "    <h1> Aula 1 | Lógica de Programação II\n",
    "</div>"
   ]
  },
  {
   "cell_type": "markdown",
   "id": "53908d80",
   "metadata": {},
   "source": [
    "<div style=\"background-color: lightblue; padding: 10px;\">\n",
    "    <h2> Tópicos da aula 1\n",
    "</div>\n",
    "\n",
    "- Revisão\n",
    "- Tuplas"
   ]
  },
  {
   "cell_type": "code",
   "execution_count": null,
   "id": "09b45489",
   "metadata": {},
   "outputs": [],
   "source": [
    "#Tipos variáveis\n",
    "int\n",
    "float\n",
    "bool\n",
    "str\n",
    "list"
   ]
  },
  {
   "cell_type": "code",
   "execution_count": null,
   "id": "e0481d3e",
   "metadata": {},
   "outputs": [],
   "source": [
    "#Descobrindo o tipo: type()\n"
   ]
  },
  {
   "cell_type": "code",
   "execution_count": 3,
   "id": "573dc82e",
   "metadata": {},
   "outputs": [
    {
     "name": "stdout",
     "output_type": "stream",
     "text": [
      "<class 'int'>\n",
      "<class 'str'>\n",
      "<class 'bool'>\n",
      "<class 'float'>\n",
      "<class 'list'>\n"
     ]
    }
   ],
   "source": [
    "idade = 23\n",
    "print(type(idade))\n",
    "idade = '23'\n",
    "print(type(idade))\n",
    "idade = True\n",
    "print(type(idade))\n",
    "idade = 23.7\n",
    "print(type(idade))\n",
    "idade = [23]\n",
    "print(type(idade))"
   ]
  },
  {
   "cell_type": "code",
   "execution_count": null,
   "id": "132626f4",
   "metadata": {},
   "outputs": [],
   "source": [
    "#Operadores aritméticos\n",
    "x + y\n",
    "x - y\n",
    "x * y\n",
    "x / y\n",
    "x // y\n",
    "x % y\n",
    "x ** y"
   ]
  },
  {
   "cell_type": "code",
   "execution_count": 13,
   "id": "001c5a24",
   "metadata": {},
   "outputs": [
    {
     "data": {
      "text/plain": [
       "8"
      ]
     },
     "execution_count": 13,
     "metadata": {},
     "output_type": "execute_result"
    }
   ],
   "source": [
    "#Operadores lógicos\n",
    "teste and sentinela \n",
    "teste or sentinela \n",
    "not teste"
   ]
  },
  {
   "cell_type": "code",
   "execution_count": 15,
   "id": "34f03f3e",
   "metadata": {},
   "outputs": [
    {
     "name": "stdout",
     "output_type": "stream",
     "text": [
      "True\n",
      "False\n",
      "False\n",
      "False\n"
     ]
    }
   ],
   "source": [
    "print(True and True)\n",
    "print(True and False)\n",
    "print(False and True)\n",
    "print(False and False)"
   ]
  },
  {
   "cell_type": "code",
   "execution_count": 17,
   "id": "6207d0e0",
   "metadata": {},
   "outputs": [
    {
     "name": "stdout",
     "output_type": "stream",
     "text": [
      "True\n",
      "True\n",
      "True\n",
      "False\n"
     ]
    }
   ],
   "source": [
    "print(True or True)\n",
    "print(True or False)\n",
    "print(False or True)\n",
    "print(False or False)"
   ]
  },
  {
   "cell_type": "code",
   "execution_count": 20,
   "id": "0fabf2a6",
   "metadata": {},
   "outputs": [
    {
     "name": "stdout",
     "output_type": "stream",
     "text": [
      "False\n",
      "True\n"
     ]
    }
   ],
   "source": [
    "print(not True)\n",
    "print(not False)\n"
   ]
  },
  {
   "cell_type": "code",
   "execution_count": 23,
   "id": "9c6121bf",
   "metadata": {},
   "outputs": [
    {
     "data": {
      "text/plain": [
       "'Banana'"
      ]
     },
     "execution_count": 23,
     "metadata": {},
     "output_type": "execute_result"
    }
   ],
   "source": [
    "#Márcia\n",
    "5 and 'Banana'"
   ]
  },
  {
   "cell_type": "code",
   "execution_count": 264,
   "id": "7666f066",
   "metadata": {},
   "outputs": [
    {
     "data": {
      "text/plain": [
       "5"
      ]
     },
     "execution_count": 264,
     "metadata": {},
     "output_type": "execute_result"
    }
   ],
   "source": [
    "'Banana' and 5"
   ]
  },
  {
   "cell_type": "code",
   "execution_count": 265,
   "id": "3768610c",
   "metadata": {},
   "outputs": [
    {
     "data": {
      "text/plain": [
       "('Banana', 5)"
      ]
     },
     "execution_count": 265,
     "metadata": {},
     "output_type": "execute_result"
    }
   ],
   "source": [
    "'Banana' or 5, 5 or 'Banana'"
   ]
  },
  {
   "cell_type": "code",
   "execution_count": 26,
   "id": "dc119f70",
   "metadata": {},
   "outputs": [
    {
     "name": "stdout",
     "output_type": "stream",
     "text": [
      "Sou falso!\n"
     ]
    }
   ],
   "source": [
    "#Truthy/Falsy\n",
    "#int\n",
    "idade = 0\n",
    "\n",
    "if idade:\n",
    "    print(\"Sou verdadeiro!\")\n",
    "else:\n",
    "    print(\"Sou falso!\")"
   ]
  },
  {
   "cell_type": "code",
   "execution_count": 28,
   "id": "53deb5c1",
   "metadata": {},
   "outputs": [
    {
     "name": "stdout",
     "output_type": "stream",
     "text": [
      "Sou falso!\n"
     ]
    }
   ],
   "source": [
    "#float\n",
    "idade = 0.0\n",
    "\n",
    "if idade:\n",
    "    print(\"Sou verdadeiro!\")\n",
    "else:\n",
    "    print(\"Sou falso!\")"
   ]
  },
  {
   "cell_type": "code",
   "execution_count": 30,
   "id": "12179d44",
   "metadata": {},
   "outputs": [
    {
     "name": "stdout",
     "output_type": "stream",
     "text": [
      "Sou falso!\n"
     ]
    }
   ],
   "source": [
    "#bool\n",
    "teste = False\n",
    "\n",
    "if teste:\n",
    "    print(\"Sou verdadeiro!\")\n",
    "else:\n",
    "    print(\"Sou falso!\")"
   ]
  },
  {
   "cell_type": "code",
   "execution_count": 34,
   "id": "e0f2d4b2",
   "metadata": {},
   "outputs": [
    {
     "name": "stdout",
     "output_type": "stream",
     "text": [
      "Sou falso!\n"
     ]
    }
   ],
   "source": [
    "#string\n",
    "nome = ''\n",
    "\n",
    "if nome:\n",
    "    print(\"Sou verdadeiro!\")\n",
    "else:\n",
    "    print(\"Sou falso!\")"
   ]
  },
  {
   "cell_type": "code",
   "execution_count": 35,
   "id": "e045bae6",
   "metadata": {},
   "outputs": [
    {
     "data": {
      "text/plain": [
       "0"
      ]
     },
     "execution_count": 35,
     "metadata": {},
     "output_type": "execute_result"
    }
   ],
   "source": [
    "0 and 'casa'"
   ]
  },
  {
   "cell_type": "code",
   "execution_count": 37,
   "id": "43946f7e",
   "metadata": {},
   "outputs": [
    {
     "data": {
      "text/plain": [
       "True"
      ]
     },
     "execution_count": 37,
     "metadata": {},
     "output_type": "execute_result"
    }
   ],
   "source": [
    "bool(1 and 'casa')"
   ]
  },
  {
   "cell_type": "code",
   "execution_count": 43,
   "id": "a814ed70",
   "metadata": {},
   "outputs": [
    {
     "name": "stdout",
     "output_type": "stream",
     "text": [
      "Idade: 23\n"
     ]
    },
    {
     "data": {
      "text/plain": [
       "'23'"
      ]
     },
     "execution_count": 43,
     "metadata": {},
     "output_type": "execute_result"
    }
   ],
   "source": [
    "#Recebendo conteúdo do teclado\n",
    "idade = input(\"Idade: \")\n",
    "idade"
   ]
  },
  {
   "cell_type": "code",
   "execution_count": 42,
   "id": "02c2e26c",
   "metadata": {},
   "outputs": [
    {
     "data": {
      "text/plain": [
       "(23, int)"
      ]
     },
     "execution_count": 42,
     "metadata": {},
     "output_type": "execute_result"
    }
   ],
   "source": [
    "#Coerção de tipos (casting)\n",
    "idade = int(idade)\n",
    "idade, type(idade)"
   ]
  },
  {
   "cell_type": "code",
   "execution_count": 44,
   "id": "736c41ff",
   "metadata": {},
   "outputs": [
    {
     "name": "stdout",
     "output_type": "stream",
     "text": [
      "Idade: 23.5\n"
     ]
    },
    {
     "data": {
      "text/plain": [
       "'23.5'"
      ]
     },
     "execution_count": 44,
     "metadata": {},
     "output_type": "execute_result"
    }
   ],
   "source": [
    "idade = input(\"Idade: \")\n",
    "idade"
   ]
  },
  {
   "cell_type": "code",
   "execution_count": 45,
   "id": "ecf922ae",
   "metadata": {},
   "outputs": [
    {
     "ename": "ValueError",
     "evalue": "invalid literal for int() with base 10: '23.5'",
     "output_type": "error",
     "traceback": [
      "\u001b[1;31m---------------------------------------------------------------------------\u001b[0m",
      "\u001b[1;31mValueError\u001b[0m                                Traceback (most recent call last)",
      "Cell \u001b[1;32mIn[45], line 1\u001b[0m\n\u001b[1;32m----> 1\u001b[0m \u001b[38;5;28;43mint\u001b[39;49m\u001b[43m(\u001b[49m\u001b[43midade\u001b[49m\u001b[43m)\u001b[49m\n",
      "\u001b[1;31mValueError\u001b[0m: invalid literal for int() with base 10: '23.5'"
     ]
    }
   ],
   "source": [
    "int(idade)"
   ]
  },
  {
   "cell_type": "code",
   "execution_count": 50,
   "id": "cd508f12",
   "metadata": {},
   "outputs": [
    {
     "data": {
      "text/plain": [
       "(12, 12)"
      ]
     },
     "execution_count": 50,
     "metadata": {},
     "output_type": "execute_result"
    }
   ],
   "source": [
    "#Arredondamento: round\n",
    "round(12.5), round(11.5)"
   ]
  },
  {
   "cell_type": "code",
   "execution_count": 52,
   "id": "9d9e1b94",
   "metadata": {},
   "outputs": [
    {
     "data": {
      "text/plain": [
       "24.0"
      ]
     },
     "execution_count": 52,
     "metadata": {},
     "output_type": "execute_result"
    }
   ],
   "source": [
    "12.5 + 11.5"
   ]
  },
  {
   "cell_type": "code",
   "execution_count": null,
   "id": "90e8dd13",
   "metadata": {},
   "outputs": [],
   "source": [
    "#Impactos provocados por arredondamento (exemplos da turma):\n",
    "# Petrobras (liberação de navios)\n",
    "# Indústria fundição de alumínio\n",
    "# Caixas de supermercado (trocos em geral)\n",
    "\n"
   ]
  },
  {
   "cell_type": "code",
   "execution_count": 56,
   "id": "001c105a",
   "metadata": {},
   "outputs": [
    {
     "data": {
      "text/plain": [
       "24"
      ]
     },
     "execution_count": 56,
     "metadata": {},
     "output_type": "execute_result"
    }
   ],
   "source": [
    "idade = round(float(idade))\n",
    "idade"
   ]
  },
  {
   "cell_type": "code",
   "execution_count": 64,
   "id": "c4a02a55",
   "metadata": {},
   "outputs": [
    {
     "data": {
      "text/plain": [
       "0.12345678901234568"
      ]
     },
     "execution_count": 64,
     "metadata": {},
     "output_type": "execute_result"
    }
   ],
   "source": [
    "#17 casas decimais\n",
    "num = 0.12345678901234567890123456\n",
    "num"
   ]
  },
  {
   "cell_type": "code",
   "execution_count": 69,
   "id": "65580032",
   "metadata": {
    "scrolled": true
   },
   "outputs": [
    {
     "name": "stdout",
     "output_type": "stream",
     "text": [
      "Idade: 12.3\n"
     ]
    },
    {
     "ename": "ValueError",
     "evalue": "invalid literal for int() with base 10: '12.3'",
     "output_type": "error",
     "traceback": [
      "\u001b[1;31m---------------------------------------------------------------------------\u001b[0m",
      "\u001b[1;31mValueError\u001b[0m                                Traceback (most recent call last)",
      "Cell \u001b[1;32mIn[69], line 2\u001b[0m\n\u001b[0;32m      1\u001b[0m \u001b[38;5;66;03m#if elif else\u001b[39;00m\n\u001b[1;32m----> 2\u001b[0m idade \u001b[38;5;241m=\u001b[39m \u001b[38;5;28;43mint\u001b[39;49m\u001b[43m(\u001b[49m\u001b[38;5;28;43minput\u001b[39;49m\u001b[43m(\u001b[49m\u001b[38;5;124;43m'\u001b[39;49m\u001b[38;5;124;43mIdade: \u001b[39;49m\u001b[38;5;124;43m'\u001b[39;49m\u001b[43m)\u001b[49m\u001b[43m)\u001b[49m\n\u001b[0;32m      4\u001b[0m \u001b[38;5;28;01mif\u001b[39;00m idade \u001b[38;5;241m<\u001b[39m\u001b[38;5;241m=\u001b[39m \u001b[38;5;241m12\u001b[39m:\n\u001b[0;32m      5\u001b[0m     \u001b[38;5;28mprint\u001b[39m(\u001b[38;5;124m'\u001b[39m\u001b[38;5;124mCriança.\u001b[39m\u001b[38;5;124m'\u001b[39m)\n",
      "\u001b[1;31mValueError\u001b[0m: invalid literal for int() with base 10: '12.3'"
     ]
    }
   ],
   "source": [
    "#if elif else\n",
    "idade = int(input('Idade: '))\n",
    "\n",
    "if idade <= 12:\n",
    "    print('Criança.')\n",
    "elif idade < 18:\n",
    "    print('Adolescente.')\n",
    "else:\n",
    "    print('Adulto.')"
   ]
  },
  {
   "cell_type": "code",
   "execution_count": 70,
   "id": "78e44d69",
   "metadata": {},
   "outputs": [],
   "source": [
    "#Lista\n",
    "lista = [12, '12', True, 3.14, ['Santos', 'Série B']]"
   ]
  },
  {
   "cell_type": "code",
   "execution_count": 71,
   "id": "eb81bcb2",
   "metadata": {},
   "outputs": [
    {
     "data": {
      "text/plain": [
       "12"
      ]
     },
     "execution_count": 71,
     "metadata": {},
     "output_type": "execute_result"
    }
   ],
   "source": [
    "#Acessando elementos de uma lista: índice\n",
    "lista[0] #primeiro elemento"
   ]
  },
  {
   "cell_type": "code",
   "execution_count": 72,
   "id": "c3d7db80",
   "metadata": {},
   "outputs": [
    {
     "ename": "IndexError",
     "evalue": "list index out of range",
     "output_type": "error",
     "traceback": [
      "\u001b[1;31m---------------------------------------------------------------------------\u001b[0m",
      "\u001b[1;31mIndexError\u001b[0m                                Traceback (most recent call last)",
      "Cell \u001b[1;32mIn[72], line 1\u001b[0m\n\u001b[1;32m----> 1\u001b[0m \u001b[43mlista\u001b[49m\u001b[43m[\u001b[49m\u001b[38;5;241;43m5\u001b[39;49m\u001b[43m]\u001b[49m\n",
      "\u001b[1;31mIndexError\u001b[0m: list index out of range"
     ]
    }
   ],
   "source": [
    "lista[5]"
   ]
  },
  {
   "cell_type": "code",
   "execution_count": 75,
   "id": "39fa2d24",
   "metadata": {},
   "outputs": [
    {
     "data": {
      "text/plain": [
       "(['Santos', 'Série B'], 3.14, 12)"
      ]
     },
     "execution_count": 75,
     "metadata": {},
     "output_type": "execute_result"
    }
   ],
   "source": [
    "#Índice negativo\n",
    "lista[-1], lista[-2], lista[-5]"
   ]
  },
  {
   "cell_type": "code",
   "execution_count": 76,
   "id": "7356e09b",
   "metadata": {},
   "outputs": [
    {
     "ename": "IndexError",
     "evalue": "list index out of range",
     "output_type": "error",
     "traceback": [
      "\u001b[1;31m---------------------------------------------------------------------------\u001b[0m",
      "\u001b[1;31mIndexError\u001b[0m                                Traceback (most recent call last)",
      "Cell \u001b[1;32mIn[76], line 1\u001b[0m\n\u001b[1;32m----> 1\u001b[0m \u001b[43mlista\u001b[49m\u001b[43m[\u001b[49m\u001b[38;5;241;43m-\u001b[39;49m\u001b[38;5;241;43m6\u001b[39;49m\u001b[43m]\u001b[49m\n",
      "\u001b[1;31mIndexError\u001b[0m: list index out of range"
     ]
    }
   ],
   "source": [
    "lista[-6]"
   ]
  },
  {
   "cell_type": "code",
   "execution_count": 77,
   "id": "ad06dd8a",
   "metadata": {},
   "outputs": [
    {
     "data": {
      "text/plain": [
       "[12, '12', True, 3.14, ['Santos', 'Série B']]"
      ]
     },
     "execution_count": 77,
     "metadata": {},
     "output_type": "execute_result"
    }
   ],
   "source": [
    "lista"
   ]
  },
  {
   "cell_type": "code",
   "execution_count": 78,
   "id": "7eea1b7d",
   "metadata": {},
   "outputs": [
    {
     "data": {
      "text/plain": [
       "['12', True, 3.14]"
      ]
     },
     "execution_count": 78,
     "metadata": {},
     "output_type": "execute_result"
    }
   ],
   "source": [
    "#Slicing --> fatiamento de lista -->lista[start:stop+1]\n",
    "lista[1:4]"
   ]
  },
  {
   "cell_type": "code",
   "execution_count": 81,
   "id": "20b067ad",
   "metadata": {},
   "outputs": [
    {
     "data": {
      "text/plain": [
       "[True, 3.14, ['Santos', 'Série B']]"
      ]
     },
     "execution_count": 81,
     "metadata": {},
     "output_type": "execute_result"
    }
   ],
   "source": [
    "lista[2:]"
   ]
  },
  {
   "cell_type": "code",
   "execution_count": 82,
   "id": "a43cb6b6",
   "metadata": {},
   "outputs": [
    {
     "data": {
      "text/plain": [
       "[12, '12', True]"
      ]
     },
     "execution_count": 82,
     "metadata": {},
     "output_type": "execute_result"
    }
   ],
   "source": [
    "lista[:3]"
   ]
  },
  {
   "cell_type": "code",
   "execution_count": 83,
   "id": "938a6417",
   "metadata": {},
   "outputs": [
    {
     "data": {
      "text/plain": [
       "[12, '12', True, 3.14, ['Santos', 'Série B']]"
      ]
     },
     "execution_count": 83,
     "metadata": {},
     "output_type": "execute_result"
    }
   ],
   "source": [
    "lista[:]"
   ]
  },
  {
   "cell_type": "code",
   "execution_count": 86,
   "id": "9d270084",
   "metadata": {},
   "outputs": [
    {
     "data": {
      "text/plain": [
       "([0, 2, 4, 6, 8], [1, 3, 5, 7, 9])"
      ]
     },
     "execution_count": 86,
     "metadata": {},
     "output_type": "execute_result"
    }
   ],
   "source": [
    "#lista[start:stop:step]\n",
    "numeros = [0, 1, 2, 3, 4, 5, 6, 7, 8, 9]\n",
    "numeros[::2], numeros[1::2]"
   ]
  },
  {
   "cell_type": "code",
   "execution_count": 89,
   "id": "50003e27",
   "metadata": {},
   "outputs": [
    {
     "data": {
      "text/plain": [
       "[1, 2, 3, 4]"
      ]
     },
     "execution_count": 89,
     "metadata": {},
     "output_type": "execute_result"
    }
   ],
   "source": [
    "a = 1\n",
    "b = 4\n",
    "\n",
    "numeros[a:a+b]"
   ]
  },
  {
   "cell_type": "code",
   "execution_count": 107,
   "id": "2c234150",
   "metadata": {},
   "outputs": [
    {
     "data": {
      "text/plain": [
       "[9, 8, 7, 6]"
      ]
     },
     "execution_count": 107,
     "metadata": {},
     "output_type": "execute_result"
    }
   ],
   "source": [
    "numeros[-1:-5:-1]"
   ]
  },
  {
   "cell_type": "code",
   "execution_count": 109,
   "id": "bb9a5da3",
   "metadata": {},
   "outputs": [
    {
     "data": {
      "text/plain": [
       "[6, 5, 4, 3, 2, 1, 0]"
      ]
     },
     "execution_count": 109,
     "metadata": {},
     "output_type": "execute_result"
    }
   ],
   "source": [
    "numeros[6::-1]"
   ]
  },
  {
   "cell_type": "code",
   "execution_count": 122,
   "id": "e2d13271",
   "metadata": {},
   "outputs": [
    {
     "data": {
      "text/plain": [
       "[]"
      ]
     },
     "execution_count": 122,
     "metadata": {},
     "output_type": "execute_result"
    }
   ],
   "source": [
    "numeros[5:-1:-1]"
   ]
  },
  {
   "cell_type": "code",
   "execution_count": 143,
   "id": "0c5780f1",
   "metadata": {},
   "outputs": [
    {
     "data": {
      "text/plain": [
       "[9, 8, 7, 6, 5, 4]"
      ]
     },
     "execution_count": 143,
     "metadata": {},
     "output_type": "execute_result"
    }
   ],
   "source": [
    "numeros[slice(9,3,-1)]"
   ]
  },
  {
   "cell_type": "code",
   "execution_count": 152,
   "id": "91b48488",
   "metadata": {},
   "outputs": [
    {
     "data": {
      "text/plain": [
       "[0, 1, 2, 3, 4, 5, 6, 7, 8]"
      ]
     },
     "execution_count": 152,
     "metadata": {},
     "output_type": "execute_result"
    }
   ],
   "source": [
    "numeros[slice(-1)]"
   ]
  },
  {
   "cell_type": "code",
   "execution_count": 149,
   "id": "f8e04c09",
   "metadata": {},
   "outputs": [
    {
     "data": {
      "text/plain": [
       "[0, 1, 2, 3, 4, 5, 6, 7, 8, 9]"
      ]
     },
     "execution_count": 149,
     "metadata": {},
     "output_type": "execute_result"
    }
   ],
   "source": [
    "numeros"
   ]
  },
  {
   "cell_type": "code",
   "execution_count": 154,
   "id": "d19835ae",
   "metadata": {},
   "outputs": [
    {
     "name": "stdout",
     "output_type": "stream",
     "text": [
      "1\n",
      "3\n",
      "5\n",
      "7\n"
     ]
    }
   ],
   "source": [
    "#Laços\n",
    "for i in range(1,9,2):\n",
    "    print(i)"
   ]
  },
  {
   "cell_type": "code",
   "execution_count": 161,
   "id": "38e8c2da",
   "metadata": {},
   "outputs": [
    {
     "name": "stdout",
     "output_type": "stream",
     "text": [
      "0 1 2 3 4 5 6 7 8 9 "
     ]
    }
   ],
   "source": [
    "    for i in range(10):\n",
    "        print(numeros[i], end=' ')"
   ]
  },
  {
   "cell_type": "code",
   "execution_count": 162,
   "id": "e7a977e5",
   "metadata": {},
   "outputs": [
    {
     "name": "stdout",
     "output_type": "stream",
     "text": [
      "\n",
      "None\n"
     ]
    }
   ],
   "source": [
    "print(print(''))"
   ]
  },
  {
   "cell_type": "code",
   "execution_count": 165,
   "id": "3ed515e4",
   "metadata": {},
   "outputs": [
    {
     "name": "stdout",
     "output_type": "stream",
     "text": [
      "0123456789 0123456789\n"
     ]
    }
   ],
   "source": [
    "str_num = ''\n",
    "for i in range(10):\n",
    "    str_num += str(i)\n",
    "    print(numeros[i], end='')\n",
    "print(\" \"+str_num)"
   ]
  },
  {
   "cell_type": "code",
   "execution_count": 166,
   "id": "7f607a85",
   "metadata": {},
   "outputs": [
    {
     "data": {
      "text/plain": [
       "8"
      ]
     },
     "execution_count": 166,
     "metadata": {},
     "output_type": "execute_result"
    }
   ],
   "source": [
    "3 + 5"
   ]
  },
  {
   "cell_type": "code",
   "execution_count": 167,
   "id": "1c418c43",
   "metadata": {},
   "outputs": [
    {
     "data": {
      "text/plain": [
       "7.1"
      ]
     },
     "execution_count": 167,
     "metadata": {},
     "output_type": "execute_result"
    }
   ],
   "source": [
    "3.1 + 4"
   ]
  },
  {
   "cell_type": "code",
   "execution_count": 168,
   "id": "dd33968d",
   "metadata": {},
   "outputs": [
    {
     "data": {
      "text/plain": [
       "[1, 2, 3]"
      ]
     },
     "execution_count": 168,
     "metadata": {},
     "output_type": "execute_result"
    }
   ],
   "source": [
    "[1, 2] + [3]"
   ]
  },
  {
   "cell_type": "code",
   "execution_count": 171,
   "id": "7d5dbd66",
   "metadata": {},
   "outputs": [
    {
     "data": {
      "text/plain": [
       "'casa da operação'"
      ]
     },
     "execution_count": 171,
     "metadata": {},
     "output_type": "execute_result"
    }
   ],
   "source": [
    "\"casa \" + \"da \" + \"operação\""
   ]
  },
  {
   "cell_type": "code",
   "execution_count": 177,
   "id": "b4951209",
   "metadata": {},
   "outputs": [
    {
     "name": "stdout",
     "output_type": "stream",
     "text": [
      "0 2 4 6 8 10 12 14 16 18 "
     ]
    }
   ],
   "source": [
    "for elem in numeros:\n",
    "    print(2 * elem, end=' ')"
   ]
  },
  {
   "cell_type": "code",
   "execution_count": 178,
   "id": "6a2f57ef",
   "metadata": {},
   "outputs": [
    {
     "name": "stdout",
     "output_type": "stream",
     "text": [
      "m i n h a   s t r i n g "
     ]
    }
   ],
   "source": [
    "for char in \"minha string\":\n",
    "    print(char, end=' ')"
   ]
  },
  {
   "cell_type": "code",
   "execution_count": 184,
   "id": "dc54ec1c",
   "metadata": {},
   "outputs": [
    {
     "data": {
      "text/plain": [
       "'h'"
      ]
     },
     "execution_count": 184,
     "metadata": {},
     "output_type": "execute_result"
    }
   ],
   "source": [
    "texto = \"minha string\"\n",
    "texto[3]"
   ]
  },
  {
   "cell_type": "code",
   "execution_count": 186,
   "id": "ab00f6cf",
   "metadata": {},
   "outputs": [
    {
     "data": {
      "text/plain": [
       "(3, 'h')"
      ]
     },
     "execution_count": 186,
     "metadata": {},
     "output_type": "execute_result"
    }
   ],
   "source": [
    "numeros[3], texto[3]"
   ]
  },
  {
   "cell_type": "code",
   "execution_count": 188,
   "id": "0b50ad9e",
   "metadata": {},
   "outputs": [
    {
     "data": {
      "text/plain": [
       "[0, 1, 2, 12, 4, 5, 6, 7, 8, 9]"
      ]
     },
     "execution_count": 188,
     "metadata": {},
     "output_type": "execute_result"
    }
   ],
   "source": [
    "numeros[3] = 12\n",
    "numeros"
   ]
  },
  {
   "cell_type": "code",
   "execution_count": 191,
   "id": "d569bd37",
   "metadata": {},
   "outputs": [
    {
     "ename": "TypeError",
     "evalue": "'str' object does not support item assignment",
     "output_type": "error",
     "traceback": [
      "\u001b[1;31m---------------------------------------------------------------------------\u001b[0m",
      "\u001b[1;31mTypeError\u001b[0m                                 Traceback (most recent call last)",
      "Cell \u001b[1;32mIn[191], line 1\u001b[0m\n\u001b[1;32m----> 1\u001b[0m texto[\u001b[38;5;241m3\u001b[39m] \u001b[38;5;241m=\u001b[39m \u001b[38;5;124m'\u001b[39m\u001b[38;5;124mH\u001b[39m\u001b[38;5;124m'\u001b[39m\n",
      "\u001b[1;31mTypeError\u001b[0m: 'str' object does not support item assignment"
     ]
    }
   ],
   "source": [
    "texto[3] = 'H'"
   ]
  },
  {
   "cell_type": "code",
   "execution_count": 203,
   "id": "6fb70fc5",
   "metadata": {},
   "outputs": [
    {
     "data": {
      "text/plain": [
       "(2, 4, 7, 4)"
      ]
     },
     "execution_count": 203,
     "metadata": {},
     "output_type": "execute_result"
    }
   ],
   "source": [
    "#Tuplas: tuple()\n",
    "dados = (2, 4, 7, 4)\n",
    "dados"
   ]
  },
  {
   "cell_type": "code",
   "execution_count": 204,
   "id": "00b0ea8d",
   "metadata": {},
   "outputs": [
    {
     "data": {
      "text/plain": [
       "tuple"
      ]
     },
     "execution_count": 204,
     "metadata": {},
     "output_type": "execute_result"
    }
   ],
   "source": [
    "type(dados)"
   ]
  },
  {
   "cell_type": "code",
   "execution_count": 205,
   "id": "49d554ef",
   "metadata": {},
   "outputs": [
    {
     "data": {
      "text/plain": [
       "2"
      ]
     },
     "execution_count": 205,
     "metadata": {},
     "output_type": "execute_result"
    }
   ],
   "source": [
    "dados[0]"
   ]
  },
  {
   "cell_type": "code",
   "execution_count": 206,
   "id": "6b2a4e05",
   "metadata": {},
   "outputs": [
    {
     "name": "stdout",
     "output_type": "stream",
     "text": [
      "2\n",
      "4\n",
      "7\n",
      "4\n"
     ]
    }
   ],
   "source": [
    "for elem in dados:\n",
    "    print(elem)"
   ]
  },
  {
   "cell_type": "code",
   "execution_count": 209,
   "id": "6167c508",
   "metadata": {},
   "outputs": [
    {
     "data": {
      "text/plain": [
       "2"
      ]
     },
     "execution_count": 209,
     "metadata": {},
     "output_type": "execute_result"
    }
   ],
   "source": [
    "dados.count(4)"
   ]
  },
  {
   "cell_type": "code",
   "execution_count": 214,
   "id": "784f8436",
   "metadata": {},
   "outputs": [
    {
     "data": {
      "text/plain": [
       "1"
      ]
     },
     "execution_count": 214,
     "metadata": {},
     "output_type": "execute_result"
    }
   ],
   "source": [
    "dados.index(4)"
   ]
  },
  {
   "cell_type": "code",
   "execution_count": 215,
   "id": "03eee437",
   "metadata": {},
   "outputs": [
    {
     "ename": "ValueError",
     "evalue": "tuple.index(x): x not in tuple",
     "output_type": "error",
     "traceback": [
      "\u001b[1;31m---------------------------------------------------------------------------\u001b[0m",
      "\u001b[1;31mValueError\u001b[0m                                Traceback (most recent call last)",
      "Cell \u001b[1;32mIn[215], line 1\u001b[0m\n\u001b[1;32m----> 1\u001b[0m \u001b[43mdados\u001b[49m\u001b[38;5;241;43m.\u001b[39;49m\u001b[43mindex\u001b[49m\u001b[43m(\u001b[49m\u001b[38;5;241;43m5\u001b[39;49m\u001b[43m)\u001b[49m\n",
      "\u001b[1;31mValueError\u001b[0m: tuple.index(x): x not in tuple"
     ]
    }
   ],
   "source": [
    "dados.index(5)"
   ]
  },
  {
   "cell_type": "code",
   "execution_count": 228,
   "id": "0f6dfee9",
   "metadata": {},
   "outputs": [
    {
     "name": "stdout",
     "output_type": "stream",
     "text": [
      "2 4 7 4\n"
     ]
    }
   ],
   "source": [
    "# Unpacking --> desempacotar\n",
    "a, b, _, d = dados\n",
    "print(a, b, c, d)"
   ]
  },
  {
   "cell_type": "code",
   "execution_count": 231,
   "id": "a36933b2",
   "metadata": {},
   "outputs": [],
   "source": [
    "_, _, c, _ =  dados"
   ]
  },
  {
   "cell_type": "code",
   "execution_count": 220,
   "id": "c0754257",
   "metadata": {},
   "outputs": [
    {
     "ename": "ValueError",
     "evalue": "too many values to unpack (expected 3)",
     "output_type": "error",
     "traceback": [
      "\u001b[1;31m---------------------------------------------------------------------------\u001b[0m",
      "\u001b[1;31mValueError\u001b[0m                                Traceback (most recent call last)",
      "Cell \u001b[1;32mIn[220], line 2\u001b[0m\n\u001b[0;32m      1\u001b[0m \u001b[38;5;66;03m#Tentando desempacotar em menos variáveis\u001b[39;00m\n\u001b[1;32m----> 2\u001b[0m a, b, c \u001b[38;5;241m=\u001b[39m dados\n\u001b[0;32m      3\u001b[0m \u001b[38;5;28mprint\u001b[39m(a, b, c, d )\n",
      "\u001b[1;31mValueError\u001b[0m: too many values to unpack (expected 3)"
     ]
    }
   ],
   "source": [
    "#Tentando desempacotar em menos variáveis\n",
    "a, b, c = dados\n",
    "print(a, b, c, d )"
   ]
  },
  {
   "cell_type": "code",
   "execution_count": 223,
   "id": "4bdde01f",
   "metadata": {},
   "outputs": [
    {
     "ename": "ValueError",
     "evalue": "not enough values to unpack (expected 5, got 4)",
     "output_type": "error",
     "traceback": [
      "\u001b[1;31m---------------------------------------------------------------------------\u001b[0m",
      "\u001b[1;31mValueError\u001b[0m                                Traceback (most recent call last)",
      "Cell \u001b[1;32mIn[223], line 2\u001b[0m\n\u001b[0;32m      1\u001b[0m \u001b[38;5;66;03m#Tentando desempacotar em mais variáveis\u001b[39;00m\n\u001b[1;32m----> 2\u001b[0m a, b, c, d, e \u001b[38;5;241m=\u001b[39m dados\n",
      "\u001b[1;31mValueError\u001b[0m: not enough values to unpack (expected 5, got 4)"
     ]
    }
   ],
   "source": [
    "#Tentando desempacotar em mais variáveis\n",
    "a, b, c, d, e = dados\n",
    "#print(a, b, c, d )"
   ]
  },
  {
   "cell_type": "code",
   "execution_count": 227,
   "id": "f5244f0b",
   "metadata": {},
   "outputs": [
    {
     "name": "stdout",
     "output_type": "stream",
     "text": [
      "2 4\n"
     ]
    }
   ],
   "source": [
    "#Desempacotando sem armazenar em variável\n",
    "a, b, _, _ = dados\n",
    "print(a, b)"
   ]
  },
  {
   "cell_type": "code",
   "execution_count": 252,
   "id": "30f946db",
   "metadata": {},
   "outputs": [],
   "source": [
    "nomes = ['Mateus', 'Lorena', 'Jadson', 'Chen']\n",
    "nome_do_meio = ['Oliveira','','Martins','','Sousa']\n",
    "sobrenomes = [\"Falcão\", \"Bastos\", \"Barros\", \"Yen\", \"Perfe\"]"
   ]
  },
  {
   "cell_type": "code",
   "execution_count": 233,
   "id": "1f605abd",
   "metadata": {},
   "outputs": [
    {
     "name": "stdout",
     "output_type": "stream",
     "text": [
      "Eu \"estudei\" no fim de semana\n"
     ]
    }
   ],
   "source": [
    "print('Eu \"estudei\" no fim de semana')"
   ]
  },
  {
   "cell_type": "code",
   "execution_count": 235,
   "id": "4e11735f",
   "metadata": {},
   "outputs": [
    {
     "name": "stdout",
     "output_type": "stream",
     "text": [
      "Mateus Falcão\n",
      "Lorena Bastos\n",
      "Jadson Barros\n",
      "Chen Yen\n"
     ]
    }
   ],
   "source": [
    "tam = len(nomes)\n",
    "for i in range(tam):\n",
    "    print(nomes[i],sobrenomes[i])"
   ]
  },
  {
   "cell_type": "code",
   "execution_count": 255,
   "id": "b382f057",
   "metadata": {},
   "outputs": [
    {
     "name": "stdout",
     "output_type": "stream",
     "text": [
      "Mateus Oliveira Falcão\n",
      "Lorena  Bastos\n",
      "Jadson Martins Barros\n",
      "Chen  Yen\n"
     ]
    }
   ],
   "source": [
    "#zip \n",
    "for nome, do_meio, sobrenome in zip(nomes, nome_do_meio, sobrenomes):\n",
    "    print(nome, do_meio, sobrenome)"
   ]
  },
  {
   "cell_type": "code",
   "execution_count": 243,
   "id": "5de3ee01",
   "metadata": {},
   "outputs": [
    {
     "data": {
      "text/plain": [
       "['Mateus', 'Lorena', 'Jadson', 'Chen']"
      ]
     },
     "execution_count": 243,
     "metadata": {},
     "output_type": "execute_result"
    }
   ],
   "source": [
    "nomes"
   ]
  },
  {
   "cell_type": "code",
   "execution_count": 244,
   "id": "ddb2177a",
   "metadata": {},
   "outputs": [
    {
     "name": "stdout",
     "output_type": "stream",
     "text": [
      "Mateus\n",
      "Lorena\n",
      "Jadson\n",
      "Chen\n"
     ]
    }
   ],
   "source": [
    "for nome in nomes:\n",
    "    print(nome)"
   ]
  },
  {
   "cell_type": "code",
   "execution_count": 250,
   "id": "ef1f05d1",
   "metadata": {},
   "outputs": [
    {
     "name": "stdout",
     "output_type": "stream",
     "text": [
      "Falcão\n",
      "Bastos\n",
      "Barros\n",
      "Yen\n",
      "Perfe\n"
     ]
    }
   ],
   "source": [
    "for sobrenome in sobrenomes:\n",
    "    print(sobrenome)"
   ]
  },
  {
   "cell_type": "code",
   "execution_count": null,
   "id": "81eacd37",
   "metadata": {},
   "outputs": [],
   "source": []
  }
 ],
 "metadata": {
  "kernelspec": {
   "display_name": "Python 3 (ipykernel)",
   "language": "python",
   "name": "python3"
  },
  "language_info": {
   "codemirror_mode": {
    "name": "ipython",
    "version": 3
   },
   "file_extension": ".py",
   "mimetype": "text/x-python",
   "name": "python",
   "nbconvert_exporter": "python",
   "pygments_lexer": "ipython3",
   "version": "3.9.18"
  }
 },
 "nbformat": 4,
 "nbformat_minor": 5
}
