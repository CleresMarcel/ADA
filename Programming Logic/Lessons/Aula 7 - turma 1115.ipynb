{
 "cells": [
  {
   "cell_type": "markdown",
   "id": "593f4fd3",
   "metadata": {},
   "source": [
    "<div style=\"background-color: lightgreen; padding: 18px;\">\n",
    "    <h1> Aula 7 | Lógica de Programação II\n",
    "</div>"
   ]
  },
  {
   "cell_type": "markdown",
   "id": "eb2f5e6d",
   "metadata": {},
   "source": [
    "<div style=\"background-color: lightblue; padding: 10px;\">\n",
    "    <h2> Tópicos da aula 7\n",
    "</div>\n",
    "\n",
    "- Exercícios\n",
    "- Funções\n",
    "    - map\n",
    "    - filter\n",
    "    - lambda\n",
    "    - reduce\n",
    "- Arquivos"
   ]
  },
  {
   "cell_type": "code",
   "execution_count": 1,
   "id": "d8ed06e8",
   "metadata": {},
   "outputs": [],
   "source": [
    "nomes = ['leonardo', 'jonatan', 'luciane', 'márcio']"
   ]
  },
  {
   "cell_type": "code",
   "execution_count": null,
   "id": "640de45d",
   "metadata": {},
   "outputs": [],
   "source": [
    "# Criar uma lista com a primeira letra maiúscula"
   ]
  },
  {
   "cell_type": "code",
   "execution_count": 7,
   "id": "f0bbd75a",
   "metadata": {},
   "outputs": [
    {
     "data": {
      "text/plain": [
       "['Leonardo', 'Jonatan', 'Luciane', 'Márcio']"
      ]
     },
     "execution_count": 7,
     "metadata": {},
     "output_type": "execute_result"
    }
   ],
   "source": [
    "# 1a forma: naive \n",
    "\n",
    "nomes_formatados = []\n",
    "\n",
    "for nome in nomes:\n",
    "    nomes_formatados.append(nome.title())\n",
    "\n",
    "nomes_formatados"
   ]
  },
  {
   "cell_type": "code",
   "execution_count": null,
   "id": "317bd63d",
   "metadata": {},
   "outputs": [],
   "source": []
  },
  {
   "cell_type": "code",
   "execution_count": null,
   "id": "4b6ef79b",
   "metadata": {},
   "outputs": [],
   "source": []
  },
  {
   "cell_type": "code",
   "execution_count": 12,
   "id": "9685d72c",
   "metadata": {},
   "outputs": [
    {
     "data": {
      "text/plain": [
       "['Leonardo', 'Jonatan', 'Luciane', 'Márcio']"
      ]
     },
     "execution_count": 12,
     "metadata": {},
     "output_type": "execute_result"
    }
   ],
   "source": [
    "# 2a forma: list comprehension\n",
    "nomes = ['leonardo', 'jonatan', 'luciane', 'márcio']\n",
    "\n",
    "nomes_formatados = [nome.capitalize() for nome in nomes]\n",
    "nomes_formatados"
   ]
  },
  {
   "cell_type": "code",
   "execution_count": 38,
   "id": "87de4204",
   "metadata": {},
   "outputs": [],
   "source": [
    "def capital(texto):\n",
    "    return texto.capitalize()\n",
    "\n",
    "def maiscula(texto):\n",
    "    return texto.upper()\n",
    "\n",
    "def a_por_4(texto):\n",
    "    return texto.replace('a', '4')"
   ]
  },
  {
   "cell_type": "code",
   "execution_count": 32,
   "id": "e15bc5c0",
   "metadata": {},
   "outputs": [
    {
     "data": {
      "text/plain": [
       "['Leonardo', 'Jonatan', 'Luciane', 'Márcio']"
      ]
     },
     "execution_count": 32,
     "metadata": {},
     "output_type": "execute_result"
    }
   ],
   "source": [
    "# 3a forma: map(fn, iterável)\n",
    "\n",
    "list(map(capital, nomes))"
   ]
  },
  {
   "cell_type": "code",
   "execution_count": 39,
   "id": "1c2d1fa3",
   "metadata": {},
   "outputs": [],
   "source": [
    "funcoes = [capital, maiscula, a_por_4]"
   ]
  },
  {
   "cell_type": "code",
   "execution_count": 40,
   "id": "6cebb2ef",
   "metadata": {},
   "outputs": [
    {
     "name": "stdout",
     "output_type": "stream",
     "text": [
      "['Leonardo', 'Jonatan', 'Luciane', 'Márcio']\n",
      "['LEONARDO', 'JONATAN', 'LUCIANE', 'MÁRCIO']\n",
      "['leon4rdo', 'jon4t4n', 'luci4ne', 'márcio']\n"
     ]
    }
   ],
   "source": [
    "for funcao in funcoes:\n",
    "    print(list(map(funcao, nomes)))"
   ]
  },
  {
   "cell_type": "code",
   "execution_count": 41,
   "id": "d1186653",
   "metadata": {},
   "outputs": [
    {
     "data": {
      "text/plain": [
       "['leonardo', 'jonatan', 'luciane', 'márcio']"
      ]
     },
     "execution_count": 41,
     "metadata": {},
     "output_type": "execute_result"
    }
   ],
   "source": [
    "nomes"
   ]
  },
  {
   "cell_type": "code",
   "execution_count": 49,
   "id": "d685a977",
   "metadata": {},
   "outputs": [],
   "source": [
    "sobrenomes = ['bicalho', 'gomez', 'silva', 'siena']"
   ]
  },
  {
   "cell_type": "code",
   "execution_count": null,
   "id": "09c527ca",
   "metadata": {},
   "outputs": [],
   "source": [
    "def junta_nomes(nome, sobrenome):\n",
    "    return nome + ' ' + sobrenome"
   ]
  },
  {
   "cell_type": "code",
   "execution_count": 54,
   "id": "79884525",
   "metadata": {},
   "outputs": [],
   "source": [
    "def junta_nomes(*args):\n",
    "    full_name = ''\n",
    "    for arg in args:\n",
    "        full_name += arg + ' '\n",
    "        \n",
    "    return full_name"
   ]
  },
  {
   "cell_type": "code",
   "execution_count": 55,
   "id": "2e9e2e59",
   "metadata": {},
   "outputs": [
    {
     "data": {
      "text/plain": [
       "['leonardo bicalho bicalho ',\n",
       " 'jonatan gomez gomez ',\n",
       " 'luciane silva silva ',\n",
       " 'márcio siena siena ']"
      ]
     },
     "execution_count": 55,
     "metadata": {},
     "output_type": "execute_result"
    }
   ],
   "source": [
    "list(map(junta_nomes, nomes, sobrenomes, sobrenomes))"
   ]
  },
  {
   "cell_type": "code",
   "execution_count": 60,
   "id": "2241a312",
   "metadata": {},
   "outputs": [],
   "source": [
    "# funções anônimas: lambda\n",
    "funcao = lambda nome: nome.capitalize()"
   ]
  },
  {
   "cell_type": "code",
   "execution_count": 62,
   "id": "04245feb",
   "metadata": {},
   "outputs": [
    {
     "data": {
      "text/plain": [
       "'Asa de barata'"
      ]
     },
     "execution_count": 62,
     "metadata": {},
     "output_type": "execute_result"
    }
   ],
   "source": [
    "funcao('asa de barata')"
   ]
  },
  {
   "cell_type": "code",
   "execution_count": 66,
   "id": "08531961",
   "metadata": {},
   "outputs": [
    {
     "data": {
      "text/plain": [
       "['LEONARDO', 'JONATAN', 'LUCIANE', 'MÁRCIO']"
      ]
     },
     "execution_count": 66,
     "metadata": {},
     "output_type": "execute_result"
    }
   ],
   "source": [
    "list(map(lambda nome: nome.upper(), nomes))"
   ]
  },
  {
   "cell_type": "code",
   "execution_count": 67,
   "id": "2484df5a",
   "metadata": {},
   "outputs": [],
   "source": [
    "def maiscula(texto):\n",
    "    return texto.upper()"
   ]
  },
  {
   "cell_type": "code",
   "execution_count": 68,
   "id": "6e686567",
   "metadata": {},
   "outputs": [],
   "source": [
    "maiscula_lambda = lambda texto: texto.upper()"
   ]
  },
  {
   "cell_type": "code",
   "execution_count": 70,
   "id": "0b393439",
   "metadata": {},
   "outputs": [
    {
     "data": {
      "text/plain": [
       "('KARINA', 'KARINA')"
      ]
     },
     "execution_count": 70,
     "metadata": {},
     "output_type": "execute_result"
    }
   ],
   "source": [
    "maiscula('karina'), maiscula_lambda('karina')"
   ]
  },
  {
   "cell_type": "code",
   "execution_count": 72,
   "id": "1fb605e4",
   "metadata": {},
   "outputs": [],
   "source": [
    "def desvio_padrao(lista):\n",
    "    media = sum(lista) / len(lista)\n",
    "    \n",
    "    dp = sum(map(lambda x: (x - media)**2, lista))\n",
    "    \n",
    "    return (dp / len(lista)) ** (0.5)\n",
    "    \n",
    "    "
   ]
  },
  {
   "cell_type": "code",
   "execution_count": 86,
   "id": "18aafa4f",
   "metadata": {},
   "outputs": [
    {
     "data": {
      "text/plain": [
       "[2, 3, 4, 2, 3, 4]"
      ]
     },
     "execution_count": 86,
     "metadata": {},
     "output_type": "execute_result"
    }
   ],
   "source": [
    "# Função lambda aceita operador ternário\n",
    "(lambda x: 2 * x if len(x) > 2 else x)([2, 3, 4])"
   ]
  },
  {
   "cell_type": "code",
   "execution_count": 96,
   "id": "d3b04b6d",
   "metadata": {},
   "outputs": [
    {
     "data": {
      "text/plain": [
       "[5, 6]"
      ]
     },
     "execution_count": 96,
     "metadata": {},
     "output_type": "execute_result"
    }
   ],
   "source": [
    "# Filter -> filtro\n",
    "filtrado = list(filter(lambda x: x > 4, [4, 3, 5, 6]))\n",
    "\n",
    "filtrado"
   ]
  },
  {
   "cell_type": "code",
   "execution_count": 97,
   "id": "c89675f2",
   "metadata": {},
   "outputs": [],
   "source": [
    "import functools"
   ]
  },
  {
   "cell_type": "code",
   "execution_count": 98,
   "id": "76fcc9f8",
   "metadata": {},
   "outputs": [
    {
     "data": {
      "text/plain": [
       "15"
      ]
     },
     "execution_count": 98,
     "metadata": {},
     "output_type": "execute_result"
    }
   ],
   "source": [
    "functools.reduce(lambda x, y: x+y, [1, 2, 3, 4, 5])"
   ]
  },
  {
   "cell_type": "code",
   "execution_count": 104,
   "id": "eb220267",
   "metadata": {},
   "outputs": [
    {
     "data": {
      "text/plain": [
       "48"
      ]
     },
     "execution_count": 104,
     "metadata": {},
     "output_type": "execute_result"
    }
   ],
   "source": [
    "functools.reduce(lambda x, y: x*y, range(1, 5), 2)"
   ]
  },
  {
   "cell_type": "code",
   "execution_count": null,
   "id": "9c93d0b4",
   "metadata": {},
   "outputs": [],
   "source": []
  },
  {
   "cell_type": "markdown",
   "id": "c2ef160c",
   "metadata": {},
   "source": [
    "##### Arquivos"
   ]
  },
  {
   "cell_type": "code",
   "execution_count": 111,
   "id": "f04350cf",
   "metadata": {},
   "outputs": [],
   "source": [
    "# Criando arquivos: open('nome do arquivo', modo_de_abertura)\n",
    "\n",
    "arquivo = open('./meus_arquivos/dados.txt', 'w') # w --> write\n",
    "arquivo.write('Hello, World!')\n",
    "arquivo.close()"
   ]
  },
  {
   "cell_type": "code",
   "execution_count": 115,
   "id": "c2d33149",
   "metadata": {},
   "outputs": [],
   "source": [
    "with open('./meus_arquivos/dados.txt','w', encoding='utf-8') as arquivo:\n",
    "    arquivo.write('É nossa última aula com conteúdo!')"
   ]
  },
  {
   "cell_type": "code",
   "execution_count": null,
   "id": "35f0479c",
   "metadata": {},
   "outputs": [],
   "source": []
  },
  {
   "cell_type": "code",
   "execution_count": 118,
   "id": "84c156c0",
   "metadata": {},
   "outputs": [],
   "source": [
    "def matrix(lin, col):\n",
    "    mat = [[0] * col for _ in range(lin)]\n",
    "    \n",
    "    return mat"
   ]
  },
  {
   "cell_type": "code",
   "execution_count": 130,
   "id": "90549865",
   "metadata": {},
   "outputs": [],
   "source": []
  },
  {
   "cell_type": "code",
   "execution_count": 184,
   "id": "8e73986e",
   "metadata": {},
   "outputs": [],
   "source": [
    "def show_matrix(mat):\n",
    "    '''\n",
    "    Mostrar uma matriz na tela\n",
    "    '''\n",
    "    lin = len(mat)\n",
    "    col = len(mat[0])\n",
    "    \n",
    "    for i in range(lin):\n",
    "        for j in range(col):\n",
    "            print(f'{mat[i][j]:6.0f}', end=' ')\n",
    "        print()"
   ]
  },
  {
   "cell_type": "code",
   "execution_count": 131,
   "id": "70136b66",
   "metadata": {},
   "outputs": [
    {
     "name": "stdout",
     "output_type": "stream",
     "text": [
      "     0      0      0      0 \n",
      "     0      0      0      0 \n",
      "     0      0      0      0 \n",
      "     0      0      0      0 \n",
      "     0      0      0      0 \n"
     ]
    }
   ],
   "source": [
    "mat = matrix(5, 4)\n",
    "show_matrix(mat)"
   ]
  },
  {
   "cell_type": "code",
   "execution_count": 133,
   "id": "40638781",
   "metadata": {},
   "outputs": [],
   "source": [
    "# [1a linha, última linha, 1a coluna, última coluna]\n",
    "valores_iniciais = [20, 30, 100, -10]"
   ]
  },
  {
   "cell_type": "code",
   "execution_count": 175,
   "id": "dc50de14",
   "metadata": {},
   "outputs": [],
   "source": [
    "def inicializa_matriz(mat, valores_iniciais):\n",
    "    lin, col = len(mat), len(mat[0])\n",
    "    \n",
    "    mat[0] = ([valores_iniciais[0]] * col).copy()\n",
    "    mat[-1] = ([valores_iniciais[1]] * col).copy()\n",
    "    # mat[0][] = ([valores_iniciais[2]] * col).copy()\n",
    "    for j in range(lin):\n",
    "        mat[j][0] = valores_iniciais[2]\n",
    "        mat[j][-1] = valores_iniciais[3]"
   ]
  },
  {
   "cell_type": "code",
   "execution_count": 176,
   "id": "c9d90378",
   "metadata": {},
   "outputs": [],
   "source": [
    "mat = matrix(5, 4)\n",
    "inicializa_matriz(mat, valores_iniciais)"
   ]
  },
  {
   "cell_type": "code",
   "execution_count": 185,
   "id": "b212f10c",
   "metadata": {},
   "outputs": [
    {
     "name": "stdout",
     "output_type": "stream",
     "text": [
      "   100     20     20    -10 \n",
      "   100      0      0    -10 \n",
      "   100      0      0    -10 \n",
      "   100      0      0    -10 \n",
      "   100     30     30    -10 \n"
     ]
    }
   ],
   "source": [
    "show_matrix(mat)"
   ]
  },
  {
   "cell_type": "code",
   "execution_count": 173,
   "id": "2c664145",
   "metadata": {},
   "outputs": [
    {
     "data": {
      "text/plain": [
       "[20, 0, 0, 0, 30]"
      ]
     },
     "execution_count": 173,
     "metadata": {},
     "output_type": "execute_result"
    }
   ],
   "source": [
    "temp = list(list(zip(*mat))[0]) \n",
    "temp"
   ]
  },
  {
   "cell_type": "code",
   "execution_count": 189,
   "id": "5d68dd3b",
   "metadata": {},
   "outputs": [],
   "source": [
    "lin, col = len(mat), len(mat[0])\n",
    "with open('./meus_arquivos/chapa_0.txt','w') as arquivo:\n",
    "    \n",
    "    for i in range(lin):\n",
    "        linha = ''\n",
    "        for j in range(col):\n",
    "            linha += str(mat[i][j]) + ' '\n",
    "        arquivo.write(linha + '\\n')"
   ]
  },
  {
   "cell_type": "code",
   "execution_count": 198,
   "id": "00d6173d",
   "metadata": {},
   "outputs": [
    {
     "name": "stdout",
     "output_type": "stream",
     "text": [
      "['100 20 20 -10 \\n', '100 0 0 -10 \\n', '100 0 0 -10 \\n', '100 0 0 -10 \\n', '100 30 30 -10 \\n']\n"
     ]
    }
   ],
   "source": [
    "with open('./meus_arquivos/chapa_0.txt', 'r') as arquivo:\n",
    "    print(arquivo.readlines())"
   ]
  },
  {
   "cell_type": "code",
   "execution_count": null,
   "id": "f44e4e9b",
   "metadata": {},
   "outputs": [],
   "source": [
    "for i in range(1, total_iteracoes):\n",
    "    nome_arq = f'./meus_arquivos/chapa_{i}.txt'\n",
    "    \n",
    "    with open(nome, 'w') as arq:\n",
    "        arq.write(linha)"
   ]
  },
  {
   "cell_type": "code",
   "execution_count": 225,
   "id": "a4e673e2",
   "metadata": {},
   "outputs": [],
   "source": [
    "tabela = [['Aluno', 'Nota 1', 'Nota 2', 'Presenças'],\n",
    "          ['Luke', 7, 9, 15],\n",
    "          ['Han', 4, 7, 10],\n",
    "          ['Leia', 9, 9, 16]]"
   ]
  },
  {
   "cell_type": "code",
   "execution_count": null,
   "id": "a8fed2e4",
   "metadata": {},
   "outputs": [],
   "source": [
    "import csv"
   ]
  },
  {
   "cell_type": "code",
   "execution_count": 226,
   "id": "3c35f8fb",
   "metadata": {},
   "outputs": [],
   "source": [
    "with open('./meus_arquivos/dados.csv', 'w', encoding='utf-8') as arquivo:\n",
    "    planilha = csv.writer(arquivo, delimiter=';', lineterminator='\\n')\n",
    "    planilha.writerows(tabela)\n",
    "    "
   ]
  },
  {
   "cell_type": "code",
   "execution_count": 227,
   "id": "2ec8fb17",
   "metadata": {},
   "outputs": [
    {
     "name": "stdout",
     "output_type": "stream",
     "text": [
      "['Aluno', 'Nota 1', 'Nota 2', 'Presenças']\n",
      "['Luke', '7', '9', '15']\n",
      "['Han', '4', '7', '10']\n",
      "['Leia', '9', '9', '16']\n"
     ]
    }
   ],
   "source": [
    "with open('./meus_arquivos/dados.csv', 'r', encoding='utf-8') as arquivo:\n",
    "    planilha = list(csv.reader(arquivo, delimiter=';', lineterminator='\\n'))\n",
    "    \n",
    "    for linha in planilha:\n",
    "        print(linha)"
   ]
  },
  {
   "cell_type": "code",
   "execution_count": null,
   "id": "13d384c3",
   "metadata": {},
   "outputs": [],
   "source": []
  },
  {
   "cell_type": "code",
   "execution_count": 228,
   "id": "56abf3d8",
   "metadata": {},
   "outputs": [],
   "source": [
    "import json"
   ]
  },
  {
   "cell_type": "code",
   "execution_count": 229,
   "id": "5e3f6077",
   "metadata": {},
   "outputs": [],
   "source": [
    "dados_dict = '{\"nome\": \"Pedro\", \"linguagem\": \"Python\"}'"
   ]
  },
  {
   "cell_type": "code",
   "execution_count": 230,
   "id": "8525c2f7",
   "metadata": {},
   "outputs": [],
   "source": [
    "dicionario = json.loads(dados_dict)"
   ]
  },
  {
   "cell_type": "code",
   "execution_count": 231,
   "id": "3cdbe7d6",
   "metadata": {},
   "outputs": [
    {
     "data": {
      "text/plain": [
       "{'nome': 'Pedro', 'linguagem': 'Python'}"
      ]
     },
     "execution_count": 231,
     "metadata": {},
     "output_type": "execute_result"
    }
   ],
   "source": [
    "dicionario"
   ]
  },
  {
   "cell_type": "code",
   "execution_count": 232,
   "id": "d09cefb3",
   "metadata": {},
   "outputs": [],
   "source": [
    "dict_string = json.dumps(dicionario)"
   ]
  },
  {
   "cell_type": "code",
   "execution_count": 234,
   "id": "89046566",
   "metadata": {},
   "outputs": [
    {
     "data": {
      "text/plain": [
       "{'nome': 'Pedro', 'linguagem': 'Python'}"
      ]
     },
     "execution_count": 234,
     "metadata": {},
     "output_type": "execute_result"
    }
   ],
   "source": [
    "eval(dict_string)"
   ]
  },
  {
   "cell_type": "code",
   "execution_count": null,
   "id": "d11e6e24",
   "metadata": {},
   "outputs": [],
   "source": []
  },
  {
   "cell_type": "code",
   "execution_count": null,
   "id": "4b37d607",
   "metadata": {},
   "outputs": [],
   "source": []
  }
 ],
 "metadata": {
  "kernelspec": {
   "display_name": "Python 3 (ipykernel)",
   "language": "python",
   "name": "python3"
  },
  "language_info": {
   "codemirror_mode": {
    "name": "ipython",
    "version": 3
   },
   "file_extension": ".py",
   "mimetype": "text/x-python",
   "name": "python",
   "nbconvert_exporter": "python",
   "pygments_lexer": "ipython3",
   "version": "3.9.18"
  }
 },
 "nbformat": 4,
 "nbformat_minor": 5
}
