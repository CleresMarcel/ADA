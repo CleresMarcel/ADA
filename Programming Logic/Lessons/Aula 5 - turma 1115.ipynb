{
 "cells": [
  {
   "cell_type": "markdown",
   "id": "01c9d1b9",
   "metadata": {},
   "source": [
    "<div style=\"background-color: lightgreen; padding: 18px;\">\n",
    "    <h1> Aula 5 | Lógica de Programação II\n",
    "</div>"
   ]
  },
  {
   "cell_type": "markdown",
   "id": "c17d3d34",
   "metadata": {},
   "source": [
    "<div style=\"background-color: lightblue; padding: 10px;\">\n",
    "    <h2> Tópicos da aula 5\n",
    "</div>\n",
    "\n",
    "- Exercícios\n",
    "- List comprehension\n",
    "- Dictionary comprehension\n",
    "- Iterator/Generator\n",
    "- Tratamento de exceção\n"
   ]
  },
  {
   "cell_type": "code",
   "execution_count": 4,
   "id": "3648a606",
   "metadata": {},
   "outputs": [
    {
     "data": {
      "text/plain": [
       "['A', 'N', 'I', 'V', 'E', 'R', 'S', 'Á', 'R', 'I', 'O']"
      ]
     },
     "execution_count": 4,
     "metadata": {},
     "output_type": "execute_result"
    }
   ],
   "source": [
    "[letra.upper() for letra in 'aniversário']"
   ]
  },
  {
   "cell_type": "code",
   "execution_count": 14,
   "id": "eb2964d2",
   "metadata": {},
   "outputs": [
    {
     "data": {
      "text/plain": [
       "['N', 'V', 'E', 'R', 'S', 'Á', 'R', 'O']"
      ]
     },
     "execution_count": 14,
     "metadata": {},
     "output_type": "execute_result"
    }
   ],
   "source": [
    "[letra.upper() for letra in 'aniversário' if letra not in ['a','i','u']]"
   ]
  },
  {
   "cell_type": "markdown",
   "id": "acb2a187",
   "metadata": {},
   "source": [
    "###### Operador ternário\n",
    "teste?verdadeiro:falso --> várias outras linguagens\n",
    "    \n",
    "se(teste;verdadeiro;falso) --> Excel\n",
    "\n",
    "verdadeiro if teste else falso --> Python"
   ]
  },
  {
   "cell_type": "code",
   "execution_count": 10,
   "id": "3e6c877e",
   "metadata": {},
   "outputs": [
    {
     "data": {
      "text/plain": [
       "['aa', 'N', 'ii', 'V', 'ee', 'R', 'S', 'Á', 'R', 'ii', 'O']"
      ]
     },
     "execution_count": 10,
     "metadata": {},
     "output_type": "execute_result"
    }
   ],
   "source": [
    "[letra.upper() if letra > 'm' else letra * 2 for letra in 'aniversário']"
   ]
  },
  {
   "cell_type": "code",
   "execution_count": 11,
   "id": "ebd4f713",
   "metadata": {},
   "outputs": [],
   "source": [
    "def bagunca_letras(letra):\n",
    "    if letra > 'm':\n",
    "        return letra.upper()\n",
    "    else:\n",
    "        return letra * 2"
   ]
  },
  {
   "cell_type": "code",
   "execution_count": 13,
   "id": "5735e520",
   "metadata": {},
   "outputs": [
    {
     "data": {
      "text/plain": [
       "['aa', 'N', 'ii', 'V', 'ee', 'R', 'S', 'Á', 'R', 'ii', 'O']"
      ]
     },
     "execution_count": 13,
     "metadata": {},
     "output_type": "execute_result"
    }
   ],
   "source": [
    "[bagunca_letras(letra) for letra in 'aniversário']"
   ]
  },
  {
   "cell_type": "code",
   "execution_count": 108,
   "id": "347ea861",
   "metadata": {},
   "outputs": [
    {
     "data": {
      "text/plain": [
       "[('a', 1), ('e', 2)]"
      ]
     },
     "execution_count": 108,
     "metadata": {},
     "output_type": "execute_result"
    }
   ],
   "source": [
    "vogais = ['a', 'e', 'i', 'o', 'u', 'y']\n",
    "numeros = [1, 2]\n",
    "\n",
    "[(vogal, numero) for vogal, numero in zip(vogais, numeros)]"
   ]
  },
  {
   "cell_type": "code",
   "execution_count": 32,
   "id": "556814eb",
   "metadata": {},
   "outputs": [],
   "source": []
  },
  {
   "cell_type": "code",
   "execution_count": 22,
   "id": "a1d03111",
   "metadata": {},
   "outputs": [
    {
     "data": {
      "text/plain": [
       "['O', 'U', 'Y']"
      ]
     },
     "execution_count": 22,
     "metadata": {},
     "output_type": "execute_result"
    }
   ],
   "source": [
    "lista = [vogal for vogal in vogais if vogal > 'i']\n",
    "[elem.upper() for elem in lista]"
   ]
  },
  {
   "cell_type": "code",
   "execution_count": 66,
   "id": "177d452c",
   "metadata": {},
   "outputs": [],
   "source": [
    "resultado = [[(vogal, numero) for vogal in vogais if vogal > 'i'] if numero < 2 else 4 for numero in numeros]"
   ]
  },
  {
   "cell_type": "code",
   "execution_count": 67,
   "id": "63d92d60",
   "metadata": {},
   "outputs": [
    {
     "data": {
      "text/plain": [
       "[[('o', 1), ('u', 1), ('y', 1)], 4, ('o', 1), ('u', 1), ('y', 1)]"
      ]
     },
     "execution_count": 67,
     "metadata": {},
     "output_type": "execute_result"
    }
   ],
   "source": [
    "resultado.extend(resultado[0])\n",
    "resultado"
   ]
  },
  {
   "cell_type": "code",
   "execution_count": 64,
   "id": "d42b3b52",
   "metadata": {},
   "outputs": [],
   "source": [
    "resultado.remove(resultado[0])"
   ]
  },
  {
   "cell_type": "code",
   "execution_count": 68,
   "id": "547567e2",
   "metadata": {},
   "outputs": [
    {
     "data": {
      "text/plain": [
       "[4, ('o', 1), ('u', 1), ('y', 1)]"
      ]
     },
     "execution_count": 68,
     "metadata": {},
     "output_type": "execute_result"
    }
   ],
   "source": [
    "resultado.remove(resultado[0])\n",
    "resultado"
   ]
  },
  {
   "cell_type": "code",
   "execution_count": 70,
   "id": "71c18c72",
   "metadata": {},
   "outputs": [],
   "source": [
    "### Dictionary comprehension\n",
    "dados = {\n",
    "    'nome':'Alexandre',\n",
    "    'aniversário':'hoje'\n",
    "}"
   ]
  },
  {
   "cell_type": "code",
   "execution_count": 72,
   "id": "8e2ed4d1",
   "metadata": {},
   "outputs": [
    {
     "data": {
      "text/plain": [
       "{'nome': 'Alexandre'}"
      ]
     },
     "execution_count": 72,
     "metadata": {},
     "output_type": "execute_result"
    }
   ],
   "source": [
    "{chave:valor for chave, valor in dados.items() if len(chave) < 5}"
   ]
  },
  {
   "cell_type": "code",
   "execution_count": 75,
   "id": "afe14746",
   "metadata": {},
   "outputs": [
    {
     "data": {
      "text/plain": [
       "<generator object <genexpr> at 0x000001C1BA4A8580>"
      ]
     },
     "execution_count": 75,
     "metadata": {},
     "output_type": "execute_result"
    }
   ],
   "source": [
    "#Tuple comprehension não existe --> cria uma generator\n",
    "(vogal for vogal in vogais)"
   ]
  },
  {
   "cell_type": "code",
   "execution_count": 91,
   "id": "a08a93b5",
   "metadata": {},
   "outputs": [],
   "source": [
    "#Iterador\n",
    "meu_iterador = iter(['Hoje','é','meu','aniversário'])"
   ]
  },
  {
   "cell_type": "code",
   "execution_count": 92,
   "id": "68028a0b",
   "metadata": {},
   "outputs": [
    {
     "data": {
      "text/plain": [
       "'Hoje'"
      ]
     },
     "execution_count": 92,
     "metadata": {},
     "output_type": "execute_result"
    }
   ],
   "source": [
    "next(meu_iterador)"
   ]
  },
  {
   "cell_type": "code",
   "execution_count": 93,
   "id": "24802df1",
   "metadata": {},
   "outputs": [
    {
     "data": {
      "text/plain": [
       "'é'"
      ]
     },
     "execution_count": 93,
     "metadata": {},
     "output_type": "execute_result"
    }
   ],
   "source": [
    "next(meu_iterador)"
   ]
  },
  {
   "cell_type": "code",
   "execution_count": 94,
   "id": "a0dc7f51",
   "metadata": {},
   "outputs": [
    {
     "data": {
      "text/plain": [
       "'meu'"
      ]
     },
     "execution_count": 94,
     "metadata": {},
     "output_type": "execute_result"
    }
   ],
   "source": [
    "next(meu_iterador)"
   ]
  },
  {
   "cell_type": "code",
   "execution_count": 95,
   "id": "5e7dea76",
   "metadata": {},
   "outputs": [
    {
     "data": {
      "text/plain": [
       "'aniversário'"
      ]
     },
     "execution_count": 95,
     "metadata": {},
     "output_type": "execute_result"
    }
   ],
   "source": [
    "next(meu_iterador)"
   ]
  },
  {
   "cell_type": "code",
   "execution_count": 96,
   "id": "22abd48d",
   "metadata": {},
   "outputs": [
    {
     "ename": "StopIteration",
     "evalue": "",
     "output_type": "error",
     "traceback": [
      "\u001b[1;31m---------------------------------------------------------------------------\u001b[0m",
      "\u001b[1;31mStopIteration\u001b[0m                             Traceback (most recent call last)",
      "Cell \u001b[1;32mIn[96], line 1\u001b[0m\n\u001b[1;32m----> 1\u001b[0m \u001b[38;5;28;43mnext\u001b[39;49m\u001b[43m(\u001b[49m\u001b[43mmeu_iterador\u001b[49m\u001b[43m)\u001b[49m\n",
      "\u001b[1;31mStopIteration\u001b[0m: "
     ]
    }
   ],
   "source": [
    "next(meu_iterador)"
   ]
  },
  {
   "cell_type": "code",
   "execution_count": 97,
   "id": "4d292bb4",
   "metadata": {},
   "outputs": [],
   "source": [
    "meu_iterador = iter(['Hoje','é','meu','aniversário'])"
   ]
  },
  {
   "cell_type": "code",
   "execution_count": 98,
   "id": "693a7cb0",
   "metadata": {},
   "outputs": [
    {
     "data": {
      "text/plain": [
       "<list_iterator at 0x1c1ba1cdf10>"
      ]
     },
     "execution_count": 98,
     "metadata": {},
     "output_type": "execute_result"
    }
   ],
   "source": [
    "meu_iterador"
   ]
  },
  {
   "cell_type": "code",
   "execution_count": null,
   "id": "f1d21c40",
   "metadata": {},
   "outputs": [],
   "source": [
    "from sys import getsizeof"
   ]
  },
  {
   "cell_type": "code",
   "execution_count": null,
   "id": "675b99e8",
   "metadata": {},
   "outputs": [],
   "source": []
  },
  {
   "cell_type": "code",
   "execution_count": 102,
   "id": "9a522f14",
   "metadata": {},
   "outputs": [
    {
     "data": {
      "text/plain": [
       "['a', 'e', 'i', 'o', 'u', 'y']"
      ]
     },
     "execution_count": 102,
     "metadata": {},
     "output_type": "execute_result"
    }
   ],
   "source": [
    "vogais"
   ]
  },
  {
   "cell_type": "code",
   "execution_count": 101,
   "id": "f655b3fb",
   "metadata": {},
   "outputs": [
    {
     "data": {
      "text/plain": [
       "(152, 48)"
      ]
     },
     "execution_count": 101,
     "metadata": {},
     "output_type": "execute_result"
    }
   ],
   "source": [
    "getsizeof(vogais), getsizeof(iter(vogais))"
   ]
  },
  {
   "cell_type": "code",
   "execution_count": 109,
   "id": "67356957",
   "metadata": {},
   "outputs": [
    {
     "data": {
      "text/plain": [
       "600"
      ]
     },
     "execution_count": 109,
     "metadata": {},
     "output_type": "execute_result"
    }
   ],
   "source": [
    "vogais = vogais * 100\n",
    "\n",
    "len(vogais)"
   ]
  },
  {
   "cell_type": "code",
   "execution_count": 112,
   "id": "f8dcdac0",
   "metadata": {},
   "outputs": [
    {
     "data": {
      "text/plain": [
       "(8056, 48)"
      ]
     },
     "execution_count": 112,
     "metadata": {},
     "output_type": "execute_result"
    }
   ],
   "source": [
    "getsizeof(['a'] * 1000), getsizeof(iter(['a'] * 1000))"
   ]
  },
  {
   "cell_type": "code",
   "execution_count": 115,
   "id": "ca9bfe7a",
   "metadata": {},
   "outputs": [],
   "source": [
    "#### Generator\n",
    "\n",
    "vogais = ['a', 'e', 'i', 'o', 'u', 'y']\n",
    "\n",
    "meu_generator2 = (vogal for vogal in vogais)"
   ]
  },
  {
   "cell_type": "code",
   "execution_count": 157,
   "id": "3b554ef8",
   "metadata": {},
   "outputs": [],
   "source": [
    "def nosso_generator():\n",
    "    yield 1\n",
    "    yield 2\n",
    "        "
   ]
  },
  {
   "cell_type": "code",
   "execution_count": 158,
   "id": "28702e63",
   "metadata": {},
   "outputs": [],
   "source": [
    "meu_generator = nosso_generator()"
   ]
  },
  {
   "cell_type": "code",
   "execution_count": 160,
   "id": "543070c5",
   "metadata": {},
   "outputs": [
    {
     "data": {
      "text/plain": [
       "2"
      ]
     },
     "execution_count": 160,
     "metadata": {},
     "output_type": "execute_result"
    }
   ],
   "source": [
    "next(meu_generator)"
   ]
  },
  {
   "cell_type": "code",
   "execution_count": 161,
   "id": "df96885e",
   "metadata": {},
   "outputs": [
    {
     "data": {
      "text/plain": [
       "<generator object <genexpr> at 0x000001C1B9DF32E0>"
      ]
     },
     "execution_count": 161,
     "metadata": {},
     "output_type": "execute_result"
    }
   ],
   "source": [
    "meu_generator2 = (vogal for vogal in vogais)\n",
    "meu_generator2"
   ]
  },
  {
   "cell_type": "code",
   "execution_count": 162,
   "id": "95aff55a",
   "metadata": {},
   "outputs": [
    {
     "data": {
      "text/plain": [
       "['a', 'e', 'i', 'o', 'u', 'y']"
      ]
     },
     "execution_count": 162,
     "metadata": {},
     "output_type": "execute_result"
    }
   ],
   "source": [
    "list(meu_generator2)"
   ]
  },
  {
   "cell_type": "code",
   "execution_count": 179,
   "id": "3e1a3507",
   "metadata": {},
   "outputs": [
    {
     "data": {
      "text/plain": [
       "<list_iterator at 0x1c1b9ad10a0>"
      ]
     },
     "execution_count": 179,
     "metadata": {},
     "output_type": "execute_result"
    }
   ],
   "source": [
    "lista\n",
    "meu_iterador = iter(lista)\n",
    "meu_iterador"
   ]
  },
  {
   "cell_type": "code",
   "execution_count": 178,
   "id": "d051628d",
   "metadata": {},
   "outputs": [],
   "source": [
    "def meu_generator(lista):\n",
    "    for elem in lista:\n",
    "        yield elem * 2"
   ]
  },
  {
   "cell_type": "code",
   "execution_count": 180,
   "id": "650d11e6",
   "metadata": {},
   "outputs": [],
   "source": [
    "meu_gerador = meu_generator(lista)"
   ]
  },
  {
   "cell_type": "code",
   "execution_count": 183,
   "id": "39a76e44",
   "metadata": {},
   "outputs": [
    {
     "data": {
      "text/plain": [
       "(3, 6)"
      ]
     },
     "execution_count": 183,
     "metadata": {},
     "output_type": "execute_result"
    }
   ],
   "source": [
    "next(meu_iterador), next(meu_gerador)"
   ]
  },
  {
   "cell_type": "code",
   "execution_count": 185,
   "id": "04b3078e",
   "metadata": {},
   "outputs": [],
   "source": [
    "teste = iter([[1,1], [2,2]])"
   ]
  },
  {
   "cell_type": "code",
   "execution_count": 187,
   "id": "2da7afe0",
   "metadata": {},
   "outputs": [
    {
     "data": {
      "text/plain": [
       "[2, 2]"
      ]
     },
     "execution_count": 187,
     "metadata": {},
     "output_type": "execute_result"
    }
   ],
   "source": [
    "next(teste)"
   ]
  },
  {
   "cell_type": "code",
   "execution_count": 188,
   "id": "027e4db7",
   "metadata": {},
   "outputs": [
    {
     "data": {
      "text/plain": [
       "112"
      ]
     },
     "execution_count": 188,
     "metadata": {},
     "output_type": "execute_result"
    }
   ],
   "source": [
    "getsizeof(meu_gerador)"
   ]
  },
  {
   "cell_type": "code",
   "execution_count": 189,
   "id": "8adb5851",
   "metadata": {},
   "outputs": [],
   "source": [
    "def gerador_tupla():\n",
    "    for i in range(3):\n",
    "        yield i, i * 2"
   ]
  },
  {
   "cell_type": "code",
   "execution_count": 190,
   "id": "daf32dc5",
   "metadata": {},
   "outputs": [],
   "source": [
    "temp = gerador_tupla()"
   ]
  },
  {
   "cell_type": "code",
   "execution_count": 194,
   "id": "97b1b837",
   "metadata": {},
   "outputs": [
    {
     "ename": "StopIteration",
     "evalue": "",
     "output_type": "error",
     "traceback": [
      "\u001b[1;31m---------------------------------------------------------------------------\u001b[0m",
      "\u001b[1;31mStopIteration\u001b[0m                             Traceback (most recent call last)",
      "Cell \u001b[1;32mIn[194], line 1\u001b[0m\n\u001b[1;32m----> 1\u001b[0m \u001b[38;5;28;43mnext\u001b[39;49m\u001b[43m(\u001b[49m\u001b[43mtemp\u001b[49m\u001b[43m)\u001b[49m\n",
      "\u001b[1;31mStopIteration\u001b[0m: "
     ]
    }
   ],
   "source": [
    "next(temp)"
   ]
  },
  {
   "cell_type": "code",
   "execution_count": 199,
   "id": "078839c3",
   "metadata": {},
   "outputs": [],
   "source": [
    "def nosso_range(start=0, stop=1, step=1):\n",
    "    i = start\n",
    "    while i < stop:\n",
    "        yield i\n",
    "        i = i + step"
   ]
  },
  {
   "cell_type": "code",
   "execution_count": 217,
   "id": "79ca8bf1",
   "metadata": {},
   "outputs": [],
   "source": [
    "temp = nosso_range(start=-1, stop=6, step=2)"
   ]
  },
  {
   "cell_type": "code",
   "execution_count": 222,
   "id": "e9b43a0f",
   "metadata": {},
   "outputs": [
    {
     "ename": "StopIteration",
     "evalue": "",
     "output_type": "error",
     "traceback": [
      "\u001b[1;31m---------------------------------------------------------------------------\u001b[0m",
      "\u001b[1;31mStopIteration\u001b[0m                             Traceback (most recent call last)",
      "Cell \u001b[1;32mIn[222], line 1\u001b[0m\n\u001b[1;32m----> 1\u001b[0m \u001b[38;5;28;43mnext\u001b[39;49m\u001b[43m(\u001b[49m\u001b[43mtemp\u001b[49m\u001b[43m)\u001b[49m\n",
      "\u001b[1;31mStopIteration\u001b[0m: "
     ]
    }
   ],
   "source": [
    "next(temp)"
   ]
  },
  {
   "cell_type": "code",
   "execution_count": null,
   "id": "adb681b6",
   "metadata": {},
   "outputs": [],
   "source": [
    "# Tratamento de Exceção\n",
    "\n",
    "gen = (elem for elem in [1, 3, -9])"
   ]
  },
  {
   "cell_type": "code",
   "execution_count": 255,
   "id": "3dfb9036",
   "metadata": {},
   "outputs": [
    {
     "data": {
      "text/plain": [
       "-9"
      ]
     },
     "execution_count": 255,
     "metadata": {},
     "output_type": "execute_result"
    }
   ],
   "source": [
    "next(gen)"
   ]
  },
  {
   "cell_type": "code",
   "execution_count": 263,
   "id": "94813e4d",
   "metadata": {},
   "outputs": [
    {
     "name": "stdout",
     "output_type": "stream",
     "text": [
      "Teve erro: name 'sapato' is not defined\n",
      "Depois do try\n"
     ]
    }
   ],
   "source": [
    "try:\n",
    "    print(sapato) \n",
    "    valor = next(gen)\n",
    "    print(valor)\n",
    "except (NameError, StopIteration) as e: \n",
    "    print('Teve erro: '+str(e))\n",
    "    \n",
    "print('Depois do try')"
   ]
  },
  {
   "cell_type": "code",
   "execution_count": 264,
   "id": "9dfcaee5",
   "metadata": {},
   "outputs": [
    {
     "ename": "ZeroDivisionError",
     "evalue": "division by zero",
     "output_type": "error",
     "traceback": [
      "\u001b[1;31m---------------------------------------------------------------------------\u001b[0m",
      "\u001b[1;31mZeroDivisionError\u001b[0m                         Traceback (most recent call last)",
      "Cell \u001b[1;32mIn[264], line 1\u001b[0m\n\u001b[1;32m----> 1\u001b[0m valor \u001b[38;5;241m=\u001b[39m \u001b[38;5;241;43m1\u001b[39;49m\u001b[38;5;241;43m/\u001b[39;49m\u001b[38;5;241;43m0\u001b[39;49m\n\u001b[0;32m      2\u001b[0m valor\n",
      "\u001b[1;31mZeroDivisionError\u001b[0m: division by zero"
     ]
    }
   ],
   "source": [
    "valor = 1/0\n",
    "valor"
   ]
  },
  {
   "cell_type": "code",
   "execution_count": 270,
   "id": "bb0fe2ec",
   "metadata": {},
   "outputs": [
    {
     "name": "stdout",
     "output_type": "stream",
     "text": [
      "nada\n"
     ]
    }
   ],
   "source": [
    "# 'Pegando' todos os erros\n",
    "try:\n",
    "    print(valores)\n",
    "except:\n",
    "    print('nada')"
   ]
  },
  {
   "cell_type": "code",
   "execution_count": 273,
   "id": "f861f692",
   "metadata": {},
   "outputs": [
    {
     "data": {
      "text/plain": [
       "23"
      ]
     },
     "execution_count": 273,
     "metadata": {},
     "output_type": "execute_result"
    }
   ],
   "source": [
    "int('23')"
   ]
  },
  {
   "cell_type": "code",
   "execution_count": 292,
   "id": "b76c8196",
   "metadata": {},
   "outputs": [
    {
     "name": "stdout",
     "output_type": "stream",
     "text": [
      "Número: -3\n",
      "Digite um inteiro!\n",
      "Número: 3.2\n",
      "Digite um inteiro!\n",
      "Número: 0\n",
      "0\n"
     ]
    }
   ],
   "source": [
    "a = input('Número: ')\n",
    "\n",
    "while not a.isdigit():\n",
    "    print('Digite um inteiro!')\n",
    "    a = input('Número: ')\n",
    "else:\n",
    "    print(a)"
   ]
  },
  {
   "cell_type": "code",
   "execution_count": 289,
   "id": "5e95894c",
   "metadata": {},
   "outputs": [
    {
     "data": {
      "text/plain": [
       "False"
      ]
     },
     "execution_count": 289,
     "metadata": {},
     "output_type": "execute_result"
    }
   ],
   "source": [
    "'-23'.isdigit()"
   ]
  },
  {
   "cell_type": "code",
   "execution_count": 293,
   "id": "fb02d6c0",
   "metadata": {},
   "outputs": [
    {
     "data": {
      "text/plain": [
       "False"
      ]
     },
     "execution_count": 293,
     "metadata": {},
     "output_type": "execute_result"
    }
   ],
   "source": [
    "'-23'.isnumeric()"
   ]
  },
  {
   "cell_type": "code",
   "execution_count": 337,
   "id": "d0be87c7",
   "metadata": {},
   "outputs": [
    {
     "data": {
      "text/plain": [
       "True"
      ]
     },
     "execution_count": 337,
     "metadata": {},
     "output_type": "execute_result"
    }
   ],
   "source": [
    "'1a23' > '199999a'"
   ]
  },
  {
   "cell_type": "code",
   "execution_count": 334,
   "id": "e85d6fc2",
   "metadata": {},
   "outputs": [
    {
     "data": {
      "text/plain": [
       "(49, 57)"
      ]
     },
     "execution_count": 334,
     "metadata": {},
     "output_type": "execute_result"
    }
   ],
   "source": [
    "ord('1'), ord('9')"
   ]
  },
  {
   "cell_type": "code",
   "execution_count": 310,
   "id": "c42dc8bb",
   "metadata": {},
   "outputs": [
    {
     "data": {
      "text/plain": [
       "(97, 48, 57)"
      ]
     },
     "execution_count": 310,
     "metadata": {},
     "output_type": "execute_result"
    }
   ],
   "source": [
    "ord('a'), ord('0'), ord('9')"
   ]
  },
  {
   "cell_type": "code",
   "execution_count": null,
   "id": "a5d70449",
   "metadata": {},
   "outputs": [],
   "source": [
    "chr(47)"
   ]
  },
  {
   "cell_type": "code",
   "execution_count": 316,
   "id": "8dbb133e",
   "metadata": {},
   "outputs": [
    {
     "name": "stdout",
     "output_type": "stream",
     "text": [
      "Número: 0.3\n",
      "Número: -9\n",
      "-9\n"
     ]
    }
   ],
   "source": [
    "#Lorena Bastos21:51\n",
    "a = input(\"Número: \")\n",
    "\n",
    "while not isinstance(a, int):\n",
    "    is_negative = a.startswith('-')\n",
    "    if is_negative:\n",
    "        if a[1:].isdigit():\n",
    "            a = int(a[1:]) * -1\n",
    "        else:\n",
    "            a = input(\"Número: \")\n",
    "    else:\n",
    "        if a.isdigit():\n",
    "            a = int(a)\n",
    "        else:\n",
    "            a = input(\"Número: \")\n",
    "\n",
    "print(a)"
   ]
  },
  {
   "cell_type": "code",
   "execution_count": 331,
   "id": "e57f6266",
   "metadata": {},
   "outputs": [
    {
     "name": "stdout",
     "output_type": "stream",
     "text": [
      "Número inteiro: 12\n",
      "Passei pelo try\n"
     ]
    }
   ],
   "source": [
    "# Else do try\n",
    "try:\n",
    "    a = int(input('Número inteiro: '))  \n",
    "except ValueError:\n",
    "    print('Não é inteiro')\n",
    "else:\n",
    "    print('Passei pelo try')\n",
    "    \n",
    "        "
   ]
  },
  {
   "cell_type": "code",
   "execution_count": 322,
   "id": "06249409",
   "metadata": {},
   "outputs": [
    {
     "name": "stdout",
     "output_type": "stream",
     "text": [
      "Digite um número: 0\n",
      "Digite um número: -2\n",
      "Digite um número: -3\n"
     ]
    }
   ],
   "source": [
    "# Else do while\n",
    "a = 0\n",
    "while a <= 0:\n",
    "    a = int(input('Digite um número: '))\n",
    "    \n",
    "    if a == -3:\n",
    "        break\n",
    "else:\n",
    "    print('Falhou o teste.')"
   ]
  },
  {
   "cell_type": "code",
   "execution_count": 324,
   "id": "7641f996",
   "metadata": {},
   "outputs": [
    {
     "name": "stdout",
     "output_type": "stream",
     "text": [
      "0\n",
      "1\n",
      "2\n",
      "3\n"
     ]
    }
   ],
   "source": [
    "# Else do for\n",
    "for i in range(10):\n",
    "    print(i)\n",
    "    if i == 3:\n",
    "        break\n",
    "else:\n",
    "    print('Passei pelo for.')"
   ]
  },
  {
   "cell_type": "code",
   "execution_count": null,
   "id": "73f26e9a",
   "metadata": {},
   "outputs": [],
   "source": []
  },
  {
   "cell_type": "code",
   "execution_count": null,
   "id": "93883fb7",
   "metadata": {},
   "outputs": [],
   "source": []
  },
  {
   "cell_type": "code",
   "execution_count": null,
   "id": "48bb6da5",
   "metadata": {},
   "outputs": [],
   "source": []
  }
 ],
 "metadata": {
  "kernelspec": {
   "display_name": "Python 3 (ipykernel)",
   "language": "python",
   "name": "python3"
  },
  "language_info": {
   "codemirror_mode": {
    "name": "ipython",
    "version": 3
   },
   "file_extension": ".py",
   "mimetype": "text/x-python",
   "name": "python",
   "nbconvert_exporter": "python",
   "pygments_lexer": "ipython3",
   "version": "3.9.18"
  }
 },
 "nbformat": 4,
 "nbformat_minor": 5
}
