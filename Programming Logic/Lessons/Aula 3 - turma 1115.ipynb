{
 "cells": [
  {
   "cell_type": "markdown",
   "id": "e875d3a3",
   "metadata": {},
   "source": [
    "<div style=\"background-color: lightgreen; padding: 18px;\">\n",
    "    <h1> Aula 3 | Lógica de Programação II\n",
    "</div>"
   ]
  },
  {
   "cell_type": "markdown",
   "id": "53908d80",
   "metadata": {},
   "source": [
    "<div style=\"background-color: lightblue; padding: 10px;\">\n",
    "    <h2> Tópicos da aula 3\n",
    "</div>\n",
    "\n",
    "- Exercícios\n",
    "- Dicionários\n",
    "    "
   ]
  },
  {
   "cell_type": "code",
   "execution_count": 2,
   "id": "c098eeb3",
   "metadata": {},
   "outputs": [],
   "source": [
    "def separa_lista(lista):\n",
    "    listass = []\n",
    "    lista_elemento = []\n",
    "    for elem in lista:\n",
    "        if isinstance(elem, list):\n",
    "            listass.extend(elem)\n",
    "        else:\n",
    "            lista_elemento.append(elem)\n",
    "    \n",
    "    return lista_elemento, listass"
   ]
  },
  {
   "cell_type": "code",
   "execution_count": 13,
   "id": "38fe251f",
   "metadata": {},
   "outputs": [
    {
     "data": {
      "text/plain": [
       "[12, 'casa', 3.14, 'Curso', 3, 9, -10, True, 'Santos', 'Fluminense', 10, -12]"
      ]
     },
     "execution_count": 13,
     "metadata": {},
     "output_type": "execute_result"
    }
   ],
   "source": [
    "tam = 1\n",
    "\n",
    "lista = [['Curso'],\n",
    "         12,\n",
    "         \"casa\",\n",
    "         3.14,\n",
    "         [3, 9, -10],\n",
    "         [['Santos', 'Fluminense', [10, [-12]]], \n",
    "         True,]\n",
    "]\n",
    "\n",
    "listass = lista.copy()\n",
    "\n",
    "resultado = []\n",
    "while tam >= 1:\n",
    "    temp, listass = separa_lista(listass)\n",
    "    resultado.extend(temp)\n",
    "    tam = len(listass)\n",
    "\n",
    "resultado"
   ]
  },
  {
   "cell_type": "code",
   "execution_count": null,
   "id": "6640567f",
   "metadata": {},
   "outputs": [],
   "source": []
  },
  {
   "cell_type": "code",
   "execution_count": 7,
   "id": "4c019a70",
   "metadata": {},
   "outputs": [
    {
     "data": {
      "text/latex": [
       "$x_0$ = 0"
      ],
      "text/plain": [
       "<IPython.core.display.Latex object>"
      ]
     },
     "metadata": {},
     "output_type": "display_data"
    },
    {
     "data": {
      "text/latex": [
       "$x_1$ = 1"
      ],
      "text/plain": [
       "<IPython.core.display.Latex object>"
      ]
     },
     "metadata": {},
     "output_type": "display_data"
    },
    {
     "data": {
      "text/latex": [
       "$x_2$ = 2"
      ],
      "text/plain": [
       "<IPython.core.display.Latex object>"
      ]
     },
     "metadata": {},
     "output_type": "display_data"
    }
   ],
   "source": [
    "from IPython.display import display, Latex\n",
    "\n",
    "for i in range(3):\n",
    "    display(Latex(f'$x_{i}$ = {i}'))"
   ]
  },
  {
   "cell_type": "code",
   "execution_count": 20,
   "id": "55bfd4a2",
   "metadata": {},
   "outputs": [
    {
     "name": "stdout",
     "output_type": "stream",
     "text": [
      "Digite o extremo inferior de integração: -8\n",
      "Digite o extremo superior de integração (b > a): -2\n",
      "Digite o número (par) de passos: 500\n",
      "Digite o expoente de x: 4\n"
     ]
    },
    {
     "data": {
      "text/latex": [
       "A integral de $x^4$, entre -8.0 e -2.0, vale: 6547.200000016589"
      ],
      "text/plain": [
       "<IPython.core.display.Latex object>"
      ]
     },
     "metadata": {},
     "output_type": "display_data"
    },
    {
     "data": {
      "text/latex": [
       "$\\int\\limits_{-8}^{-2} x^{4} dx = 6547.20000002$"
      ],
      "text/plain": [
       "<IPython.core.display.Latex object>"
      ]
     },
     "metadata": {},
     "output_type": "display_data"
    }
   ],
   "source": [
    "a = 2\n",
    "b = 1\n",
    "n = 1\n",
    "exp = -1\n",
    "while a > b:\n",
    "    a = float(input('Digite o extremo inferior de integração: '))\n",
    "    b = float(input('Digite o extremo superior de integração (b > a): '))\n",
    "\n",
    "while n % 2 != 0:\n",
    "    n = int(input('Digite o número (par) de passos: '))\n",
    "\n",
    "h = (b - a) / n\n",
    "\n",
    "while exp < 0:\n",
    "    exp = int(input('Digite o expoente de x: '))\n",
    "\n",
    "soma = 0\n",
    "for i in range(n + 1):\n",
    "    \n",
    "    if i == 0 or i == n:\n",
    "        m = 1\n",
    "    elif i % 2 != 0:\n",
    "        m = 4\n",
    "    else:\n",
    "        m = 2\n",
    "    soma = soma + m * (a + i * h) ** exp\n",
    "\n",
    "integral = (h / 3) * soma\n",
    "\n",
    "display(Latex(f'A integral de $x^{exp}$, entre {a} e {b}, vale: {integral}'))\n",
    "display(Latex('$\\int\\limits_{%d}^{%d} x^{%d} dx = %.8f$'%(a,b,exp, integral)))\n",
    " "
   ]
  },
  {
   "cell_type": "code",
   "execution_count": null,
   "id": "e8725d97",
   "metadata": {},
   "outputs": [],
   "source": []
  },
  {
   "cell_type": "markdown",
   "id": "b9354635",
   "metadata": {},
   "source": [
    "##### Dicionários"
   ]
  },
  {
   "cell_type": "code",
   "execution_count": 32,
   "id": "7c3daaa5",
   "metadata": {},
   "outputs": [],
   "source": [
    "dicio = {'chave':'valor'}"
   ]
  },
  {
   "cell_type": "code",
   "execution_count": 36,
   "id": "8b255aa4",
   "metadata": {},
   "outputs": [
    {
     "data": {
      "text/plain": [
       "'valor'"
      ]
     },
     "execution_count": 36,
     "metadata": {},
     "output_type": "execute_result"
    }
   ],
   "source": [
    "# Acessa o valor\n",
    "dicio['chave']"
   ]
  },
  {
   "cell_type": "code",
   "execution_count": 37,
   "id": "286e4ccd",
   "metadata": {},
   "outputs": [],
   "source": [
    "dados = {'nome':'Fábio',\n",
    "         'idade':23,\n",
    "         'altura': 1.8}"
   ]
  },
  {
   "cell_type": "code",
   "execution_count": 38,
   "id": "12682a3d",
   "metadata": {},
   "outputs": [
    {
     "data": {
      "text/plain": [
       "dict_keys(['nome', 'idade', 'altura'])"
      ]
     },
     "execution_count": 38,
     "metadata": {},
     "output_type": "execute_result"
    }
   ],
   "source": [
    "# Chaves\n",
    "dados.keys()"
   ]
  },
  {
   "cell_type": "code",
   "execution_count": 39,
   "id": "ffb60b7c",
   "metadata": {},
   "outputs": [
    {
     "data": {
      "text/plain": [
       "dict_values(['Fábio', 23, 1.8])"
      ]
     },
     "execution_count": 39,
     "metadata": {},
     "output_type": "execute_result"
    }
   ],
   "source": [
    "# Valores\n",
    "dados.values()"
   ]
  },
  {
   "cell_type": "code",
   "execution_count": 40,
   "id": "84bfb3a1",
   "metadata": {},
   "outputs": [],
   "source": [
    "lista_valores = list(dados.values())"
   ]
  },
  {
   "cell_type": "code",
   "execution_count": 43,
   "id": "9c35e582",
   "metadata": {},
   "outputs": [
    {
     "data": {
      "text/plain": [
       "['Fábio', 23, 1.8]"
      ]
     },
     "execution_count": 43,
     "metadata": {},
     "output_type": "execute_result"
    }
   ],
   "source": [
    "lista_valores"
   ]
  },
  {
   "cell_type": "code",
   "execution_count": 45,
   "id": "2958f036",
   "metadata": {},
   "outputs": [
    {
     "data": {
      "text/plain": [
       "('Fábio', 'Fábio')"
      ]
     },
     "execution_count": 45,
     "metadata": {},
     "output_type": "execute_result"
    }
   ],
   "source": [
    "lista_valores[0], dados['nome']"
   ]
  },
  {
   "cell_type": "code",
   "execution_count": 46,
   "id": "8d3c8b1a",
   "metadata": {},
   "outputs": [
    {
     "data": {
      "text/plain": [
       "(23, 23)"
      ]
     },
     "execution_count": 46,
     "metadata": {},
     "output_type": "execute_result"
    }
   ],
   "source": [
    "lista_valores[1], dados['idade']"
   ]
  },
  {
   "cell_type": "code",
   "execution_count": 51,
   "id": "59635b55",
   "metadata": {},
   "outputs": [
    {
     "data": {
      "text/plain": [
       "(1.8, 1.8)"
      ]
     },
     "execution_count": 51,
     "metadata": {},
     "output_type": "execute_result"
    }
   ],
   "source": [
    "lista_valores[2], dados['altura']"
   ]
  },
  {
   "cell_type": "code",
   "execution_count": 53,
   "id": "74564332",
   "metadata": {},
   "outputs": [],
   "source": [
    "# Adicionar um elemento \n",
    "dados['cidades'] = ['Salvador']"
   ]
  },
  {
   "cell_type": "code",
   "execution_count": 54,
   "id": "b5956bd1",
   "metadata": {},
   "outputs": [
    {
     "data": {
      "text/plain": [
       "{'nome': 'Fábio', 'idade': 23, 'altura': 1.8, 'cidades': ['Salvador']}"
      ]
     },
     "execution_count": 54,
     "metadata": {},
     "output_type": "execute_result"
    }
   ],
   "source": [
    "dados"
   ]
  },
  {
   "cell_type": "code",
   "execution_count": 58,
   "id": "b6a9f263",
   "metadata": {},
   "outputs": [],
   "source": [
    "dados['cidades'].append('São Paulo')"
   ]
  },
  {
   "cell_type": "code",
   "execution_count": 60,
   "id": "f2cd9197",
   "metadata": {},
   "outputs": [
    {
     "data": {
      "text/plain": [
       "{'nome': 'Fábio',\n",
       " 'idade': 23,\n",
       " 'altura': 1.8,\n",
       " 'cidades': ['Salvador', 'São Paulo', 'Toronto']}"
      ]
     },
     "execution_count": 60,
     "metadata": {},
     "output_type": "execute_result"
    }
   ],
   "source": [
    "dados['cidades'].append('Toronto')\n",
    "dados"
   ]
  },
  {
   "cell_type": "code",
   "execution_count": 61,
   "id": "22796994",
   "metadata": {},
   "outputs": [
    {
     "data": {
      "text/plain": [
       "{'nome': 'Joana'}"
      ]
     },
     "execution_count": 61,
     "metadata": {},
     "output_type": "execute_result"
    }
   ],
   "source": [
    "# Chaves são únicas\n",
    "\n",
    "{'nome':'Pedro', 'nome':'Joana'}"
   ]
  },
  {
   "cell_type": "code",
   "execution_count": 63,
   "id": "bdf16bbe",
   "metadata": {},
   "outputs": [],
   "source": [
    "dados['nome'] = ['Fábio', 'Júnior']"
   ]
  },
  {
   "cell_type": "code",
   "execution_count": 64,
   "id": "b9c91ff5",
   "metadata": {},
   "outputs": [
    {
     "data": {
      "text/plain": [
       "{'nome': ['Fábio', 'Júnior'],\n",
       " 'idade': 23,\n",
       " 'altura': 1.8,\n",
       " 'cidades': ['Salvador', 'São Paulo', 'Toronto']}"
      ]
     },
     "execution_count": 64,
     "metadata": {},
     "output_type": "execute_result"
    }
   ],
   "source": [
    "dados"
   ]
  },
  {
   "cell_type": "code",
   "execution_count": 65,
   "id": "0d2ed556",
   "metadata": {},
   "outputs": [],
   "source": [
    "dados['peso'] = 65"
   ]
  },
  {
   "cell_type": "code",
   "execution_count": 66,
   "id": "6e15e75b",
   "metadata": {
    "scrolled": true
   },
   "outputs": [
    {
     "data": {
      "text/plain": [
       "{'nome': ['Fábio', 'Júnior'],\n",
       " 'idade': 23,\n",
       " 'altura': 1.8,\n",
       " 'cidades': ['Salvador', 'São Paulo', 'Toronto'],\n",
       " 'peso': 65}"
      ]
     },
     "execution_count": 66,
     "metadata": {},
     "output_type": "execute_result"
    }
   ],
   "source": [
    "dados"
   ]
  },
  {
   "cell_type": "code",
   "execution_count": 69,
   "id": "e1b83610",
   "metadata": {},
   "outputs": [
    {
     "data": {
      "text/plain": [
       "dict_items([('nome', ['Fábio', 'Júnior']), ('idade', 23), ('altura', 1.8), ('cidades', ['Salvador', 'São Paulo', 'Toronto']), ('peso', 65)])"
      ]
     },
     "execution_count": 69,
     "metadata": {},
     "output_type": "execute_result"
    }
   ],
   "source": [
    "dados.items()"
   ]
  },
  {
   "cell_type": "code",
   "execution_count": 70,
   "id": "5520f77e",
   "metadata": {},
   "outputs": [
    {
     "name": "stdout",
     "output_type": "stream",
     "text": [
      "['Fábio', 'Júnior']\n",
      "23\n",
      "1.8\n",
      "['Salvador', 'São Paulo', 'Toronto']\n",
      "65\n"
     ]
    }
   ],
   "source": [
    "for chave in dados.keys():\n",
    "    print(dados[chave])"
   ]
  },
  {
   "cell_type": "code",
   "execution_count": 71,
   "id": "adf18786",
   "metadata": {},
   "outputs": [
    {
     "name": "stdout",
     "output_type": "stream",
     "text": [
      "['Fábio', 'Júnior']\n",
      "23\n",
      "1.8\n",
      "['Salvador', 'São Paulo', 'Toronto']\n",
      "65\n"
     ]
    }
   ],
   "source": [
    "for valor in dados.values():\n",
    "    print(valor)"
   ]
  },
  {
   "cell_type": "code",
   "execution_count": 74,
   "id": "5bb343aa",
   "metadata": {},
   "outputs": [
    {
     "name": "stdout",
     "output_type": "stream",
     "text": [
      "nome ['Fábio', 'Júnior']\n",
      "idade 23\n",
      "altura 1.8\n",
      "cidades ['Salvador', 'São Paulo', 'Toronto']\n",
      "peso 65\n"
     ]
    }
   ],
   "source": [
    "for chave, valor in dados.items():\n",
    "    print(chave, valor)"
   ]
  },
  {
   "cell_type": "code",
   "execution_count": 77,
   "id": "cfe08160",
   "metadata": {},
   "outputs": [
    {
     "name": "stdout",
     "output_type": "stream",
     "text": [
      "nome ['Fábio', 'Júnior']\n",
      "idade 23\n",
      "altura 1.8\n",
      "cidades ['Salvador', 'São Paulo', 'Toronto']\n",
      "peso 65\n"
     ]
    }
   ],
   "source": [
    "for chave, valor in zip(dados.keys(), dados.values()):\n",
    "    print(chave, valor)"
   ]
  },
  {
   "cell_type": "code",
   "execution_count": 78,
   "id": "4cfed645",
   "metadata": {},
   "outputs": [],
   "source": [
    "dados.update({'idade': 24})"
   ]
  },
  {
   "cell_type": "code",
   "execution_count": 80,
   "id": "ffb6a5e9",
   "metadata": {},
   "outputs": [],
   "source": [
    "dados.update({'formação':'graduação'})"
   ]
  },
  {
   "cell_type": "code",
   "execution_count": 82,
   "id": "9e67594f",
   "metadata": {},
   "outputs": [],
   "source": [
    "dados.update({'altura':1.81, 'peso':68})"
   ]
  },
  {
   "cell_type": "code",
   "execution_count": 83,
   "id": "c33db29b",
   "metadata": {},
   "outputs": [
    {
     "data": {
      "text/plain": [
       "{'nome': ['Fábio', 'Júnior'],\n",
       " 'idade': 24,\n",
       " 'altura': 1.81,\n",
       " 'cidades': ['Salvador', 'São Paulo', 'Toronto'],\n",
       " 'peso': 68,\n",
       " 'formação': 'graduação'}"
      ]
     },
     "execution_count": 83,
     "metadata": {},
     "output_type": "execute_result"
    }
   ],
   "source": [
    "dados"
   ]
  },
  {
   "cell_type": "code",
   "execution_count": 84,
   "id": "89150dec",
   "metadata": {},
   "outputs": [
    {
     "data": {
      "text/plain": [
       "'graduação'"
      ]
     },
     "execution_count": 84,
     "metadata": {},
     "output_type": "execute_result"
    }
   ],
   "source": [
    "# Remover elemento\n",
    "dados.pop('formação')"
   ]
  },
  {
   "cell_type": "code",
   "execution_count": 85,
   "id": "1f70b65e",
   "metadata": {},
   "outputs": [
    {
     "data": {
      "text/plain": [
       "{'nome': ['Fábio', 'Júnior'],\n",
       " 'idade': 24,\n",
       " 'altura': 1.81,\n",
       " 'cidades': ['Salvador', 'São Paulo', 'Toronto'],\n",
       " 'peso': 68}"
      ]
     },
     "execution_count": 85,
     "metadata": {},
     "output_type": "execute_result"
    }
   ],
   "source": [
    "dados"
   ]
  },
  {
   "cell_type": "code",
   "execution_count": 86,
   "id": "36ca0116",
   "metadata": {},
   "outputs": [
    {
     "ename": "KeyError",
     "evalue": "'formação'",
     "output_type": "error",
     "traceback": [
      "\u001b[1;31m---------------------------------------------------------------------------\u001b[0m",
      "\u001b[1;31mKeyError\u001b[0m                                  Traceback (most recent call last)",
      "Cell \u001b[1;32mIn[86], line 1\u001b[0m\n\u001b[1;32m----> 1\u001b[0m \u001b[43mdados\u001b[49m\u001b[38;5;241;43m.\u001b[39;49m\u001b[43mpop\u001b[49m\u001b[43m(\u001b[49m\u001b[38;5;124;43m'\u001b[39;49m\u001b[38;5;124;43mformação\u001b[39;49m\u001b[38;5;124;43m'\u001b[39;49m\u001b[43m)\u001b[49m\n",
      "\u001b[1;31mKeyError\u001b[0m: 'formação'"
     ]
    }
   ],
   "source": [
    "dados.pop('formação')"
   ]
  },
  {
   "cell_type": "code",
   "execution_count": 89,
   "id": "113997bb",
   "metadata": {},
   "outputs": [
    {
     "data": {
      "text/plain": [
       "{'nome': ['Fábio', 'Júnior'],\n",
       " 'idade': 24,\n",
       " 'altura': 1.81,\n",
       " 'cidades': ['Salvador', 'Toronto'],\n",
       " 'peso': 68}"
      ]
     },
     "execution_count": 89,
     "metadata": {},
     "output_type": "execute_result"
    }
   ],
   "source": [
    "dados['cidades'].remove('São Paulo')\n",
    "dados"
   ]
  },
  {
   "cell_type": "code",
   "execution_count": 101,
   "id": "19dbe888",
   "metadata": {},
   "outputs": [],
   "source": [
    "dados['salário'] = 10_000_000"
   ]
  },
  {
   "cell_type": "code",
   "execution_count": 103,
   "id": "e91c5e10",
   "metadata": {},
   "outputs": [],
   "source": [
    "dados['salário'] = 1_000_000"
   ]
  },
  {
   "cell_type": "code",
   "execution_count": 104,
   "id": "66428cf3",
   "metadata": {},
   "outputs": [
    {
     "data": {
      "text/plain": [
       "{'nome': ['Fábio', 'Júnior'],\n",
       " 'idade': 24,\n",
       " 'altura': 1.81,\n",
       " 'cidades': ['Salvador', 'Toronto'],\n",
       " 'peso': 68,\n",
       " 'salário': 1000000}"
      ]
     },
     "execution_count": 104,
     "metadata": {},
     "output_type": "execute_result"
    }
   ],
   "source": [
    "dados"
   ]
  },
  {
   "cell_type": "code",
   "execution_count": 105,
   "id": "acc53d95",
   "metadata": {},
   "outputs": [
    {
     "data": {
      "text/plain": [
       "{'nome': ['Fábio', 'Júnior'],\n",
       " 'idade': 24,\n",
       " 'altura': 1.81,\n",
       " 'cidades': ['Salvador', 'Toronto'],\n",
       " 'peso': 68,\n",
       " 'salário': 100000}"
      ]
     },
     "execution_count": 105,
     "metadata": {},
     "output_type": "execute_result"
    }
   ],
   "source": [
    "dados.update({'salário':100_000})\n",
    "dados"
   ]
  },
  {
   "cell_type": "code",
   "execution_count": 117,
   "id": "36b8ada2",
   "metadata": {},
   "outputs": [
    {
     "data": {
      "text/plain": [
       "{'nome': None,\n",
       " 'idade': None,\n",
       " 'altura': None,\n",
       " 'cidades': None,\n",
       " 'peso': None,\n",
       " 'salário': None}"
      ]
     },
     "execution_count": 117,
     "metadata": {},
     "output_type": "execute_result"
    }
   ],
   "source": [
    "novo = dict()\n",
    "novo.fromkeys(dados)"
   ]
  },
  {
   "cell_type": "code",
   "execution_count": 118,
   "id": "a34395ee",
   "metadata": {},
   "outputs": [
    {
     "data": {
      "text/plain": [
       "{'nome': ['Fábio', 'Júnior'],\n",
       " 'idade': 24,\n",
       " 'altura': 1.81,\n",
       " 'cidades': ['Salvador', 'Toronto'],\n",
       " 'peso': 68,\n",
       " 'salário': 100000}"
      ]
     },
     "execution_count": 118,
     "metadata": {},
     "output_type": "execute_result"
    }
   ],
   "source": [
    "dados"
   ]
  },
  {
   "cell_type": "code",
   "execution_count": 119,
   "id": "d02ada8f",
   "metadata": {},
   "outputs": [],
   "source": [
    "dados['familia'] = {'mae':'Maria', 'pai':'João'}"
   ]
  },
  {
   "cell_type": "code",
   "execution_count": 120,
   "id": "ff6e6de8",
   "metadata": {},
   "outputs": [
    {
     "data": {
      "text/plain": [
       "{'nome': ['Fábio', 'Júnior'],\n",
       " 'idade': 24,\n",
       " 'altura': 1.81,\n",
       " 'cidades': ['Salvador', 'Toronto'],\n",
       " 'peso': 68,\n",
       " 'salário': 100000,\n",
       " 'familia': {'mae': 'Maria', 'pai': 'João'}}"
      ]
     },
     "execution_count": 120,
     "metadata": {},
     "output_type": "execute_result"
    }
   ],
   "source": [
    "dados"
   ]
  },
  {
   "cell_type": "code",
   "execution_count": 128,
   "id": "a2a60ec6",
   "metadata": {},
   "outputs": [],
   "source": [
    "dados['familia']['pai'] = ['João', 'Ricardo']"
   ]
  },
  {
   "cell_type": "code",
   "execution_count": 129,
   "id": "375a6bf8",
   "metadata": {},
   "outputs": [
    {
     "data": {
      "text/plain": [
       "{'nome': ['Fábio', 'Júnior'],\n",
       " 'idade': 24,\n",
       " 'altura': 1.81,\n",
       " 'cidades': ['Salvador', 'Toronto'],\n",
       " 'peso': 68,\n",
       " 'salário': 100000,\n",
       " 'familia': {'mae': 'Maria', 'pai': ['João', 'Ricardo']}}"
      ]
     },
     "execution_count": 129,
     "metadata": {},
     "output_type": "execute_result"
    }
   ],
   "source": [
    "dados"
   ]
  },
  {
   "cell_type": "code",
   "execution_count": 135,
   "id": "72e00be9",
   "metadata": {},
   "outputs": [],
   "source": [
    "familia = dados['familia']"
   ]
  },
  {
   "cell_type": "code",
   "execution_count": 139,
   "id": "08fbd842",
   "metadata": {},
   "outputs": [
    {
     "data": {
      "text/plain": [
       "'joão'"
      ]
     },
     "execution_count": 139,
     "metadata": {},
     "output_type": "execute_result"
    }
   ],
   "source": [
    "familia['pai'][0].lower()"
   ]
  },
  {
   "cell_type": "markdown",
   "id": "c8c3e0ba",
   "metadata": {},
   "source": [
    "Faça um programa que receba uma string do usuário e mostra um dicionário com as chaves\n",
    "sendo cada caracter da string e o valor a sua frequência absoluta (ignore caixa alta ou baixa)."
   ]
  },
  {
   "cell_type": "code",
   "execution_count": 145,
   "id": "6f8b5ac1",
   "metadata": {},
   "outputs": [
    {
     "name": "stdout",
     "output_type": "stream",
     "text": [
      "Digite seu texto: A casa da Mãe Joana está cheia de camas e jogos.\n",
      "a casa da mãe joana está cheia de camas e jogos.\n",
      "\n",
      "\n",
      "\n",
      "\n",
      "\n",
      "{'a': 9, ' ': 10, 'c': 3, 's': 4, 'd': 2, 'm': 2, 'ã': 1, 'e': 5, 'j': 2, 'o': 3, 'n': 1, 't': 1, 'á': 1, 'h': 1, 'i': 1, 'g': 1, '.': 1}\n"
     ]
    }
   ],
   "source": [
    "# Lorena Bastos21:58\n",
    "\n",
    "texto = input('Digite seu texto: ').lower()\n",
    "\n",
    "\n",
    "frequencia_letras = {}\n",
    "\n",
    "for letra in texto:\n",
    "    if letra not in frequencia_letras:\n",
    "        frequencia_letras[letra] = texto.count(letra)\n",
    "\n",
    "print(frequencia_letras)"
   ]
  },
  {
   "cell_type": "code",
   "execution_count": null,
   "id": "287304ac",
   "metadata": {},
   "outputs": [],
   "source": [
    "texto = input('Digite seu texto: ').lower()\n",
    "\n",
    "\n",
    "frequencia_letras = {}\n",
    "\n",
    "for letra in texto:\n",
    "    frequencia_letras[letra] = texto.count(letra)\n",
    "\n",
    "print(frequencia_letras)"
   ]
  },
  {
   "cell_type": "code",
   "execution_count": null,
   "id": "e5e90133",
   "metadata": {},
   "outputs": [],
   "source": []
  },
  {
   "cell_type": "markdown",
   "id": "dabd6254",
   "metadata": {},
   "source": [
    "#### Exercícios"
   ]
  },
  {
   "cell_type": "markdown",
   "id": "7fc58df2",
   "metadata": {},
   "source": [
    "Faça uma programa que peça o total, n, de pares chave-valor e retorna um dicionário com os n pares digitados pelo usuário."
   ]
  },
  {
   "cell_type": "code",
   "execution_count": null,
   "id": "6b96ab23",
   "metadata": {},
   "outputs": [],
   "source": []
  },
  {
   "cell_type": "markdown",
   "id": "927d9ef7",
   "metadata": {},
   "source": [
    "Faça uma função que encontre todas as chaves que estão associadas a um determinado valor em um dicionário. A função receberá, no primeiro parâmetro, o dicionário a ser analisado, e como segundo parâmetro, o valor associado a cada chave a ser buscada (i.e., verificará se uma valor aparece em mais chaves). A função retornará uma lista com as chaves encontradas; essa lista pode ter diversos valores, apenas um ou nenhum."
   ]
  },
  {
   "cell_type": "code",
   "execution_count": null,
   "id": "2c6ea232",
   "metadata": {},
   "outputs": [],
   "source": []
  },
  {
   "cell_type": "markdown",
   "id": "9b925504",
   "metadata": {},
   "source": [
    "Escreva um programa que leia uma frase e calcula a frequência relativa de cada letra em uma frase, usando dicionário. Ignore caracteres brancos e pontuação."
   ]
  },
  {
   "cell_type": "code",
   "execution_count": null,
   "id": "c1d06228",
   "metadata": {},
   "outputs": [],
   "source": []
  },
  {
   "cell_type": "markdown",
   "id": "e23dc665",
   "metadata": {},
   "source": [
    "Crie um dicionário vazio filmes = {}. Utilize o nome de um filme como chave. Como valor, utilize outro dicionário contendo o vilão e o ano em que o filme foi lançado. Preencha com 5 filmes digitados pelo usuário."
   ]
  },
  {
   "cell_type": "code",
   "execution_count": null,
   "id": "4029ac0d",
   "metadata": {},
   "outputs": [],
   "source": []
  },
  {
   "cell_type": "markdown",
   "id": "dcd53936",
   "metadata": {},
   "source": [
    "Faça uma função que receba duas tuplas de mesmo tamanho, uma com as chaves e outra com os valores. A função deve retornar uma string representando uma dicionário (com as chaves '{', os dois-pontos ':' e tudo mais que um dicionário tenha).\n",
    "\n",
    "​"
   ]
  },
  {
   "cell_type": "code",
   "execution_count": null,
   "id": "4bcc42cb",
   "metadata": {},
   "outputs": [],
   "source": []
  },
  {
   "cell_type": "markdown",
   "id": "77718e3d",
   "metadata": {},
   "source": [
    "Faça uma função que recebe um inteiro (representando a quantidade de vezes que um dado comum será jogado) e retorna um dicionário contendo os valores de 1 a 6 como chave e a quantidade vezes que aquele lado do dado apareceu no lançamento do dado. Utilize a função randint do módulo random, no intervalo de 1 a 6, para simular os valores do lançamento do dado."
   ]
  },
  {
   "cell_type": "code",
   "execution_count": null,
   "id": "13b7aea5",
   "metadata": {},
   "outputs": [],
   "source": []
  },
  {
   "cell_type": "markdown",
   "id": "01dfa9b8",
   "metadata": {},
   "source": [
    "Dado um dicionário e um número n, faça uma função (chamada 'divide_dicionario') que divida o dicionário em uma lista de dicionários, onde cada dicionário menor terá tamanho n.\n",
    "\n",
    "Exemplo de saída:\n",
    "dados = {'nome': 'carlos', 'idade': 21, 'liguagem':'python, 'empresa':'raia-drogasil', 'casado':False, 'inglês': 'intermediário}\n",
    "\n",
    "divide_dicionario(dados, 2)  →\n",
    "  [{'nome': 'carlos', 'idade': 21}, {liguagem':'python, 'empresa':'raia-drogasil'}, {'casado':False, 'inglês': 'intermediário} ]\n",
    "divide_dicionario(dados, 3)  →\n",
    "  [{'nome': 'carlos', 'idade': 21, liguagem':'python}, { 'empresa':'raia-drogasil', 'casado':False, 'inglês': 'intermediário} ]\n",
    "\n",
    "divide_dicionario(dados, 4)  →\n",
    "  [{'nome': 'carlos', 'idade': 21, liguagem':'python, 'empresa':'raia-drogasil'} ]\n",
    "\n",
    "Observe que, nesse último exemplo, só coube um único dicionário de tamanho 4."
   ]
  },
  {
   "cell_type": "code",
   "execution_count": null,
   "id": "5c8245f1",
   "metadata": {},
   "outputs": [],
   "source": []
  },
  {
   "cell_type": "code",
   "execution_count": null,
   "id": "63e9a878",
   "metadata": {},
   "outputs": [],
   "source": []
  },
  {
   "cell_type": "code",
   "execution_count": null,
   "id": "50d881ff",
   "metadata": {},
   "outputs": [],
   "source": []
  },
  {
   "cell_type": "code",
   "execution_count": null,
   "id": "b597f47b",
   "metadata": {},
   "outputs": [],
   "source": []
  },
  {
   "cell_type": "code",
   "execution_count": null,
   "id": "9350177e",
   "metadata": {},
   "outputs": [],
   "source": []
  },
  {
   "cell_type": "code",
   "execution_count": null,
   "id": "5283a4d0",
   "metadata": {},
   "outputs": [],
   "source": []
  }
 ],
 "metadata": {
  "kernelspec": {
   "display_name": "Python 3 (ipykernel)",
   "language": "python",
   "name": "python3"
  },
  "language_info": {
   "codemirror_mode": {
    "name": "ipython",
    "version": 3
   },
   "file_extension": ".py",
   "mimetype": "text/x-python",
   "name": "python",
   "nbconvert_exporter": "python",
   "pygments_lexer": "ipython3",
   "version": "3.9.18"
  }
 },
 "nbformat": 4,
 "nbformat_minor": 5
}
