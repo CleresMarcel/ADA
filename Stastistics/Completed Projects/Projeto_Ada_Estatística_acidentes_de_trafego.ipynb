{
  "cells": [
    {
      "cell_type": "markdown",
      "metadata": {
        "id": "WbheOUWYvUH9"
      },
      "source": [
        "# Installing dependencies"
      ]
    },
    {
      "cell_type": "code",
      "execution_count": 4,
      "metadata": {
        "id": "0TuBUIJTt3S-"
      },
      "outputs": [],
      "source": [
        "%%capture\n",
        "\n",
        "!pip install sidetable\n",
        "!pip install missingno"
      ]
    },
    {
      "cell_type": "markdown",
      "metadata": {
        "id": "YkqJR_GSvO3H"
      },
      "source": [
        "# Importing necessary modules"
      ]
    },
    {
      "cell_type": "code",
      "execution_count": 5,
      "metadata": {
        "id": "4tuQEKkUruSB"
      },
      "outputs": [],
      "source": [
        "# data analysis\n",
        "import pandas as pd\n",
        "import numpy as np\n",
        "import scipy\n",
        "import sidetable as stb\n",
        "import missingno as msno\n",
        "\n",
        "#data viz\n",
        "import matplotlib.pyplot as plt\n",
        "import seaborn as sns\n",
        "\n",
        "#supress warnings\n",
        "import warnings\n",
        "\n",
        "#from google.colab import drive\n",
        "#drive.mount('/content/drive')\n",
        "\n",
        "warnings.filterwarnings(\"ignore\")\n",
        "sns.set_style(\"whitegrid\")"
      ]
    },
    {
      "cell_type": "markdown",
      "metadata": {
        "id": "hqs3f7EuvObe"
      },
      "source": [
        "## Functions required for the project"
      ]
    },
    {
      "cell_type": "code",
      "execution_count": 6,
      "metadata": {
        "id": "RwJ5j7_kvNm8"
      },
      "outputs": [],
      "source": [
        "def eda(df:pd.DataFrame)->None:\n",
        "  print(\"-\"*15,\"DataFrame shape\", \"-\"*15 )\n",
        "  print(f\"Linhas: {df.shape[0]}, Colunas: {df.shape[1]}\")\n",
        "  print(\"-\"*15,\"DataFrame info\", \"-\"*15 )\n",
        "  print(df.info())\n",
        "  print(\"-\"*15,\"DataFrame isna\", \"-\"*15 )\n",
        "  print(df.isna().sum())\n",
        "  print(\"-\"*15,\"DataFrame is duplicated\", \"-\"*15 )\n",
        "  print(df.duplicated().sum())\n",
        "  print(\"-\"*15,\"DataFrame describe numeric\", \"-\"*15 )\n",
        "  print(df.describe(percentiles=[.01,0.1,.25,.5,.75,.90,.99]))\n",
        "  print(\"-\"*15,\"DataFrame desribe categorical\", \"-\"*15 )\n",
        "  print(df.describe(exclude=[np.number]))\n",
        "\n",
        "\n",
        "\n",
        "\n",
        "def date_engineering(df: pd.DataFrame)->pd.DataFrame:\n",
        "    df[\"data_inversa\"]=pd.to_datetime(df[\"data_inversa\"],format='mixed')\n",
        "    df[\"year\"]=pd.to_datetime(df[\"data_inversa\"]).dt.year\n",
        "    df[\"month\"]=pd.to_datetime(df[\"data_inversa\"]).dt.month\n",
        "    df[\"quarter\"]=pd.to_datetime(df[\"data_inversa\"]).dt.quarter\n",
        "    df[\"quarter_end\"]=pd.to_datetime(df[\"data_inversa\"]).dt.is_quarter_end\n",
        "    return df\n",
        "\n",
        "\n",
        "def date_col(col:pd.Series):\n",
        "  df[\"dia_semana\"]=df['dia_semana'].str.split(\"-\").str[0]\n",
        "  return df[\"dia_semana\"]\n",
        "\n",
        "def time_col(col:pd.Series):\n",
        "  df[\"hour\"] = df[\"horario\"].str.split(\":\").str[0]\n",
        "\n",
        "  return df[\"hour\"]\n",
        "\n",
        "def convert_lower_case(column):\n",
        "  '''\n",
        " \n",
        "  Function that returns the selected column in lowercase\n",
        "\n",
        "  param column: column of the pd.DataFrame\n",
        "  '''\n",
        "  return column.lower()"
      ]
    },
    {
      "cell_type": "markdown",
      "metadata": {
        "id": "Qi8e4r60zjqj"
      },
      "source": [
        "## Importing dataset"
      ]
    },
    {
      "cell_type": "code",
      "execution_count": 55,
      "metadata": {
        "colab": {
          "base_uri": "https://localhost:8080/"
        },
        "id": "rIUEyH02y08Z",
        "outputId": "8772c493-8977-495f-9495-803ed1d56744"
      },
      "outputs": [
        {
          "name": "stdout",
          "output_type": "stream",
          "text": [
            "Drive already mounted at /content/drive; to attempt to forcibly remount, call drive.mount(\"/content/drive\", force_remount=True).\n"
          ]
        }
      ],
      "source": [
        "from google.colab import drive\n",
        "drive.mount('/content/drive')"
      ]
    },
    {
      "cell_type": "code",
      "execution_count": 56,
      "metadata": {
        "colab": {
          "base_uri": "https://localhost:8080/",
          "height": 342
        },
        "id": "EiG9je0css8g",
        "outputId": "51c4f5d0-c9b4-4dc5-97c9-ab4853b0d345"
      },
      "outputs": [
        {
          "data": {
            "application/vnd.google.colaboratory.intrinsic+json": {
              "type": "dataframe",
              "variable_name": "df"
            },
            "text/html": [
              "\n",
              "  <div id=\"df-ac6e4c95-1466-415c-9493-bf9cff421f25\" class=\"colab-df-container\">\n",
              "    <div>\n",
              "<style scoped>\n",
              "    .dataframe tbody tr th:only-of-type {\n",
              "        vertical-align: middle;\n",
              "    }\n",
              "\n",
              "    .dataframe tbody tr th {\n",
              "        vertical-align: top;\n",
              "    }\n",
              "\n",
              "    .dataframe thead th {\n",
              "        text-align: right;\n",
              "    }\n",
              "</style>\n",
              "<table border=\"1\" class=\"dataframe\">\n",
              "  <thead>\n",
              "    <tr style=\"text-align: right;\">\n",
              "      <th></th>\n",
              "      <th>data_inversa</th>\n",
              "      <th>dia_semana</th>\n",
              "      <th>horario</th>\n",
              "      <th>uf</th>\n",
              "      <th>br</th>\n",
              "      <th>km</th>\n",
              "      <th>municipio</th>\n",
              "      <th>causa_acidente</th>\n",
              "      <th>tipo_acidente</th>\n",
              "      <th>classificacao_acidente</th>\n",
              "      <th>...</th>\n",
              "      <th>feridos_graves</th>\n",
              "      <th>ilesos</th>\n",
              "      <th>ignorados</th>\n",
              "      <th>feridos</th>\n",
              "      <th>veiculos</th>\n",
              "      <th>latitude</th>\n",
              "      <th>longitude</th>\n",
              "      <th>regional</th>\n",
              "      <th>delegacia</th>\n",
              "      <th>uop</th>\n",
              "    </tr>\n",
              "  </thead>\n",
              "  <tbody>\n",
              "    <tr>\n",
              "      <th>0</th>\n",
              "      <td>10/11/2009</td>\n",
              "      <td>Terça</td>\n",
              "      <td>14:10:00</td>\n",
              "      <td>MG</td>\n",
              "      <td>381.0</td>\n",
              "      <td>495.0</td>\n",
              "      <td>BETIM</td>\n",
              "      <td>Velocidade incompatível</td>\n",
              "      <td>Colisão traseira</td>\n",
              "      <td>Com Vítimas Feridas</td>\n",
              "      <td>...</td>\n",
              "      <td>0</td>\n",
              "      <td>1</td>\n",
              "      <td>0</td>\n",
              "      <td>4</td>\n",
              "      <td>2</td>\n",
              "      <td>NaN</td>\n",
              "      <td>NaN</td>\n",
              "      <td>NaN</td>\n",
              "      <td>NaN</td>\n",
              "      <td>NaN</td>\n",
              "    </tr>\n",
              "    <tr>\n",
              "      <th>1</th>\n",
              "      <td>16/10/2009</td>\n",
              "      <td>Sexta</td>\n",
              "      <td>04:35:00</td>\n",
              "      <td>MG</td>\n",
              "      <td>251.0</td>\n",
              "      <td>419.6</td>\n",
              "      <td>GRAO MOGOL</td>\n",
              "      <td>Outras</td>\n",
              "      <td>Colisão frontal</td>\n",
              "      <td>Com Vítimas Fatais</td>\n",
              "      <td>...</td>\n",
              "      <td>5</td>\n",
              "      <td>0</td>\n",
              "      <td>0</td>\n",
              "      <td>5</td>\n",
              "      <td>2</td>\n",
              "      <td>NaN</td>\n",
              "      <td>NaN</td>\n",
              "      <td>NaN</td>\n",
              "      <td>NaN</td>\n",
              "      <td>NaN</td>\n",
              "    </tr>\n",
              "    <tr>\n",
              "      <th>2</th>\n",
              "      <td>20/09/2009</td>\n",
              "      <td>Domingo</td>\n",
              "      <td>20:00:00</td>\n",
              "      <td>PI</td>\n",
              "      <td>316.0</td>\n",
              "      <td>24.0</td>\n",
              "      <td>TERESINA</td>\n",
              "      <td>Dormindo</td>\n",
              "      <td>Saída de Pista</td>\n",
              "      <td>Com Vítimas Feridas</td>\n",
              "      <td>...</td>\n",
              "      <td>4</td>\n",
              "      <td>0</td>\n",
              "      <td>0</td>\n",
              "      <td>6</td>\n",
              "      <td>1</td>\n",
              "      <td>NaN</td>\n",
              "      <td>NaN</td>\n",
              "      <td>NaN</td>\n",
              "      <td>NaN</td>\n",
              "      <td>NaN</td>\n",
              "    </tr>\n",
              "    <tr>\n",
              "      <th>3</th>\n",
              "      <td>17/05/2009</td>\n",
              "      <td>Domingo</td>\n",
              "      <td>15:45:00</td>\n",
              "      <td>RJ</td>\n",
              "      <td>101.0</td>\n",
              "      <td>429.0</td>\n",
              "      <td>MANGARATIBA</td>\n",
              "      <td>Falta de atenção</td>\n",
              "      <td>Colisão Transversal</td>\n",
              "      <td>Sem Vítimas</td>\n",
              "      <td>...</td>\n",
              "      <td>0</td>\n",
              "      <td>2</td>\n",
              "      <td>0</td>\n",
              "      <td>0</td>\n",
              "      <td>2</td>\n",
              "      <td>NaN</td>\n",
              "      <td>NaN</td>\n",
              "      <td>NaN</td>\n",
              "      <td>NaN</td>\n",
              "      <td>NaN</td>\n",
              "    </tr>\n",
              "    <tr>\n",
              "      <th>4</th>\n",
              "      <td>05/07/2009</td>\n",
              "      <td>Domingo</td>\n",
              "      <td>17:30:00</td>\n",
              "      <td>PE</td>\n",
              "      <td>101.0</td>\n",
              "      <td>59.2</td>\n",
              "      <td>RECIFE</td>\n",
              "      <td>Outras</td>\n",
              "      <td>Queda de motocicleta / bicicleta / veículo</td>\n",
              "      <td>Com Vítimas Feridas</td>\n",
              "      <td>...</td>\n",
              "      <td>0</td>\n",
              "      <td>0</td>\n",
              "      <td>0</td>\n",
              "      <td>1</td>\n",
              "      <td>1</td>\n",
              "      <td>NaN</td>\n",
              "      <td>NaN</td>\n",
              "      <td>NaN</td>\n",
              "      <td>NaN</td>\n",
              "      <td>NaN</td>\n",
              "    </tr>\n",
              "  </tbody>\n",
              "</table>\n",
              "<p>5 rows × 30 columns</p>\n",
              "</div>\n",
              "    <div class=\"colab-df-buttons\">\n",
              "\n",
              "  <div class=\"colab-df-container\">\n",
              "    <button class=\"colab-df-convert\" onclick=\"convertToInteractive('df-ac6e4c95-1466-415c-9493-bf9cff421f25')\"\n",
              "            title=\"Convert this dataframe to an interactive table.\"\n",
              "            style=\"display:none;\">\n",
              "\n",
              "  <svg xmlns=\"http://www.w3.org/2000/svg\" height=\"24px\" viewBox=\"0 -960 960 960\">\n",
              "    <path d=\"M120-120v-720h720v720H120Zm60-500h600v-160H180v160Zm220 220h160v-160H400v160Zm0 220h160v-160H400v160ZM180-400h160v-160H180v160Zm440 0h160v-160H620v160ZM180-180h160v-160H180v160Zm440 0h160v-160H620v160Z\"/>\n",
              "  </svg>\n",
              "    </button>\n",
              "\n",
              "  <style>\n",
              "    .colab-df-container {\n",
              "      display:flex;\n",
              "      gap: 12px;\n",
              "    }\n",
              "\n",
              "    .colab-df-convert {\n",
              "      background-color: #E8F0FE;\n",
              "      border: none;\n",
              "      border-radius: 50%;\n",
              "      cursor: pointer;\n",
              "      display: none;\n",
              "      fill: #1967D2;\n",
              "      height: 32px;\n",
              "      padding: 0 0 0 0;\n",
              "      width: 32px;\n",
              "    }\n",
              "\n",
              "    .colab-df-convert:hover {\n",
              "      background-color: #E2EBFA;\n",
              "      box-shadow: 0px 1px 2px rgba(60, 64, 67, 0.3), 0px 1px 3px 1px rgba(60, 64, 67, 0.15);\n",
              "      fill: #174EA6;\n",
              "    }\n",
              "\n",
              "    .colab-df-buttons div {\n",
              "      margin-bottom: 4px;\n",
              "    }\n",
              "\n",
              "    [theme=dark] .colab-df-convert {\n",
              "      background-color: #3B4455;\n",
              "      fill: #D2E3FC;\n",
              "    }\n",
              "\n",
              "    [theme=dark] .colab-df-convert:hover {\n",
              "      background-color: #434B5C;\n",
              "      box-shadow: 0px 1px 3px 1px rgba(0, 0, 0, 0.15);\n",
              "      filter: drop-shadow(0px 1px 2px rgba(0, 0, 0, 0.3));\n",
              "      fill: #FFFFFF;\n",
              "    }\n",
              "  </style>\n",
              "\n",
              "    <script>\n",
              "      const buttonEl =\n",
              "        document.querySelector('#df-ac6e4c95-1466-415c-9493-bf9cff421f25 button.colab-df-convert');\n",
              "      buttonEl.style.display =\n",
              "        google.colab.kernel.accessAllowed ? 'block' : 'none';\n",
              "\n",
              "      async function convertToInteractive(key) {\n",
              "        const element = document.querySelector('#df-ac6e4c95-1466-415c-9493-bf9cff421f25');\n",
              "        const dataTable =\n",
              "          await google.colab.kernel.invokeFunction('convertToInteractive',\n",
              "                                                    [key], {});\n",
              "        if (!dataTable) return;\n",
              "\n",
              "        const docLinkHtml = 'Like what you see? Visit the ' +\n",
              "          '<a target=\"_blank\" href=https://colab.research.google.com/notebooks/data_table.ipynb>data table notebook</a>'\n",
              "          + ' to learn more about interactive tables.';\n",
              "        element.innerHTML = '';\n",
              "        dataTable['output_type'] = 'display_data';\n",
              "        await google.colab.output.renderOutput(dataTable, element);\n",
              "        const docLink = document.createElement('div');\n",
              "        docLink.innerHTML = docLinkHtml;\n",
              "        element.appendChild(docLink);\n",
              "      }\n",
              "    </script>\n",
              "  </div>\n",
              "\n",
              "\n",
              "<div id=\"df-5bcab7a3-2522-4f00-8b18-5631c1d0ce22\">\n",
              "  <button class=\"colab-df-quickchart\" onclick=\"quickchart('df-5bcab7a3-2522-4f00-8b18-5631c1d0ce22')\"\n",
              "            title=\"Suggest charts\"\n",
              "            style=\"display:none;\">\n",
              "\n",
              "<svg xmlns=\"http://www.w3.org/2000/svg\" height=\"24px\"viewBox=\"0 0 24 24\"\n",
              "     width=\"24px\">\n",
              "    <g>\n",
              "        <path d=\"M19 3H5c-1.1 0-2 .9-2 2v14c0 1.1.9 2 2 2h14c1.1 0 2-.9 2-2V5c0-1.1-.9-2-2-2zM9 17H7v-7h2v7zm4 0h-2V7h2v10zm4 0h-2v-4h2v4z\"/>\n",
              "    </g>\n",
              "</svg>\n",
              "  </button>\n",
              "\n",
              "<style>\n",
              "  .colab-df-quickchart {\n",
              "      --bg-color: #E8F0FE;\n",
              "      --fill-color: #1967D2;\n",
              "      --hover-bg-color: #E2EBFA;\n",
              "      --hover-fill-color: #174EA6;\n",
              "      --disabled-fill-color: #AAA;\n",
              "      --disabled-bg-color: #DDD;\n",
              "  }\n",
              "\n",
              "  [theme=dark] .colab-df-quickchart {\n",
              "      --bg-color: #3B4455;\n",
              "      --fill-color: #D2E3FC;\n",
              "      --hover-bg-color: #434B5C;\n",
              "      --hover-fill-color: #FFFFFF;\n",
              "      --disabled-bg-color: #3B4455;\n",
              "      --disabled-fill-color: #666;\n",
              "  }\n",
              "\n",
              "  .colab-df-quickchart {\n",
              "    background-color: var(--bg-color);\n",
              "    border: none;\n",
              "    border-radius: 50%;\n",
              "    cursor: pointer;\n",
              "    display: none;\n",
              "    fill: var(--fill-color);\n",
              "    height: 32px;\n",
              "    padding: 0;\n",
              "    width: 32px;\n",
              "  }\n",
              "\n",
              "  .colab-df-quickchart:hover {\n",
              "    background-color: var(--hover-bg-color);\n",
              "    box-shadow: 0 1px 2px rgba(60, 64, 67, 0.3), 0 1px 3px 1px rgba(60, 64, 67, 0.15);\n",
              "    fill: var(--button-hover-fill-color);\n",
              "  }\n",
              "\n",
              "  .colab-df-quickchart-complete:disabled,\n",
              "  .colab-df-quickchart-complete:disabled:hover {\n",
              "    background-color: var(--disabled-bg-color);\n",
              "    fill: var(--disabled-fill-color);\n",
              "    box-shadow: none;\n",
              "  }\n",
              "\n",
              "  .colab-df-spinner {\n",
              "    border: 2px solid var(--fill-color);\n",
              "    border-color: transparent;\n",
              "    border-bottom-color: var(--fill-color);\n",
              "    animation:\n",
              "      spin 1s steps(1) infinite;\n",
              "  }\n",
              "\n",
              "  @keyframes spin {\n",
              "    0% {\n",
              "      border-color: transparent;\n",
              "      border-bottom-color: var(--fill-color);\n",
              "      border-left-color: var(--fill-color);\n",
              "    }\n",
              "    20% {\n",
              "      border-color: transparent;\n",
              "      border-left-color: var(--fill-color);\n",
              "      border-top-color: var(--fill-color);\n",
              "    }\n",
              "    30% {\n",
              "      border-color: transparent;\n",
              "      border-left-color: var(--fill-color);\n",
              "      border-top-color: var(--fill-color);\n",
              "      border-right-color: var(--fill-color);\n",
              "    }\n",
              "    40% {\n",
              "      border-color: transparent;\n",
              "      border-right-color: var(--fill-color);\n",
              "      border-top-color: var(--fill-color);\n",
              "    }\n",
              "    60% {\n",
              "      border-color: transparent;\n",
              "      border-right-color: var(--fill-color);\n",
              "    }\n",
              "    80% {\n",
              "      border-color: transparent;\n",
              "      border-right-color: var(--fill-color);\n",
              "      border-bottom-color: var(--fill-color);\n",
              "    }\n",
              "    90% {\n",
              "      border-color: transparent;\n",
              "      border-bottom-color: var(--fill-color);\n",
              "    }\n",
              "  }\n",
              "</style>\n",
              "\n",
              "  <script>\n",
              "    async function quickchart(key) {\n",
              "      const quickchartButtonEl =\n",
              "        document.querySelector('#' + key + ' button');\n",
              "      quickchartButtonEl.disabled = true;  // To prevent multiple clicks.\n",
              "      quickchartButtonEl.classList.add('colab-df-spinner');\n",
              "      try {\n",
              "        const charts = await google.colab.kernel.invokeFunction(\n",
              "            'suggestCharts', [key], {});\n",
              "      } catch (error) {\n",
              "        console.error('Error during call to suggestCharts:', error);\n",
              "      }\n",
              "      quickchartButtonEl.classList.remove('colab-df-spinner');\n",
              "      quickchartButtonEl.classList.add('colab-df-quickchart-complete');\n",
              "    }\n",
              "    (() => {\n",
              "      let quickchartButtonEl =\n",
              "        document.querySelector('#df-5bcab7a3-2522-4f00-8b18-5631c1d0ce22 button');\n",
              "      quickchartButtonEl.style.display =\n",
              "        google.colab.kernel.accessAllowed ? 'block' : 'none';\n",
              "    })();\n",
              "  </script>\n",
              "</div>\n",
              "\n",
              "    </div>\n",
              "  </div>\n"
            ],
            "text/plain": [
              "  data_inversa dia_semana   horario  uf     br     km    municipio  \\\n",
              "0   10/11/2009      Terça  14:10:00  MG  381.0  495.0        BETIM   \n",
              "1   16/10/2009      Sexta  04:35:00  MG  251.0  419.6   GRAO MOGOL   \n",
              "2   20/09/2009    Domingo  20:00:00  PI  316.0   24.0     TERESINA   \n",
              "3   17/05/2009    Domingo  15:45:00  RJ  101.0  429.0  MANGARATIBA   \n",
              "4   05/07/2009    Domingo  17:30:00  PE  101.0   59.2       RECIFE   \n",
              "\n",
              "            causa_acidente                               tipo_acidente  \\\n",
              "0  Velocidade incompatível                            Colisão traseira   \n",
              "1                   Outras                             Colisão frontal   \n",
              "2                 Dormindo                              Saída de Pista   \n",
              "3         Falta de atenção                         Colisão Transversal   \n",
              "4                   Outras  Queda de motocicleta / bicicleta / veículo   \n",
              "\n",
              "  classificacao_acidente  ... feridos_graves ilesos ignorados feridos  \\\n",
              "0    Com Vítimas Feridas  ...              0      1         0       4   \n",
              "1     Com Vítimas Fatais  ...              5      0         0       5   \n",
              "2    Com Vítimas Feridas  ...              4      0         0       6   \n",
              "3            Sem Vítimas  ...              0      2         0       0   \n",
              "4    Com Vítimas Feridas  ...              0      0         0       1   \n",
              "\n",
              "  veiculos latitude  longitude  regional  delegacia  uop  \n",
              "0        2      NaN        NaN       NaN        NaN  NaN  \n",
              "1        2      NaN        NaN       NaN        NaN  NaN  \n",
              "2        1      NaN        NaN       NaN        NaN  NaN  \n",
              "3        2      NaN        NaN       NaN        NaN  NaN  \n",
              "4        1      NaN        NaN       NaN        NaN  NaN  \n",
              "\n",
              "[5 rows x 30 columns]"
            ]
          },
          "execution_count": 56,
          "metadata": {},
          "output_type": "execute_result"
        }
      ],
      "source": [
        "df=pd.read_csv(\"/content/drive/MyDrive/Santander Coders/Estatistica/datatran2007-2022.csv\")\n",
        "df.head()"
      ]
    },
    {
      "cell_type": "markdown",
      "metadata": {
        "id": "CnrP9ai8zn7X"
      },
      "source": [
        "## Data preprocessing"
      ]
    },
    {
      "cell_type": "code",
      "execution_count": 57,
      "metadata": {
        "id": "ZvbQQYFpywnt"
      },
      "outputs": [],
      "source": [
        "# Transforming and creating additional columns for dates\n",
        "df=date_engineering(df)\n",
        "df[\"hour\"]=time_col(df[\"horario\"])"
      ]
    },
    {
      "cell_type": "code",
      "execution_count": 58,
      "metadata": {
        "colab": {
          "base_uri": "https://localhost:8080/",
          "height": 0
        },
        "id": "dE-85bhct17z",
        "outputId": "a5989510-03be-4dd2-9e2d-85881e945858"
      },
      "outputs": [
        {
          "data": {
            "application/vnd.google.colaboratory.intrinsic+json": {
              "summary": "{\n  \"name\": \"df\",\n  \"rows\": 35,\n  \"fields\": [\n    {\n      \"column\": \"missing\",\n      \"properties\": {\n        \"dtype\": \"number\",\n        \"std\": 555473,\n        \"min\": 0,\n        \"max\": 1563088,\n        \"num_unique_values\": 14,\n        \"samples\": [\n          26,\n          10,\n          1563088\n        ],\n        \"semantic_type\": \"\",\n        \"description\": \"\"\n      }\n    },\n    {\n      \"column\": \"total\",\n      \"properties\": {\n        \"dtype\": \"number\",\n        \"std\": 0,\n        \"min\": 1981317,\n        \"max\": 1981317,\n        \"num_unique_values\": 1,\n        \"samples\": [\n          1981317\n        ],\n        \"semantic_type\": \"\",\n        \"description\": \"\"\n      }\n    },\n    {\n      \"column\": \"percent\",\n      \"properties\": {\n        \"dtype\": \"number\",\n        \"std\": 28.03559153195792,\n        \"min\": 0.0,\n        \"max\": 78.89136367375842,\n        \"num_unique_values\": 14,\n        \"samples\": [\n          0.0013122584624267596\n        ],\n        \"semantic_type\": \"\",\n        \"description\": \"\"\n      }\n    }\n  ]\n}",
              "type": "dataframe"
            },
            "text/html": [
              "\n",
              "  <div id=\"df-02184f5b-0971-4b16-9394-f8f0e097e23e\" class=\"colab-df-container\">\n",
              "    <div>\n",
              "<style scoped>\n",
              "    .dataframe tbody tr th:only-of-type {\n",
              "        vertical-align: middle;\n",
              "    }\n",
              "\n",
              "    .dataframe tbody tr th {\n",
              "        vertical-align: top;\n",
              "    }\n",
              "\n",
              "    .dataframe thead th {\n",
              "        text-align: right;\n",
              "    }\n",
              "</style>\n",
              "<table border=\"1\" class=\"dataframe\">\n",
              "  <thead>\n",
              "    <tr style=\"text-align: right;\">\n",
              "      <th></th>\n",
              "      <th>missing</th>\n",
              "      <th>total</th>\n",
              "      <th>percent</th>\n",
              "    </tr>\n",
              "  </thead>\n",
              "  <tbody>\n",
              "    <tr>\n",
              "      <th>delegacia</th>\n",
              "      <td>1563088</td>\n",
              "      <td>1981317</td>\n",
              "      <td>78.891364</td>\n",
              "    </tr>\n",
              "    <tr>\n",
              "      <th>uop</th>\n",
              "      <td>1563008</td>\n",
              "      <td>1981317</td>\n",
              "      <td>78.887326</td>\n",
              "    </tr>\n",
              "    <tr>\n",
              "      <th>regional</th>\n",
              "      <td>1562206</td>\n",
              "      <td>1981317</td>\n",
              "      <td>78.846848</td>\n",
              "    </tr>\n",
              "    <tr>\n",
              "      <th>latitude</th>\n",
              "      <td>1562200</td>\n",
              "      <td>1981317</td>\n",
              "      <td>78.846545</td>\n",
              "    </tr>\n",
              "    <tr>\n",
              "      <th>longitude</th>\n",
              "      <td>1562200</td>\n",
              "      <td>1981317</td>\n",
              "      <td>78.846545</td>\n",
              "    </tr>\n",
              "    <tr>\n",
              "      <th>ano</th>\n",
              "      <td>515480</td>\n",
              "      <td>1981317</td>\n",
              "      <td>26.017038</td>\n",
              "    </tr>\n",
              "    <tr>\n",
              "      <th>km</th>\n",
              "      <td>894</td>\n",
              "      <td>1981317</td>\n",
              "      <td>0.045122</td>\n",
              "    </tr>\n",
              "    <tr>\n",
              "      <th>br</th>\n",
              "      <td>894</td>\n",
              "      <td>1981317</td>\n",
              "      <td>0.045122</td>\n",
              "    </tr>\n",
              "    <tr>\n",
              "      <th>fase_dia</th>\n",
              "      <td>70</td>\n",
              "      <td>1981317</td>\n",
              "      <td>0.003533</td>\n",
              "    </tr>\n",
              "    <tr>\n",
              "      <th>condicao_metereologica</th>\n",
              "      <td>61</td>\n",
              "      <td>1981317</td>\n",
              "      <td>0.003079</td>\n",
              "    </tr>\n",
              "    <tr>\n",
              "      <th>tipo_acidente</th>\n",
              "      <td>40</td>\n",
              "      <td>1981317</td>\n",
              "      <td>0.002019</td>\n",
              "    </tr>\n",
              "    <tr>\n",
              "      <th>classificacao_acidente</th>\n",
              "      <td>26</td>\n",
              "      <td>1981317</td>\n",
              "      <td>0.001312</td>\n",
              "    </tr>\n",
              "    <tr>\n",
              "      <th>uf</th>\n",
              "      <td>12</td>\n",
              "      <td>1981317</td>\n",
              "      <td>0.000606</td>\n",
              "    </tr>\n",
              "    <tr>\n",
              "      <th>tipo_pista</th>\n",
              "      <td>10</td>\n",
              "      <td>1981317</td>\n",
              "      <td>0.000505</td>\n",
              "    </tr>\n",
              "    <tr>\n",
              "      <th>tracado_via</th>\n",
              "      <td>10</td>\n",
              "      <td>1981317</td>\n",
              "      <td>0.000505</td>\n",
              "    </tr>\n",
              "    <tr>\n",
              "      <th>uso_solo</th>\n",
              "      <td>10</td>\n",
              "      <td>1981317</td>\n",
              "      <td>0.000505</td>\n",
              "    </tr>\n",
              "    <tr>\n",
              "      <th>causa_acidente</th>\n",
              "      <td>2</td>\n",
              "      <td>1981317</td>\n",
              "      <td>0.000101</td>\n",
              "    </tr>\n",
              "    <tr>\n",
              "      <th>data_inversa</th>\n",
              "      <td>0</td>\n",
              "      <td>1981317</td>\n",
              "      <td>0.000000</td>\n",
              "    </tr>\n",
              "    <tr>\n",
              "      <th>year</th>\n",
              "      <td>0</td>\n",
              "      <td>1981317</td>\n",
              "      <td>0.000000</td>\n",
              "    </tr>\n",
              "    <tr>\n",
              "      <th>veiculos</th>\n",
              "      <td>0</td>\n",
              "      <td>1981317</td>\n",
              "      <td>0.000000</td>\n",
              "    </tr>\n",
              "    <tr>\n",
              "      <th>quarter</th>\n",
              "      <td>0</td>\n",
              "      <td>1981317</td>\n",
              "      <td>0.000000</td>\n",
              "    </tr>\n",
              "    <tr>\n",
              "      <th>quarter_end</th>\n",
              "      <td>0</td>\n",
              "      <td>1981317</td>\n",
              "      <td>0.000000</td>\n",
              "    </tr>\n",
              "    <tr>\n",
              "      <th>month</th>\n",
              "      <td>0</td>\n",
              "      <td>1981317</td>\n",
              "      <td>0.000000</td>\n",
              "    </tr>\n",
              "    <tr>\n",
              "      <th>pessoas</th>\n",
              "      <td>0</td>\n",
              "      <td>1981317</td>\n",
              "      <td>0.000000</td>\n",
              "    </tr>\n",
              "    <tr>\n",
              "      <th>feridos</th>\n",
              "      <td>0</td>\n",
              "      <td>1981317</td>\n",
              "      <td>0.000000</td>\n",
              "    </tr>\n",
              "    <tr>\n",
              "      <th>ignorados</th>\n",
              "      <td>0</td>\n",
              "      <td>1981317</td>\n",
              "      <td>0.000000</td>\n",
              "    </tr>\n",
              "    <tr>\n",
              "      <th>ilesos</th>\n",
              "      <td>0</td>\n",
              "      <td>1981317</td>\n",
              "      <td>0.000000</td>\n",
              "    </tr>\n",
              "    <tr>\n",
              "      <th>feridos_graves</th>\n",
              "      <td>0</td>\n",
              "      <td>1981317</td>\n",
              "      <td>0.000000</td>\n",
              "    </tr>\n",
              "    <tr>\n",
              "      <th>feridos_leves</th>\n",
              "      <td>0</td>\n",
              "      <td>1981317</td>\n",
              "      <td>0.000000</td>\n",
              "    </tr>\n",
              "    <tr>\n",
              "      <th>mortos</th>\n",
              "      <td>0</td>\n",
              "      <td>1981317</td>\n",
              "      <td>0.000000</td>\n",
              "    </tr>\n",
              "    <tr>\n",
              "      <th>dia_semana</th>\n",
              "      <td>0</td>\n",
              "      <td>1981317</td>\n",
              "      <td>0.000000</td>\n",
              "    </tr>\n",
              "    <tr>\n",
              "      <th>sentido_via</th>\n",
              "      <td>0</td>\n",
              "      <td>1981317</td>\n",
              "      <td>0.000000</td>\n",
              "    </tr>\n",
              "    <tr>\n",
              "      <th>municipio</th>\n",
              "      <td>0</td>\n",
              "      <td>1981317</td>\n",
              "      <td>0.000000</td>\n",
              "    </tr>\n",
              "    <tr>\n",
              "      <th>horario</th>\n",
              "      <td>0</td>\n",
              "      <td>1981317</td>\n",
              "      <td>0.000000</td>\n",
              "    </tr>\n",
              "    <tr>\n",
              "      <th>hour</th>\n",
              "      <td>0</td>\n",
              "      <td>1981317</td>\n",
              "      <td>0.000000</td>\n",
              "    </tr>\n",
              "  </tbody>\n",
              "</table>\n",
              "</div>\n",
              "    <div class=\"colab-df-buttons\">\n",
              "\n",
              "  <div class=\"colab-df-container\">\n",
              "    <button class=\"colab-df-convert\" onclick=\"convertToInteractive('df-02184f5b-0971-4b16-9394-f8f0e097e23e')\"\n",
              "            title=\"Convert this dataframe to an interactive table.\"\n",
              "            style=\"display:none;\">\n",
              "\n",
              "  <svg xmlns=\"http://www.w3.org/2000/svg\" height=\"24px\" viewBox=\"0 -960 960 960\">\n",
              "    <path d=\"M120-120v-720h720v720H120Zm60-500h600v-160H180v160Zm220 220h160v-160H400v160Zm0 220h160v-160H400v160ZM180-400h160v-160H180v160Zm440 0h160v-160H620v160ZM180-180h160v-160H180v160Zm440 0h160v-160H620v160Z\"/>\n",
              "  </svg>\n",
              "    </button>\n",
              "\n",
              "  <style>\n",
              "    .colab-df-container {\n",
              "      display:flex;\n",
              "      gap: 12px;\n",
              "    }\n",
              "\n",
              "    .colab-df-convert {\n",
              "      background-color: #E8F0FE;\n",
              "      border: none;\n",
              "      border-radius: 50%;\n",
              "      cursor: pointer;\n",
              "      display: none;\n",
              "      fill: #1967D2;\n",
              "      height: 32px;\n",
              "      padding: 0 0 0 0;\n",
              "      width: 32px;\n",
              "    }\n",
              "\n",
              "    .colab-df-convert:hover {\n",
              "      background-color: #E2EBFA;\n",
              "      box-shadow: 0px 1px 2px rgba(60, 64, 67, 0.3), 0px 1px 3px 1px rgba(60, 64, 67, 0.15);\n",
              "      fill: #174EA6;\n",
              "    }\n",
              "\n",
              "    .colab-df-buttons div {\n",
              "      margin-bottom: 4px;\n",
              "    }\n",
              "\n",
              "    [theme=dark] .colab-df-convert {\n",
              "      background-color: #3B4455;\n",
              "      fill: #D2E3FC;\n",
              "    }\n",
              "\n",
              "    [theme=dark] .colab-df-convert:hover {\n",
              "      background-color: #434B5C;\n",
              "      box-shadow: 0px 1px 3px 1px rgba(0, 0, 0, 0.15);\n",
              "      filter: drop-shadow(0px 1px 2px rgba(0, 0, 0, 0.3));\n",
              "      fill: #FFFFFF;\n",
              "    }\n",
              "  </style>\n",
              "\n",
              "    <script>\n",
              "      const buttonEl =\n",
              "        document.querySelector('#df-02184f5b-0971-4b16-9394-f8f0e097e23e button.colab-df-convert');\n",
              "      buttonEl.style.display =\n",
              "        google.colab.kernel.accessAllowed ? 'block' : 'none';\n",
              "\n",
              "      async function convertToInteractive(key) {\n",
              "        const element = document.querySelector('#df-02184f5b-0971-4b16-9394-f8f0e097e23e');\n",
              "        const dataTable =\n",
              "          await google.colab.kernel.invokeFunction('convertToInteractive',\n",
              "                                                    [key], {});\n",
              "        if (!dataTable) return;\n",
              "\n",
              "        const docLinkHtml = 'Like what you see? Visit the ' +\n",
              "          '<a target=\"_blank\" href=https://colab.research.google.com/notebooks/data_table.ipynb>data table notebook</a>'\n",
              "          + ' to learn more about interactive tables.';\n",
              "        element.innerHTML = '';\n",
              "        dataTable['output_type'] = 'display_data';\n",
              "        await google.colab.output.renderOutput(dataTable, element);\n",
              "        const docLink = document.createElement('div');\n",
              "        docLink.innerHTML = docLinkHtml;\n",
              "        element.appendChild(docLink);\n",
              "      }\n",
              "    </script>\n",
              "  </div>\n",
              "\n",
              "\n",
              "<div id=\"df-c8fae150-c385-4865-88be-8e76c6539ea5\">\n",
              "  <button class=\"colab-df-quickchart\" onclick=\"quickchart('df-c8fae150-c385-4865-88be-8e76c6539ea5')\"\n",
              "            title=\"Suggest charts\"\n",
              "            style=\"display:none;\">\n",
              "\n",
              "<svg xmlns=\"http://www.w3.org/2000/svg\" height=\"24px\"viewBox=\"0 0 24 24\"\n",
              "     width=\"24px\">\n",
              "    <g>\n",
              "        <path d=\"M19 3H5c-1.1 0-2 .9-2 2v14c0 1.1.9 2 2 2h14c1.1 0 2-.9 2-2V5c0-1.1-.9-2-2-2zM9 17H7v-7h2v7zm4 0h-2V7h2v10zm4 0h-2v-4h2v4z\"/>\n",
              "    </g>\n",
              "</svg>\n",
              "  </button>\n",
              "\n",
              "<style>\n",
              "  .colab-df-quickchart {\n",
              "      --bg-color: #E8F0FE;\n",
              "      --fill-color: #1967D2;\n",
              "      --hover-bg-color: #E2EBFA;\n",
              "      --hover-fill-color: #174EA6;\n",
              "      --disabled-fill-color: #AAA;\n",
              "      --disabled-bg-color: #DDD;\n",
              "  }\n",
              "\n",
              "  [theme=dark] .colab-df-quickchart {\n",
              "      --bg-color: #3B4455;\n",
              "      --fill-color: #D2E3FC;\n",
              "      --hover-bg-color: #434B5C;\n",
              "      --hover-fill-color: #FFFFFF;\n",
              "      --disabled-bg-color: #3B4455;\n",
              "      --disabled-fill-color: #666;\n",
              "  }\n",
              "\n",
              "  .colab-df-quickchart {\n",
              "    background-color: var(--bg-color);\n",
              "    border: none;\n",
              "    border-radius: 50%;\n",
              "    cursor: pointer;\n",
              "    display: none;\n",
              "    fill: var(--fill-color);\n",
              "    height: 32px;\n",
              "    padding: 0;\n",
              "    width: 32px;\n",
              "  }\n",
              "\n",
              "  .colab-df-quickchart:hover {\n",
              "    background-color: var(--hover-bg-color);\n",
              "    box-shadow: 0 1px 2px rgba(60, 64, 67, 0.3), 0 1px 3px 1px rgba(60, 64, 67, 0.15);\n",
              "    fill: var(--button-hover-fill-color);\n",
              "  }\n",
              "\n",
              "  .colab-df-quickchart-complete:disabled,\n",
              "  .colab-df-quickchart-complete:disabled:hover {\n",
              "    background-color: var(--disabled-bg-color);\n",
              "    fill: var(--disabled-fill-color);\n",
              "    box-shadow: none;\n",
              "  }\n",
              "\n",
              "  .colab-df-spinner {\n",
              "    border: 2px solid var(--fill-color);\n",
              "    border-color: transparent;\n",
              "    border-bottom-color: var(--fill-color);\n",
              "    animation:\n",
              "      spin 1s steps(1) infinite;\n",
              "  }\n",
              "\n",
              "  @keyframes spin {\n",
              "    0% {\n",
              "      border-color: transparent;\n",
              "      border-bottom-color: var(--fill-color);\n",
              "      border-left-color: var(--fill-color);\n",
              "    }\n",
              "    20% {\n",
              "      border-color: transparent;\n",
              "      border-left-color: var(--fill-color);\n",
              "      border-top-color: var(--fill-color);\n",
              "    }\n",
              "    30% {\n",
              "      border-color: transparent;\n",
              "      border-left-color: var(--fill-color);\n",
              "      border-top-color: var(--fill-color);\n",
              "      border-right-color: var(--fill-color);\n",
              "    }\n",
              "    40% {\n",
              "      border-color: transparent;\n",
              "      border-right-color: var(--fill-color);\n",
              "      border-top-color: var(--fill-color);\n",
              "    }\n",
              "    60% {\n",
              "      border-color: transparent;\n",
              "      border-right-color: var(--fill-color);\n",
              "    }\n",
              "    80% {\n",
              "      border-color: transparent;\n",
              "      border-right-color: var(--fill-color);\n",
              "      border-bottom-color: var(--fill-color);\n",
              "    }\n",
              "    90% {\n",
              "      border-color: transparent;\n",
              "      border-bottom-color: var(--fill-color);\n",
              "    }\n",
              "  }\n",
              "</style>\n",
              "\n",
              "  <script>\n",
              "    async function quickchart(key) {\n",
              "      const quickchartButtonEl =\n",
              "        document.querySelector('#' + key + ' button');\n",
              "      quickchartButtonEl.disabled = true;  // To prevent multiple clicks.\n",
              "      quickchartButtonEl.classList.add('colab-df-spinner');\n",
              "      try {\n",
              "        const charts = await google.colab.kernel.invokeFunction(\n",
              "            'suggestCharts', [key], {});\n",
              "      } catch (error) {\n",
              "        console.error('Error during call to suggestCharts:', error);\n",
              "      }\n",
              "      quickchartButtonEl.classList.remove('colab-df-spinner');\n",
              "      quickchartButtonEl.classList.add('colab-df-quickchart-complete');\n",
              "    }\n",
              "    (() => {\n",
              "      let quickchartButtonEl =\n",
              "        document.querySelector('#df-c8fae150-c385-4865-88be-8e76c6539ea5 button');\n",
              "      quickchartButtonEl.style.display =\n",
              "        google.colab.kernel.accessAllowed ? 'block' : 'none';\n",
              "    })();\n",
              "  </script>\n",
              "</div>\n",
              "\n",
              "    </div>\n",
              "  </div>\n"
            ],
            "text/plain": [
              "                        missing    total    percent\n",
              "delegacia               1563088  1981317  78.891364\n",
              "uop                     1563008  1981317  78.887326\n",
              "regional                1562206  1981317  78.846848\n",
              "latitude                1562200  1981317  78.846545\n",
              "longitude               1562200  1981317  78.846545\n",
              "ano                      515480  1981317  26.017038\n",
              "km                          894  1981317   0.045122\n",
              "br                          894  1981317   0.045122\n",
              "fase_dia                     70  1981317   0.003533\n",
              "condicao_metereologica       61  1981317   0.003079\n",
              "tipo_acidente                40  1981317   0.002019\n",
              "classificacao_acidente       26  1981317   0.001312\n",
              "uf                           12  1981317   0.000606\n",
              "tipo_pista                   10  1981317   0.000505\n",
              "tracado_via                  10  1981317   0.000505\n",
              "uso_solo                     10  1981317   0.000505\n",
              "causa_acidente                2  1981317   0.000101\n",
              "data_inversa                  0  1981317   0.000000\n",
              "year                          0  1981317   0.000000\n",
              "veiculos                      0  1981317   0.000000\n",
              "quarter                       0  1981317   0.000000\n",
              "quarter_end                   0  1981317   0.000000\n",
              "month                         0  1981317   0.000000\n",
              "pessoas                       0  1981317   0.000000\n",
              "feridos                       0  1981317   0.000000\n",
              "ignorados                     0  1981317   0.000000\n",
              "ilesos                        0  1981317   0.000000\n",
              "feridos_graves                0  1981317   0.000000\n",
              "feridos_leves                 0  1981317   0.000000\n",
              "mortos                        0  1981317   0.000000\n",
              "dia_semana                    0  1981317   0.000000\n",
              "sentido_via                   0  1981317   0.000000\n",
              "municipio                     0  1981317   0.000000\n",
              "horario                       0  1981317   0.000000\n",
              "hour                          0  1981317   0.000000"
            ]
          },
          "execution_count": 58,
          "metadata": {},
          "output_type": "execute_result"
        }
      ],
      "source": [
        "# Percentage of missing data\n",
        "df.stb.missing()"
      ]
    },
    {
      "cell_type": "code",
      "execution_count": 59,
      "metadata": {
        "colab": {
          "base_uri": "https://localhost:8080/"
        },
        "id": "czca3SYDyV1a",
        "outputId": "8a6e5dad-4ffc-49de-980c-8b496baca716"
      },
      "outputs": [
        {
          "name": "stdout",
          "output_type": "stream",
          "text": [
            "        data_inversa dia_semana   horario  uf     br     km  \\\n",
            "1256430   2007-01-01    Segunda  06:30:00  PA  316.0    9.0   \n",
            "1257103   2007-01-01    Segunda  08:40:00  MG  381.0  397.4   \n",
            "1256115   2007-01-01    Segunda  15:20:00  SC  282.0   23.0   \n",
            "1260278   2007-01-01    Segunda  14:00:00  MG   40.0  120.8   \n",
            "1257102   2007-01-01    Segunda  12:00:00  MG   50.0    0.2   \n",
            "\n",
            "                         municipio               causa_acidente  \\\n",
            "1256430                 ANANINDEUA  Desobediência à sinalização   \n",
            "1257103                 NOVA UNIAO                       Outras   \n",
            "1256115  SANTO AMARO DA IMPERATRIZ  Desobediência à sinalização   \n",
            "1260278               LAGOA GRANDE                     Dormindo   \n",
            "1257102                   ARAGUARI                       Outras   \n",
            "\n",
            "               tipo_acidente classificacao_acidente  ... latitude longitude  \\\n",
            "1256430  Colisão Transversal    Com Vítimas Feridas  ...      NaN       NaN   \n",
            "1257103       Saída de Pista            Sem Vítimas  ...      NaN       NaN   \n",
            "1256115  Colisão Transversal    Com Vítimas Feridas  ...      NaN       NaN   \n",
            "1260278       Saída de Pista            Sem Vítimas  ...      NaN       NaN   \n",
            "1257102       Saída de Pista    Com Vítimas Feridas  ...      NaN       NaN   \n",
            "\n",
            "        regional delegacia  uop  year  month  quarter  quarter_end  hour  \n",
            "1256430      NaN       NaN  NaN  2007      1        1        False    06  \n",
            "1257103      NaN       NaN  NaN  2007      1        1        False    08  \n",
            "1256115      NaN       NaN  NaN  2007      1        1        False    15  \n",
            "1260278      NaN       NaN  NaN  2007      1        1        False    14  \n",
            "1257102      NaN       NaN  NaN  2007      1        1        False    12  \n",
            "\n",
            "[5 rows x 35 columns]\n",
            "        data_inversa dia_semana   horario  uf     br     km  \\\n",
            "1788483   2022-12-31     sábado  16:25:00  PR  153.0   51,9   \n",
            "1788482   2022-12-31     sábado  17:00:00  RS  285.0  211,5   \n",
            "1788481   2022-12-31     sábado  16:40:00  SC  470.0   21,7   \n",
            "1788506   2022-12-31     sábado  18:50:00  AL  316.0  165,2   \n",
            "1788519   2022-12-31     sábado  20:40:00  SC  116.0  231,7   \n",
            "\n",
            "                        municipio  \\\n",
            "1788483  SANTO ANTONIO DA PLATINA   \n",
            "1788482                  CASEIROS   \n",
            "1788481                    ILHOTA   \n",
            "1788506       PALMEIRA DOS INDIOS   \n",
            "1788519             CORREIA PINTO   \n",
            "\n",
            "                                            causa_acidente  \\\n",
            "1788483                   Ingestão de álcool pelo condutor   \n",
            "1788482  Acessar a via sem observar a presença dos outr...   \n",
            "1788481            Avarias e/ou desgaste excessivo no pneu   \n",
            "1788506                                   Animais na Pista   \n",
            "1788519                            Velocidade Incompatível   \n",
            "\n",
            "                     tipo_acidente classificacao_acidente  ...      latitude  \\\n",
            "1788483  Saída de leito carroçável    Com Vítimas Feridas  ...  -23,37173099   \n",
            "1788482        Colisão transversal            Sem Vítimas  ...  -28,23704643   \n",
            "1788481                 Tombamento    Com Vítimas Feridas  ...    -26,876698   \n",
            "1788506    Atropelamento de Animal    Com Vítimas Feridas  ...   -9,48239127   \n",
            "1788519  Saída de leito carroçável    Com Vítimas Feridas  ...  -27,67428901   \n",
            "\n",
            "            longitude regional delegacia             uop  year  month  \\\n",
            "1788483  -50,06416197  SPRF-PR  DEL07-PR  UOP04-DEL07-PR  2022     12   \n",
            "1788482  -51,63974404  SPRF-RS  DEL08-RS  UOP05-DEL08-RS  2022     12   \n",
            "1788481    -48,827362  SPRF-SC  DEL04-SC  UOP04-DEL04-SC  2022     12   \n",
            "1788506  -36,57309034  SPRF-AL  DEL03-AL  UOP01-DEL03-AL  2022     12   \n",
            "1788519  -50,33598326  SPRF-SC  DEL05-SC  UOP03-DEL05-SC  2022     12   \n",
            "\n",
            "         quarter  quarter_end  hour  \n",
            "1788483        4         True    16  \n",
            "1788482        4         True    17  \n",
            "1788481        4         True    16  \n",
            "1788506        4         True    18  \n",
            "1788519        4         True    20  \n",
            "\n",
            "[5 rows x 35 columns]\n"
          ]
        }
      ],
      "source": [
        "#Sorting dates\n",
        "df=df.sort_values(by=\"data_inversa\")\n",
        "print(f\"{df.head()}\")\n",
        "print(f\"{df.tail()}\")"
      ]
    },
    {
      "cell_type": "code",
      "execution_count": 60,
      "metadata": {
        "colab": {
          "base_uri": "https://localhost:8080/",
          "height": 0
        },
        "id": "ywEMrhtVtpUR",
        "outputId": "467bdcec-d896-4c3f-8e60-9cda8be66b6e"
      },
      "outputs": [
        {
          "data": {
            "text/plain": [
              "<Axes: >"
            ]
          },
          "execution_count": 60,
          "metadata": {},
          "output_type": "execute_result"
        },
        {
          "data": {
            "image/png": "[encoded data removed]",
            "text/plain": [
              "<Figure size 2500x1000 with 2 Axes>"
            ]
          },
          "metadata": {},
          "output_type": "display_data"
        }
      ],
      "source": [
        "msno.matrix(df)"
      ]
    },
    {
      "cell_type": "code",
      "execution_count": 61,
      "metadata": {
        "colab": {
          "base_uri": "https://localhost:8080/",
          "height": 0
        },
        "id": "g4zMowZJxP7V",
        "outputId": "69c9d456-ceaa-4737-97c4-62c30e1e5986"
      },
      "outputs": [
        {
          "data": {
            "text/plain": [
              "<Axes: >"
            ]
          },
          "execution_count": 61,
          "metadata": {},
          "output_type": "execute_result"
        },
        {
          "data": {
            "image/png": "[encoded data removed]",
            "text/plain": [
              "<Figure size 2500x1000 with 3 Axes>"
            ]
          },
          "metadata": {},
          "output_type": "display_data"
        }
      ],
      "source": [
        "msno.bar(df)"
      ]
    },
    {
      "cell_type": "code",
      "execution_count": 62,
      "metadata": {
        "id": "rLXwpGS73Y3n"
      },
      "outputs": [],
      "source": [
        "df=df.drop(columns=[\"latitude\",\"longitude\",\"regional\",\"delegacia\",\"uop\",\"ano\",\"municipio\"])"
      ]
    },
    {
      "cell_type": "code",
      "execution_count": 63,
      "metadata": {
        "colab": {
          "base_uri": "https://localhost:8080/",
          "height": 0
        },
        "id": "KpFej2p74snq",
        "outputId": "6bc05399-cc42-4f18-9aa5-73dcb3eb9ece"
      },
      "outputs": [
        {
          "data": {
            "application/vnd.google.colaboratory.intrinsic+json": {
              "summary": "{\n  \"name\": \"df\",\n  \"rows\": 28,\n  \"fields\": [\n    {\n      \"column\": \"missing\",\n      \"properties\": {\n        \"dtype\": \"number\",\n        \"std\": 232,\n        \"min\": 0,\n        \"max\": 894,\n        \"num_unique_values\": 9,\n        \"samples\": [\n          2,\n          70,\n          12\n        ],\n        \"semantic_type\": \"\",\n        \"description\": \"\"\n      }\n    },\n    {\n      \"column\": \"total\",\n      \"properties\": {\n        \"dtype\": \"number\",\n        \"std\": 0,\n        \"min\": 1981317,\n        \"max\": 1981317,\n        \"num_unique_values\": 1,\n        \"samples\": [\n          1981317\n        ],\n        \"semantic_type\": \"\",\n        \"description\": \"\"\n      }\n    },\n    {\n      \"column\": \"percent\",\n      \"properties\": {\n        \"dtype\": \"number\",\n        \"std\": 0.011747749916282609,\n        \"min\": 0.0,\n        \"max\": 0.04512150251575089,\n        \"num_unique_values\": 9,\n        \"samples\": [\n          0.00010094295864821227\n        ],\n        \"semantic_type\": \"\",\n        \"description\": \"\"\n      }\n    }\n  ]\n}",
              "type": "dataframe"
            },
            "text/html": [
              "\n",
              "  <div id=\"df-525cc9e6-aeff-4fdd-9be3-4bd41f728434\" class=\"colab-df-container\">\n",
              "    <div>\n",
              "<style scoped>\n",
              "    .dataframe tbody tr th:only-of-type {\n",
              "        vertical-align: middle;\n",
              "    }\n",
              "\n",
              "    .dataframe tbody tr th {\n",
              "        vertical-align: top;\n",
              "    }\n",
              "\n",
              "    .dataframe thead th {\n",
              "        text-align: right;\n",
              "    }\n",
              "</style>\n",
              "<table border=\"1\" class=\"dataframe\">\n",
              "  <thead>\n",
              "    <tr style=\"text-align: right;\">\n",
              "      <th></th>\n",
              "      <th>missing</th>\n",
              "      <th>total</th>\n",
              "      <th>percent</th>\n",
              "    </tr>\n",
              "  </thead>\n",
              "  <tbody>\n",
              "    <tr>\n",
              "      <th>br</th>\n",
              "      <td>894</td>\n",
              "      <td>1981317</td>\n",
              "      <td>0.045122</td>\n",
              "    </tr>\n",
              "    <tr>\n",
              "      <th>km</th>\n",
              "      <td>894</td>\n",
              "      <td>1981317</td>\n",
              "      <td>0.045122</td>\n",
              "    </tr>\n",
              "    <tr>\n",
              "      <th>fase_dia</th>\n",
              "      <td>70</td>\n",
              "      <td>1981317</td>\n",
              "      <td>0.003533</td>\n",
              "    </tr>\n",
              "    <tr>\n",
              "      <th>condicao_metereologica</th>\n",
              "      <td>61</td>\n",
              "      <td>1981317</td>\n",
              "      <td>0.003079</td>\n",
              "    </tr>\n",
              "    <tr>\n",
              "      <th>tipo_acidente</th>\n",
              "      <td>40</td>\n",
              "      <td>1981317</td>\n",
              "      <td>0.002019</td>\n",
              "    </tr>\n",
              "    <tr>\n",
              "      <th>classificacao_acidente</th>\n",
              "      <td>26</td>\n",
              "      <td>1981317</td>\n",
              "      <td>0.001312</td>\n",
              "    </tr>\n",
              "    <tr>\n",
              "      <th>uf</th>\n",
              "      <td>12</td>\n",
              "      <td>1981317</td>\n",
              "      <td>0.000606</td>\n",
              "    </tr>\n",
              "    <tr>\n",
              "      <th>tracado_via</th>\n",
              "      <td>10</td>\n",
              "      <td>1981317</td>\n",
              "      <td>0.000505</td>\n",
              "    </tr>\n",
              "    <tr>\n",
              "      <th>tipo_pista</th>\n",
              "      <td>10</td>\n",
              "      <td>1981317</td>\n",
              "      <td>0.000505</td>\n",
              "    </tr>\n",
              "    <tr>\n",
              "      <th>uso_solo</th>\n",
              "      <td>10</td>\n",
              "      <td>1981317</td>\n",
              "      <td>0.000505</td>\n",
              "    </tr>\n",
              "    <tr>\n",
              "      <th>causa_acidente</th>\n",
              "      <td>2</td>\n",
              "      <td>1981317</td>\n",
              "      <td>0.000101</td>\n",
              "    </tr>\n",
              "    <tr>\n",
              "      <th>quarter</th>\n",
              "      <td>0</td>\n",
              "      <td>1981317</td>\n",
              "      <td>0.000000</td>\n",
              "    </tr>\n",
              "    <tr>\n",
              "      <th>ilesos</th>\n",
              "      <td>0</td>\n",
              "      <td>1981317</td>\n",
              "      <td>0.000000</td>\n",
              "    </tr>\n",
              "    <tr>\n",
              "      <th>quarter_end</th>\n",
              "      <td>0</td>\n",
              "      <td>1981317</td>\n",
              "      <td>0.000000</td>\n",
              "    </tr>\n",
              "    <tr>\n",
              "      <th>month</th>\n",
              "      <td>0</td>\n",
              "      <td>1981317</td>\n",
              "      <td>0.000000</td>\n",
              "    </tr>\n",
              "    <tr>\n",
              "      <th>year</th>\n",
              "      <td>0</td>\n",
              "      <td>1981317</td>\n",
              "      <td>0.000000</td>\n",
              "    </tr>\n",
              "    <tr>\n",
              "      <th>veiculos</th>\n",
              "      <td>0</td>\n",
              "      <td>1981317</td>\n",
              "      <td>0.000000</td>\n",
              "    </tr>\n",
              "    <tr>\n",
              "      <th>feridos</th>\n",
              "      <td>0</td>\n",
              "      <td>1981317</td>\n",
              "      <td>0.000000</td>\n",
              "    </tr>\n",
              "    <tr>\n",
              "      <th>ignorados</th>\n",
              "      <td>0</td>\n",
              "      <td>1981317</td>\n",
              "      <td>0.000000</td>\n",
              "    </tr>\n",
              "    <tr>\n",
              "      <th>data_inversa</th>\n",
              "      <td>0</td>\n",
              "      <td>1981317</td>\n",
              "      <td>0.000000</td>\n",
              "    </tr>\n",
              "    <tr>\n",
              "      <th>feridos_graves</th>\n",
              "      <td>0</td>\n",
              "      <td>1981317</td>\n",
              "      <td>0.000000</td>\n",
              "    </tr>\n",
              "    <tr>\n",
              "      <th>feridos_leves</th>\n",
              "      <td>0</td>\n",
              "      <td>1981317</td>\n",
              "      <td>0.000000</td>\n",
              "    </tr>\n",
              "    <tr>\n",
              "      <th>mortos</th>\n",
              "      <td>0</td>\n",
              "      <td>1981317</td>\n",
              "      <td>0.000000</td>\n",
              "    </tr>\n",
              "    <tr>\n",
              "      <th>pessoas</th>\n",
              "      <td>0</td>\n",
              "      <td>1981317</td>\n",
              "      <td>0.000000</td>\n",
              "    </tr>\n",
              "    <tr>\n",
              "      <th>dia_semana</th>\n",
              "      <td>0</td>\n",
              "      <td>1981317</td>\n",
              "      <td>0.000000</td>\n",
              "    </tr>\n",
              "    <tr>\n",
              "      <th>sentido_via</th>\n",
              "      <td>0</td>\n",
              "      <td>1981317</td>\n",
              "      <td>0.000000</td>\n",
              "    </tr>\n",
              "    <tr>\n",
              "      <th>horario</th>\n",
              "      <td>0</td>\n",
              "      <td>1981317</td>\n",
              "      <td>0.000000</td>\n",
              "    </tr>\n",
              "    <tr>\n",
              "      <th>hour</th>\n",
              "      <td>0</td>\n",
              "      <td>1981317</td>\n",
              "      <td>0.000000</td>\n",
              "    </tr>\n",
              "  </tbody>\n",
              "</table>\n",
              "</div>\n",
              "    <div class=\"colab-df-buttons\">\n",
              "\n",
              "  <div class=\"colab-df-container\">\n",
              "    <button class=\"colab-df-convert\" onclick=\"convertToInteractive('df-525cc9e6-aeff-4fdd-9be3-4bd41f728434')\"\n",
              "            title=\"Convert this dataframe to an interactive table.\"\n",
              "            style=\"display:none;\">\n",
              "\n",
              "  <svg xmlns=\"http://www.w3.org/2000/svg\" height=\"24px\" viewBox=\"0 -960 960 960\">\n",
              "    <path d=\"M120-120v-720h720v720H120Zm60-500h600v-160H180v160Zm220 220h160v-160H400v160Zm0 220h160v-160H400v160ZM180-400h160v-160H180v160Zm440 0h160v-160H620v160ZM180-180h160v-160H180v160Zm440 0h160v-160H620v160Z\"/>\n",
              "  </svg>\n",
              "    </button>\n",
              "\n",
              "  <style>\n",
              "    .colab-df-container {\n",
              "      display:flex;\n",
              "      gap: 12px;\n",
              "    }\n",
              "\n",
              "    .colab-df-convert {\n",
              "      background-color: #E8F0FE;\n",
              "      border: none;\n",
              "      border-radius: 50%;\n",
              "      cursor: pointer;\n",
              "      display: none;\n",
              "      fill: #1967D2;\n",
              "      height: 32px;\n",
              "      padding: 0 0 0 0;\n",
              "      width: 32px;\n",
              "    }\n",
              "\n",
              "    .colab-df-convert:hover {\n",
              "      background-color: #E2EBFA;\n",
              "      box-shadow: 0px 1px 2px rgba(60, 64, 67, 0.3), 0px 1px 3px 1px rgba(60, 64, 67, 0.15);\n",
              "      fill: #174EA6;\n",
              "    }\n",
              "\n",
              "    .colab-df-buttons div {\n",
              "      margin-bottom: 4px;\n",
              "    }\n",
              "\n",
              "    [theme=dark] .colab-df-convert {\n",
              "      background-color: #3B4455;\n",
              "      fill: #D2E3FC;\n",
              "    }\n",
              "\n",
              "    [theme=dark] .colab-df-convert:hover {\n",
              "      background-color: #434B5C;\n",
              "      box-shadow: 0px 1px 3px 1px rgba(0, 0, 0, 0.15);\n",
              "      filter: drop-shadow(0px 1px 2px rgba(0, 0, 0, 0.3));\n",
              "      fill: #FFFFFF;\n",
              "    }\n",
              "  </style>\n",
              "\n",
              "    <script>\n",
              "      const buttonEl =\n",
              "        document.querySelector('#df-525cc9e6-aeff-4fdd-9be3-4bd41f728434 button.colab-df-convert');\n",
              "      buttonEl.style.display =\n",
              "        google.colab.kernel.accessAllowed ? 'block' : 'none';\n",
              "\n",
              "      async function convertToInteractive(key) {\n",
              "        const element = document.querySelector('#df-525cc9e6-aeff-4fdd-9be3-4bd41f728434');\n",
              "        const dataTable =\n",
              "          await google.colab.kernel.invokeFunction('convertToInteractive',\n",
              "                                                    [key], {});\n",
              "        if (!dataTable) return;\n",
              "\n",
              "        const docLinkHtml = 'Like what you see? Visit the ' +\n",
              "          '<a target=\"_blank\" href=https://colab.research.google.com/notebooks/data_table.ipynb>data table notebook</a>'\n",
              "          + ' to learn more about interactive tables.';\n",
              "        element.innerHTML = '';\n",
              "        dataTable['output_type'] = 'display_data';\n",
              "        await google.colab.output.renderOutput(dataTable, element);\n",
              "        const docLink = document.createElement('div');\n",
              "        docLink.innerHTML = docLinkHtml;\n",
              "        element.appendChild(docLink);\n",
              "      }\n",
              "    </script>\n",
              "  </div>\n",
              "\n",
              "\n",
              "<div id=\"df-3e453a0e-f9d5-4adf-a378-c29563e3b958\">\n",
              "  <button class=\"colab-df-quickchart\" onclick=\"quickchart('df-3e453a0e-f9d5-4adf-a378-c29563e3b958')\"\n",
              "            title=\"Suggest charts\"\n",
              "            style=\"display:none;\">\n",
              "\n",
              "<svg xmlns=\"http://www.w3.org/2000/svg\" height=\"24px\"viewBox=\"0 0 24 24\"\n",
              "     width=\"24px\">\n",
              "    <g>\n",
              "        <path d=\"M19 3H5c-1.1 0-2 .9-2 2v14c0 1.1.9 2 2 2h14c1.1 0 2-.9 2-2V5c0-1.1-.9-2-2-2zM9 17H7v-7h2v7zm4 0h-2V7h2v10zm4 0h-2v-4h2v4z\"/>\n",
              "    </g>\n",
              "</svg>\n",
              "  </button>\n",
              "\n",
              "<style>\n",
              "  .colab-df-quickchart {\n",
              "      --bg-color: #E8F0FE;\n",
              "      --fill-color: #1967D2;\n",
              "      --hover-bg-color: #E2EBFA;\n",
              "      --hover-fill-color: #174EA6;\n",
              "      --disabled-fill-color: #AAA;\n",
              "      --disabled-bg-color: #DDD;\n",
              "  }\n",
              "\n",
              "  [theme=dark] .colab-df-quickchart {\n",
              "      --bg-color: #3B4455;\n",
              "      --fill-color: #D2E3FC;\n",
              "      --hover-bg-color: #434B5C;\n",
              "      --hover-fill-color: #FFFFFF;\n",
              "      --disabled-bg-color: #3B4455;\n",
              "      --disabled-fill-color: #666;\n",
              "  }\n",
              "\n",
              "  .colab-df-quickchart {\n",
              "    background-color: var(--bg-color);\n",
              "    border: none;\n",
              "    border-radius: 50%;\n",
              "    cursor: pointer;\n",
              "    display: none;\n",
              "    fill: var(--fill-color);\n",
              "    height: 32px;\n",
              "    padding: 0;\n",
              "    width: 32px;\n",
              "  }\n",
              "\n",
              "  .colab-df-quickchart:hover {\n",
              "    background-color: var(--hover-bg-color);\n",
              "    box-shadow: 0 1px 2px rgba(60, 64, 67, 0.3), 0 1px 3px 1px rgba(60, 64, 67, 0.15);\n",
              "    fill: var(--button-hover-fill-color);\n",
              "  }\n",
              "\n",
              "  .colab-df-quickchart-complete:disabled,\n",
              "  .colab-df-quickchart-complete:disabled:hover {\n",
              "    background-color: var(--disabled-bg-color);\n",
              "    fill: var(--disabled-fill-color);\n",
              "    box-shadow: none;\n",
              "  }\n",
              "\n",
              "  .colab-df-spinner {\n",
              "    border: 2px solid var(--fill-color);\n",
              "    border-color: transparent;\n",
              "    border-bottom-color: var(--fill-color);\n",
              "    animation:\n",
              "      spin 1s steps(1) infinite;\n",
              "  }\n",
              "\n",
              "  @keyframes spin {\n",
              "    0% {\n",
              "      border-color: transparent;\n",
              "      border-bottom-color: var(--fill-color);\n",
              "      border-left-color: var(--fill-color);\n",
              "    }\n",
              "    20% {\n",
              "      border-color: transparent;\n",
              "      border-left-color: var(--fill-color);\n",
              "      border-top-color: var(--fill-color);\n",
              "    }\n",
              "    30% {\n",
              "      border-color: transparent;\n",
              "      border-left-color: var(--fill-color);\n",
              "      border-top-color: var(--fill-color);\n",
              "      border-right-color: var(--fill-color);\n",
              "    }\n",
              "    40% {\n",
              "      border-color: transparent;\n",
              "      border-right-color: var(--fill-color);\n",
              "      border-top-color: var(--fill-color);\n",
              "    }\n",
              "    60% {\n",
              "      border-color: transparent;\n",
              "      border-right-color: var(--fill-color);\n",
              "    }\n",
              "    80% {\n",
              "      border-color: transparent;\n",
              "      border-right-color: var(--fill-color);\n",
              "      border-bottom-color: var(--fill-color);\n",
              "    }\n",
              "    90% {\n",
              "      border-color: transparent;\n",
              "      border-bottom-color: var(--fill-color);\n",
              "    }\n",
              "  }\n",
              "</style>\n",
              "\n",
              "  <script>\n",
              "    async function quickchart(key) {\n",
              "      const quickchartButtonEl =\n",
              "        document.querySelector('#' + key + ' button');\n",
              "      quickchartButtonEl.disabled = true;  // To prevent multiple clicks.\n",
              "      quickchartButtonEl.classList.add('colab-df-spinner');\n",
              "      try {\n",
              "        const charts = await google.colab.kernel.invokeFunction(\n",
              "            'suggestCharts', [key], {});\n",
              "      } catch (error) {\n",
              "        console.error('Error during call to suggestCharts:', error);\n",
              "      }\n",
              "      quickchartButtonEl.classList.remove('colab-df-spinner');\n",
              "      quickchartButtonEl.classList.add('colab-df-quickchart-complete');\n",
              "    }\n",
              "    (() => {\n",
              "      let quickchartButtonEl =\n",
              "        document.querySelector('#df-3e453a0e-f9d5-4adf-a378-c29563e3b958 button');\n",
              "      quickchartButtonEl.style.display =\n",
              "        google.colab.kernel.accessAllowed ? 'block' : 'none';\n",
              "    })();\n",
              "  </script>\n",
              "</div>\n",
              "\n",
              "    </div>\n",
              "  </div>\n"
            ],
            "text/plain": [
              "                        missing    total   percent\n",
              "br                          894  1981317  0.045122\n",
              "km                          894  1981317  0.045122\n",
              "fase_dia                     70  1981317  0.003533\n",
              "condicao_metereologica       61  1981317  0.003079\n",
              "tipo_acidente                40  1981317  0.002019\n",
              "classificacao_acidente       26  1981317  0.001312\n",
              "uf                           12  1981317  0.000606\n",
              "tracado_via                  10  1981317  0.000505\n",
              "tipo_pista                   10  1981317  0.000505\n",
              "uso_solo                     10  1981317  0.000505\n",
              "causa_acidente                2  1981317  0.000101\n",
              "quarter                       0  1981317  0.000000\n",
              "ilesos                        0  1981317  0.000000\n",
              "quarter_end                   0  1981317  0.000000\n",
              "month                         0  1981317  0.000000\n",
              "year                          0  1981317  0.000000\n",
              "veiculos                      0  1981317  0.000000\n",
              "feridos                       0  1981317  0.000000\n",
              "ignorados                     0  1981317  0.000000\n",
              "data_inversa                  0  1981317  0.000000\n",
              "feridos_graves                0  1981317  0.000000\n",
              "feridos_leves                 0  1981317  0.000000\n",
              "mortos                        0  1981317  0.000000\n",
              "pessoas                       0  1981317  0.000000\n",
              "dia_semana                    0  1981317  0.000000\n",
              "sentido_via                   0  1981317  0.000000\n",
              "horario                       0  1981317  0.000000\n",
              "hour                          0  1981317  0.000000"
            ]
          },
          "execution_count": 63,
          "metadata": {},
          "output_type": "execute_result"
        }
      ],
      "source": [
        "df.stb.missing()"
      ]
    },
    {
      "cell_type": "code",
      "execution_count": 64,
      "metadata": {
        "colab": {
          "base_uri": "https://localhost:8080/"
        },
        "id": "Gxs9QwrcB2B2",
        "outputId": "4a0fb2bf-9952-4108-8a50-6f69a1108518"
      },
      "outputs": [
        {
          "name": "stdout",
          "output_type": "stream",
          "text": [
            "<class 'pandas.core.series.Series'>\n",
            "Index: 1981317 entries, 1256430 to 1788519\n",
            "Series name: date\n",
            "Non-Null Count    Dtype         \n",
            "--------------    -----         \n",
            "1981317 non-null  datetime64[ns]\n",
            "dtypes: datetime64[ns](1)\n",
            "memory usage: 30.2 MB\n"
          ]
        }
      ],
      "source": [
        "df[\"date\"]=pd.to_datetime(df[\"data_inversa\"])\n",
        "df[\"date\"].info()"
      ]
    },
    {
      "cell_type": "code",
      "execution_count": 65,
      "metadata": {
        "id": "GqRriZeZDclc"
      },
      "outputs": [],
      "source": [
        "df=df.set_index(\"date\")"
      ]
    },
    {
      "cell_type": "code",
      "execution_count": 66,
      "metadata": {
        "id": "Kc3tvPCJ5Npz"
      },
      "outputs": [],
      "source": [
        "cat_col=df.select_dtypes(exclude=\"number\").columns.to_list()\n",
        "num_col=[col for col in df if col not in cat_col]"
      ]
    },
    {
      "cell_type": "code",
      "execution_count": 67,
      "metadata": {
        "colab": {
          "base_uri": "https://localhost:8080/"
        },
        "id": "x058MIZmDcCX",
        "outputId": "c0f85f4f-1cdc-43b9-cf4b-08d83be665f9"
      },
      "outputs": [
        {
          "data": {
            "text/plain": [
              "['br',\n",
              " 'pessoas',\n",
              " 'mortos',\n",
              " 'feridos_leves',\n",
              " 'feridos_graves',\n",
              " 'ilesos',\n",
              " 'ignorados',\n",
              " 'feridos',\n",
              " 'veiculos',\n",
              " 'year',\n",
              " 'month',\n",
              " 'quarter']"
            ]
          },
          "execution_count": 67,
          "metadata": {},
          "output_type": "execute_result"
        }
      ],
      "source": [
        "num_col"
      ]
    },
    {
      "cell_type": "code",
      "execution_count": 68,
      "metadata": {
        "id": "lNzXZ1iVBfvN"
      },
      "outputs": [],
      "source": [
        "cat_col=[\n",
        "  #'data_inversa',\n",
        " 'dia_semana',\n",
        " #'horario',\n",
        " 'uf',\n",
        " #'km',\n",
        " #'municipio',\n",
        " 'causa_acidente',\n",
        " 'tipo_acidente',\n",
        " 'classificacao_acidente',\n",
        " 'fase_dia',\n",
        " 'sentido_via',\n",
        " 'condicao_metereologica',\n",
        " 'tipo_pista',\n",
        " 'tracado_via',\n",
        " 'uso_solo',\n",
        " 'hour',\n",
        "  ]"
      ]
    },
    {
      "cell_type": "code",
      "execution_count": 69,
      "metadata": {
        "id": "ZjamqeYADbGm"
      },
      "outputs": [],
      "source": [
        "df['dia_semana']=df[\"dia_semana\"].apply(lambda x:convert_lower_case(x))"
      ]
    },
    {
      "cell_type": "code",
      "execution_count": 70,
      "metadata": {
        "id": "pYVmPPvZEnq6"
      },
      "outputs": [],
      "source": [
        "df.dropna(inplace=True)"
      ]
    },
    {
      "cell_type": "code",
      "execution_count": 71,
      "metadata": {
        "colab": {
          "base_uri": "https://localhost:8080/"
        },
        "id": "cWezjnevG-Vd",
        "outputId": "1e0f8deb-268c-4561-e860-045ae2dea684"
      },
      "outputs": [
        {
          "data": {
            "text/plain": [
              "causa_acidente\n",
              "Falta de atenção                      25.62\n",
              "Outras                                48.40\n",
              "Não guardar distância de segurança    56.37\n",
              "Name: proportion, dtype: float64"
            ]
          },
          "execution_count": 71,
          "metadata": {},
          "output_type": "execute_result"
        }
      ],
      "source": [
        "np.round(df[\"causa_acidente\"].value_counts(normalize=True)*100,2).nlargest(3).cumsum()"
      ]
    },
    {
      "cell_type": "code",
      "execution_count": 72,
      "metadata": {
        "colab": {
          "base_uri": "https://localhost:8080/"
        },
        "id": "INPKj3lnO0G9",
        "outputId": "618b46a9-6eb6-4aea-eff2-e2367b02f794"
      },
      "outputs": [
        {
          "data": {
            "text/plain": [
              "tipo_acidente\n",
              "Colisão traseira       25.86\n",
              "Colisão lateral        40.47\n",
              "Saída de Pista         52.23\n",
              "Colisão Transversal    60.13\n",
              "Tombamento             65.02\n",
              "Name: proportion, dtype: float64"
            ]
          },
          "execution_count": 72,
          "metadata": {},
          "output_type": "execute_result"
        }
      ],
      "source": [
        "np.round(df[\"tipo_acidente\"].value_counts(normalize=True)*100,2).nlargest(5).cumsum()"
      ]
    },
    {
      "cell_type": "code",
      "execution_count": 73,
      "metadata": {
        "id": "Hl9CCLRQPn21"
      },
      "outputs": [],
      "source": [
        "for col in cat_col:\n",
        "  df[col]=df[col].apply(lambda x: convert_lower_case(x))"
      ]
    },
    {
      "cell_type": "code",
      "execution_count": 74,
      "metadata": {
        "colab": {
          "base_uri": "https://localhost:8080/"
        },
        "id": "4DpQmymHJPWm",
        "outputId": "bbff09a8-7c6f-46bb-8075-c8971f06fbe9"
      },
      "outputs": [
        {
          "name": "stdout",
          "output_type": "stream",
          "text": [
            "['segunda' 'quinta' 'domingo' 'terça' 'sexta' 'quarta' 'sábado'\n",
            " 'segunda-feira' 'terça-feira' 'quarta-feira' 'quinta-feira' 'sexta-feira']\n",
            "['pa' 'mg' 'sc' 'pe' 'ro' 'go' 'se' 'rs' 'ms' 'df' 'rj' 'pr' 'ba' 'es'\n",
            " 'ce' 'pi' 'sp' 'ma' 'rn' 'pb' 'ap' 'mt' 'al' 'to' 'rr' 'am' 'ac']\n",
            "['desobediência à sinalização' 'outras' 'dormindo'\n",
            " 'não guardar distância de segurança' 'defeito mecânico em veículo'\n",
            " 'falta de atenção' 'animais na pista' 'velocidade incompatível'\n",
            " 'ingestão de álcool' 'ultrapassagem indevida' 'defeito na via'\n",
            " 'condutor dormindo' 'desobediência às normas de trânsito pelo condutor'\n",
            " 'falta de atenção à condução' 'pista escorregadia'\n",
            " 'falta de atenção do pedestre'\n",
            " 'sinalização da via insuficiente ou inadequada'\n",
            " 'avarias e/ou desgaste excessivo no pneu' 'mal súbito'\n",
            " 'defeito mecânico no veículo' 'fenômenos da natureza'\n",
            " 'restrição de visibilidade' 'objeto estático sobre o leito carroçável'\n",
            " 'carga excessiva e/ou mal acondicionada'\n",
            " 'deficiência ou não acionamento do sistema de iluminação/sinalização do veículo'\n",
            " 'ingestão de substâncias psicoativas'\n",
            " 'reação tardia ou ineficiente do condutor' 'agressão externa'\n",
            " 'desobediência às normas de trânsito pelo pedestre'\n",
            " 'acumulo de areia ou detritos sobre o pavimento'\n",
            " 'ingestão de álcool e/ou substâncias psicoativas pelo pedestre'\n",
            " 'ingestão de álcool pelo condutor' 'curva acentuada'\n",
            " 'desrespeitar a preferência no cruzamento' 'pedestre andava na pista'\n",
            " 'pista em desnível' 'chuva' 'demais falhas mecânicas ou elétricas'\n",
            " 'pista esburacada' 'ausência de reação do condutor'\n",
            " 'transitar na contramão' 'obras na pista'\n",
            " 'ingestão de álcool ou de substâncias psicoativas pelo pedestre'\n",
            " 'conversão proibida'\n",
            " 'trafegar com motocicleta (ou similar) entre as faixas'\n",
            " 'condutor deixou de manter distância do veículo da frente'\n",
            " 'iluminação deficiente'\n",
            " 'acessar a via sem observar a presença dos outros veículos'\n",
            " 'deficiência do sistema de iluminação/sinalização' 'fumaça'\n",
            " 'manobra de mudança de faixa' 'demais fenômenos da natureza'\n",
            " 'falta de acostamento' 'acesso irregular' 'transitar no acostamento'\n",
            " 'condutor usando celular'\n",
            " 'condutor desrespeitou a iluminação vermelha do semáforo'\n",
            " 'acumulo de água sobre o pavimento'\n",
            " 'afundamento ou ondulação no pavimento' 'ausência de sinalização'\n",
            " 'estacionar ou parar em local proibido' 'entrada inopinada do pedestre'\n",
            " 'mal súbito do condutor' 'demais falhas na via'\n",
            " 'acumulo de óleo sobre o pavimento' 'acostamento em desnível'\n",
            " 'pedestre cruzava a pista fora da faixa' 'sinalização mal posicionada'\n",
            " 'desvio temporário'\n",
            " 'falta de elemento de contenção que evite a saída do leito carroçável'\n",
            " 'declive acentuado' 'redutor de velocidade em desacordo'\n",
            " 'frear bruscamente' 'problema com o freio' 'retorno proibido'\n",
            " 'ingestão de substâncias psicoativas pelo condutor' 'obstrução na via'\n",
            " 'área urbana sem a presença de local apropriado para a travessia de pedestres'\n",
            " 'problema na suspensão'\n",
            " 'deixar de acionar o farol da motocicleta (ou similar)'\n",
            " 'restrição de visibilidade em curvas verticais'\n",
            " 'restrição de visibilidade em curvas horizontais' 'semáforo com defeito'\n",
            " 'faixas de trânsito com largura insuficiente' 'neblina'\n",
            " 'transitar na calçada' 'faróis desregulados' 'sinalização encoberta'\n",
            " 'participar de racha' 'modificação proibida'\n",
            " 'sistema de drenagem ineficiente']\n",
            "['colisão transversal' 'saída de pista' 'colisão lateral'\n",
            " 'colisão com bicicleta' 'colisão traseira' 'colisão com objeto fixo'\n",
            " 'capotamento' 'queda de motocicleta / bicicleta / veículo' 'incêndio'\n",
            " 'atropelamento de pessoa' 'colisão frontal' 'atropelamento de animal'\n",
            " 'colisão com objeto móvel' 'tombamento' 'derramamento de carga'\n",
            " 'danos eventuais' 'colisão com objeto estático'\n",
            " 'saída de leito carroçável' 'queda de ocupante de veículo'\n",
            " 'atropelamento de pedestre' 'engavetamento'\n",
            " 'colisão com objeto em movimento' 'colisão com objeto'\n",
            " 'colisão lateral mesmo sentido' 'eventos atípicos'\n",
            " 'colisão lateral sentido oposto']\n",
            "['com vítimas feridas' 'sem vítimas' 'com vítimas fatais' 'ignorado']\n",
            "['amanhecer' 'pleno dia' 'plena noite' 'anoitecer']\n",
            "['crescente' 'decrescente']\n",
            "['ceu claro' 'nublado' 'sol' 'chuva' 'ignorada' 'vento' 'nevoeiro/neblina'\n",
            " 'granizo' 'neve' 'céu claro' 'garoa/chuvisco' 'ignorado']\n",
            "['dupla' 'simples' 'múltipla']\n",
            "['reta' 'curva' 'cruzamento' 'desvio temporário' 'não informado'\n",
            " 'rotatória' 'viaduto' 'interseção de vias' 'ponte'\n",
            " 'retorno regulamentado' 'túnel']\n",
            "['urbano' 'rural' 'sim' 'não']\n",
            "['06' '08' '15' '14' '12' '16' '21' '18' '20' '02' '17' '22' '19' '13'\n",
            " '11' '05' '07' '04' '03' '09' '00' '01' '23' '10']\n"
          ]
        }
      ],
      "source": [
        "for col in cat_col:\n",
        "  print(df[col].unique())"
      ]
    },
    {
      "cell_type": "code",
      "execution_count": 75,
      "metadata": {
        "colab": {
          "base_uri": "https://localhost:8080/"
        },
        "id": "NWkcp0LmKZHK",
        "outputId": "bf506910-af97-4ca7-81c6-f80b6c63e268"
      },
      "outputs": [
        {
          "data": {
            "text/plain": [
              "array(['segunda', 'quinta', 'domingo', 'terça', 'sexta', 'quarta',\n",
              "       'sábado'], dtype=object)"
            ]
          },
          "execution_count": 75,
          "metadata": {},
          "output_type": "execute_result"
        }
      ],
      "source": [
        "df[\"dia_semana\"]=date_col(df[\"dia_semana\"])\n",
        "df[\"dia_semana\"].unique()"
      ]
    },
    {
      "cell_type": "code",
      "execution_count": 76,
      "metadata": {
        "colab": {
          "base_uri": "https://localhost:8080/"
        },
        "id": "6U3I79aATj2y",
        "outputId": "1d02a2d7-a630-4fd5-898b-4e7e7fe7f4a9"
      },
      "outputs": [
        {
          "data": {
            "text/plain": [
              "tipo_acidente\n",
              "colisão traseira                              25.856050\n",
              "colisão lateral                               14.609068\n",
              "saída de pista                                11.760408\n",
              "colisão transversal                           10.493837\n",
              "tombamento                                     4.894686\n",
              "colisão com objeto fixo                        4.756975\n",
              "capotamento                                    4.655017\n",
              "colisão frontal                                4.322631\n",
              "saída de leito carroçável                      3.478436\n",
              "queda de motocicleta / bicicleta / veículo     2.648734\n",
              "Name: proportion, dtype: float64"
            ]
          },
          "execution_count": 76,
          "metadata": {},
          "output_type": "execute_result"
        }
      ],
      "source": [
        "df[\"tipo_acidente\"].value_counts(normalize=True).nlargest(10)*100"
      ]
    },
    {
      "cell_type": "code",
      "execution_count": 77,
      "metadata": {
        "colab": {
          "base_uri": "https://localhost:8080/",
          "height": 0
        },
        "id": "Qiq0GLzTU9Br",
        "outputId": "24594515-ec37-4a16-e93c-74de75f139fb"
      },
      "outputs": [
        {
          "data": {
            "application/vnd.google.colaboratory.intrinsic+json": {
              "type": "dataframe"
            },
            "text/html": [
              "\n",
              "  <div id=\"df-663df617-6ed1-4cb5-ab00-179a53c76812\" class=\"colab-df-container\">\n",
              "    <div>\n",
              "<style scoped>\n",
              "    .dataframe tbody tr th:only-of-type {\n",
              "        vertical-align: middle;\n",
              "    }\n",
              "\n",
              "    .dataframe tbody tr th {\n",
              "        vertical-align: top;\n",
              "    }\n",
              "\n",
              "    .dataframe thead th {\n",
              "        text-align: right;\n",
              "    }\n",
              "</style>\n",
              "<table border=\"1\" class=\"dataframe\">\n",
              "  <thead>\n",
              "    <tr style=\"text-align: right;\">\n",
              "      <th></th>\n",
              "      <th>br</th>\n",
              "      <th>pessoas</th>\n",
              "      <th>mortos</th>\n",
              "      <th>feridos_leves</th>\n",
              "      <th>feridos_graves</th>\n",
              "      <th>ilesos</th>\n",
              "      <th>ignorados</th>\n",
              "      <th>feridos</th>\n",
              "      <th>veiculos</th>\n",
              "      <th>year</th>\n",
              "      <th>month</th>\n",
              "      <th>quarter</th>\n",
              "    </tr>\n",
              "    <tr>\n",
              "      <th>date</th>\n",
              "      <th></th>\n",
              "      <th></th>\n",
              "      <th></th>\n",
              "      <th></th>\n",
              "      <th></th>\n",
              "      <th></th>\n",
              "      <th></th>\n",
              "      <th></th>\n",
              "      <th></th>\n",
              "      <th></th>\n",
              "      <th></th>\n",
              "      <th></th>\n",
              "    </tr>\n",
              "  </thead>\n",
              "  <tbody>\n",
              "    <tr>\n",
              "      <th>2007-01-01</th>\n",
              "      <td>316.0</td>\n",
              "      <td>2</td>\n",
              "      <td>0</td>\n",
              "      <td>1</td>\n",
              "      <td>0</td>\n",
              "      <td>1</td>\n",
              "      <td>0</td>\n",
              "      <td>1</td>\n",
              "      <td>2</td>\n",
              "      <td>2007</td>\n",
              "      <td>1</td>\n",
              "      <td>1</td>\n",
              "    </tr>\n",
              "    <tr>\n",
              "      <th>2007-01-01</th>\n",
              "      <td>381.0</td>\n",
              "      <td>1</td>\n",
              "      <td>0</td>\n",
              "      <td>0</td>\n",
              "      <td>0</td>\n",
              "      <td>1</td>\n",
              "      <td>0</td>\n",
              "      <td>0</td>\n",
              "      <td>1</td>\n",
              "      <td>2007</td>\n",
              "      <td>1</td>\n",
              "      <td>1</td>\n",
              "    </tr>\n",
              "    <tr>\n",
              "      <th>2007-01-01</th>\n",
              "      <td>282.0</td>\n",
              "      <td>2</td>\n",
              "      <td>0</td>\n",
              "      <td>0</td>\n",
              "      <td>1</td>\n",
              "      <td>1</td>\n",
              "      <td>0</td>\n",
              "      <td>1</td>\n",
              "      <td>2</td>\n",
              "      <td>2007</td>\n",
              "      <td>1</td>\n",
              "      <td>1</td>\n",
              "    </tr>\n",
              "    <tr>\n",
              "      <th>2007-01-01</th>\n",
              "      <td>40.0</td>\n",
              "      <td>2</td>\n",
              "      <td>0</td>\n",
              "      <td>0</td>\n",
              "      <td>0</td>\n",
              "      <td>2</td>\n",
              "      <td>0</td>\n",
              "      <td>0</td>\n",
              "      <td>1</td>\n",
              "      <td>2007</td>\n",
              "      <td>1</td>\n",
              "      <td>1</td>\n",
              "    </tr>\n",
              "    <tr>\n",
              "      <th>2007-01-01</th>\n",
              "      <td>50.0</td>\n",
              "      <td>4</td>\n",
              "      <td>0</td>\n",
              "      <td>3</td>\n",
              "      <td>1</td>\n",
              "      <td>0</td>\n",
              "      <td>0</td>\n",
              "      <td>4</td>\n",
              "      <td>1</td>\n",
              "      <td>2007</td>\n",
              "      <td>1</td>\n",
              "      <td>1</td>\n",
              "    </tr>\n",
              "    <tr>\n",
              "      <th>...</th>\n",
              "      <td>...</td>\n",
              "      <td>...</td>\n",
              "      <td>...</td>\n",
              "      <td>...</td>\n",
              "      <td>...</td>\n",
              "      <td>...</td>\n",
              "      <td>...</td>\n",
              "      <td>...</td>\n",
              "      <td>...</td>\n",
              "      <td>...</td>\n",
              "      <td>...</td>\n",
              "      <td>...</td>\n",
              "    </tr>\n",
              "    <tr>\n",
              "      <th>2022-12-31</th>\n",
              "      <td>153.0</td>\n",
              "      <td>1</td>\n",
              "      <td>0</td>\n",
              "      <td>1</td>\n",
              "      <td>0</td>\n",
              "      <td>0</td>\n",
              "      <td>0</td>\n",
              "      <td>1</td>\n",
              "      <td>1</td>\n",
              "      <td>2022</td>\n",
              "      <td>12</td>\n",
              "      <td>4</td>\n",
              "    </tr>\n",
              "    <tr>\n",
              "      <th>2022-12-31</th>\n",
              "      <td>285.0</td>\n",
              "      <td>4</td>\n",
              "      <td>0</td>\n",
              "      <td>0</td>\n",
              "      <td>0</td>\n",
              "      <td>3</td>\n",
              "      <td>1</td>\n",
              "      <td>0</td>\n",
              "      <td>2</td>\n",
              "      <td>2022</td>\n",
              "      <td>12</td>\n",
              "      <td>4</td>\n",
              "    </tr>\n",
              "    <tr>\n",
              "      <th>2022-12-31</th>\n",
              "      <td>470.0</td>\n",
              "      <td>2</td>\n",
              "      <td>0</td>\n",
              "      <td>1</td>\n",
              "      <td>1</td>\n",
              "      <td>0</td>\n",
              "      <td>0</td>\n",
              "      <td>2</td>\n",
              "      <td>1</td>\n",
              "      <td>2022</td>\n",
              "      <td>12</td>\n",
              "      <td>4</td>\n",
              "    </tr>\n",
              "    <tr>\n",
              "      <th>2022-12-31</th>\n",
              "      <td>316.0</td>\n",
              "      <td>3</td>\n",
              "      <td>0</td>\n",
              "      <td>1</td>\n",
              "      <td>2</td>\n",
              "      <td>0</td>\n",
              "      <td>0</td>\n",
              "      <td>3</td>\n",
              "      <td>1</td>\n",
              "      <td>2022</td>\n",
              "      <td>12</td>\n",
              "      <td>4</td>\n",
              "    </tr>\n",
              "    <tr>\n",
              "      <th>2022-12-31</th>\n",
              "      <td>116.0</td>\n",
              "      <td>2</td>\n",
              "      <td>0</td>\n",
              "      <td>1</td>\n",
              "      <td>0</td>\n",
              "      <td>1</td>\n",
              "      <td>0</td>\n",
              "      <td>1</td>\n",
              "      <td>1</td>\n",
              "      <td>2022</td>\n",
              "      <td>12</td>\n",
              "      <td>4</td>\n",
              "    </tr>\n",
              "  </tbody>\n",
              "</table>\n",
              "<p>1980229 rows × 12 columns</p>\n",
              "</div>\n",
              "    <div class=\"colab-df-buttons\">\n",
              "\n",
              "  <div class=\"colab-df-container\">\n",
              "    <button class=\"colab-df-convert\" onclick=\"convertToInteractive('df-663df617-6ed1-4cb5-ab00-179a53c76812')\"\n",
              "            title=\"Convert this dataframe to an interactive table.\"\n",
              "            style=\"display:none;\">\n",
              "\n",
              "  <svg xmlns=\"http://www.w3.org/2000/svg\" height=\"24px\" viewBox=\"0 -960 960 960\">\n",
              "    <path d=\"M120-120v-720h720v720H120Zm60-500h600v-160H180v160Zm220 220h160v-160H400v160Zm0 220h160v-160H400v160ZM180-400h160v-160H180v160Zm440 0h160v-160H620v160ZM180-180h160v-160H180v160Zm440 0h160v-160H620v160Z\"/>\n",
              "  </svg>\n",
              "    </button>\n",
              "\n",
              "  <style>\n",
              "    .colab-df-container {\n",
              "      display:flex;\n",
              "      gap: 12px;\n",
              "    }\n",
              "\n",
              "    .colab-df-convert {\n",
              "      background-color: #E8F0FE;\n",
              "      border: none;\n",
              "      border-radius: 50%;\n",
              "      cursor: pointer;\n",
              "      display: none;\n",
              "      fill: #1967D2;\n",
              "      height: 32px;\n",
              "      padding: 0 0 0 0;\n",
              "      width: 32px;\n",
              "    }\n",
              "\n",
              "    .colab-df-convert:hover {\n",
              "      background-color: #E2EBFA;\n",
              "      box-shadow: 0px 1px 2px rgba(60, 64, 67, 0.3), 0px 1px 3px 1px rgba(60, 64, 67, 0.15);\n",
              "      fill: #174EA6;\n",
              "    }\n",
              "\n",
              "    .colab-df-buttons div {\n",
              "      margin-bottom: 4px;\n",
              "    }\n",
              "\n",
              "    [theme=dark] .colab-df-convert {\n",
              "      background-color: #3B4455;\n",
              "      fill: #D2E3FC;\n",
              "    }\n",
              "\n",
              "    [theme=dark] .colab-df-convert:hover {\n",
              "      background-color: #434B5C;\n",
              "      box-shadow: 0px 1px 3px 1px rgba(0, 0, 0, 0.15);\n",
              "      filter: drop-shadow(0px 1px 2px rgba(0, 0, 0, 0.3));\n",
              "      fill: #FFFFFF;\n",
              "    }\n",
              "  </style>\n",
              "\n",
              "    <script>\n",
              "      const buttonEl =\n",
              "        document.querySelector('#df-663df617-6ed1-4cb5-ab00-179a53c76812 button.colab-df-convert');\n",
              "      buttonEl.style.display =\n",
              "        google.colab.kernel.accessAllowed ? 'block' : 'none';\n",
              "\n",
              "      async function convertToInteractive(key) {\n",
              "        const element = document.querySelector('#df-663df617-6ed1-4cb5-ab00-179a53c76812');\n",
              "        const dataTable =\n",
              "          await google.colab.kernel.invokeFunction('convertToInteractive',\n",
              "                                                    [key], {});\n",
              "        if (!dataTable) return;\n",
              "\n",
              "        const docLinkHtml = 'Like what you see? Visit the ' +\n",
              "          '<a target=\"_blank\" href=https://colab.research.google.com/notebooks/data_table.ipynb>data table notebook</a>'\n",
              "          + ' to learn more about interactive tables.';\n",
              "        element.innerHTML = '';\n",
              "        dataTable['output_type'] = 'display_data';\n",
              "        await google.colab.output.renderOutput(dataTable, element);\n",
              "        const docLink = document.createElement('div');\n",
              "        docLink.innerHTML = docLinkHtml;\n",
              "        element.appendChild(docLink);\n",
              "      }\n",
              "    </script>\n",
              "  </div>\n",
              "\n",
              "\n",
              "<div id=\"df-6164c705-d3ea-4837-8a59-b978063b5651\">\n",
              "  <button class=\"colab-df-quickchart\" onclick=\"quickchart('df-6164c705-d3ea-4837-8a59-b978063b5651')\"\n",
              "            title=\"Suggest charts\"\n",
              "            style=\"display:none;\">\n",
              "\n",
              "<svg xmlns=\"http://www.w3.org/2000/svg\" height=\"24px\"viewBox=\"0 0 24 24\"\n",
              "     width=\"24px\">\n",
              "    <g>\n",
              "        <path d=\"M19 3H5c-1.1 0-2 .9-2 2v14c0 1.1.9 2 2 2h14c1.1 0 2-.9 2-2V5c0-1.1-.9-2-2-2zM9 17H7v-7h2v7zm4 0h-2V7h2v10zm4 0h-2v-4h2v4z\"/>\n",
              "    </g>\n",
              "</svg>\n",
              "  </button>\n",
              "\n",
              "<style>\n",
              "  .colab-df-quickchart {\n",
              "      --bg-color: #E8F0FE;\n",
              "      --fill-color: #1967D2;\n",
              "      --hover-bg-color: #E2EBFA;\n",
              "      --hover-fill-color: #174EA6;\n",
              "      --disabled-fill-color: #AAA;\n",
              "      --disabled-bg-color: #DDD;\n",
              "  }\n",
              "\n",
              "  [theme=dark] .colab-df-quickchart {\n",
              "      --bg-color: #3B4455;\n",
              "      --fill-color: #D2E3FC;\n",
              "      --hover-bg-color: #434B5C;\n",
              "      --hover-fill-color: #FFFFFF;\n",
              "      --disabled-bg-color: #3B4455;\n",
              "      --disabled-fill-color: #666;\n",
              "  }\n",
              "\n",
              "  .colab-df-quickchart {\n",
              "    background-color: var(--bg-color);\n",
              "    border: none;\n",
              "    border-radius: 50%;\n",
              "    cursor: pointer;\n",
              "    display: none;\n",
              "    fill: var(--fill-color);\n",
              "    height: 32px;\n",
              "    padding: 0;\n",
              "    width: 32px;\n",
              "  }\n",
              "\n",
              "  .colab-df-quickchart:hover {\n",
              "    background-color: var(--hover-bg-color);\n",
              "    box-shadow: 0 1px 2px rgba(60, 64, 67, 0.3), 0 1px 3px 1px rgba(60, 64, 67, 0.15);\n",
              "    fill: var(--button-hover-fill-color);\n",
              "  }\n",
              "\n",
              "  .colab-df-quickchart-complete:disabled,\n",
              "  .colab-df-quickchart-complete:disabled:hover {\n",
              "    background-color: var(--disabled-bg-color);\n",
              "    fill: var(--disabled-fill-color);\n",
              "    box-shadow: none;\n",
              "  }\n",
              "\n",
              "  .colab-df-spinner {\n",
              "    border: 2px solid var(--fill-color);\n",
              "    border-color: transparent;\n",
              "    border-bottom-color: var(--fill-color);\n",
              "    animation:\n",
              "      spin 1s steps(1) infinite;\n",
              "  }\n",
              "\n",
              "  @keyframes spin {\n",
              "    0% {\n",
              "      border-color: transparent;\n",
              "      border-bottom-color: var(--fill-color);\n",
              "      border-left-color: var(--fill-color);\n",
              "    }\n",
              "    20% {\n",
              "      border-color: transparent;\n",
              "      border-left-color: var(--fill-color);\n",
              "      border-top-color: var(--fill-color);\n",
              "    }\n",
              "    30% {\n",
              "      border-color: transparent;\n",
              "      border-left-color: var(--fill-color);\n",
              "      border-top-color: var(--fill-color);\n",
              "      border-right-color: var(--fill-color);\n",
              "    }\n",
              "    40% {\n",
              "      border-color: transparent;\n",
              "      border-right-color: var(--fill-color);\n",
              "      border-top-color: var(--fill-color);\n",
              "    }\n",
              "    60% {\n",
              "      border-color: transparent;\n",
              "      border-right-color: var(--fill-color);\n",
              "    }\n",
              "    80% {\n",
              "      border-color: transparent;\n",
              "      border-right-color: var(--fill-color);\n",
              "      border-bottom-color: var(--fill-color);\n",
              "    }\n",
              "    90% {\n",
              "      border-color: transparent;\n",
              "      border-bottom-color: var(--fill-color);\n",
              "    }\n",
              "  }\n",
              "</style>\n",
              "\n",
              "  <script>\n",
              "    async function quickchart(key) {\n",
              "      const quickchartButtonEl =\n",
              "        document.querySelector('#' + key + ' button');\n",
              "      quickchartButtonEl.disabled = true;  // To prevent multiple clicks.\n",
              "      quickchartButtonEl.classList.add('colab-df-spinner');\n",
              "      try {\n",
              "        const charts = await google.colab.kernel.invokeFunction(\n",
              "            'suggestCharts', [key], {});\n",
              "      } catch (error) {\n",
              "        console.error('Error during call to suggestCharts:', error);\n",
              "      }\n",
              "      quickchartButtonEl.classList.remove('colab-df-spinner');\n",
              "      quickchartButtonEl.classList.add('colab-df-quickchart-complete');\n",
              "    }\n",
              "    (() => {\n",
              "      let quickchartButtonEl =\n",
              "        document.querySelector('#df-6164c705-d3ea-4837-8a59-b978063b5651 button');\n",
              "      quickchartButtonEl.style.display =\n",
              "        google.colab.kernel.accessAllowed ? 'block' : 'none';\n",
              "    })();\n",
              "  </script>\n",
              "</div>\n",
              "\n",
              "    </div>\n",
              "  </div>\n"
            ],
            "text/plain": [
              "               br  pessoas  mortos  feridos_leves  feridos_graves  ilesos  \\\n",
              "date                                                                        \n",
              "2007-01-01  316.0        2       0              1               0       1   \n",
              "2007-01-01  381.0        1       0              0               0       1   \n",
              "2007-01-01  282.0        2       0              0               1       1   \n",
              "2007-01-01   40.0        2       0              0               0       2   \n",
              "2007-01-01   50.0        4       0              3               1       0   \n",
              "...           ...      ...     ...            ...             ...     ...   \n",
              "2022-12-31  153.0        1       0              1               0       0   \n",
              "2022-12-31  285.0        4       0              0               0       3   \n",
              "2022-12-31  470.0        2       0              1               1       0   \n",
              "2022-12-31  316.0        3       0              1               2       0   \n",
              "2022-12-31  116.0        2       0              1               0       1   \n",
              "\n",
              "            ignorados  feridos  veiculos  year  month  quarter  \n",
              "date                                                            \n",
              "2007-01-01          0        1         2  2007      1        1  \n",
              "2007-01-01          0        0         1  2007      1        1  \n",
              "2007-01-01          0        1         2  2007      1        1  \n",
              "2007-01-01          0        0         1  2007      1        1  \n",
              "2007-01-01          0        4         1  2007      1        1  \n",
              "...               ...      ...       ...   ...    ...      ...  \n",
              "2022-12-31          0        1         1  2022     12        4  \n",
              "2022-12-31          1        0         2  2022     12        4  \n",
              "2022-12-31          0        2         1  2022     12        4  \n",
              "2022-12-31          0        3         1  2022     12        4  \n",
              "2022-12-31          0        1         1  2022     12        4  \n",
              "\n",
              "[1980229 rows x 12 columns]"
            ]
          },
          "execution_count": 77,
          "metadata": {},
          "output_type": "execute_result"
        }
      ],
      "source": [
        "df[num_col]"
      ]
    },
    {
      "cell_type": "code",
      "execution_count": 78,
      "metadata": {
        "colab": {
          "base_uri": "https://localhost:8080/"
        },
        "id": "TENjWHuCWzM6",
        "outputId": "ec88e46c-2ef5-4ebc-e090-19d980504ed4"
      },
      "outputs": [
        {
          "data": {
            "text/plain": [
              "array(['ceu claro', 'nublado', 'sol', 'chuva', 'ignorada', 'vento',\n",
              "       'nevoeiro/neblina', 'granizo', 'neve', 'céu claro',\n",
              "       'garoa/chuvisco', 'ignorado'], dtype=object)"
            ]
          },
          "execution_count": 78,
          "metadata": {},
          "output_type": "execute_result"
        }
      ],
      "source": [
        "# Reducing the amount of data\n",
        "\n",
        "# Condições Metereologica\n",
        "df['condicao_metereologica'].unique()"
      ]
    },
    {
      "cell_type": "code",
      "execution_count": 79,
      "metadata": {
        "id": "KngtM1j8o3NC"
      },
      "outputs": [],
      "source": [
        "mapeamento_metereologica = {\n",
        "    'ceu claro': 'céu claro',\n",
        "    'céu claro': 'céu claro',  # Tratando as duas formas de 'céu claro' como iguais\n",
        "    'nublado': 'nublado',\n",
        "    'sol': 'sol',\n",
        "    'chuva': 'chuva',\n",
        "    'garoa/chuvisco': 'chuva',  # Agrupando garoa/chuvisco com chuva\n",
        "    'vento': 'vento',\n",
        "    'nevoeiro/neblina': 'nevoeiro',\n",
        "    'granizo': 'neve',  # Agrupando granizo com neve\n",
        "    'neve': 'neve',\n",
        "    'ignorada': 'ignorado',\n",
        "    'ignorado': 'ignorado'\n",
        "}\n",
        "\n",
        "df['condicao_metereologica'] = df['condicao_metereologica'].map(mapeamento_metereologica)\n"
      ]
    },
    {
      "cell_type": "code",
      "execution_count": 80,
      "metadata": {
        "colab": {
          "base_uri": "https://localhost:8080/"
        },
        "id": "U9KTFJumo5u8",
        "outputId": "1ec147fc-1960-44eb-bf5c-14bc4c4791d8"
      },
      "outputs": [
        {
          "data": {
            "text/plain": [
              "array(['céu claro', 'nublado', 'sol', 'chuva', 'ignorado', 'vento',\n",
              "       'nevoeiro', 'neve'], dtype=object)"
            ]
          },
          "execution_count": 80,
          "metadata": {},
          "output_type": "execute_result"
        }
      ],
      "source": [
        "df['condicao_metereologica'].unique()"
      ]
    },
    {
      "cell_type": "code",
      "execution_count": 81,
      "metadata": {
        "colab": {
          "base_uri": "https://localhost:8080/"
        },
        "id": "QWwVBwH0pAqq",
        "outputId": "7f2d0e7b-1212-4bb0-858f-2db92ce9dd38"
      },
      "outputs": [
        {
          "data": {
            "text/plain": [
              "array(['desobediência à sinalização', 'outras', 'dormindo',\n",
              "       'não guardar distância de segurança',\n",
              "       'defeito mecânico em veículo', 'falta de atenção',\n",
              "       'animais na pista', 'velocidade incompatível',\n",
              "       'ingestão de álcool', 'ultrapassagem indevida', 'defeito na via',\n",
              "       'condutor dormindo',\n",
              "       'desobediência às normas de trânsito pelo condutor',\n",
              "       'falta de atenção à condução', 'pista escorregadia',\n",
              "       'falta de atenção do pedestre',\n",
              "       'sinalização da via insuficiente ou inadequada',\n",
              "       'avarias e/ou desgaste excessivo no pneu', 'mal súbito',\n",
              "       'defeito mecânico no veículo', 'fenômenos da natureza',\n",
              "       'restrição de visibilidade',\n",
              "       'objeto estático sobre o leito carroçável',\n",
              "       'carga excessiva e/ou mal acondicionada',\n",
              "       'deficiência ou não acionamento do sistema de iluminação/sinalização do veículo',\n",
              "       'ingestão de substâncias psicoativas',\n",
              "       'reação tardia ou ineficiente do condutor', 'agressão externa',\n",
              "       'desobediência às normas de trânsito pelo pedestre',\n",
              "       'acumulo de areia ou detritos sobre o pavimento',\n",
              "       'ingestão de álcool e/ou substâncias psicoativas pelo pedestre',\n",
              "       'ingestão de álcool pelo condutor', 'curva acentuada',\n",
              "       'desrespeitar a preferência no cruzamento',\n",
              "       'pedestre andava na pista', 'pista em desnível', 'chuva',\n",
              "       'demais falhas mecânicas ou elétricas', 'pista esburacada',\n",
              "       'ausência de reação do condutor', 'transitar na contramão',\n",
              "       'obras na pista',\n",
              "       'ingestão de álcool ou de substâncias psicoativas pelo pedestre',\n",
              "       'conversão proibida',\n",
              "       'trafegar com motocicleta (ou similar) entre as faixas',\n",
              "       'condutor deixou de manter distância do veículo da frente',\n",
              "       'iluminação deficiente',\n",
              "       'acessar a via sem observar a presença dos outros veículos',\n",
              "       'deficiência do sistema de iluminação/sinalização', 'fumaça',\n",
              "       'manobra de mudança de faixa', 'demais fenômenos da natureza',\n",
              "       'falta de acostamento', 'acesso irregular',\n",
              "       'transitar no acostamento', 'condutor usando celular',\n",
              "       'condutor desrespeitou a iluminação vermelha do semáforo',\n",
              "       'acumulo de água sobre o pavimento',\n",
              "       'afundamento ou ondulação no pavimento', 'ausência de sinalização',\n",
              "       'estacionar ou parar em local proibido',\n",
              "       'entrada inopinada do pedestre', 'mal súbito do condutor',\n",
              "       'demais falhas na via', 'acumulo de óleo sobre o pavimento',\n",
              "       'acostamento em desnível',\n",
              "       'pedestre cruzava a pista fora da faixa',\n",
              "       'sinalização mal posicionada', 'desvio temporário',\n",
              "       'falta de elemento de contenção que evite a saída do leito carroçável',\n",
              "       'declive acentuado', 'redutor de velocidade em desacordo',\n",
              "       'frear bruscamente', 'problema com o freio', 'retorno proibido',\n",
              "       'ingestão de substâncias psicoativas pelo condutor',\n",
              "       'obstrução na via',\n",
              "       'área urbana sem a presença de local apropriado para a travessia de pedestres',\n",
              "       'problema na suspensão',\n",
              "       'deixar de acionar o farol da motocicleta (ou similar)',\n",
              "       'restrição de visibilidade em curvas verticais',\n",
              "       'restrição de visibilidade em curvas horizontais',\n",
              "       'semáforo com defeito',\n",
              "       'faixas de trânsito com largura insuficiente', 'neblina',\n",
              "       'transitar na calçada', 'faróis desregulados',\n",
              "       'sinalização encoberta', 'participar de racha',\n",
              "       'modificação proibida', 'sistema de drenagem ineficiente'],\n",
              "      dtype=object)"
            ]
          },
          "execution_count": 81,
          "metadata": {},
          "output_type": "execute_result"
        }
      ],
      "source": [
        "# Causas dos acidentes\n",
        "df['causa_acidente'].unique()"
      ]
    },
    {
      "cell_type": "code",
      "execution_count": 82,
      "metadata": {
        "colab": {
          "base_uri": "https://localhost:8080/"
        },
        "id": "n8FXBdmQs3fn",
        "outputId": "bb33195f-68ae-4e68-e0e2-791f7ace77fc"
      },
      "outputs": [
        {
          "name": "stdout",
          "output_type": "stream",
          "text": [
            "Quantidade de valores únicos na coluna 'causa_acidente': 91\n",
            "Valores únicos na coluna 'causa_acidente': desobediência à sinalização, outras, dormindo, não guardar distância de segurança, defeito mecânico em veículo, falta de atenção, animais na pista, velocidade incompatível, ingestão de álcool, ultrapassagem indevida, defeito na via, condutor dormindo, desobediência às normas de trânsito pelo condutor, falta de atenção à condução, pista escorregadia, falta de atenção do pedestre, sinalização da via insuficiente ou inadequada, avarias e/ou desgaste excessivo no pneu, mal súbito, defeito mecânico no veículo, fenômenos da natureza, restrição de visibilidade, objeto estático sobre o leito carroçável, carga excessiva e/ou mal acondicionada, deficiência ou não acionamento do sistema de iluminação/sinalização do veículo, ingestão de substâncias psicoativas, reação tardia ou ineficiente do condutor, agressão externa, desobediência às normas de trânsito pelo pedestre, acumulo de areia ou detritos sobre o pavimento, ingestão de álcool e/ou substâncias psicoativas pelo pedestre, ingestão de álcool pelo condutor, curva acentuada, desrespeitar a preferência no cruzamento, pedestre andava na pista, pista em desnível, chuva, demais falhas mecânicas ou elétricas, pista esburacada, ausência de reação do condutor, transitar na contramão, obras na pista, ingestão de álcool ou de substâncias psicoativas pelo pedestre, conversão proibida, trafegar com motocicleta (ou similar) entre as faixas, condutor deixou de manter distância do veículo da frente, iluminação deficiente, acessar a via sem observar a presença dos outros veículos, deficiência do sistema de iluminação/sinalização, fumaça, manobra de mudança de faixa, demais fenômenos da natureza, falta de acostamento, acesso irregular, transitar no acostamento, condutor usando celular, condutor desrespeitou a iluminação vermelha do semáforo, acumulo de água sobre o pavimento, afundamento ou ondulação no pavimento, ausência de sinalização, estacionar ou parar em local proibido, entrada inopinada do pedestre, mal súbito do condutor, demais falhas na via, acumulo de óleo sobre o pavimento, acostamento em desnível, pedestre cruzava a pista fora da faixa, sinalização mal posicionada, desvio temporário, falta de elemento de contenção que evite a saída do leito carroçável, declive acentuado, redutor de velocidade em desacordo, frear bruscamente, problema com o freio, retorno proibido, ingestão de substâncias psicoativas pelo condutor, obstrução na via, área urbana sem a presença de local apropriado para a travessia de pedestres, problema na suspensão, deixar de acionar o farol da motocicleta (ou similar), restrição de visibilidade em curvas verticais, restrição de visibilidade em curvas horizontais, semáforo com defeito, faixas de trânsito com largura insuficiente, neblina, transitar na calçada, faróis desregulados, sinalização encoberta, participar de racha, modificação proibida, sistema de drenagem ineficiente\n",
            "Valores únicos salvos no arquivo 'valores_unicos_causa_acidente.txt'\n"
          ]
        }
      ],
      "source": [
        "quantidade_valores_unicos = df['causa_acidente'].nunique()\n",
        "print(\"Quantidade de valores únicos na coluna 'causa_acidente':\", quantidade_valores_unicos)\n",
        "\n",
        "# Exibir todos os valores únicos na coluna 'causa_acidente' em uma linha\n",
        "valores_unicos = df['causa_acidente'].unique()\n",
        "valores_unicos_str = ', '.join(valores_unicos)\n",
        "print(\"Valores únicos na coluna 'causa_acidente':\", valores_unicos_str)\n",
        "\n",
        "# Salvar todos os valores únicos em um arquivo\n",
        "with open('valores_unicos_causa_acidente.txt', 'w', encoding='utf-8') as arquivo:\n",
        "    for valor in valores_unicos:\n",
        "        arquivo.write(valor + '\\n')\n",
        "\n",
        "print(\"Valores únicos salvos no arquivo 'valores_unicos_causa_acidente.txt'\")"
      ]
    },
    {
      "cell_type": "code",
      "execution_count": 83,
      "metadata": {
        "id": "ffBUwjC6pC29"
      },
      "outputs": [],
      "source": [
        "mapeamento_causas = {\n",
        "    'desobediência à sinalização': 'desobediência',\n",
        "    'outras': 'outras',\n",
        "    'dormindo': 'distração',\n",
        "    'não guardar distância de segurança': 'distância insegura',\n",
        "    'defeito mecânico em veículo': 'defeito mecânico',\n",
        "    'falta de atenção': 'distração',\n",
        "    'animais na pista': 'presença de animais',\n",
        "    'velocidade incompatível': 'velocidade inadequada',\n",
        "    'ingestão de álcool': 'álcool/drogas',\n",
        "    'ultrapassagem indevida': 'ultrapassagem',\n",
        "    'defeito na via': 'condição da via',\n",
        "    'condutor dormindo': 'distração',\n",
        "    'desobediência às normas de trânsito pelo condutor': 'desobediência',\n",
        "    'falta de atenção à condução': 'distração',\n",
        "    'pista escorregadia': 'condição da via',\n",
        "    'falta de atenção do pedestre': 'distração',\n",
        "    'sinalização da via insuficiente ou inadequada': 'sinalização inadequada',\n",
        "    'avarias e/ou desgaste excessivo no pneu': 'defeito mecânico',\n",
        "    'mal súbito': 'mal súbito',\n",
        "    'defeito mecânico no veículo': 'defeito mecânico',\n",
        "    'fenômenos da natureza': 'fenômenos naturais',\n",
        "    'restrição de visibilidade': 'visibilidade reduzida',\n",
        "    'objeto estático sobre o leito carroçável': 'obstáculo na via',\n",
        "    'carga excessiva e/ou mal acondicionada': 'carga mal acondicionada',\n",
        "    'deficiência ou não acionamento do sistema de iluminação/sinalização do veículo': 'falha nos sistemas do veículo',\n",
        "    'ingestão de substâncias psicoativas': 'álcool/drogas',\n",
        "    'reação tardia ou ineficiente do condutor': 'falha do condutor',\n",
        "    'agressão externa': 'agressão',\n",
        "    'desobediência às normas de trânsito pelo pedestre': 'desobediência',\n",
        "    'acumulo de areia ou detritos sobre o pavimento': 'condição da via',\n",
        "    'ingestão de álcool e/ou substâncias psicoativas pelo pedestre': 'álcool/drogas',\n",
        "    'ingestão de álcool pelo condutor': 'álcool/drogas',\n",
        "    'curva acentuada': 'condição da via',\n",
        "    'desrespeitar a preferência no cruzamento': 'desrespeito à preferência',\n",
        "    'pedestre andava na pista': 'pedestre na via',\n",
        "    'pista em desnível': 'condição da via',\n",
        "    'chuva': 'condição climática',\n",
        "    'demais falhas mecânicas ou elétricas': 'defeito mecânico',\n",
        "    'pista esburacada': 'condição da via',\n",
        "    'ausência de reação do condutor': 'falha do condutor',\n",
        "    'transitar na contramão': 'infração de trânsito',\n",
        "    'obras na pista': 'condição da via',\n",
        "    'ingestão de álcool ou de substâncias psicoativas pelo pedestre': 'álcool/drogas',\n",
        "    'conversão proibida': 'infração de trânsito',\n",
        "    'trafegar com motocicleta (ou similar) entre as faixas': 'infração de trânsito',\n",
        "    'condutor deixou de manter distância do veículo da frente': 'distância insegura',\n",
        "    'iluminação deficiente': 'falha nos sistemas do veículo',\n",
        "    'acessar a via sem observar a presença dos outros veículos': 'falta de atenção',\n",
        "    'deficiência do sistema de iluminação/sinalização': 'falha nos sistemas do veículo',\n",
        "    'fumaça': 'condição da via',\n",
        "    'manobra de mudança de faixa': 'manobra imprudente',\n",
        "    'demais fenômenos da natureza': 'fenômenos naturais',\n",
        "    'falta de acostamento': 'infraestrutura inadequada',\n",
        "    'acesso irregular': 'infração de trânsito',\n",
        "    'transitar no acostamento': 'infração de trânsito',\n",
        "    'condutor usando celular': 'distração',\n",
        "    'condutor desrespeitou a iluminação vermelha do semáforo': 'infração de trânsito',\n",
        "    'acumulo de água sobre o pavimento': 'condição da via',\n",
        "    'afundamento ou ondulação no pavimento': 'condição da via',\n",
        "    'ausência de sinalização': 'sinalização inadequada',\n",
        "    'estacionar ou parar em local proibido': 'infração de trânsito',\n",
        "    'entrada inopinada do pedestre': 'falta de atenção do pedestre',\n",
        "    'mal súbito do condutor': 'mal súbito',\n",
        "    'demais falhas na via': 'condição da via',\n",
        "    'acumulo de óleo sobre o pavimento': 'condição da via',\n",
        "    'acostamento em desnível': 'infraestrutura inadequada',\n",
        "    'pedestre cruzava a pista fora da faixa': 'falta de atenção do pedestre',\n",
        "    'sinalização mal posicionada': 'sinalização inadequada',\n",
        "    'desvio temporário': 'condição da via',\n",
        "    'falta de elemento de contenção que evite a saída do leito carroçável': 'infraestrutura inadequada',\n",
        "    'declive acentuado': 'condição da via',\n",
        "    'redutor de velocidade em desacordo': 'condição da via',\n",
        "    'frear bruscamente': 'manobra imprudente',\n",
        "    'problema com o freio': 'falha nos sistemas do veículo',\n",
        "    'retorno proibido': 'infração de trânsito',\n",
        "    'ingestão de substâncias psicoativas pelo condutor': 'álcool/drogas',\n",
        "    'obstrução na via': 'obstrução na via',\n",
        "    'área urbana sem a presença de local apropriado para a travessia de pedestres': 'infraestrutura inadequada',\n",
        "    'problema na suspensão': 'falha nos sistemas do veículo',\n",
        "    'deixar de acionar o farol da motocicleta (ou similar)': 'falha nos sistemas do veículo',\n",
        "    'restrição de visibilidade em curvas verticais': 'visibilidade reduzida',\n",
        "    'restrição de visibilidade em curvas horizontais': 'visibilidade reduzida',\n",
        "    'semáforo com defeito': 'sinalização inadequada',\n",
        "    'faixas de trânsito com largura insuficiente': 'infraestrutura inadequada',\n",
        "    'neblina': 'condição climática',\n",
        "    'transitar na calçada': 'infração de trânsito',\n",
        "    'faróis desregulados': 'falha nos sistemas do veículo',\n",
        "    'sinalização encoberta': 'sinalização inadequada',\n",
        "    'participar de racha': 'infração de trânsito',\n",
        "    'modificação proibida': 'infração de trânsito',\n",
        "    'sistema de drenagem ineficiente': 'infraestrutura inadequada'\n",
        "}\n",
        "\n",
        "df['causa_acidente'] = df['causa_acidente'].map(mapeamento_causas)"
      ]
    },
    {
      "cell_type": "code",
      "execution_count": 84,
      "metadata": {
        "colab": {
          "base_uri": "https://localhost:8080/"
        },
        "id": "7g0roqcApC0K",
        "outputId": "996d2faa-fb6a-4ee6-bd96-6c29ebf3abe7"
      },
      "outputs": [
        {
          "data": {
            "text/plain": [
              "array(['desobediência', 'outras', 'distração', 'distância insegura',\n",
              "       'defeito mecânico', 'presença de animais', 'velocidade inadequada',\n",
              "       'álcool/drogas', 'ultrapassagem', 'condição da via',\n",
              "       'sinalização inadequada', 'mal súbito', 'fenômenos naturais',\n",
              "       'visibilidade reduzida', 'obstáculo na via',\n",
              "       'carga mal acondicionada', 'falha nos sistemas do veículo',\n",
              "       'falha do condutor', 'agressão', 'desrespeito à preferência',\n",
              "       'pedestre na via', 'condição climática', 'infração de trânsito',\n",
              "       'falta de atenção', 'manobra imprudente',\n",
              "       'infraestrutura inadequada', 'falta de atenção do pedestre',\n",
              "       'obstrução na via'], dtype=object)"
            ]
          },
          "execution_count": 84,
          "metadata": {},
          "output_type": "execute_result"
        }
      ],
      "source": [
        "df['causa_acidente'].unique()"
      ]
    },
    {
      "cell_type": "code",
      "execution_count": 85,
      "metadata": {
        "colab": {
          "base_uri": "https://localhost:8080/"
        },
        "id": "XhomC-qOpVzX",
        "outputId": "1b63fefb-4104-4429-b93e-1ed2c9eb62ab"
      },
      "outputs": [
        {
          "data": {
            "text/plain": [
              "array(['colisão transversal', 'saída de pista', 'colisão lateral',\n",
              "       'colisão com bicicleta', 'colisão traseira',\n",
              "       'colisão com objeto fixo', 'capotamento',\n",
              "       'queda de motocicleta / bicicleta / veículo', 'incêndio',\n",
              "       'atropelamento de pessoa', 'colisão frontal',\n",
              "       'atropelamento de animal', 'colisão com objeto móvel',\n",
              "       'tombamento', 'derramamento de carga', 'danos eventuais',\n",
              "       'colisão com objeto estático', 'saída de leito carroçável',\n",
              "       'queda de ocupante de veículo', 'atropelamento de pedestre',\n",
              "       'engavetamento', 'colisão com objeto em movimento',\n",
              "       'colisão com objeto', 'colisão lateral mesmo sentido',\n",
              "       'eventos atípicos', 'colisão lateral sentido oposto'], dtype=object)"
            ]
          },
          "execution_count": 85,
          "metadata": {},
          "output_type": "execute_result"
        }
      ],
      "source": [
        "# Tipos de acidentes\n",
        "df['tipo_acidente'].unique()"
      ]
    },
    {
      "cell_type": "code",
      "execution_count": 86,
      "metadata": {
        "id": "6iNnmTBnpXlf"
      },
      "outputs": [],
      "source": [
        "mapeamento_acidente = {\n",
        "    'colisão transversal': 'colisão',\n",
        "    'saída de pista': 'saída de pista',\n",
        "    'colisão lateral': 'colisão',\n",
        "    'colisão com bicicleta': 'colisão',\n",
        "    'colisão traseira': 'colisão',\n",
        "    'colisão com objeto fixo': 'colisão',\n",
        "    'capotamento': 'capotamento',\n",
        "    'queda de motocicleta / bicicleta / veículo': 'queda',\n",
        "    'incêndio': 'incêndio',\n",
        "    'atropelamento de pessoa': 'atropelamento de pessoa',\n",
        "    'colisão frontal': 'colisão',\n",
        "    'atropelamento de animal': 'atropelamento de animal',\n",
        "    'colisão com objeto móvel': 'colisão',\n",
        "    'tombamento': 'tombamento',\n",
        "    'derramamento de carga': 'derramamento de carga',\n",
        "    'danos eventuais': 'outros',\n",
        "    'colisão com objeto estático': 'colisão',\n",
        "    'saída de leito carroçável': 'saída de pista',\n",
        "    'queda de ocupante de veículo': 'queda',\n",
        "    'atropelamento de pedestre': 'atropelamento de pessoa',\n",
        "    'engavetamento': 'colisão',\n",
        "    'colisão com objeto em movimento': 'colisão',\n",
        "    'colisão com objeto': 'colisão',\n",
        "    'colisão lateral mesmo sentido': 'colisão',\n",
        "    'eventos atípicos': 'outros',\n",
        "    'colisão lateral sentido oposto': 'colisão'\n",
        "}\n",
        "\n",
        "df['tipo_acidente'] = df['tipo_acidente'].map(mapeamento_acidente)"
      ]
    },
    {
      "cell_type": "code",
      "execution_count": 87,
      "metadata": {
        "colab": {
          "base_uri": "https://localhost:8080/"
        },
        "id": "8x7NbZ74pX-3",
        "outputId": "6f8fa92f-8957-41fb-eb56-4886bc999b56"
      },
      "outputs": [
        {
          "data": {
            "text/plain": [
              "array(['colisão', 'saída de pista', 'capotamento', 'queda', 'incêndio',\n",
              "       'atropelamento de pessoa', 'atropelamento de animal', 'tombamento',\n",
              "       'derramamento de carga', 'outros'], dtype=object)"
            ]
          },
          "execution_count": 87,
          "metadata": {},
          "output_type": "execute_result"
        }
      ],
      "source": [
        "df['tipo_acidente'].unique()"
      ]
    },
    {
      "cell_type": "markdown",
      "metadata": {
        "id": "QKUb_RHUPALX"
      },
      "source": []
    },
    {
      "cell_type": "markdown",
      "metadata": {
        "id": "2v4JLHVUPD9e"
      },
      "source": [
        "# Concepts and tools of Statistics"
      ]
    },
    {
      "cell_type": "markdown",
      "metadata": {
        "id": "7b7102fb-7e17-472a-b346-97bad8bcbbe8"
      },
      "source": [
        "__1) Within a dataset, classify its columns as Discrete Quantitative, Continuous Quantitative, Ordinal Qualitative, or Nominal Qualitative.__\n"
      ]
    },
    {
      "cell_type": "markdown",
      "metadata": {
        "id": "78792baf-97bd-4f56-b6b7-171f1c3cb174"
      },
      "source": [
        "__2) With the same dataset, build the probability distribution of a feature with integer values. Write a function to calculate the Mean and another function to calculate the Variance of this random variable. Compare the result of your function with the results from a native Python function (there are many modules/libraries that calculate these parameters). Construct a function that serves the role of cdf() and another function with the role of sf(). Extra challenge: build functions that serve the roles of ppf() and isf(). .__'.f'."
      ]
    },
    {
      "cell_type": "markdown",
      "metadata": {
        "id": "6821c75f-1bd1-4911-a71f-a9802a85203c"
      },
      "source": [
        " __3) Using the random variable from the previous exercise, build the distribution of sample means to illustrate/confirm the Central Limit Theorem. Compare the mean and variance with the previous exercise. Use the normality test to verify whether this distribution (of sample means) is normal or not.__\n"
      ]
    },
    {
      "cell_type": "markdown",
      "metadata": {
        "id": "5c030222-2f5b-4d30-a7d5-d50553295dbc"
      },
      "source": [
        "__4) In the previous exercise, construct the confidence interval for the mean, with a confidence level of 95% and a percentage error of 2% (up or down).__"
      ]
    },
    {
      "cell_type": "markdown",
      "metadata": {
        "id": "392df3d6-08a7-4cdf-9fd5-d7745640f834"
      },
      "source": [
        "__5) If a sample of size 30, taken from the random variable in exercise 2), has a mean 10% higher than the population mean, would the hypothesis that these means are equal be rejected or not rejected, with a confidence level of 95%? (perform the hypothesis test to answer this question).__\n"
      ]
    },
    {
      "cell_type": "code",
      "execution_count": 88,
      "metadata": {
        "colab": {
          "base_uri": "https://localhost:8080/"
        },
        "id": "QgnLToI4zNON",
        "outputId": "d62b3c16-450f-4958-db01-447fb38b9de3"
      },
      "outputs": [
        {
          "data": {
            "text/plain": [
              "(1980229, 28)"
            ]
          },
          "execution_count": 88,
          "metadata": {},
          "output_type": "execute_result"
        }
      ],
      "source": [
        "df.shape"
      ]
    },
    {
      "cell_type": "code",
      "execution_count": 39,
      "metadata": {
        "colab": {
          "base_uri": "https://localhost:8080/",
          "height": 394
        },
        "id": "d1dKPrqYPx8b",
        "outputId": "8d336cf7-0774-4053-9467-24c4a6f73a02"
      },
      "outputs": [
        {
          "data": {
            "application/vnd.google.colaboratory.intrinsic+json": {
              "summary": "{\n  \"name\": \"df[[\\\"feridos\\\",\\\"mortos\\\", \\\"feridos_graves\\\"]][df\",\n  \"rows\": 10,\n  \"fields\": [\n    {\n      \"column\": \"date\",\n      \"properties\": {\n        \"dtype\": \"date\",\n        \"min\": \"2008-03-01 00:00:00\",\n        \"max\": \"2009-12-29 00:00:00\",\n        \"num_unique_values\": 9,\n        \"samples\": [\n          \"2009-09-17 00:00:00\",\n          \"2009-06-09 00:00:00\",\n          \"2009-12-29 00:00:00\"\n        ],\n        \"semantic_type\": \"\",\n        \"description\": \"\"\n      }\n    },\n    {\n      \"column\": \"feridos\",\n      \"properties\": {\n        \"dtype\": \"number\",\n        \"std\": 1.247219128924647,\n        \"min\": 0.0,\n        \"max\": 4.0,\n        \"num_unique_values\": 4,\n        \"samples\": [\n          2.0,\n          4.0,\n          1.0\n        ],\n        \"semantic_type\": \"\",\n        \"description\": \"\"\n      }\n    },\n    {\n      \"column\": \"mortos\",\n      \"properties\": {\n        \"dtype\": \"number\",\n        \"std\": 0.42163702135578396,\n        \"min\": 1.0,\n        \"max\": 2.0,\n        \"num_unique_values\": 2,\n        \"samples\": [\n          1.0,\n          2.0\n        ],\n        \"semantic_type\": \"\",\n        \"description\": \"\"\n      }\n    },\n    {\n      \"column\": \"feridos_graves\",\n      \"properties\": {\n        \"dtype\": \"number\",\n        \"std\": 0.7071067811865476,\n        \"min\": 0.0,\n        \"max\": 2.0,\n        \"num_unique_values\": 3,\n        \"samples\": [\n          1.0,\n          2.0\n        ],\n        \"semantic_type\": \"\",\n        \"description\": \"\"\n      }\n    }\n  ]\n}",
              "type": "dataframe"
            },
            "text/html": [
              "\n",
              "  <div id=\"df-da86247f-af40-4a13-9754-726b6e149034\" class=\"colab-df-container\">\n",
              "    <div>\n",
              "<style scoped>\n",
              "    .dataframe tbody tr th:only-of-type {\n",
              "        vertical-align: middle;\n",
              "    }\n",
              "\n",
              "    .dataframe tbody tr th {\n",
              "        vertical-align: top;\n",
              "    }\n",
              "\n",
              "    .dataframe thead th {\n",
              "        text-align: right;\n",
              "    }\n",
              "</style>\n",
              "<table border=\"1\" class=\"dataframe\">\n",
              "  <thead>\n",
              "    <tr style=\"text-align: right;\">\n",
              "      <th></th>\n",
              "      <th>feridos</th>\n",
              "      <th>mortos</th>\n",
              "      <th>feridos_graves</th>\n",
              "    </tr>\n",
              "    <tr>\n",
              "      <th>date</th>\n",
              "      <th></th>\n",
              "      <th></th>\n",
              "      <th></th>\n",
              "    </tr>\n",
              "  </thead>\n",
              "  <tbody>\n",
              "    <tr>\n",
              "      <th>2009-09-22</th>\n",
              "      <td>1.0</td>\n",
              "      <td>2.0</td>\n",
              "      <td>1.0</td>\n",
              "    </tr>\n",
              "    <tr>\n",
              "      <th>2009-06-09</th>\n",
              "      <td>2.0</td>\n",
              "      <td>2.0</td>\n",
              "      <td>2.0</td>\n",
              "    </tr>\n",
              "    <tr>\n",
              "      <th>2008-03-01</th>\n",
              "      <td>0.0</td>\n",
              "      <td>1.0</td>\n",
              "      <td>0.0</td>\n",
              "    </tr>\n",
              "    <tr>\n",
              "      <th>2009-09-22</th>\n",
              "      <td>1.0</td>\n",
              "      <td>1.0</td>\n",
              "      <td>0.0</td>\n",
              "    </tr>\n",
              "    <tr>\n",
              "      <th>2009-10-18</th>\n",
              "      <td>1.0</td>\n",
              "      <td>1.0</td>\n",
              "      <td>1.0</td>\n",
              "    </tr>\n",
              "    <tr>\n",
              "      <th>2009-08-29</th>\n",
              "      <td>1.0</td>\n",
              "      <td>1.0</td>\n",
              "      <td>1.0</td>\n",
              "    </tr>\n",
              "    <tr>\n",
              "      <th>2009-12-29</th>\n",
              "      <td>4.0</td>\n",
              "      <td>1.0</td>\n",
              "      <td>0.0</td>\n",
              "    </tr>\n",
              "    <tr>\n",
              "      <th>2009-06-02</th>\n",
              "      <td>0.0</td>\n",
              "      <td>1.0</td>\n",
              "      <td>0.0</td>\n",
              "    </tr>\n",
              "    <tr>\n",
              "      <th>2009-09-17</th>\n",
              "      <td>0.0</td>\n",
              "      <td>1.0</td>\n",
              "      <td>0.0</td>\n",
              "    </tr>\n",
              "    <tr>\n",
              "      <th>2009-04-12</th>\n",
              "      <td>0.0</td>\n",
              "      <td>1.0</td>\n",
              "      <td>0.0</td>\n",
              "    </tr>\n",
              "  </tbody>\n",
              "</table>\n",
              "</div>\n",
              "    <div class=\"colab-df-buttons\">\n",
              "\n",
              "  <div class=\"colab-df-container\">\n",
              "    <button class=\"colab-df-convert\" onclick=\"convertToInteractive('df-da86247f-af40-4a13-9754-726b6e149034')\"\n",
              "            title=\"Convert this dataframe to an interactive table.\"\n",
              "            style=\"display:none;\">\n",
              "\n",
              "  <svg xmlns=\"http://www.w3.org/2000/svg\" height=\"24px\" viewBox=\"0 -960 960 960\">\n",
              "    <path d=\"M120-120v-720h720v720H120Zm60-500h600v-160H180v160Zm220 220h160v-160H400v160Zm0 220h160v-160H400v160ZM180-400h160v-160H180v160Zm440 0h160v-160H620v160ZM180-180h160v-160H180v160Zm440 0h160v-160H620v160Z\"/>\n",
              "  </svg>\n",
              "    </button>\n",
              "\n",
              "  <style>\n",
              "    .colab-df-container {\n",
              "      display:flex;\n",
              "      gap: 12px;\n",
              "    }\n",
              "\n",
              "    .colab-df-convert {\n",
              "      background-color: #E8F0FE;\n",
              "      border: none;\n",
              "      border-radius: 50%;\n",
              "      cursor: pointer;\n",
              "      display: none;\n",
              "      fill: #1967D2;\n",
              "      height: 32px;\n",
              "      padding: 0 0 0 0;\n",
              "      width: 32px;\n",
              "    }\n",
              "\n",
              "    .colab-df-convert:hover {\n",
              "      background-color: #E2EBFA;\n",
              "      box-shadow: 0px 1px 2px rgba(60, 64, 67, 0.3), 0px 1px 3px 1px rgba(60, 64, 67, 0.15);\n",
              "      fill: #174EA6;\n",
              "    }\n",
              "\n",
              "    .colab-df-buttons div {\n",
              "      margin-bottom: 4px;\n",
              "    }\n",
              "\n",
              "    [theme=dark] .colab-df-convert {\n",
              "      background-color: #3B4455;\n",
              "      fill: #D2E3FC;\n",
              "    }\n",
              "\n",
              "    [theme=dark] .colab-df-convert:hover {\n",
              "      background-color: #434B5C;\n",
              "      box-shadow: 0px 1px 3px 1px rgba(0, 0, 0, 0.15);\n",
              "      filter: drop-shadow(0px 1px 2px rgba(0, 0, 0, 0.3));\n",
              "      fill: #FFFFFF;\n",
              "    }\n",
              "  </style>\n",
              "\n",
              "    <script>\n",
              "      const buttonEl =\n",
              "        document.querySelector('#df-da86247f-af40-4a13-9754-726b6e149034 button.colab-df-convert');\n",
              "      buttonEl.style.display =\n",
              "        google.colab.kernel.accessAllowed ? 'block' : 'none';\n",
              "\n",
              "      async function convertToInteractive(key) {\n",
              "        const element = document.querySelector('#df-da86247f-af40-4a13-9754-726b6e149034');\n",
              "        const dataTable =\n",
              "          await google.colab.kernel.invokeFunction('convertToInteractive',\n",
              "                                                    [key], {});\n",
              "        if (!dataTable) return;\n",
              "\n",
              "        const docLinkHtml = 'Like what you see? Visit the ' +\n",
              "          '<a target=\"_blank\" href=https://colab.research.google.com/notebooks/data_table.ipynb>data table notebook</a>'\n",
              "          + ' to learn more about interactive tables.';\n",
              "        element.innerHTML = '';\n",
              "        dataTable['output_type'] = 'display_data';\n",
              "        await google.colab.output.renderOutput(dataTable, element);\n",
              "        const docLink = document.createElement('div');\n",
              "        docLink.innerHTML = docLinkHtml;\n",
              "        element.appendChild(docLink);\n",
              "      }\n",
              "    </script>\n",
              "  </div>\n",
              "\n",
              "\n",
              "<div id=\"df-f667d918-befa-4cc5-a342-9ef4947c8735\">\n",
              "  <button class=\"colab-df-quickchart\" onclick=\"quickchart('df-f667d918-befa-4cc5-a342-9ef4947c8735')\"\n",
              "            title=\"Suggest charts\"\n",
              "            style=\"display:none;\">\n",
              "\n",
              "<svg xmlns=\"http://www.w3.org/2000/svg\" height=\"24px\"viewBox=\"0 0 24 24\"\n",
              "     width=\"24px\">\n",
              "    <g>\n",
              "        <path d=\"M19 3H5c-1.1 0-2 .9-2 2v14c0 1.1.9 2 2 2h14c1.1 0 2-.9 2-2V5c0-1.1-.9-2-2-2zM9 17H7v-7h2v7zm4 0h-2V7h2v10zm4 0h-2v-4h2v4z\"/>\n",
              "    </g>\n",
              "</svg>\n",
              "  </button>\n",
              "\n",
              "<style>\n",
              "  .colab-df-quickchart {\n",
              "      --bg-color: #E8F0FE;\n",
              "      --fill-color: #1967D2;\n",
              "      --hover-bg-color: #E2EBFA;\n",
              "      --hover-fill-color: #174EA6;\n",
              "      --disabled-fill-color: #AAA;\n",
              "      --disabled-bg-color: #DDD;\n",
              "  }\n",
              "\n",
              "  [theme=dark] .colab-df-quickchart {\n",
              "      --bg-color: #3B4455;\n",
              "      --fill-color: #D2E3FC;\n",
              "      --hover-bg-color: #434B5C;\n",
              "      --hover-fill-color: #FFFFFF;\n",
              "      --disabled-bg-color: #3B4455;\n",
              "      --disabled-fill-color: #666;\n",
              "  }\n",
              "\n",
              "  .colab-df-quickchart {\n",
              "    background-color: var(--bg-color);\n",
              "    border: none;\n",
              "    border-radius: 50%;\n",
              "    cursor: pointer;\n",
              "    display: none;\n",
              "    fill: var(--fill-color);\n",
              "    height: 32px;\n",
              "    padding: 0;\n",
              "    width: 32px;\n",
              "  }\n",
              "\n",
              "  .colab-df-quickchart:hover {\n",
              "    background-color: var(--hover-bg-color);\n",
              "    box-shadow: 0 1px 2px rgba(60, 64, 67, 0.3), 0 1px 3px 1px rgba(60, 64, 67, 0.15);\n",
              "    fill: var(--button-hover-fill-color);\n",
              "  }\n",
              "\n",
              "  .colab-df-quickchart-complete:disabled,\n",
              "  .colab-df-quickchart-complete:disabled:hover {\n",
              "    background-color: var(--disabled-bg-color);\n",
              "    fill: var(--disabled-fill-color);\n",
              "    box-shadow: none;\n",
              "  }\n",
              "\n",
              "  .colab-df-spinner {\n",
              "    border: 2px solid var(--fill-color);\n",
              "    border-color: transparent;\n",
              "    border-bottom-color: var(--fill-color);\n",
              "    animation:\n",
              "      spin 1s steps(1) infinite;\n",
              "  }\n",
              "\n",
              "  @keyframes spin {\n",
              "    0% {\n",
              "      border-color: transparent;\n",
              "      border-bottom-color: var(--fill-color);\n",
              "      border-left-color: var(--fill-color);\n",
              "    }\n",
              "    20% {\n",
              "      border-color: transparent;\n",
              "      border-left-color: var(--fill-color);\n",
              "      border-top-color: var(--fill-color);\n",
              "    }\n",
              "    30% {\n",
              "      border-color: transparent;\n",
              "      border-left-color: var(--fill-color);\n",
              "      border-top-color: var(--fill-color);\n",
              "      border-right-color: var(--fill-color);\n",
              "    }\n",
              "    40% {\n",
              "      border-color: transparent;\n",
              "      border-right-color: var(--fill-color);\n",
              "      border-top-color: var(--fill-color);\n",
              "    }\n",
              "    60% {\n",
              "      border-color: transparent;\n",
              "      border-right-color: var(--fill-color);\n",
              "    }\n",
              "    80% {\n",
              "      border-color: transparent;\n",
              "      border-right-color: var(--fill-color);\n",
              "      border-bottom-color: var(--fill-color);\n",
              "    }\n",
              "    90% {\n",
              "      border-color: transparent;\n",
              "      border-bottom-color: var(--fill-color);\n",
              "    }\n",
              "  }\n",
              "</style>\n",
              "\n",
              "  <script>\n",
              "    async function quickchart(key) {\n",
              "      const quickchartButtonEl =\n",
              "        document.querySelector('#' + key + ' button');\n",
              "      quickchartButtonEl.disabled = true;  // To prevent multiple clicks.\n",
              "      quickchartButtonEl.classList.add('colab-df-spinner');\n",
              "      try {\n",
              "        const charts = await google.colab.kernel.invokeFunction(\n",
              "            'suggestCharts', [key], {});\n",
              "      } catch (error) {\n",
              "        console.error('Error during call to suggestCharts:', error);\n",
              "      }\n",
              "      quickchartButtonEl.classList.remove('colab-df-spinner');\n",
              "      quickchartButtonEl.classList.add('colab-df-quickchart-complete');\n",
              "    }\n",
              "    (() => {\n",
              "      let quickchartButtonEl =\n",
              "        document.querySelector('#df-f667d918-befa-4cc5-a342-9ef4947c8735 button');\n",
              "      quickchartButtonEl.style.display =\n",
              "        google.colab.kernel.accessAllowed ? 'block' : 'none';\n",
              "    })();\n",
              "  </script>\n",
              "</div>\n",
              "\n",
              "    </div>\n",
              "  </div>\n"
            ],
            "text/plain": [
              "            feridos  mortos  feridos_graves\n",
              "date                                       \n",
              "2009-09-22      1.0     2.0             1.0\n",
              "2009-06-09      2.0     2.0             2.0\n",
              "2008-03-01      0.0     1.0             0.0\n",
              "2009-09-22      1.0     1.0             0.0\n",
              "2009-10-18      1.0     1.0             1.0\n",
              "2009-08-29      1.0     1.0             1.0\n",
              "2009-12-29      4.0     1.0             0.0\n",
              "2009-06-02      0.0     1.0             0.0\n",
              "2009-09-17      0.0     1.0             0.0\n",
              "2009-04-12      0.0     1.0             0.0"
            ]
          },
          "execution_count": 39,
          "metadata": {},
          "output_type": "execute_result"
        }
      ],
      "source": [
        "df[[\"feridos\",\"mortos\", \"feridos_graves\"]][df.mortos > 0].sample(10)"
      ]
    },
    {
      "cell_type": "markdown",
      "metadata": {
        "id": "ZKJvOKJSPcjs"
      },
      "source": [
        "# Questions"
      ]
    },
    {
      "cell_type": "markdown",
      "metadata": {
        "id": "N6W7YpgIPsna"
      },
      "source": [
        "__2) With the same dataset, build the probability distribution of a feature with integer values. Write a function to calculate the Mean and another function to calculate the Variance of this random variable. Compare the result of your function with the results from a native Python function (there are many modules/libraries that calculate these parameters). Construct a function that serves the role of cdf() and another function with the role of sf(). Extra challenge: build functions that serve the roles of ppf() and isf().__'.f'."
      ]
    },
    {
      "cell_type": "code",
      "execution_count": 93,
      "metadata": {
        "colab": {
          "base_uri": "https://localhost:8080/",
          "height": 374
        },
        "id": "tXlslCK-zjS-",
        "outputId": "42c36cb5-e99a-4307-e490-3bc0f0e05c61"
      },
      "outputs": [
        {
          "data": {
            "application/vnd.google.colaboratory.intrinsic+json": {
              "type": "dataframe"
            },
            "text/html": [
              "\n",
              "  <div id=\"df-e130780b-f5e8-4af7-a9f3-11b3dae0d558\" class=\"colab-df-container\">\n",
              "    <div>\n",
              "<style scoped>\n",
              "    .dataframe tbody tr th:only-of-type {\n",
              "        vertical-align: middle;\n",
              "    }\n",
              "\n",
              "    .dataframe tbody tr th {\n",
              "        vertical-align: top;\n",
              "    }\n",
              "\n",
              "    .dataframe thead th {\n",
              "        text-align: right;\n",
              "    }\n",
              "</style>\n",
              "<table border=\"1\" class=\"dataframe\">\n",
              "  <thead>\n",
              "    <tr style=\"text-align: right;\">\n",
              "      <th></th>\n",
              "      <th>data_inversa</th>\n",
              "      <th>dia_semana</th>\n",
              "      <th>horario</th>\n",
              "      <th>uf</th>\n",
              "      <th>br</th>\n",
              "      <th>km</th>\n",
              "      <th>causa_acidente</th>\n",
              "      <th>tipo_acidente</th>\n",
              "      <th>classificacao_acidente</th>\n",
              "      <th>fase_dia</th>\n",
              "      <th>...</th>\n",
              "      <th>feridos_graves</th>\n",
              "      <th>ilesos</th>\n",
              "      <th>ignorados</th>\n",
              "      <th>feridos</th>\n",
              "      <th>veiculos</th>\n",
              "      <th>year</th>\n",
              "      <th>month</th>\n",
              "      <th>quarter</th>\n",
              "      <th>quarter_end</th>\n",
              "      <th>hour</th>\n",
              "    </tr>\n",
              "    <tr>\n",
              "      <th>date</th>\n",
              "      <th></th>\n",
              "      <th></th>\n",
              "      <th></th>\n",
              "      <th></th>\n",
              "      <th></th>\n",
              "      <th></th>\n",
              "      <th></th>\n",
              "      <th></th>\n",
              "      <th></th>\n",
              "      <th></th>\n",
              "      <th></th>\n",
              "      <th></th>\n",
              "      <th></th>\n",
              "      <th></th>\n",
              "      <th></th>\n",
              "      <th></th>\n",
              "      <th></th>\n",
              "      <th></th>\n",
              "      <th></th>\n",
              "      <th></th>\n",
              "      <th></th>\n",
              "    </tr>\n",
              "  </thead>\n",
              "  <tbody>\n",
              "    <tr>\n",
              "      <th>2015-12-30</th>\n",
              "      <td>2015-12-30</td>\n",
              "      <td>quarta</td>\n",
              "      <td>08:35:00</td>\n",
              "      <td>rn</td>\n",
              "      <td>405.0</td>\n",
              "      <td>68.8</td>\n",
              "      <td>distração</td>\n",
              "      <td>saída de pista</td>\n",
              "      <td>sem vítimas</td>\n",
              "      <td>pleno dia</td>\n",
              "      <td>...</td>\n",
              "      <td>0</td>\n",
              "      <td>3</td>\n",
              "      <td>0</td>\n",
              "      <td>0</td>\n",
              "      <td>3</td>\n",
              "      <td>2015</td>\n",
              "      <td>12</td>\n",
              "      <td>4</td>\n",
              "      <td>False</td>\n",
              "      <td>08</td>\n",
              "    </tr>\n",
              "    <tr>\n",
              "      <th>2013-03-28</th>\n",
              "      <td>2013-03-28</td>\n",
              "      <td>quinta</td>\n",
              "      <td>09:55:00</td>\n",
              "      <td>ro</td>\n",
              "      <td>364.0</td>\n",
              "      <td>568.0</td>\n",
              "      <td>desobediência</td>\n",
              "      <td>colisão</td>\n",
              "      <td>sem vítimas</td>\n",
              "      <td>pleno dia</td>\n",
              "      <td>...</td>\n",
              "      <td>0</td>\n",
              "      <td>2</td>\n",
              "      <td>0</td>\n",
              "      <td>0</td>\n",
              "      <td>2</td>\n",
              "      <td>2013</td>\n",
              "      <td>3</td>\n",
              "      <td>1</td>\n",
              "      <td>False</td>\n",
              "      <td>09</td>\n",
              "    </tr>\n",
              "    <tr>\n",
              "      <th>2007-06-02</th>\n",
              "      <td>2007-06-02</td>\n",
              "      <td>terça</td>\n",
              "      <td>21:00:00</td>\n",
              "      <td>go</td>\n",
              "      <td>153.0</td>\n",
              "      <td>570.0</td>\n",
              "      <td>outras</td>\n",
              "      <td>saída de pista</td>\n",
              "      <td>sem vítimas</td>\n",
              "      <td>plena noite</td>\n",
              "      <td>...</td>\n",
              "      <td>0</td>\n",
              "      <td>1</td>\n",
              "      <td>0</td>\n",
              "      <td>0</td>\n",
              "      <td>1</td>\n",
              "      <td>2007</td>\n",
              "      <td>6</td>\n",
              "      <td>2</td>\n",
              "      <td>False</td>\n",
              "      <td>21</td>\n",
              "    </tr>\n",
              "    <tr>\n",
              "      <th>2007-03-08</th>\n",
              "      <td>2007-03-08</td>\n",
              "      <td>sexta</td>\n",
              "      <td>13:45:00</td>\n",
              "      <td>pb</td>\n",
              "      <td>230.0</td>\n",
              "      <td>172.5</td>\n",
              "      <td>distração</td>\n",
              "      <td>colisão</td>\n",
              "      <td>sem vítimas</td>\n",
              "      <td>pleno dia</td>\n",
              "      <td>...</td>\n",
              "      <td>0</td>\n",
              "      <td>2</td>\n",
              "      <td>0</td>\n",
              "      <td>0</td>\n",
              "      <td>2</td>\n",
              "      <td>2007</td>\n",
              "      <td>3</td>\n",
              "      <td>1</td>\n",
              "      <td>False</td>\n",
              "      <td>13</td>\n",
              "    </tr>\n",
              "    <tr>\n",
              "      <th>2022-09-13</th>\n",
              "      <td>2022-09-13</td>\n",
              "      <td>terça</td>\n",
              "      <td>17:45:00</td>\n",
              "      <td>sp</td>\n",
              "      <td>116.0</td>\n",
              "      <td>223</td>\n",
              "      <td>infração de trânsito</td>\n",
              "      <td>capotamento</td>\n",
              "      <td>com vítimas feridas</td>\n",
              "      <td>plena noite</td>\n",
              "      <td>...</td>\n",
              "      <td>0</td>\n",
              "      <td>0</td>\n",
              "      <td>0</td>\n",
              "      <td>2</td>\n",
              "      <td>1</td>\n",
              "      <td>2022</td>\n",
              "      <td>9</td>\n",
              "      <td>3</td>\n",
              "      <td>False</td>\n",
              "      <td>17</td>\n",
              "    </tr>\n",
              "  </tbody>\n",
              "</table>\n",
              "<p>5 rows × 28 columns</p>\n",
              "</div>\n",
              "    <div class=\"colab-df-buttons\">\n",
              "\n",
              "  <div class=\"colab-df-container\">\n",
              "    <button class=\"colab-df-convert\" onclick=\"convertToInteractive('df-e130780b-f5e8-4af7-a9f3-11b3dae0d558')\"\n",
              "            title=\"Convert this dataframe to an interactive table.\"\n",
              "            style=\"display:none;\">\n",
              "\n",
              "  <svg xmlns=\"http://www.w3.org/2000/svg\" height=\"24px\" viewBox=\"0 -960 960 960\">\n",
              "    <path d=\"M120-120v-720h720v720H120Zm60-500h600v-160H180v160Zm220 220h160v-160H400v160Zm0 220h160v-160H400v160ZM180-400h160v-160H180v160Zm440 0h160v-160H620v160ZM180-180h160v-160H180v160Zm440 0h160v-160H620v160Z\"/>\n",
              "  </svg>\n",
              "    </button>\n",
              "\n",
              "  <style>\n",
              "    .colab-df-container {\n",
              "      display:flex;\n",
              "      gap: 12px;\n",
              "    }\n",
              "\n",
              "    .colab-df-convert {\n",
              "      background-color: #E8F0FE;\n",
              "      border: none;\n",
              "      border-radius: 50%;\n",
              "      cursor: pointer;\n",
              "      display: none;\n",
              "      fill: #1967D2;\n",
              "      height: 32px;\n",
              "      padding: 0 0 0 0;\n",
              "      width: 32px;\n",
              "    }\n",
              "\n",
              "    .colab-df-convert:hover {\n",
              "      background-color: #E2EBFA;\n",
              "      box-shadow: 0px 1px 2px rgba(60, 64, 67, 0.3), 0px 1px 3px 1px rgba(60, 64, 67, 0.15);\n",
              "      fill: #174EA6;\n",
              "    }\n",
              "\n",
              "    .colab-df-buttons div {\n",
              "      margin-bottom: 4px;\n",
              "    }\n",
              "\n",
              "    [theme=dark] .colab-df-convert {\n",
              "      background-color: #3B4455;\n",
              "      fill: #D2E3FC;\n",
              "    }\n",
              "\n",
              "    [theme=dark] .colab-df-convert:hover {\n",
              "      background-color: #434B5C;\n",
              "      box-shadow: 0px 1px 3px 1px rgba(0, 0, 0, 0.15);\n",
              "      filter: drop-shadow(0px 1px 2px rgba(0, 0, 0, 0.3));\n",
              "      fill: #FFFFFF;\n",
              "    }\n",
              "  </style>\n",
              "\n",
              "    <script>\n",
              "      const buttonEl =\n",
              "        document.querySelector('#df-e130780b-f5e8-4af7-a9f3-11b3dae0d558 button.colab-df-convert');\n",
              "      buttonEl.style.display =\n",
              "        google.colab.kernel.accessAllowed ? 'block' : 'none';\n",
              "\n",
              "      async function convertToInteractive(key) {\n",
              "        const element = document.querySelector('#df-e130780b-f5e8-4af7-a9f3-11b3dae0d558');\n",
              "        const dataTable =\n",
              "          await google.colab.kernel.invokeFunction('convertToInteractive',\n",
              "                                                    [key], {});\n",
              "        if (!dataTable) return;\n",
              "\n",
              "        const docLinkHtml = 'Like what you see? Visit the ' +\n",
              "          '<a target=\"_blank\" href=https://colab.research.google.com/notebooks/data_table.ipynb>data table notebook</a>'\n",
              "          + ' to learn more about interactive tables.';\n",
              "        element.innerHTML = '';\n",
              "        dataTable['output_type'] = 'display_data';\n",
              "        await google.colab.output.renderOutput(dataTable, element);\n",
              "        const docLink = document.createElement('div');\n",
              "        docLink.innerHTML = docLinkHtml;\n",
              "        element.appendChild(docLink);\n",
              "      }\n",
              "    </script>\n",
              "  </div>\n",
              "\n",
              "\n",
              "<div id=\"df-8dfe784e-bc33-4bc3-8eb1-3a8590d7079c\">\n",
              "  <button class=\"colab-df-quickchart\" onclick=\"quickchart('df-8dfe784e-bc33-4bc3-8eb1-3a8590d7079c')\"\n",
              "            title=\"Suggest charts\"\n",
              "            style=\"display:none;\">\n",
              "\n",
              "<svg xmlns=\"http://www.w3.org/2000/svg\" height=\"24px\"viewBox=\"0 0 24 24\"\n",
              "     width=\"24px\">\n",
              "    <g>\n",
              "        <path d=\"M19 3H5c-1.1 0-2 .9-2 2v14c0 1.1.9 2 2 2h14c1.1 0 2-.9 2-2V5c0-1.1-.9-2-2-2zM9 17H7v-7h2v7zm4 0h-2V7h2v10zm4 0h-2v-4h2v4z\"/>\n",
              "    </g>\n",
              "</svg>\n",
              "  </button>\n",
              "\n",
              "<style>\n",
              "  .colab-df-quickchart {\n",
              "      --bg-color: #E8F0FE;\n",
              "      --fill-color: #1967D2;\n",
              "      --hover-bg-color: #E2EBFA;\n",
              "      --hover-fill-color: #174EA6;\n",
              "      --disabled-fill-color: #AAA;\n",
              "      --disabled-bg-color: #DDD;\n",
              "  }\n",
              "\n",
              "  [theme=dark] .colab-df-quickchart {\n",
              "      --bg-color: #3B4455;\n",
              "      --fill-color: #D2E3FC;\n",
              "      --hover-bg-color: #434B5C;\n",
              "      --hover-fill-color: #FFFFFF;\n",
              "      --disabled-bg-color: #3B4455;\n",
              "      --disabled-fill-color: #666;\n",
              "  }\n",
              "\n",
              "  .colab-df-quickchart {\n",
              "    background-color: var(--bg-color);\n",
              "    border: none;\n",
              "    border-radius: 50%;\n",
              "    cursor: pointer;\n",
              "    display: none;\n",
              "    fill: var(--fill-color);\n",
              "    height: 32px;\n",
              "    padding: 0;\n",
              "    width: 32px;\n",
              "  }\n",
              "\n",
              "  .colab-df-quickchart:hover {\n",
              "    background-color: var(--hover-bg-color);\n",
              "    box-shadow: 0 1px 2px rgba(60, 64, 67, 0.3), 0 1px 3px 1px rgba(60, 64, 67, 0.15);\n",
              "    fill: var(--button-hover-fill-color);\n",
              "  }\n",
              "\n",
              "  .colab-df-quickchart-complete:disabled,\n",
              "  .colab-df-quickchart-complete:disabled:hover {\n",
              "    background-color: var(--disabled-bg-color);\n",
              "    fill: var(--disabled-fill-color);\n",
              "    box-shadow: none;\n",
              "  }\n",
              "\n",
              "  .colab-df-spinner {\n",
              "    border: 2px solid var(--fill-color);\n",
              "    border-color: transparent;\n",
              "    border-bottom-color: var(--fill-color);\n",
              "    animation:\n",
              "      spin 1s steps(1) infinite;\n",
              "  }\n",
              "\n",
              "  @keyframes spin {\n",
              "    0% {\n",
              "      border-color: transparent;\n",
              "      border-bottom-color: var(--fill-color);\n",
              "      border-left-color: var(--fill-color);\n",
              "    }\n",
              "    20% {\n",
              "      border-color: transparent;\n",
              "      border-left-color: var(--fill-color);\n",
              "      border-top-color: var(--fill-color);\n",
              "    }\n",
              "    30% {\n",
              "      border-color: transparent;\n",
              "      border-left-color: var(--fill-color);\n",
              "      border-top-color: var(--fill-color);\n",
              "      border-right-color: var(--fill-color);\n",
              "    }\n",
              "    40% {\n",
              "      border-color: transparent;\n",
              "      border-right-color: var(--fill-color);\n",
              "      border-top-color: var(--fill-color);\n",
              "    }\n",
              "    60% {\n",
              "      border-color: transparent;\n",
              "      border-right-color: var(--fill-color);\n",
              "    }\n",
              "    80% {\n",
              "      border-color: transparent;\n",
              "      border-right-color: var(--fill-color);\n",
              "      border-bottom-color: var(--fill-color);\n",
              "    }\n",
              "    90% {\n",
              "      border-color: transparent;\n",
              "      border-bottom-color: var(--fill-color);\n",
              "    }\n",
              "  }\n",
              "</style>\n",
              "\n",
              "  <script>\n",
              "    async function quickchart(key) {\n",
              "      const quickchartButtonEl =\n",
              "        document.querySelector('#' + key + ' button');\n",
              "      quickchartButtonEl.disabled = true;  // To prevent multiple clicks.\n",
              "      quickchartButtonEl.classList.add('colab-df-spinner');\n",
              "      try {\n",
              "        const charts = await google.colab.kernel.invokeFunction(\n",
              "            'suggestCharts', [key], {});\n",
              "      } catch (error) {\n",
              "        console.error('Error during call to suggestCharts:', error);\n",
              "      }\n",
              "      quickchartButtonEl.classList.remove('colab-df-spinner');\n",
              "      quickchartButtonEl.classList.add('colab-df-quickchart-complete');\n",
              "    }\n",
              "    (() => {\n",
              "      let quickchartButtonEl =\n",
              "        document.querySelector('#df-8dfe784e-bc33-4bc3-8eb1-3a8590d7079c button');\n",
              "      quickchartButtonEl.style.display =\n",
              "        google.colab.kernel.accessAllowed ? 'block' : 'none';\n",
              "    })();\n",
              "  </script>\n",
              "</div>\n",
              "\n",
              "    </div>\n",
              "  </div>\n"
            ],
            "text/plain": [
              "           data_inversa dia_semana   horario  uf     br     km  \\\n",
              "date                                                             \n",
              "2015-12-30   2015-12-30     quarta  08:35:00  rn  405.0   68.8   \n",
              "2013-03-28   2013-03-28     quinta  09:55:00  ro  364.0  568.0   \n",
              "2007-06-02   2007-06-02      terça  21:00:00  go  153.0  570.0   \n",
              "2007-03-08   2007-03-08      sexta  13:45:00  pb  230.0  172.5   \n",
              "2022-09-13   2022-09-13      terça  17:45:00  sp  116.0    223   \n",
              "\n",
              "                  causa_acidente   tipo_acidente classificacao_acidente  \\\n",
              "date                                                                      \n",
              "2015-12-30             distração  saída de pista            sem vítimas   \n",
              "2013-03-28         desobediência         colisão            sem vítimas   \n",
              "2007-06-02                outras  saída de pista            sem vítimas   \n",
              "2007-03-08             distração         colisão            sem vítimas   \n",
              "2022-09-13  infração de trânsito     capotamento    com vítimas feridas   \n",
              "\n",
              "               fase_dia  ... feridos_graves ilesos ignorados feridos veiculos  \\\n",
              "date                     ...                                                    \n",
              "2015-12-30    pleno dia  ...              0      3         0       0        3   \n",
              "2013-03-28    pleno dia  ...              0      2         0       0        2   \n",
              "2007-06-02  plena noite  ...              0      1         0       0        1   \n",
              "2007-03-08    pleno dia  ...              0      2         0       0        2   \n",
              "2022-09-13  plena noite  ...              0      0         0       2        1   \n",
              "\n",
              "            year  month  quarter  quarter_end  hour  \n",
              "date                                                 \n",
              "2015-12-30  2015     12        4        False    08  \n",
              "2013-03-28  2013      3        1        False    09  \n",
              "2007-06-02  2007      6        2        False    21  \n",
              "2007-03-08  2007      3        1        False    13  \n",
              "2022-09-13  2022      9        3        False    17  \n",
              "\n",
              "[5 rows x 28 columns]"
            ]
          },
          "execution_count": 93,
          "metadata": {},
          "output_type": "execute_result"
        }
      ],
      "source": [
        "df.sample(5)"
      ]
    },
    {
      "cell_type": "code",
      "execution_count": 89,
      "metadata": {
        "colab": {
          "base_uri": "https://localhost:8080/"
        },
        "id": "5z0eXEnLyZG1",
        "outputId": "65e11272-103e-4bb3-fe0d-4bee78432c63"
      },
      "outputs": [
        {
          "data": {
            "text/plain": [
              "(1980229,)"
            ]
          },
          "execution_count": 89,
          "metadata": {},
          "output_type": "execute_result"
        }
      ],
      "source": [
        "df.feridos.shape"
      ]
    },
    {
      "cell_type": "code",
      "execution_count": 90,
      "metadata": {
        "id": "5KJSxtcoxA_H"
      },
      "outputs": [],
      "source": [
        "feridos = (df.feridos > 0).astype(int)\n",
        "mortos =  (df.mortos > 0).astype(int)"
      ]
    },
    {
      "cell_type": "code",
      "execution_count": 91,
      "metadata": {
        "colab": {
          "base_uri": "https://localhost:8080/"
        },
        "id": "kqkyKwz2yT_Y",
        "outputId": "3f12e793-9399-44f0-e30c-2a9385a671c8"
      },
      "outputs": [
        {
          "data": {
            "text/plain": [
              "1980229"
            ]
          },
          "execution_count": 91,
          "metadata": {},
          "output_type": "execute_result"
        }
      ],
      "source": [
        "len(feridos)"
      ]
    },
    {
      "cell_type": "code",
      "execution_count": 96,
      "metadata": {
        "colab": {
          "base_uri": "https://localhost:8080/",
          "height": 507
        },
        "id": "lWa5BsATwbAP",
        "outputId": "a2d19f59-2575-47a3-fd76-8ac69062ac44"
      },
      "outputs": [
        {
          "data": {
            "image/png": "[encoded data removed]",
            "text/plain": [
              "<Figure size 1000x500 with 2 Axes>"
            ]
          },
          "metadata": {},
          "output_type": "display_data"
        }
      ],
      "source": [
        "## histograma dos feridos e mortos\n",
        "fig, axs = plt.subplots(1, 2, figsize=(10, 5))\n",
        "\n",
        "# Histograma 1\n",
        "axs[0].hist(feridos, bins=5, color='blue', alpha=0.7\n",
        "            , density = True)\n",
        "axs[0].set_title('Histograma 1')\n",
        "axs[0].set_xlabel('Valores')\n",
        "axs[0].set_ylabel('Densidade')\n",
        "\n",
        "# Histograma 2\n",
        "axs[1].hist(mortos, bins=5, color='green', alpha=0.7, density = True)\n",
        "axs[1].set_title('Histograma 2')\n",
        "axs[1].set_xlabel('Valores')\n",
        "axs[1].set_ylabel('Densidade')\n",
        "\n",
        "\n",
        "plt.tight_layout()\n",
        "plt.show()"
      ]
    },
    {
      "cell_type": "code",
      "execution_count": 102,
      "metadata": {
        "colab": {
          "base_uri": "https://localhost:8080/"
        },
        "id": "vXQSJ6iUx2kN",
        "outputId": "68372a5e-eeb8-4325-d62f-0bc46dca852e"
      },
      "outputs": [
        {
          "name": "stdout",
          "output_type": "stream",
          "text": [
            "Probabilidade de haver feridos em um acidente:  0.4624\n",
            "Probabilidade de haver mortos em um acidente: 0.0459\n"
          ]
        }
      ],
      "source": [
        "# Probabilidade\n",
        "\n",
        "print( f\"Probabilidade de haver feridos em um acidente:  {sum(feridos)/feridos.shape[0]:.4f}\")\n",
        "print( f\"Probabilidade de haver mortos em um acidente: {sum(mortos)/mortos.shape[0]:.4f}\")\n",
        "\n"
      ]
    },
    {
      "cell_type": "markdown",
      "metadata": {
        "id": "koMW4JNP3LUf"
      },
      "source": [
        "![image.png](data:image/png;base64,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)"
      ]
    },
    {
      "cell_type": "markdown",
      "metadata": {
        "id": "zGnx_E8a19_l"
      },
      "source": [
        "$$ E[X] = \\mu = \\sum_{i=1}^{n} x_i \\cdot P(x_i) $$\n",
        "\n"
      ]
    },
    {
      "cell_type": "code",
      "execution_count": 126,
      "metadata": {
        "id": "wykFuNMc1Qmz"
      },
      "outputs": [],
      "source": [
        "\n",
        "def esperanca(dados):\n",
        "    if len(dados) == 0:\n",
        "        return None\n",
        "    else:\n",
        "        return 1 * (sum(dados)/len(dados))"
      ]
    },
    {
      "cell_type": "code",
      "execution_count": 124,
      "metadata": {
        "colab": {
          "base_uri": "https://localhost:8080/"
        },
        "id": "dliYpgX2yNiU",
        "outputId": "58ed388a-74ec-4fad-afe5-92d62fbe480c"
      },
      "outputs": [
        {
          "data": {
            "text/plain": [
              "0.46238793594074223"
            ]
          },
          "execution_count": 124,
          "metadata": {},
          "output_type": "execute_result"
        }
      ],
      "source": [
        "esperanca(feridos)"
      ]
    },
    {
      "cell_type": "code",
      "execution_count": 125,
      "metadata": {
        "colab": {
          "base_uri": "https://localhost:8080/"
        },
        "id": "DyiLG82D9VK_",
        "outputId": "dc9aef3f-3f46-4b04-cb92-90ea6dc260e9"
      },
      "outputs": [
        {
          "data": {
            "text/plain": [
              "0.46238793594074223"
            ]
          },
          "execution_count": 125,
          "metadata": {},
          "output_type": "execute_result"
        }
      ],
      "source": [
        "np.mean(feridos)"
      ]
    },
    {
      "cell_type": "markdown",
      "metadata": {
        "id": "-TChikCe2ic2"
      },
      "source": [
        "$$ VAR(X) = E[(X - \\mu)^2] = E[X^2] - (E[X])^2 $$\n",
        "\n"
      ]
    },
    {
      "cell_type": "code",
      "execution_count": 114,
      "metadata": {
        "id": "Zf9gojoe2j4c"
      },
      "outputs": [],
      "source": [
        "def variancia(dados):\n",
        "    x2 = [x**2 for x in dados]\n",
        "    ex2 = esperanca(x2)\n",
        "    var = ex2 - esperanca(dados)**2 #E[X2]−(E[X])2\n",
        "    return var\n"
      ]
    },
    {
      "cell_type": "code",
      "execution_count": 122,
      "metadata": {
        "colab": {
          "base_uri": "https://localhost:8080/"
        },
        "id": "hsBVCJyL319d",
        "outputId": "e119afff-bafb-4063-ab82-6062458032b8"
      },
      "outputs": [
        {
          "name": "stdout",
          "output_type": "stream",
          "text": [
            "0.24858533263720228\n"
          ]
        }
      ],
      "source": [
        "print(variancia(feridos))"
      ]
    },
    {
      "cell_type": "code",
      "execution_count": 123,
      "metadata": {
        "colab": {
          "base_uri": "https://localhost:8080/"
        },
        "id": "7U2t2yAk9R0k",
        "outputId": "2cbfa8cf-c9bd-4b86-c1cc-186bd9055ec3"
      },
      "outputs": [
        {
          "data": {
            "text/plain": [
              "0.24858533263720226"
            ]
          },
          "execution_count": 123,
          "metadata": {},
          "output_type": "execute_result"
        }
      ],
      "source": [
        "np.var(feridos)"
      ]
    },
    {
      "cell_type": "markdown",
      "metadata": {
        "id": "XK4aV2qR6dZR"
      },
      "source": [
        "## Bernoulli\n",
        "\n",
        "The **Bernoulli distribution** is a type of discrete probability distribution that models a random variable that can have only two possible outcomes: success (typically represented by 1) or failure (typically represented by 0).\n",
        "\n",
        "The Bernoulli distribution is defined by the following function:\n",
        "\n",
        "$$\n",
        "f(x; p) =\n",
        "\\begin{cases}\n",
        "p & \\text{,for } x = 1 \\\\\n",
        "1-p & \\text{,for } x = 0 \\\\\n",
        "\\end{cases}\n",
        "$$\n",
        "\n",
        "where:\n",
        "- $ x $ It is the result of the random variable (1 for success, 0 for failure),\n",
        "- $ p $ It is the probability of success (i.e., the probability of obtaining a result of 1).\n",
        "\n",
        "\n",
        "the expectation (or mean) and the variance of a Bernoulli distribution can be calculated using the following formulas:\n",
        "\n",
        "$$\n",
        "\\text{Esperança} (E[X]) = p\n",
        "$$\n",
        "\n",
        "$$\\text{Variância} (\\sigma^2) = p(1-p)$$\n"
      ]
    },
    {
      "cell_type": "markdown",
      "metadata": {
        "id": "cnLRaReQ8olx"
      },
      "source": [
        "-----------------\n",
        "In this case, we are dealing with accidents, where each accident can result in injuries or not, as well as fatalities or not. We can model this situation with a random variable following a Bernoulli distribution.\n",
        "\n",
        "The random variable here represents a binary event: the occurrence or non-occurrence of injuries or fatalities in an accident. If we define \"success\" as the occurrence of injuries or fatalities in an accident, then \"failure\" would be the non-occurrence of these events. Thus, the Bernoulli distribution can be expressed as:"
      ]
    },
    {
      "cell_type": "markdown",
      "metadata": {
        "id": "IPNprhpeBdiW"
      },
      "source": [
        "**CDF (Cumulative Distribution Function):**"
      ]
    },
    {
      "cell_type": "code",
      "execution_count": 192,
      "metadata": {
        "id": "m2gv-h-0DvV1"
      },
      "outputs": [],
      "source": [
        "p_feridos = 0.4623\n",
        "p_morte = 0.0459"
      ]
    },
    {
      "cell_type": "code",
      "execution_count": 143,
      "metadata": {
        "id": "B2BYwkiI6c-C"
      },
      "outputs": [],
      "source": [
        "def bern_cdf(x, p):\n",
        "  if x == 0:\n",
        "      return 1 - p\n",
        "  elif x == 1:\n",
        "      return 1\n",
        "  else:\n",
        "      return None"
      ]
    },
    {
      "cell_type": "code",
      "execution_count": 166,
      "metadata": {
        "colab": {
          "base_uri": "https://localhost:8080/",
          "height": 407
        },
        "id": "yWUYOiBUFwC0",
        "outputId": "d6a44b86-4ccd-497d-dec1-4f65d513d8db"
      },
      "outputs": [
        {
          "data": {
            "image/png": "[encoded data removed]",
            "text/plain": [
              "<Figure size 1000x400 with 2 Axes>"
            ]
          },
          "metadata": {},
          "output_type": "display_data"
        }
      ],
      "source": [
        "cdf_feridos = [bern_cdf(x,p_feridos) for x in [0,1]]\n",
        "cdf_morte = [bern_cdf(x,p_morte) for x in [0,1]]\n",
        "\n",
        "# Criar a figura e os subplots\n",
        "fig, axs = plt.subplots(1, 2, figsize=(10, 4))\n",
        "\n",
        "# Plotar o primeiro gráfico\n",
        "axs[0].step([0,1], cdf_feridos, where='post')\n",
        "axs[0].set_xlabel('x')\n",
        "axs[0].set_ylabel('CDF')\n",
        "axs[0].set_title('CDF: Feridos - p = 0.4623')\n",
        "axs[0].set_xticks([0, 1])\n",
        "axs[0].set_yticks([0, 0.5, 1])\n",
        "axs[0].grid(True)\n",
        "\n",
        "# Plotar o segundo gráfico\n",
        "axs[1].step([0,1], cdf_morte, where='post')\n",
        "axs[1].set_xlabel('x')\n",
        "axs[1].set_ylabel('CDF')\n",
        "axs[1].set_title('CDF: Mortes - p = 0.0459')\n",
        "axs[1].set_xticks([0, 1])\n",
        "axs[1].set_yticks([0, 0.5, 1])\n",
        "axs[1].grid(True)\n",
        "\n",
        "# Ajustar o layout\n",
        "plt.tight_layout()\n",
        "\n",
        "# Mostrar o gráfico\n",
        "plt.show()"
      ]
    },
    {
      "cell_type": "markdown",
      "metadata": {
        "id": "m-6iOwsXCxt5"
      },
      "source": [
        "**SF (Survival Function):**  **1- CDF**"
      ]
    },
    {
      "cell_type": "code",
      "execution_count": 132,
      "metadata": {
        "id": "0aHLiq1uCeZz"
      },
      "outputs": [],
      "source": [
        "\n",
        "def bern_cdf_sf(x, p):\n",
        "  return 1 - bern_cdf(x, p)"
      ]
    },
    {
      "cell_type": "code",
      "execution_count": 168,
      "metadata": {
        "colab": {
          "base_uri": "https://localhost:8080/",
          "height": 407
        },
        "id": "iY-slZG2HXJP",
        "outputId": "7d67ba79-37f1-4097-ab99-b199cb4a6e29"
      },
      "outputs": [
        {
          "data": {
            "image/png": "[encoded data removed]",
            "text/plain": [
              "<Figure size 1000x400 with 2 Axes>"
            ]
          },
          "metadata": {},
          "output_type": "display_data"
        }
      ],
      "source": [
        "sf_feridos = [bern_cdf_sf(x,p_feridos) for x in [0,1]]\n",
        "sf_morte = [bern_cdf_sf(x,p_morte) for x in [0,1]]\n",
        "\n",
        "# Create the figure and the subplots\n",
        "fig, axs = plt.subplots(1, 2, figsize=(10, 4))\n",
        "\n",
        "# Plot the first graphic\n",
        "axs[0].step([0,1], sf_feridos, where='post')\n",
        "axs[0].set_xlabel('x')\n",
        "axs[0].set_ylabel('SF')\n",
        "axs[0].set_title('SF: Feridos - p = 0.4623')\n",
        "axs[0].set_xticks([0, 1])\n",
        "axs[0].set_yticks([0, 0.5, 1])\n",
        "axs[0].grid(True)\n",
        "\n",
        "# Plotar o segundo gráfico\n",
        "axs[1].step([0,1], sf_morte, where='post')\n",
        "axs[1].set_xlabel('x')\n",
        "axs[1].set_ylabel('SF')\n",
        "axs[1].set_title('SF: Mortes - p = 0.0459')\n",
        "axs[1].set_xticks([0, 1])\n",
        "axs[1].set_yticks([0, 0.5, 1])\n",
        "axs[1].grid(True)\n",
        "\n",
        "# Ajustar o layout\n",
        "plt.tight_layout()\n",
        "\n",
        "# Mostrar o gráfico\n",
        "plt.show()"
      ]
    },
    {
      "cell_type": "markdown",
      "metadata": {
        "id": "VKOorzUqC67C"
      },
      "source": [
        "**PPF (Percentile Function):**"
      ]
    },
    {
      "cell_type": "code",
      "execution_count": 137,
      "metadata": {
        "id": "GzYDBL-vCSWR"
      },
      "outputs": [],
      "source": [
        "def bern_ppf(q, p):\n",
        "  if q < 1 - p:\n",
        "      return 0\n",
        "  elif q >= 1 - p:\n",
        "      return 1\n",
        "  else:\n",
        "      return None"
      ]
    },
    {
      "cell_type": "markdown",
      "metadata": {
        "id": "1tFmmk9WDQ5P"
      },
      "source": [
        "**ISF (inverse Percentile Function):**"
      ]
    },
    {
      "cell_type": "code",
      "execution_count": 138,
      "metadata": {
        "id": "tFVvQ6wo5kW-"
      },
      "outputs": [],
      "source": [
        "def bern_ppf(q, p):\n",
        "  return minha_ppf(1 - q, p)\n"
      ]
    },
    {
      "cell_type": "markdown",
      "metadata": {
        "id": "wA6qdCVVIFXG"
      },
      "source": [
        "3) Using the random variable from the previous exercise, build the distribution of sample means to illustrate/confirm the Central Limit Theorem. Compare the mean and variance with the previous exercise. Use the normality test to verify whether this distribution (of sample means) is normal or not."
      ]
    },
    {
      "cell_type": "markdown",
      "metadata": {
        "id": "T_TI7BIkIeUb"
      },
      "source": [
        "The **Central Limit Theorem (CLT) (TCL)**, Applied to the sample means of a random variable \\( X \\) with any sample distribution and finite variance, implies that the means exhibit distributions tending towards the normal distribution as the number of observations in the samples  \\( n \\)  increases.\n"
      ]
    },
    {
      "cell_type": "code",
      "execution_count": 205,
      "metadata": {
        "colab": {
          "base_uri": "https://localhost:8080/",
          "height": 751,
          "referenced_widgets": [
            "2c529939c90d41c1847b7ced88f298e0",
            "aff1192dd3b7412fa0efbccd6d37fa53",
            "2058c3f3d98c467bb3b67112693fa789",
            "6dd19b0243d4477ab6aefc27bf23c9e6",
            "401b666678884be5b362ef8d588f2885",
            "155df07f8d784cf795681b96de7687fa",
            "f267ac41f0834fb69742f7e325bcf077"
          ]
        },
        "id": "PWya2JwoMeSl",
        "outputId": "df654b9b-8542-48fc-a6f0-3ea9490e8bcd"
      },
      "outputs": [
        {
          "data": {
            "application/vnd.jupyter.widget-view+json": {
              "model_id": "2c529939c90d41c1847b7ced88f298e0",
              "version_major": 2,
              "version_minor": 0
            },
            "text/plain": [
              "interactive(children=(IntSlider(value=10, description='Nº Amostras', max=10000, min=10, step=5), Output()), _d…"
            ]
          },
          "metadata": {},
          "output_type": "display_data"
        }
      ],
      "source": [
        "import numpy as np\n",
        "import matplotlib.pyplot as plt\n",
        "import ipywidgets as widgets\n",
        "from IPython.display import display\n",
        "from scipy.stats import norm\n",
        "\n",
        "# Função para plotar o histograma das médias das amostras\n",
        "def plot_histogram(n_amostras):\n",
        "    plt.figure(figsize=(15, 8))\n",
        "    # Parâmetro da distribuição de Bernoulli (probabilidade de sucesso)\n",
        "    p = p_feridos\n",
        "\n",
        "    # Tamanho de cada amostra\n",
        "    tamanho_amostra = 500\n",
        "\n",
        "    # Simular amostras de uma distribuição de Bernoulli\n",
        "    amostras = np.random.binomial(1, p, size=(n_amostras, tamanho_amostra))\n",
        "\n",
        "    # Calcular as médias de cada amostra\n",
        "    medias_amostras = np.mean(amostras, axis=1)\n",
        "\n",
        "    # Plotar histograma das médias das amostras\n",
        "    plt.hist(medias_amostras, bins=30, density=True, alpha=0.7, color='blue', label='Distribuição das Médias')\n",
        "\n",
        "    # Parâmetros da curva normal\n",
        "    media_normal = p\n",
        "    variancia_normal = p * (1 - p)/tamanho_amostra\n",
        "    desvio_padrao_normal = np.sqrt(variancia_normal)\n",
        "\n",
        "    # Gerar dados para a curva normal\n",
        "    x = np.linspace(0.35, 0.6, 100)\n",
        "    y = norm.pdf(x, media_normal, desvio_padrao_normal)\n",
        "\n",
        "    # Plotar curva normal sobreposta\n",
        "    plt.plot(x, y, color='red', label='Curva Normal')\n",
        "\n",
        "    plt.title('Distribuição das Médias de Amostras de uma Distribuição de Bernoulli')\n",
        "    plt.xlabel('Média das Amostras: Feridos')\n",
        "    plt.ylabel('Densidade')\n",
        "    plt.grid(True)\n",
        "    plt.legend()\n",
        "    plt.show()\n",
        "\n",
        "# Controle deslizante interativo para o número de amostras\n",
        "slider_n_amostras = widgets.IntSlider(value=10, min=10, max=10000, step=5, description='Nº Amostras')\n",
        "\n",
        "# Função de interatividade\n",
        "widgets.interactive(plot_histogram, n_amostras=slider_n_amostras)\n"
      ]
    },
    {
      "cell_type": "markdown",
      "metadata": {
        "id": "c6PFz23_lCfD"
      },
      "source": [
        "Fazer sobre as médias."
      ]
    },
    {
      "cell_type": "markdown",
      "metadata": {
        "id": "E3CsZSqdkU2z"
      },
      "source": [
        "##  Shapiro-Wilk Test\n",
        "\n",
        "The Shapiro-Wilk test is a test of normality.\n",
        "\n",
        "### test steps:\n",
        "\n",
        "1. **Hipóteses**:\n",
        "   - \\( H0 \\): The data follows a normal distribution\n",
        "   - \\( H1 \\): The data does not follow a normal distribution.\n",
        "\n",
        "2. **Calculate the Shapiro-Wilk test statistic** from the observed data.\n",
        "\n",
        "3. **Calculate the p-value** associated with the test statistic.\n",
        "\n",
        "4. **Compare the p-value** with a pre-defined significance level (por exemple, \\( $\\alpha$ = 0.05 \\)).  \n",
        "\n",
        "5. If the p-value is less than ( $\\alpha$ \\), **we reject the null hypothesis** and conclude that the data does not follow a normal distribution. Otherwise, we do not reject the null hypothesis, and we cannot claim that the data does not follow a normal distribution.\n"
      ]
    },
    {
      "cell_type": "code",
      "execution_count": 206,
      "metadata": {
        "colab": {
          "base_uri": "https://localhost:8080/"
        },
        "id": "GdNso-FEeBAo",
        "outputId": "b4a7943c-f829-4afd-c8ae-cc3ed6445216"
      },
      "outputs": [
        {
          "data": {
            "text/plain": [
              "ShapiroResult(statistic=0.9987831711769104, pvalue=0.7439082860946655)"
            ]
          },
          "execution_count": 206,
          "metadata": {},
          "output_type": "execute_result"
        }
      ],
      "source": [
        "import scipy\n",
        "scipy.stats.shapiro(medias_amostras)"
      ]
    },
    {
      "cell_type": "markdown",
      "metadata": {
        "id": "SPE2YssQQrGy"
      },
      "source": [
        "**Therefore, at the $95\\% confidence level, we do not have evidence to reject the null hypothesis of normality of the data.**"
      ]
    },
    {
      "cell_type": "code",
      "execution_count": 210,
      "metadata": {
        "id": "jlIfbj7rQq32"
      },
      "outputs": [],
      "source": [
        "media_feridos = np.mean(feridos)\n",
        "var_feridos = np.var(feridos)\n",
        "N = len(feridos)"
      ]
    },
    {
      "cell_type": "code",
      "execution_count": 211,
      "metadata": {
        "colab": {
          "base_uri": "https://localhost:8080/"
        },
        "id": "75EWUmxphAkc",
        "outputId": "3638fa57-b656-4a83-9644-ddac75993f6b"
      },
      "outputs": [
        {
          "data": {
            "text/plain": [
              "[0.4616934937263012, 0.46308237815518327]"
            ]
          },
          "execution_count": 211,
          "metadata": {},
          "output_type": "execute_result"
        }
      ],
      "source": [
        "IC = ([media_feridos - (1.96*np.sqrt(var_feridos)/np.sqrt(N)) , media_feridos + (1.96*np.sqrt(var_feridos)/np.sqrt(N))])\n",
        "IC"
      ]
    },
    {
      "cell_type": "code",
      "execution_count": 214,
      "metadata": {
        "colab": {
          "base_uri": "https://localhost:8080/"
        },
        "id": "G6CA-KVrhNre",
        "outputId": "03d7b9f3-a1a1-42c4-f522-a294f7faba09"
      },
      "outputs": [
        {
          "data": {
            "text/plain": [
              "[0.36238793594074226, 0.5623879359407422]"
            ]
          },
          "execution_count": 214,
          "metadata": {},
          "output_type": "execute_result"
        }
      ],
      "source": [
        "IC_p2 = ([media_feridos - 0.1 , media_feridos + 0.1])\n",
        "IC_p2"
      ]
    },
    {
      "cell_type": "markdown",
      "metadata": {
        "id": "RoT0SNYoTWQ1"
      },
      "source": [
        "**Estatística de teste:**"
      ]
    },
    {
      "cell_type": "markdown",
      "metadata": {
        "id": "p5nfwDNiVEmn"
      },
      "source": [
        "\n",
        "### Hipóteses do Teste:\n",
        "\n",
        "- **Hipótese Nula $(H0) $**: As médias da amostra e da população são iguais.\n",
        "- **Hipótese Alternativa $ (H1) $**: A média da amostra é 10% maior do que a média da população.\n",
        "\n",
        "### Estatística de Teste:\n",
        "\n",
        "A estatística de teste t é calculada como:\n",
        "\n",
        "$$\n",
        "t = \\frac{{\\bar{x} - \\mu}}{{\\frac{{s}}{{\\sqrt{n}}}}}\n",
        "$$\n",
        "\n",
        "Onde:\n",
        "- $\\bar{x}$ é a média da amostra,\n",
        "- $\\mu$ é a média da população,\n",
        "- $s$ é o desvio padrão da amostra e\n",
        "- $n$ é o tamanho da amostra.\n"
      ]
    },
    {
      "cell_type": "code",
      "execution_count": 215,
      "metadata": {
        "colab": {
          "base_uri": "https://localhost:8080/"
        },
        "id": "5sLXtsWxVkp3",
        "outputId": "821f9f1c-7e06-4fcc-aad5-0008674b6a18"
      },
      "outputs": [
        {
          "name": "stdout",
          "output_type": "stream",
          "text": [
            "Rejeitamos a hipótese nula.\n"
          ]
        }
      ],
      "source": [
        "import numpy as np\n",
        "from scipy.stats import t\n",
        "\n",
        "# Dados fornecidos\n",
        "media_populacao = np.mean(feridos)\n",
        "media_amostra = 1.10 * media_populacao\n",
        "desvio_padrao_amostra =  np.sqrt(np.var(feridos))/np.sqrt(len(feridos))\n",
        "tamanho_amostra = 30\n",
        "\n",
        "# Estatística de teste t\n",
        "t_stat = (media_amostra - media_populacao) / (desvio_padrao_amostra / np.sqrt(tamanho_amostra))\n",
        "\n",
        "# Valor crítico  (95% de confiança)\n",
        "graus_liberdade = tamanho_amostra - 1\n",
        "valor_critico = t.ppf(0.95, graus_liberdade)\n",
        "\n",
        "# Comparação com o valor crítico\n",
        "if t_stat > valor_critico:\n",
        "    print(\"Rejeitamos a hipótese nula.\")\n",
        "else:\n",
        "    print(\"Não rejeitamos a hipótese nula.\")\n"
      ]
    },
    {
      "cell_type": "markdown",
      "metadata": {
        "id": "f7YZvPKiWS3D"
      },
      "source": [
        "\n",
        "### Hipóteses do Teste:\n",
        "\n",
        "- **Null Hypothesis $(H0)$**: The sample and population means are equal.\n",
        "- **Alternative Hypothesis $( H1)$**: The sample mean is 10% greater than the population mean.\n",
        "\n",
        "### Test using Normal Distribution:\n",
        "\n",
        " **Calculation of the Z statistic:**\n",
        "   - The Z test statistic is calculated as:\n",
        "$\n",
        "   Z = \\frac{{\\bar{x} - \\mu}}{{\\frac{{\\sigma}}{{\\sqrt{n}}}}}\n",
        "$\n",
        "   where:\n",
        "     - \\$\\bar{x}\\$ It is the sample mean,\n",
        "     - \\$\\mu\\$ It is the population mean,\n",
        "     - \\$\\sigma\\$ It is the population standard deviation and\n",
        "     - \\$n\\$ it is the sample size."
      ]
    },
    {
      "cell_type": "code",
      "execution_count": 217,
      "metadata": {
        "colab": {
          "base_uri": "https://localhost:8080/"
        },
        "id": "t6w6foB7WSUN",
        "outputId": "86f9343d-b8d4-49cd-8cdc-6d8265e6d784"
      },
      "outputs": [
        {
          "name": "stdout",
          "output_type": "stream",
          "text": [
            "Rejeitamos a hipótese nula.\n"
          ]
        }
      ],
      "source": [
        "# Dados fornecidos\n",
        "media_populacao = np.mean(feridos)\n",
        "media_amostra = 1.10 * media_populacao\n",
        "desvio_padrao_amostra =  np.sqrt(np.var(feridos))/np.sqrt(len(feridos))\n",
        "tamanho_amostra = 30\n",
        "\n",
        "# Estatística de teste Z\n",
        "Z_stat = (media_amostra - media_populacao) / (desvio_padrao_amostra / np.sqrt(tamanho_amostra))\n",
        "\n",
        "\n",
        "# Valor crítico para um teste bilateral (95% de confiança)\n",
        "valor_critico_superior = norm.ppf(0.975)  # 0.975 para uma cauda superior de 97.5% de confiança\n",
        "valor_critico_inferior = norm.ppf(0.025)  # 0.025 para uma cauda inferior de 2.5% de confiança\n",
        "\n",
        "# Comparação com os valores críticos\n",
        "if Z_stat > valor_critico_superior or Z_stat < valor_critico_inferior:\n",
        "    print(\"Rejeitamos a hipótese nula.\")\n",
        "else:\n",
        "    print(\"Não rejeitamos a hipótese nula.\")"
      ]
    }
  ],
  "metadata": {
    "colab": {
      "collapsed_sections": [
        "WbheOUWYvUH9",
        "Qi8e4r60zjqj",
        "CnrP9ai8zn7X"
      ],
      "provenance": []
    },
    "kernelspec": {
      "display_name": "Python 3",
      "name": "python3"
    },
    "language_info": {
      "name": "python"
    },
    "widgets": {
      "application/vnd.jupyter.widget-state+json": {
        "155df07f8d784cf795681b96de7687fa": {
          "model_module": "@jupyter-widgets/controls",
          "model_module_version": "1.5.0",
          "model_name": "SliderStyleModel",
          "state": {
            "_model_module": "@jupyter-widgets/controls",
            "_model_module_version": "1.5.0",
            "_model_name": "SliderStyleModel",
            "_view_count": null,
            "_view_module": "@jupyter-widgets/base",
            "_view_module_version": "1.2.0",
            "_view_name": "StyleView",
            "description_width": "",
            "handle_color": null
          }
        },
        "2058c3f3d98c467bb3b67112693fa789": {
          "model_module": "@jupyter-widgets/output",
          "model_module_version": "1.0.0",
          "model_name": "OutputModel",
          "state": {
            "_dom_classes": [],
            "_model_module": "@jupyter-widgets/output",
            "_model_module_version": "1.0.0",
            "_model_name": "OutputModel",
            "_view_count": null,
            "_view_module": "@jupyter-widgets/output",
            "_view_module_version": "1.0.0",
            "_view_name": "OutputView",
            "layout": "IPY_MODEL_f267ac41f0834fb69742f7e325bcf077",
            "msg_id": "",
            "outputs": [
              {
                "data": {
                  "image/png": "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\n",
                  "text/plain": "<Figure size 1500x800 with 1 Axes>"
                },
                "metadata": {},
                "output_type": "display_data"
              }
            ]
          }
        },
        "2c529939c90d41c1847b7ced88f298e0": {
          "model_module": "@jupyter-widgets/controls",
          "model_module_version": "1.5.0",
          "model_name": "VBoxModel",
          "state": {
            "_dom_classes": [
              "widget-interact"
            ],
            "_model_module": "@jupyter-widgets/controls",
            "_model_module_version": "1.5.0",
            "_model_name": "VBoxModel",
            "_view_count": null,
            "_view_module": "@jupyter-widgets/controls",
            "_view_module_version": "1.5.0",
            "_view_name": "VBoxView",
            "box_style": "",
            "children": [
              "IPY_MODEL_aff1192dd3b7412fa0efbccd6d37fa53",
              "IPY_MODEL_2058c3f3d98c467bb3b67112693fa789"
            ],
            "layout": "IPY_MODEL_6dd19b0243d4477ab6aefc27bf23c9e6"
          }
        },
        "401b666678884be5b362ef8d588f2885": {
          "model_module": "@jupyter-widgets/base",
          "model_module_version": "1.2.0",
          "model_name": "LayoutModel",
          "state": {
            "_model_module": "@jupyter-widgets/base",
            "_model_module_version": "1.2.0",
            "_model_name": "LayoutModel",
            "_view_count": null,
            "_view_module": "@jupyter-widgets/base",
            "_view_module_version": "1.2.0",
            "_view_name": "LayoutView",
            "align_content": null,
            "align_items": null,
            "align_self": null,
            "border": null,
            "bottom": null,
            "display": null,
            "flex": null,
            "flex_flow": null,
            "grid_area": null,
            "grid_auto_columns": null,
            "grid_auto_flow": null,
            "grid_auto_rows": null,
            "grid_column": null,
            "grid_gap": null,
            "grid_row": null,
            "grid_template_areas": null,
            "grid_template_columns": null,
            "grid_template_rows": null,
            "height": null,
            "justify_content": null,
            "justify_items": null,
            "left": null,
            "margin": null,
            "max_height": null,
            "max_width": null,
            "min_height": null,
            "min_width": null,
            "object_fit": null,
            "object_position": null,
            "order": null,
            "overflow": null,
            "overflow_x": null,
            "overflow_y": null,
            "padding": null,
            "right": null,
            "top": null,
            "visibility": null,
            "width": null
          }
        },
        "6dd19b0243d4477ab6aefc27bf23c9e6": {
          "model_module": "@jupyter-widgets/base",
          "model_module_version": "1.2.0",
          "model_name": "LayoutModel",
          "state": {
            "_model_module": "@jupyter-widgets/base",
            "_model_module_version": "1.2.0",
            "_model_name": "LayoutModel",
            "_view_count": null,
            "_view_module": "@jupyter-widgets/base",
            "_view_module_version": "1.2.0",
            "_view_name": "LayoutView",
            "align_content": null,
            "align_items": null,
            "align_self": null,
            "border": null,
            "bottom": null,
            "display": null,
            "flex": null,
            "flex_flow": null,
            "grid_area": null,
            "grid_auto_columns": null,
            "grid_auto_flow": null,
            "grid_auto_rows": null,
            "grid_column": null,
            "grid_gap": null,
            "grid_row": null,
            "grid_template_areas": null,
            "grid_template_columns": null,
            "grid_template_rows": null,
            "height": null,
            "justify_content": null,
            "justify_items": null,
            "left": null,
            "margin": null,
            "max_height": null,
            "max_width": null,
            "min_height": null,
            "min_width": null,
            "object_fit": null,
            "object_position": null,
            "order": null,
            "overflow": null,
            "overflow_x": null,
            "overflow_y": null,
            "padding": null,
            "right": null,
            "top": null,
            "visibility": null,
            "width": null
          }
        },
        "aff1192dd3b7412fa0efbccd6d37fa53": {
          "model_module": "@jupyter-widgets/controls",
          "model_module_version": "1.5.0",
          "model_name": "IntSliderModel",
          "state": {
            "_dom_classes": [],
            "_model_module": "@jupyter-widgets/controls",
            "_model_module_version": "1.5.0",
            "_model_name": "IntSliderModel",
            "_view_count": null,
            "_view_module": "@jupyter-widgets/controls",
            "_view_module_version": "1.5.0",
            "_view_name": "IntSliderView",
            "continuous_update": true,
            "description": "Nº Amostras",
            "description_tooltip": null,
            "disabled": false,
            "layout": "IPY_MODEL_401b666678884be5b362ef8d588f2885",
            "max": 10000,
            "min": 10,
            "orientation": "horizontal",
            "readout": true,
            "readout_format": "d",
            "step": 5,
            "style": "IPY_MODEL_155df07f8d784cf795681b96de7687fa",
            "value": 9900
          }
        },
        "f267ac41f0834fb69742f7e325bcf077": {
          "model_module": "@jupyter-widgets/base",
          "model_module_version": "1.2.0",
          "model_name": "LayoutModel",
          "state": {
            "_model_module": "@jupyter-widgets/base",
            "_model_module_version": "1.2.0",
            "_model_name": "LayoutModel",
            "_view_count": null,
            "_view_module": "@jupyter-widgets/base",
            "_view_module_version": "1.2.0",
            "_view_name": "LayoutView",
            "align_content": null,
            "align_items": null,
            "align_self": null,
            "border": null,
            "bottom": null,
            "display": null,
            "flex": null,
            "flex_flow": null,
            "grid_area": null,
            "grid_auto_columns": null,
            "grid_auto_flow": null,
            "grid_auto_rows": null,
            "grid_column": null,
            "grid_gap": null,
            "grid_row": null,
            "grid_template_areas": null,
            "grid_template_columns": null,
            "grid_template_rows": null,
            "height": null,
            "justify_content": null,
            "justify_items": null,
            "left": null,
            "margin": null,
            "max_height": null,
            "max_width": null,
            "min_height": null,
            "min_width": null,
            "object_fit": null,
            "object_position": null,
            "order": null,
            "overflow": null,
            "overflow_x": null,
            "overflow_y": null,
            "padding": null,
            "right": null,
            "top": null,
            "visibility": null,
            "width": null
          }
        }
      }
    }
  },
  "nbformat": 4,
  "nbformat_minor": 0
}
