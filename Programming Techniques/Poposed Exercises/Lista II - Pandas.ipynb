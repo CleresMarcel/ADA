{
 "cells": [
  {
   "cell_type": "markdown",
   "id": "ba2a74d6",
   "metadata": {},
   "source": [
    "## Lista 2 - Exercícios Pandas\n",
    "\n",
    "_Descrição dos Exercícios:_ Serão 5 exercícios onde o objetivo será conseguir os dados de datasets conhecidos do Kaggle e responder os tópicos propostos para cada um deles."
   ]
  },
  {
   "cell_type": "markdown",
   "id": "b8ad0a66",
   "metadata": {},
   "source": [
    "## "
   ]
  },
  {
   "cell_type": "markdown",
   "id": "46b3e838",
   "metadata": {},
   "source": [
    "__Exercício 1:__ Análise de Dados do Airbnb em Nova York\n",
    "__Dataset:__  Disponível no Kaggle como _New York City Airbnb Open Data_.\n",
    "\n",
    "__Questões:__\n",
    "\n",
    "__1-__ Exiba as primeiras 5 linhas do dataset para entender a estrutura dos dados.\n",
    "\n",
    "__2-__ Calcule o preço médio de aluguel por bairro (neighbourhood_group).\n",
    "\n",
    "__3-__ Encontre o número de opções de hospedagem disponíveis em cada tipo de quarto (room_type).\n",
    "\n",
    "__4-__ Determine os 10 bairros com a maior quantidade de hospedagens listadas."
   ]
  },
  {
   "cell_type": "code",
   "execution_count": null,
   "id": "c9561576",
   "metadata": {},
   "outputs": [],
   "source": []
  },
  {
   "cell_type": "code",
   "execution_count": null,
   "id": "56d04be3",
   "metadata": {},
   "outputs": [],
   "source": []
  },
  {
   "cell_type": "code",
   "execution_count": null,
   "id": "2c23d440",
   "metadata": {},
   "outputs": [],
   "source": []
  },
  {
   "cell_type": "code",
   "execution_count": null,
   "id": "f42a3285",
   "metadata": {},
   "outputs": [],
   "source": []
  },
  {
   "cell_type": "markdown",
   "id": "9213d3a2",
   "metadata": {},
   "source": [
    "__Exercício 2:__ Explorando Dados de Vendas de Imóveis\n",
    "    \n",
    "__Dataset:__ Disponível no Kaggle como _House Prices: Advanced Regression Techniques._\n",
    "\n",
    "__Questões:__\n",
    "\n",
    "__1-__ Exiba o número total de linhas e colunas no DataFrame.\n",
    "\n",
    "__2-__ Encontre o preço médio dos imóveis.\n",
    "\n",
    "__3-__ Liste as 5 áreas de lote (LotArea) mais grandes.\n",
    "\n",
    "__4-__ Determine quantos imóveis possuem mais de 2 banheiros (FullBath).\n"
   ]
  },
  {
   "cell_type": "code",
   "execution_count": null,
   "id": "b651f92d",
   "metadata": {},
   "outputs": [],
   "source": []
  },
  {
   "cell_type": "code",
   "execution_count": null,
   "id": "66a0a1b9",
   "metadata": {},
   "outputs": [],
   "source": []
  },
  {
   "cell_type": "code",
   "execution_count": null,
   "id": "eeed8398",
   "metadata": {},
   "outputs": [],
   "source": []
  },
  {
   "cell_type": "code",
   "execution_count": null,
   "id": "017a53db",
   "metadata": {},
   "outputs": [],
   "source": []
  },
  {
   "cell_type": "markdown",
   "id": "decf8921",
   "metadata": {},
   "source": [
    "__Exercício 3:__ Análise de Dados de Compras Online\n",
    "\n",
    "__Dataset:__ Disponível no Kaggle como _Brazilian E-Commerce Public Dataset by Olist._\n",
    "\n",
    "__Questões:__\n",
    "\n",
    "__1-__ Determine quantos pedidos foram feitos em cada ano.\n",
    "\n",
    "__2-__ Calcule o tempo médio de entrega (diferença entre order_purchase_timestamp e order_delivered_customer_date).\n",
    "\n",
    "__3-__ Identifique o top 5 categorias de produtos mais vendidos.   "
   ]
  },
  {
   "cell_type": "code",
   "execution_count": null,
   "id": "49f9d68f",
   "metadata": {},
   "outputs": [],
   "source": []
  },
  {
   "cell_type": "code",
   "execution_count": null,
   "id": "db754a29",
   "metadata": {},
   "outputs": [],
   "source": []
  },
  {
   "cell_type": "code",
   "execution_count": null,
   "id": "846f6ca0",
   "metadata": {},
   "outputs": [],
   "source": []
  },
  {
   "cell_type": "markdown",
   "id": "1df429ec",
   "metadata": {},
   "source": [
    "__Exercício 4:__ Análise de Dados de Filmes do IMDb\n",
    "    \n",
    "__Dataset:__ Disponível no Kaggle como _IMDb movies extensive dataset_.\n",
    "\n",
    "__Questões:__\n",
    "\n",
    "__1-__ Exiba os títulos e anos dos 10 filmes mais recentes no dataset.\n",
    "\n",
    "__2-__ Calcule a duração média dos filmes.\n",
    "\n",
    "__3-__ Identifique o filme com a maior quantidade de votos (votes).\n",
    "\n",
    "__4-__ Determine quantos filmes possuem uma classificação (avg_vote) superior a 8."
   ]
  },
  {
   "cell_type": "code",
   "execution_count": null,
   "id": "f69a322f",
   "metadata": {},
   "outputs": [],
   "source": []
  },
  {
   "cell_type": "code",
   "execution_count": null,
   "id": "2f6dafad",
   "metadata": {},
   "outputs": [],
   "source": []
  },
  {
   "cell_type": "code",
   "execution_count": null,
   "id": "4078ea96",
   "metadata": {},
   "outputs": [],
   "source": []
  },
  {
   "cell_type": "code",
   "execution_count": null,
   "id": "f685bd0c",
   "metadata": {},
   "outputs": [],
   "source": []
  },
  {
   "cell_type": "markdown",
   "id": "12c3bc7f",
   "metadata": {},
   "source": [
    "__Exercício 5:__ Explorando Dados de Jogos de Videogame\n",
    "    \n",
    "__Dataset:__ Disponível no Kaggle como _Video Game Sales with Ratings_.\n",
    "    \n",
    "__Questões:__\n",
    "\n",
    "__1-__ Liste os 5 jogos mais vendidos globalmente (Global_Sales).\n",
    "\n",
    "__2-__ Calcule as vendas totais na América do Norte (NA_Sales).\n",
    "\n",
    "__3-__ Encontre o jogo mais vendido no Japão (JP_Sales).\n",
    "\n",
    "__4-__ Determine a média de pontuação dos críticos (Critic_Score) para os jogos da Nintendo.\n"
   ]
  },
  {
   "cell_type": "code",
   "execution_count": null,
   "id": "c1f88188",
   "metadata": {},
   "outputs": [],
   "source": []
  },
  {
   "cell_type": "code",
   "execution_count": null,
   "id": "04819c38",
   "metadata": {},
   "outputs": [],
   "source": []
  },
  {
   "cell_type": "code",
   "execution_count": null,
   "id": "474cf8b5",
   "metadata": {},
   "outputs": [],
   "source": []
  },
  {
   "cell_type": "code",
   "execution_count": null,
   "id": "1314a1c8",
   "metadata": {},
   "outputs": [],
   "source": []
  }
 ],
 "metadata": {
  "kernelspec": {
   "display_name": "Python 3 (ipykernel)",
   "language": "python",
   "name": "python3"
  },
  "language_info": {
   "codemirror_mode": {
    "name": "ipython",
    "version": 3
   },
   "file_extension": ".py",
   "mimetype": "text/x-python",
   "name": "python",
   "nbconvert_exporter": "python",
   "pygments_lexer": "ipython3",
   "version": "3.9.13"
  }
 },
 "nbformat": 4,
 "nbformat_minor": 5
}
