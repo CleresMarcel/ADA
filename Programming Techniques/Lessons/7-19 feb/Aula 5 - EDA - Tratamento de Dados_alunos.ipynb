{
 "cells": [
  {
   "cell_type": "markdown",
   "id": "721d46bf",
   "metadata": {
    "id": "721d46bf"
   },
   "source": [
    "# Aula 4 - EDA - Tratamento de Dados\n",
    "\n",
    "Nessa aula, iremos tratar dos seguintes conteúdos:\n",
    "- Análise Exploratória dos Dados\n",
    "- Redundância dos Dados\n",
    "- Detecção de Outliers\n",
    "- Informações Faltantes\n",
    "- Preenchimento de Dados Faltantes"
   ]
  },
  {
   "cell_type": "markdown",
   "id": "e02048f2",
   "metadata": {
    "id": "e02048f2"
   },
   "source": [
    "<img src=\"https://i0.wp.com/www.r-exercises.com/wp-content/uploads/2017/05/monitor.png?resize=275%2C140\" width=600>"
   ]
  },
  {
   "cell_type": "markdown",
   "id": "939558ed",
   "metadata": {
    "id": "939558ed"
   },
   "source": [
    "## "
   ]
  },
  {
   "cell_type": "markdown",
   "id": "9173d60f",
   "metadata": {
    "id": "9173d60f"
   },
   "source": [
    "## Análise Exploratória dos Dados (EDA)"
   ]
  },
  {
   "cell_type": "markdown",
   "id": "849f50c3",
   "metadata": {
    "id": "849f50c3"
   },
   "source": [
    " A Análise Exploratória dos Dados é o __principal processo no projeto de Data Science__, onde iremos __conhecer os dados__ e tirar __conclusões e hipóteses__ a partir de observações levantadas.<br>\n",
    " <br>\n",
    "Mas vale lembrar também que devemos __avaliar a consistência dos dados__, pois se existirem qualquer tipo de problema com os dados e tirarmos conclusões e insights encima deles, assumiremos conclusões erroneamente. Dado isso vamos aprender algumas técnicas para lidarmos com os seguintes problemas com os dados:\n",
    "- Redudância dos Dados (Dados Duplicados);\n",
    "- Detecção de Outliers;\n",
    "- Informações Faltantes."
   ]
  },
  {
   "cell_type": "markdown",
   "id": "2145c477",
   "metadata": {
    "id": "2145c477"
   },
   "source": [
    "## "
   ]
  },
  {
   "cell_type": "markdown",
   "id": "9fda01a0",
   "metadata": {
    "id": "9fda01a0"
   },
   "source": [
    "## Redundância dos Dados\n",
    "\n",
    "Redundância dos Dados é qualquer tipo de repetição deles que não agregam informações adicionais para a análise exploratória dos dados. Vamos ver alguns exemplos de redundâncias de dados:"
   ]
  },
  {
   "cell_type": "markdown",
   "id": "64bb714b",
   "metadata": {
    "id": "64bb714b"
   },
   "source": [
    "**Redundância em dados não-estruturados**\n",
    "\n",
    "Muito comum pois dados binários e textuais possuem elementos que não auxiliam na análise, temos os seguintes exemplos:\n",
    "\n",
    "- o fundo de imagens e documentos;\n",
    "\n",
    "- timbre em documentos e cartas;\n",
    "\n",
    "- tipos de palavras em textos: artigos, conjunções, etc.\n",
    "\n",
    "\n",
    "**Redundância em dados estruturados**\n",
    "\n",
    "Já para esse caso, as redundâncias estÂo diretamente relacionadas a:\n",
    "\n",
    "- linhas com valores repetidos (duplicados);\n",
    "\n",
    "- colunas com valores constantes (iguais para todas as instâncias);\n",
    "\n",
    "- colunas com alta correlação."
   ]
  },
  {
   "cell_type": "markdown",
   "id": "5f9ff905",
   "metadata": {
    "id": "5f9ff905"
   },
   "source": [
    "Vamos nessa aula focar no processo de tratar de dados estruturados (posteriormente iremos falar mais a respeito de dados não estruturados na aula de NLP). Vamos utilizar de uma base de dados _people_prof_relig.csv_:"
   ]
  },
  {
   "cell_type": "code",
   "execution_count": null,
   "id": "e9f1acf0",
   "metadata": {},
   "outputs": [],
   "source": []
  },
  {
   "cell_type": "code",
   "execution_count": null,
   "id": "a723c330",
   "metadata": {},
   "outputs": [],
   "source": []
  },
  {
   "cell_type": "code",
   "execution_count": null,
   "id": "392e6396",
   "metadata": {},
   "outputs": [],
   "source": []
  },
  {
   "cell_type": "markdown",
   "id": "be90b65e",
   "metadata": {
    "id": "be90b65e"
   },
   "source": [
    "## "
   ]
  },
  {
   "cell_type": "markdown",
   "id": "994a7383",
   "metadata": {
    "id": "994a7383"
   },
   "source": [
    "### Dados duplicados ou constantes\n",
    "\n",
    "Bases de dados que contém informações repetidas ou atributos irrelevantes para obter as respostas que se espera da análise.\n",
    "\n",
    "A redundância pode atrapalhar no projeto de modelos de aprendizado e estatísticos pois a quantidade de exemplos pode influenciar no viés do modelo.\n",
    "\n",
    "#### Redundância em bases de dados estruturadas:\n",
    "\n",
    "* Registros duplicados\n",
    "\n",
    "* Atributos com valores iguais em todas as observacoes\n",
    "\n",
    "\n",
    "Vamos carregar uma base de dados para mostrar exemplos"
   ]
  },
  {
   "cell_type": "code",
   "execution_count": null,
   "id": "cf5f808e",
   "metadata": {},
   "outputs": [],
   "source": []
  },
  {
   "cell_type": "markdown",
   "id": "3f5eeae4",
   "metadata": {
    "id": "3f5eeae4"
   },
   "source": [
    "#### Linhas/registros duplicados\n",
    "\n",
    "O tipo mais comum de dados redundantes são as linhas ou registros duplicados, ou seja, aquelas que possuem todos os valores de atributos iguais."
   ]
  },
  {
   "cell_type": "code",
   "execution_count": null,
   "id": "887d4f37",
   "metadata": {},
   "outputs": [],
   "source": []
  },
  {
   "cell_type": "code",
   "execution_count": null,
   "id": "d1d5cda3",
   "metadata": {},
   "outputs": [],
   "source": []
  },
  {
   "cell_type": "markdown",
   "id": "bfd6b7da",
   "metadata": {
    "id": "bfd6b7da"
   },
   "source": [
    "A consulta acima mostra apenas as linhas __extras__, ou seja, as duplicadas encontradas após a ocorrência da primeira linha original.\n",
    "\n",
    "Assim, ao consultar por um dos nomes que temos acima duplicados, veremos que há duas linhas para ele, sendo a duplicada considerada a linha 51."
   ]
  },
  {
   "cell_type": "code",
   "execution_count": null,
   "id": "d659b5f9",
   "metadata": {},
   "outputs": [],
   "source": []
  },
  {
   "cell_type": "markdown",
   "id": "239ab092",
   "metadata": {
    "id": "239ab092"
   },
   "source": [
    "Podemos usar a opção `keep` para manter todas as duplicatas, mostrando seus valores"
   ]
  },
  {
   "cell_type": "code",
   "execution_count": null,
   "id": "e388ac24",
   "metadata": {},
   "outputs": [],
   "source": []
  },
  {
   "cell_type": "markdown",
   "id": "f304cfe5",
   "metadata": {
    "id": "f304cfe5"
   },
   "source": [
    "Felizmente, temos uma funcão pronta para remover duplicatas de dataframes, `drop_duplicates()`, na qual podemos manter a primeira ocorrência da linha duplicada: `first`, a última: `last`, ou remover todas as que aparecem duplicadas: `False`."
   ]
  },
  {
   "cell_type": "code",
   "execution_count": null,
   "id": "5f7ffbd3",
   "metadata": {},
   "outputs": [],
   "source": []
  },
  {
   "cell_type": "code",
   "execution_count": null,
   "id": "4202a4a3",
   "metadata": {},
   "outputs": [],
   "source": []
  },
  {
   "cell_type": "markdown",
   "id": "2ebcb206",
   "metadata": {
    "id": "2ebcb206"
   },
   "source": [
    "#### Duplicidade em atributos\n",
    "\n",
    "A duplicidade pode gerar problemas quando aparece isolada em determinado atributo. Nessa base de dados um atributo que pode ser sensível a isso é o nome:"
   ]
  },
  {
   "cell_type": "code",
   "execution_count": null,
   "id": "388a7cef",
   "metadata": {},
   "outputs": [],
   "source": []
  },
  {
   "cell_type": "code",
   "execution_count": null,
   "id": "e286167b",
   "metadata": {},
   "outputs": [],
   "source": []
  },
  {
   "cell_type": "markdown",
   "id": "97ad18e3",
   "metadata": {
    "id": "97ad18e3"
   },
   "source": [
    "Notamos que, apesar de ter o mesmo nome, sexo e ano de nascimento, as duas pessoas nasceram em países diferentes e portanto não há redundância ou dados duplicados a remover."
   ]
  },
  {
   "cell_type": "markdown",
   "id": "b6ab7565",
   "metadata": {
    "id": "b6ab7565"
   },
   "source": [
    "#### Atributos constantes\n",
    "\n",
    "Investigando os atributos Profession e Religion, mostrando seus histogramas, notamos que todas as linhas tem o mesmo valor para esses atributos.\n",
    "\n",
    "Apesar do valor informativo, ao construir modelos computacionais, por exemplo classificadores, esses atributos representam um aumento na dimensionalidade sem contribuir para a tarefa principal, classificação.\n",
    "\n",
    "Podemos usar o método `nunique()` para obter a contagem de valores distintos"
   ]
  },
  {
   "cell_type": "code",
   "execution_count": null,
   "id": "57e0f1b8",
   "metadata": {},
   "outputs": [],
   "source": []
  },
  {
   "cell_type": "code",
   "execution_count": null,
   "id": "fcbe6ec2",
   "metadata": {},
   "outputs": [],
   "source": []
  },
  {
   "cell_type": "code",
   "execution_count": null,
   "id": "fdae58c3",
   "metadata": {},
   "outputs": [],
   "source": []
  },
  {
   "cell_type": "code",
   "execution_count": null,
   "id": "0cc2acef",
   "metadata": {},
   "outputs": [],
   "source": []
  },
  {
   "cell_type": "code",
   "execution_count": null,
   "id": "7cc4a049",
   "metadata": {},
   "outputs": [],
   "source": []
  },
  {
   "cell_type": "markdown",
   "id": "a8596242",
   "metadata": {
    "id": "a8596242"
   },
   "source": [
    "## "
   ]
  },
  {
   "cell_type": "markdown",
   "id": "2d56ced5",
   "metadata": {
    "id": "2d56ced5"
   },
   "source": [
    "### Atributos correlacionados\n",
    "\n",
    "Alguns atributos podem estar altamente correlacionados com outros. Esses atributos oferecem pouca contribuição no sentido de melhorar o que sabemos sobre o conjunto de dados.\n",
    "\n",
    "Ainda, quando se trata de treinar modelos podemos incorrer em maior custo computacional ou problemas de convergência.\n",
    "\n",
    "Uma ferramenta interessante para entender *dependências lineares* entre atributos é a correlação.\n",
    "\n",
    "No entanto, a correlação só é computada com valores numéricos."
   ]
  },
  {
   "cell_type": "code",
   "execution_count": null,
   "id": "2078e5f5",
   "metadata": {},
   "outputs": [],
   "source": []
  },
  {
   "cell_type": "markdown",
   "id": "c2260b4c",
   "metadata": {
    "id": "c2260b4c"
   },
   "source": [
    "Características da matriz de correlação:\n",
    "- valores negativos indicam correlação inversa\n",
    "- tem diagonal igual a 1 (auto-correlação)\n",
    "- é simétrica\n",
    "\n",
    "Vamos considerar como alta correlação atributos com valores iguais ou superiores a 0.95\n",
    "\n",
    "Para facilitar:\n",
    "- pegamos o valor absoluto da correlação,\n",
    "- consideramos apenas a matriz triangular superior - devido a simetria, e\n",
    "- não incluimos a diagonal principal (para a qual todos os valores são 1)"
   ]
  },
  {
   "cell_type": "code",
   "execution_count": null,
   "id": "cf20c3b5",
   "metadata": {},
   "outputs": [],
   "source": []
  },
  {
   "cell_type": "code",
   "execution_count": null,
   "id": "2d3168e4",
   "metadata": {},
   "outputs": [],
   "source": []
  },
  {
   "cell_type": "markdown",
   "id": "885c59aa",
   "metadata": {
    "id": "885c59aa"
   },
   "source": [
    "Para cada coluna das colunas da matriz triangular nas quais qualquer valor seja maior ou igual a 0.95"
   ]
  },
  {
   "cell_type": "code",
   "execution_count": null,
   "id": "2a036be8",
   "metadata": {},
   "outputs": [],
   "source": []
  },
  {
   "cell_type": "code",
   "execution_count": null,
   "id": "e58b8928",
   "metadata": {},
   "outputs": [],
   "source": []
  },
  {
   "cell_type": "code",
   "execution_count": null,
   "id": "1ad8403a",
   "metadata": {},
   "outputs": [],
   "source": []
  },
  {
   "cell_type": "code",
   "execution_count": null,
   "id": "5367c32f",
   "metadata": {},
   "outputs": [],
   "source": []
  },
  {
   "cell_type": "code",
   "execution_count": null,
   "id": "a8eb8d59",
   "metadata": {},
   "outputs": [],
   "source": []
  },
  {
   "cell_type": "code",
   "execution_count": null,
   "id": "7c53c696",
   "metadata": {},
   "outputs": [],
   "source": []
  },
  {
   "cell_type": "code",
   "execution_count": null,
   "id": "efb1cc52",
   "metadata": {},
   "outputs": [],
   "source": []
  },
  {
   "cell_type": "markdown",
   "id": "75d8029a",
   "metadata": {
    "id": "75d8029a"
   },
   "source": [
    "## "
   ]
  },
  {
   "cell_type": "markdown",
   "id": "8f5703a8",
   "metadata": {
    "id": "8f5703a8"
   },
   "source": [
    "## Detecção de Outliers"
   ]
  },
  {
   "cell_type": "markdown",
   "id": "058dac73",
   "metadata": {
    "id": "058dac73"
   },
   "source": [
    "**Relembrando - outliers, pontos \"fora-da-curva\" ou pontos aberrantes** : exemplos ou instâncias que, dentre do espaço de possíveis valores, recaem num intervalo *fora* daquele relativo a maior parte dos exemplos de uma base de dados.\n",
    "\n",
    "Detectar outliers por meio de análise exploratória é útil para entender o comportamento da base de dados.\n",
    "\n",
    "Existem também métodos **estatísticos** e de **aprendizado de máquina** que auxiliam nesse processo e que podem facilitar essa análise, detectando *outliers* de forma automática.\n",
    "\n",
    "1. Dispersão: desvio padrão e intervalo interquartil\n",
    "2. Distribuição: Normal univaridada\n",
    "3. Agrupamento"
   ]
  },
  {
   "cell_type": "code",
   "execution_count": null,
   "id": "387ad587",
   "metadata": {},
   "outputs": [],
   "source": []
  },
  {
   "cell_type": "code",
   "execution_count": null,
   "id": "8aa7de5c",
   "metadata": {},
   "outputs": [],
   "source": []
  },
  {
   "cell_type": "code",
   "execution_count": null,
   "id": "9f63d8be",
   "metadata": {},
   "outputs": [],
   "source": []
  },
  {
   "cell_type": "markdown",
   "id": "4b9fc61c",
   "metadata": {
    "id": "4b9fc61c"
   },
   "source": [
    "###  Desvio padrão e amplitude inter-quartil (por dispersão)\n",
    "\n",
    "Para cada atributo, podemos estudar como os valores estão relacionados com a dispersão dos dados.\n",
    "\n",
    "Entre as medidas de dispersão temos:\n",
    "* desvio padrão amostral (*standard deviation*)\n",
    "    Seja $\\mu$ a média de uma variável,\n",
    "    $$\\sigma = \\frac{\\sqrt{ \\sum_i (x_i - \\mu)^2}}{n-1}$$\n",
    "\n",
    "\n",
    "* amplitude - ou intervalo - interquartil (IQR, *interquartile range*)\n",
    "    Sejam:\n",
    "    - $Q_{1}$ o valor relativo aos primeiros 25% dados,\n",
    "    - $Q_{2}$ o valor relativo aos primeiros 50% dados (mediana),\n",
    "    - $Q_{3}$ o valor relativo aos primeiros 75% dos dados,\n",
    "    \n",
    "    $$IQR = Q_{3} - Q_{1}$$"
   ]
  },
  {
   "cell_type": "code",
   "execution_count": null,
   "id": "90d53bd2",
   "metadata": {},
   "outputs": [],
   "source": []
  },
  {
   "cell_type": "code",
   "execution_count": null,
   "id": "b6fa9240",
   "metadata": {},
   "outputs": [],
   "source": []
  },
  {
   "cell_type": "code",
   "execution_count": null,
   "id": "61945b68",
   "metadata": {},
   "outputs": [],
   "source": []
  },
  {
   "cell_type": "code",
   "execution_count": null,
   "id": "81e7898c",
   "metadata": {},
   "outputs": [],
   "source": []
  },
  {
   "cell_type": "code",
   "execution_count": null,
   "id": "ec8e419d",
   "metadata": {},
   "outputs": [],
   "source": []
  },
  {
   "cell_type": "code",
   "execution_count": null,
   "id": "77750c49",
   "metadata": {},
   "outputs": [],
   "source": []
  },
  {
   "cell_type": "code",
   "execution_count": null,
   "id": "77372912",
   "metadata": {},
   "outputs": [],
   "source": []
  },
  {
   "cell_type": "markdown",
   "id": "ebb88f25",
   "metadata": {
    "id": "ebb88f25"
   },
   "source": [
    "Vamos escrever uma função para remoção de outliers segundo o IQR:"
   ]
  },
  {
   "cell_type": "code",
   "execution_count": null,
   "id": "119ef085",
   "metadata": {},
   "outputs": [],
   "source": []
  },
  {
   "cell_type": "code",
   "execution_count": null,
   "id": "dff726e0",
   "metadata": {},
   "outputs": [],
   "source": []
  },
  {
   "cell_type": "code",
   "execution_count": null,
   "id": "5fd7edec",
   "metadata": {},
   "outputs": [],
   "source": []
  },
  {
   "cell_type": "code",
   "execution_count": null,
   "id": "ea4b94fa",
   "metadata": {},
   "outputs": [],
   "source": []
  },
  {
   "cell_type": "code",
   "execution_count": null,
   "id": "11f4dc55",
   "metadata": {},
   "outputs": [],
   "source": []
  },
  {
   "cell_type": "markdown",
   "id": "33e2ad98",
   "metadata": {
    "id": "33e2ad98"
   },
   "source": [
    "## "
   ]
  },
  {
   "cell_type": "markdown",
   "id": "52283371",
   "metadata": {
    "id": "52283371"
   },
   "source": [
    "## Dados Faltantes"
   ]
  },
  {
   "cell_type": "markdown",
   "id": "cf41b532",
   "metadata": {
    "id": "cf41b532"
   },
   "source": [
    "Problemas com dados do tipo: faltantes (e errôneas as quais também ocasionam perdas) podem levar a impactos nos modelos estatísticos e de aprendizado.\n",
    "\n",
    "A primeira etapa é **detectar corretamente** as informações faltantes, em quais atributos ocorrem, separando em:\n",
    "- Dados faltantes: no Python `NaN`, sendo indefinidos ou não encontrados\n",
    "- Dados errôneos: valores que devem ser removidos para não prejudicar a análise. Comumente não são *outliers* mas dados corrompidos no armazenamento, transmissão ou inputação.\n",
    "\n",
    "A seguir, temos como opções\n",
    "- Remover as linhas/instâncias contendo valores faltantes\n",
    "- Preencher valores faltantes utilizando algum método"
   ]
  },
  {
   "cell_type": "code",
   "execution_count": null,
   "id": "b792ce1c",
   "metadata": {},
   "outputs": [],
   "source": []
  },
  {
   "cell_type": "code",
   "execution_count": null,
   "id": "4b2fb729",
   "metadata": {},
   "outputs": [],
   "source": []
  },
  {
   "cell_type": "markdown",
   "id": "68b66425",
   "metadata": {
    "id": "68b66425"
   },
   "source": [
    "Vamos avaliar agora se de todas as variáveis na nossa base de dados, se elas fazem sentido com o tipo dela e se precisar  arrumar alguma coisa na base:"
   ]
  },
  {
   "cell_type": "code",
   "execution_count": null,
   "id": "4e5f5d50",
   "metadata": {},
   "outputs": [],
   "source": []
  },
  {
   "cell_type": "code",
   "execution_count": null,
   "id": "4dbc0ba8",
   "metadata": {},
   "outputs": [],
   "source": []
  },
  {
   "cell_type": "markdown",
   "id": "44569566",
   "metadata": {
    "id": "44569566"
   },
   "source": [
    "Note que:\n",
    "* `city` e `type` são do tipo object contendo strings (palavras),\n",
    "* `floor` e `tax` aparecem como object mas contendo números!\n",
    "\n",
    "Precisamos procurar por problemas e remover os valores não numéricos como `-`.\n",
    "\n",
    "Uma forma fácil é simplesmente forçar a **conversão para numérico** e atribuir `NaN` aos elementos não convertidos.\n",
    "\n",
    "1. `floor` possui um único valor não numérico `-`:"
   ]
  },
  {
   "cell_type": "code",
   "execution_count": null,
   "id": "111cd96e",
   "metadata": {},
   "outputs": [],
   "source": []
  },
  {
   "cell_type": "markdown",
   "id": "011b5d16",
   "metadata": {
    "id": "011b5d16"
   },
   "source": [
    "Esse valor parece estar relacionado ao `0` (térreo)"
   ]
  },
  {
   "cell_type": "code",
   "execution_count": null,
   "id": "a2e0e09b",
   "metadata": {},
   "outputs": [],
   "source": []
  },
  {
   "cell_type": "code",
   "execution_count": null,
   "id": "6041b690",
   "metadata": {},
   "outputs": [],
   "source": []
  },
  {
   "cell_type": "code",
   "execution_count": null,
   "id": "17ecad6a",
   "metadata": {},
   "outputs": [],
   "source": []
  },
  {
   "cell_type": "markdown",
   "id": "e5c3a325",
   "metadata": {
    "id": "e5c3a325"
   },
   "source": [
    "Vamos agora remover as duplicatas:"
   ]
  },
  {
   "cell_type": "code",
   "execution_count": null,
   "id": "f30d3f54",
   "metadata": {},
   "outputs": [],
   "source": []
  },
  {
   "cell_type": "code",
   "execution_count": null,
   "id": "177fda82",
   "metadata": {},
   "outputs": [],
   "source": []
  },
  {
   "cell_type": "code",
   "execution_count": null,
   "id": "13766a7a",
   "metadata": {},
   "outputs": [],
   "source": []
  },
  {
   "cell_type": "code",
   "execution_count": null,
   "id": "ed0e903e",
   "metadata": {},
   "outputs": [],
   "source": []
  },
  {
   "cell_type": "code",
   "execution_count": null,
   "id": "6718090f",
   "metadata": {},
   "outputs": [],
   "source": []
  },
  {
   "cell_type": "markdown",
   "id": "b06be97d",
   "metadata": {
    "id": "b06be97d"
   },
   "source": [
    "## "
   ]
  },
  {
   "cell_type": "markdown",
   "id": "93c85b3f",
   "metadata": {
    "id": "93c85b3f"
   },
   "source": [
    "##  Preenchimento de Dados Faltantes\n",
    "\n",
    "No experimento anterior lidamos com dados faltantes **removendo linhas**,\n",
    "\n",
    "Agora vamos carregar novamente os dados e para **preencher os dados**, mantendo o tratamento de remoção de duplicatas, dos atributos string e de remoção de outliers\n",
    "\n",
    "Há várias formas de se preencher dados faltantes:\n",
    "- **com zeros**:\n",
    "    para manter a instância e permitir o uso dos outros atributos (utilizando a função _fillna_)\n",
    "<br>    \n",
    "\n",
    "-  **pela média / mediana / moda**: similar ao anterior, mas aqui preenchemos com alguma métrica do atributo para os valores observados\n",
    "<br>    "
   ]
  },
  {
   "cell_type": "code",
   "execution_count": null,
   "id": "34064943",
   "metadata": {},
   "outputs": [],
   "source": []
  },
  {
   "cell_type": "code",
   "execution_count": null,
   "id": "671822ac",
   "metadata": {},
   "outputs": [],
   "source": []
  },
  {
   "cell_type": "markdown",
   "id": "a9712d09",
   "metadata": {
    "id": "a9712d09"
   },
   "source": [
    "### Preenchimento pela média"
   ]
  },
  {
   "cell_type": "code",
   "execution_count": null,
   "id": "69d1bc49",
   "metadata": {},
   "outputs": [],
   "source": []
  },
  {
   "cell_type": "code",
   "execution_count": null,
   "id": "9b55712b",
   "metadata": {},
   "outputs": [],
   "source": []
  },
  {
   "cell_type": "markdown",
   "id": "0dfe8d9e",
   "metadata": {
    "id": "0dfe8d9e"
   },
   "source": [
    "## "
   ]
  },
  {
   "cell_type": "markdown",
   "id": "00910d4e",
   "metadata": {
    "id": "00910d4e"
   },
   "source": [
    "## Links, Artigos e Referências:"
   ]
  },
  {
   "cell_type": "markdown",
   "id": "192d47a2",
   "metadata": {
    "id": "192d47a2"
   },
   "source": [
    "- [7 Must know Data Wrangling operations with Python Pandas](https://towardsdatascience.com/7-must-know-data-wrangling-operations-with-python-pandas-849438a90d15), artigo publicado pelo Towards Data Science;\n",
    "- [Data Wrangling in Pandas](https://towardsdatascience.com/data-wrangling-in-pandas-a-downloadable-cheatsheet-84326d255a7b), artigo publicado pelo Towards Data Science;\n",
    "- [A Checklist for Data Wrangling](https://towardsdatascience.com/a-checklist-for-data-wrangling-8f106c093fef), artigo publicado pelo Towards Data Science;\n",
    "- [The ultimate Guide to Data Cleaning](https://towardsdatascience.com/the-ultimate-guide-to-data-cleaning-3969843991d4), artigo publicado pelo Towards Data Science."
   ]
  }
 ],
 "metadata": {
  "colab": {
   "provenance": []
  },
  "kernelspec": {
   "display_name": "Python 3 (ipykernel)",
   "language": "python",
   "name": "python3"
  },
  "language_info": {
   "codemirror_mode": {
    "name": "ipython",
    "version": 3
   },
   "file_extension": ".py",
   "mimetype": "text/x-python",
   "name": "python",
   "nbconvert_exporter": "python",
   "pygments_lexer": "ipython3",
   "version": "3.9.13"
  }
 },
 "nbformat": 4,
 "nbformat_minor": 5
}
