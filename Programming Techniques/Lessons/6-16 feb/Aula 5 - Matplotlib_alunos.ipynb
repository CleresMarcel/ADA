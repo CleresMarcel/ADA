{
 "cells": [
  {
   "cell_type": "markdown",
   "metadata": {
    "id": "Px7ePuhJx6P8"
   },
   "source": [
    "# Matplotlib\n",
    "\n",
    "Nessa aula, iremos tratar dos seguintes conteúdos:\n",
    "- Matplotlib\n",
    "- Gráfico de Barras\n",
    "- Gráfico de Setores\n",
    "- Gráfico de Linhas\n",
    "- Subplots\n",
    "- Gráfico de Dispersão"
   ]
  },
  {
   "cell_type": "markdown",
   "metadata": {
    "id": "sw6VhDQUx6P9"
   },
   "source": [
    "<img src=\"https://files.realpython.com/media/gridspec_ex.9bce5a0726e9.png\" width=1000>"
   ]
  },
  {
   "cell_type": "markdown",
   "metadata": {
    "id": "hD6R9zSLx6P9"
   },
   "source": [
    "##  "
   ]
  },
  {
   "cell_type": "markdown",
   "metadata": {
    "id": "OLqRnLRux6P9"
   },
   "source": [
    "## Matplotlib"
   ]
  },
  {
   "cell_type": "markdown",
   "metadata": {
    "id": "AGmQVeKDx6P-"
   },
   "source": [
    "O **Matplotlib** é uma das principais bilbliotecas para o Python no quesito de visualização de Dados!<br><br>\n",
    "Com esta biblioteca e com o auxílio de dados, conseguimos criar visualizações gráficas. Vamos começar por carregar a nossa biblioteca no notebook:"
   ]
  },
  {
   "cell_type": "code",
   "execution_count": null,
   "metadata": {},
   "outputs": [],
   "source": []
  },
  {
   "cell_type": "markdown",
   "metadata": {
    "id": "7Cyty28fx6P_"
   },
   "source": [
    "Agora vamos passar por alguns tipos de gráficos mais utilizados do Matplotlib:"
   ]
  },
  {
   "cell_type": "markdown",
   "metadata": {
    "id": "mSYG9Nomx6P_"
   },
   "source": [
    "### Gráfico de Barras"
   ]
  },
  {
   "cell_type": "code",
   "execution_count": null,
   "metadata": {},
   "outputs": [],
   "source": []
  },
  {
   "cell_type": "code",
   "execution_count": null,
   "metadata": {},
   "outputs": [],
   "source": []
  },
  {
   "cell_type": "markdown",
   "metadata": {
    "id": "miwbVsKcx6QA"
   },
   "source": [
    "Criamos o nosso primeiro gráfico de barras, mas faltam algumas informações como título do gráfico e eixos, além disso está acontecendo um problema nos nomes dos alunos. Vamos ver como ajustar esses pontos:"
   ]
  },
  {
   "cell_type": "code",
   "execution_count": null,
   "metadata": {},
   "outputs": [],
   "source": []
  },
  {
   "cell_type": "markdown",
   "metadata": {
    "id": "Tdj20QeRx6QA"
   },
   "source": [
    "Vamos colocar mais laguns toques estéticos no nosso gráfico:<br><br>\n",
    "\n",
    "- Aumentar a fonte do título;\n",
    "- Aumentar a fonte do título dos eixos;\n",
    "- Aumentar a fonte do nomes dos alunos;\n",
    "- Mudar a cor do gráfico, para verde por exemplo;\n",
    "- Aumentar o tamanho desse gráfico!<br><br>\n",
    "\n",
    "Vamos ver como fazer isso então:"
   ]
  },
  {
   "cell_type": "code",
   "execution_count": null,
   "metadata": {},
   "outputs": [],
   "source": []
  },
  {
   "cell_type": "markdown",
   "metadata": {
    "id": "odQ_frQsx6QB"
   },
   "source": [
    "Vamos agora mudar a cor novamente, dessa vez para azul e vamos aproveitar melhor o tamanho do gráfico no nosso notebook. Por fim vamos salvar essa figura em um arquivo png externo:"
   ]
  },
  {
   "cell_type": "code",
   "execution_count": null,
   "metadata": {},
   "outputs": [],
   "source": []
  },
  {
   "cell_type": "markdown",
   "metadata": {
    "id": "zkNE4ixBx6QB"
   },
   "source": [
    "##  "
   ]
  },
  {
   "cell_type": "markdown",
   "metadata": {
    "id": "f8P_Q_5ex6QB"
   },
   "source": [
    "### Gráfico de setores (Famoso Gráfico de Pizza)"
   ]
  },
  {
   "cell_type": "code",
   "execution_count": null,
   "metadata": {},
   "outputs": [],
   "source": []
  },
  {
   "cell_type": "code",
   "execution_count": null,
   "metadata": {},
   "outputs": [],
   "source": []
  },
  {
   "cell_type": "markdown",
   "metadata": {
    "id": "pWHBpGfFx6QC"
   },
   "source": [
    "##  "
   ]
  },
  {
   "cell_type": "markdown",
   "metadata": {
    "id": "qZjB_DRlx6QC"
   },
   "source": [
    "### Gráfico de Linhas"
   ]
  },
  {
   "cell_type": "code",
   "execution_count": null,
   "metadata": {},
   "outputs": [],
   "source": []
  },
  {
   "cell_type": "code",
   "execution_count": null,
   "metadata": {},
   "outputs": [],
   "source": []
  },
  {
   "cell_type": "markdown",
   "metadata": {
    "id": "TFNpbCgDx6QC"
   },
   "source": [
    "##   "
   ]
  },
  {
   "cell_type": "markdown",
   "metadata": {
    "id": "HDPRaiMJx6QC"
   },
   "source": [
    "Assim como no Gráfico de barras, podemos customizar marcadores, cor e tipos de linha para o gráfico:"
   ]
  },
  {
   "cell_type": "code",
   "execution_count": null,
   "metadata": {},
   "outputs": [],
   "source": []
  },
  {
   "cell_type": "markdown",
   "metadata": {
    "id": "_0ZsSQdmx6QD"
   },
   "source": [
    "##   "
   ]
  },
  {
   "cell_type": "markdown",
   "metadata": {
    "id": "fuQenLRwx6QD"
   },
   "source": [
    "Conseguimos também colocar dois conjuntos de dados em um mesmo gráfico:"
   ]
  },
  {
   "cell_type": "code",
   "execution_count": null,
   "metadata": {},
   "outputs": [],
   "source": []
  },
  {
   "cell_type": "code",
   "execution_count": null,
   "metadata": {},
   "outputs": [],
   "source": []
  },
  {
   "cell_type": "code",
   "execution_count": null,
   "metadata": {},
   "outputs": [],
   "source": []
  },
  {
   "cell_type": "markdown",
   "metadata": {
    "id": "9vqw82Ekx6QD"
   },
   "source": [
    "##  "
   ]
  },
  {
   "cell_type": "markdown",
   "metadata": {
    "id": "LtxBIo2bx6QD"
   },
   "source": [
    "### Subplots"
   ]
  },
  {
   "cell_type": "code",
   "execution_count": null,
   "metadata": {},
   "outputs": [],
   "source": []
  },
  {
   "cell_type": "code",
   "execution_count": null,
   "metadata": {},
   "outputs": [],
   "source": []
  },
  {
   "cell_type": "code",
   "execution_count": null,
   "metadata": {},
   "outputs": [],
   "source": []
  },
  {
   "cell_type": "markdown",
   "metadata": {
    "id": "bmghd0zNx6QE"
   },
   "source": [
    "##   "
   ]
  },
  {
   "cell_type": "markdown",
   "metadata": {
    "id": "blXuWheEx6QE"
   },
   "source": [
    "E também podemos juntar alguns gráficos nos subplots:"
   ]
  },
  {
   "cell_type": "code",
   "execution_count": null,
   "metadata": {},
   "outputs": [],
   "source": []
  },
  {
   "cell_type": "markdown",
   "metadata": {
    "id": "ZyuWe6NMx6QE"
   },
   "source": [
    "##   "
   ]
  },
  {
   "cell_type": "markdown",
   "metadata": {
    "id": "GK4aguipx6QE"
   },
   "source": [
    "Agora vamos fazer um gráfico de linhas a partir de dados não genérico, ou seja vamos criar um gráfico de linha a partir da oscilação da PETR4 na bolsa:"
   ]
  },
  {
   "cell_type": "code",
   "execution_count": null,
   "metadata": {},
   "outputs": [],
   "source": []
  },
  {
   "cell_type": "code",
   "execution_count": null,
   "metadata": {},
   "outputs": [],
   "source": []
  },
  {
   "cell_type": "markdown",
   "metadata": {
    "id": "qFoAiN0Ux6QF"
   },
   "source": [
    "##  "
   ]
  },
  {
   "cell_type": "markdown",
   "metadata": {
    "id": "_abpNR4Nx6QF"
   },
   "source": [
    "## Gráfico de Dispersão"
   ]
  },
  {
   "cell_type": "code",
   "execution_count": null,
   "metadata": {},
   "outputs": [],
   "source": []
  },
  {
   "cell_type": "code",
   "execution_count": null,
   "metadata": {},
   "outputs": [],
   "source": []
  },
  {
   "cell_type": "markdown",
   "metadata": {
    "id": "Pezg895wx6QF"
   },
   "source": [
    "##   "
   ]
  },
  {
   "cell_type": "markdown",
   "metadata": {
    "id": "m1TayV8Rx6QF"
   },
   "source": [
    "Vamos agora criar um gráfico de dispersão a partir de um DataFrame:"
   ]
  },
  {
   "cell_type": "code",
   "execution_count": null,
   "metadata": {},
   "outputs": [],
   "source": []
  },
  {
   "cell_type": "code",
   "execution_count": null,
   "metadata": {},
   "outputs": [],
   "source": []
  },
  {
   "cell_type": "markdown",
   "metadata": {
    "id": "B4gZ-zB8x6QK"
   },
   "source": [
    "## "
   ]
  },
  {
   "cell_type": "markdown",
   "metadata": {
    "id": "qi_hiMHEx6QK"
   },
   "source": [
    "## Links, Artigos e Referências:"
   ]
  },
  {
   "cell_type": "markdown",
   "metadata": {
    "id": "4IAmU3IOx6QK"
   },
   "source": [
    "- [Documentação do Matplotlib](https://matplotlib.org/), documentação onde vocês podem encontrar mais informações sobre os gráficos do Matplotlib;\n",
    "- [\"Data Visualization using Matplotlib\",](https://towardsdatascience.com/data-visualization-using-matplotlib-16f1aae5ce70) artigo escrito pelo Towards Data Science;\n",
    "- [\"Animations with Matplotlib\",](https://towardsdatascience.com/animations-with-matplotlib-d96375c5442c) artigo escrito pelo Towards Data Science;\n",
    "- [\"15 comandos de matplotlib que talvez você não conheça\"](https://paulovasconcellos.com.br/15-comandos-de-matplotlib-que-talvez-voc%C3%AA-n%C3%A3o-conhe%C3%A7a-17cf88a75119), artigo escrito por Paulo Vasconcellos para o Data Hackers;\n",
    "- [\"O que é 'a value is trying to be set on a copy of a slice from a dsataframe' Error\"](https://paulovasconcellos.com.br/o-que-%C3%A9-a-value-is-trying-to-be-set-on-a-copy-of-a-slice-from-a-dataframe-e85f744d8be1), artigo escrito por Paulo Vasconcellos para o Data Hackers;"
   ]
  }
 ],
 "metadata": {
  "colab": {
   "provenance": []
  },
  "kernelspec": {
   "display_name": "Python 3 (ipykernel)",
   "language": "python",
   "name": "python3"
  },
  "language_info": {
   "codemirror_mode": {
    "name": "ipython",
    "version": 3
   },
   "file_extension": ".py",
   "mimetype": "text/x-python",
   "name": "python",
   "nbconvert_exporter": "python",
   "pygments_lexer": "ipython3",
   "version": "3.9.13"
  }
 },
 "nbformat": 4,
 "nbformat_minor": 1
}
