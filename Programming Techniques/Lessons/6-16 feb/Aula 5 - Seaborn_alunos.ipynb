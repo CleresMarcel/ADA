{
 "cells": [
  {
   "cell_type": "markdown",
   "metadata": {},
   "source": [
    "# Seaborn\n",
    "\n",
    "Nessa aula, iremos tratar dos seguintes conteúdos:\n",
    "- Seaborn\n",
    "- Arquivos de Dados do Seaborn\n",
    "- Seaborn x Matplotlib\n",
    "- Outras Visualizações do Seaborn\n",
    "- Configurações com o Seaborn"
   ]
  },
  {
   "cell_type": "markdown",
   "metadata": {},
   "source": [
    "<img src=\"data:image/jpeg;base64,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\" width=600>"
   ]
  },
  {
   "cell_type": "markdown",
   "metadata": {},
   "source": [
    "## "
   ]
  },
  {
   "cell_type": "markdown",
   "metadata": {},
   "source": [
    "## Seaborn"
   ]
  },
  {
   "cell_type": "markdown",
   "metadata": {},
   "source": [
    "Quando falamos de visualização de dados, além do __Matplotlib__ uma das principais bibliotecas que temos para utilizar é o __Seaborn__.<br>\n",
    "<br>\n",
    "O __Seaborn__ é uma biblioteca baseado no próprio _Matplotlib_, mas focada em gráficos de alta performance, ou seja iremos fazer gráficos de uma maneira __mais simples__ e com uma __riqueza maior nas informações__ que queremos passar com os gráficos."
   ]
  },
  {
   "cell_type": "markdown",
   "metadata": {},
   "source": [
    "Para instalar o __Seaborn__ no seu Jupyter Notebooks (quando não tenha já instalado), precisa ser descomentar e rodar o código abaixo:"
   ]
  },
  {
   "cell_type": "code",
   "execution_count": 1,
   "metadata": {
    "ExecuteTime": {
     "end_time": "2021-06-17T22:31:37.905661Z",
     "start_time": "2021-06-17T22:31:37.886200Z"
    }
   },
   "outputs": [],
   "source": [
    "#!pip install seaborn"
   ]
  },
  {
   "cell_type": "markdown",
   "metadata": {},
   "source": [
    "Primeiro passo será importarmos a bibloteca para o notebook:"
   ]
  },
  {
   "cell_type": "code",
   "execution_count": null,
   "metadata": {},
   "outputs": [],
   "source": []
  },
  {
   "cell_type": "markdown",
   "metadata": {},
   "source": [
    "Além do __Seaborn__, vamos importar algumas outras bibliotecas que serão úteis durante a aula:"
   ]
  },
  {
   "cell_type": "code",
   "execution_count": null,
   "metadata": {},
   "outputs": [],
   "source": []
  },
  {
   "cell_type": "markdown",
   "metadata": {},
   "source": [
    "## "
   ]
  },
  {
   "cell_type": "markdown",
   "metadata": {},
   "source": [
    "## Arquivos de Datasets do Seaborn"
   ]
  },
  {
   "cell_type": "markdown",
   "metadata": {},
   "source": [
    "Utilizando a função __load_dataset__, conseguimos carregar alguns datasets bem conhecidos na aprendizagem de Data Science como por exemplo o _Titanic_, _Tips_ entre outros. Podemos consultar todos os datasets disponíveis usando a função __get_dataset_names__:"
   ]
  },
  {
   "cell_type": "code",
   "execution_count": null,
   "metadata": {},
   "outputs": [],
   "source": []
  },
  {
   "cell_type": "markdown",
   "metadata": {},
   "source": [
    "Vamos utilizar o dataset _Iris_ para começar as análises:"
   ]
  },
  {
   "cell_type": "code",
   "execution_count": null,
   "metadata": {},
   "outputs": [],
   "source": []
  },
  {
   "cell_type": "markdown",
   "metadata": {},
   "source": [
    "O _Iris_ é um dataset bem conhecido sobre a classificação de 3 espécies de plantas: _setosa_, _virgínica_ e _versicolor_:<br><br>\n",
    "<img src=\"https://miro.medium.com/max/1000/1*Hh53mOF4Xy4eORjLilKOwA.png\" width = 800>"
   ]
  },
  {
   "cell_type": "markdown",
   "metadata": {},
   "source": [
    "Antes de partirmos para análises e novos gráficos de fato, vamos começar a exercitar as boas práticas quando trabalhamos com análise de dados:"
   ]
  },
  {
   "cell_type": "code",
   "execution_count": null,
   "metadata": {},
   "outputs": [],
   "source": []
  },
  {
   "cell_type": "code",
   "execution_count": null,
   "metadata": {},
   "outputs": [],
   "source": []
  },
  {
   "cell_type": "code",
   "execution_count": null,
   "metadata": {},
   "outputs": [],
   "source": []
  },
  {
   "cell_type": "markdown",
   "metadata": {},
   "source": [
    "Vamos dar uma olhada como está dividido em cada uma das espécies da _Iris_:"
   ]
  },
  {
   "cell_type": "code",
   "execution_count": null,
   "metadata": {},
   "outputs": [],
   "source": []
  },
  {
   "cell_type": "markdown",
   "metadata": {},
   "source": [
    "##  "
   ]
  },
  {
   "cell_type": "markdown",
   "metadata": {},
   "source": [
    "## Seaborn x Matplotlib"
   ]
  },
  {
   "cell_type": "markdown",
   "metadata": {},
   "source": [
    "Primeiramente, vamos recordar como fazer um gráfico de dispersão usando o __Matplotlib__:"
   ]
  },
  {
   "cell_type": "code",
   "execution_count": null,
   "metadata": {},
   "outputs": [],
   "source": []
  },
  {
   "cell_type": "markdown",
   "metadata": {},
   "source": [
    "No __Seaborn__, podemos fazer o mesmo gráfico utilizando a função __scatterplot__: "
   ]
  },
  {
   "cell_type": "code",
   "execution_count": null,
   "metadata": {},
   "outputs": [],
   "source": []
  },
  {
   "cell_type": "markdown",
   "metadata": {},
   "source": [
    "Mas então, a primeira pergunta é: __quais são as vantagens de usar o Seaborn ao invés do Matplotlib?__<br><br>\n",
    "Vamos imaginar que queremos fazer o mesmo gráfico mas separando as pelos tipos de _Iris_ (ou seja, separar pelas classes):"
   ]
  },
  {
   "cell_type": "code",
   "execution_count": null,
   "metadata": {},
   "outputs": [],
   "source": []
  },
  {
   "cell_type": "markdown",
   "metadata": {},
   "source": [
    "No __Seaborn__, sempre que quisermos quebrar um gráfico nas classes basta passar um parâmetro chamado __hue__:"
   ]
  },
  {
   "cell_type": "code",
   "execution_count": null,
   "metadata": {},
   "outputs": [],
   "source": []
  },
  {
   "cell_type": "markdown",
   "metadata": {},
   "source": [
    "E o __Seaborn__ nos permite customizar diversas detalhes do nosso gráfico:"
   ]
  },
  {
   "cell_type": "code",
   "execution_count": null,
   "metadata": {},
   "outputs": [],
   "source": []
  },
  {
   "cell_type": "code",
   "execution_count": null,
   "metadata": {},
   "outputs": [],
   "source": []
  },
  {
   "cell_type": "markdown",
   "metadata": {},
   "source": [
    "Um site bem interessante que vocês podem escolher cores para monta o Palette Cutsomizado é o [Coolors](https://coolors.co/)"
   ]
  },
  {
   "cell_type": "markdown",
   "metadata": {},
   "source": [
    "## "
   ]
  },
  {
   "cell_type": "markdown",
   "metadata": {},
   "source": [
    "## Outras Visualizações do Seaborn"
   ]
  },
  {
   "cell_type": "markdown",
   "metadata": {},
   "source": [
    "Vamos passar agora, por algumas das principais visualizações que acabam sendo utilizadas do __Seaborn__:"
   ]
  },
  {
   "cell_type": "markdown",
   "metadata": {},
   "source": [
    "### PairPlot"
   ]
  },
  {
   "cell_type": "code",
   "execution_count": null,
   "metadata": {},
   "outputs": [],
   "source": []
  },
  {
   "cell_type": "markdown",
   "metadata": {},
   "source": [
    "##  "
   ]
  },
  {
   "cell_type": "markdown",
   "metadata": {},
   "source": [
    "### JointPlot"
   ]
  },
  {
   "cell_type": "code",
   "execution_count": null,
   "metadata": {},
   "outputs": [],
   "source": []
  },
  {
   "cell_type": "markdown",
   "metadata": {},
   "source": [
    "##  "
   ]
  },
  {
   "cell_type": "markdown",
   "metadata": {},
   "source": [
    "### Distplot e Histplot"
   ]
  },
  {
   "cell_type": "code",
   "execution_count": null,
   "metadata": {},
   "outputs": [],
   "source": []
  },
  {
   "cell_type": "code",
   "execution_count": null,
   "metadata": {},
   "outputs": [],
   "source": []
  },
  {
   "cell_type": "code",
   "execution_count": null,
   "metadata": {},
   "outputs": [],
   "source": []
  },
  {
   "cell_type": "markdown",
   "metadata": {},
   "source": [
    "##  "
   ]
  },
  {
   "cell_type": "markdown",
   "metadata": {},
   "source": [
    "### FacetGrid"
   ]
  },
  {
   "cell_type": "code",
   "execution_count": null,
   "metadata": {},
   "outputs": [],
   "source": []
  },
  {
   "cell_type": "code",
   "execution_count": null,
   "metadata": {},
   "outputs": [],
   "source": []
  },
  {
   "cell_type": "markdown",
   "metadata": {},
   "source": [
    "##  "
   ]
  },
  {
   "cell_type": "markdown",
   "metadata": {},
   "source": [
    "### LMPlot"
   ]
  },
  {
   "cell_type": "code",
   "execution_count": null,
   "metadata": {},
   "outputs": [],
   "source": []
  },
  {
   "cell_type": "code",
   "execution_count": null,
   "metadata": {},
   "outputs": [],
   "source": []
  },
  {
   "cell_type": "markdown",
   "metadata": {},
   "source": [
    "## "
   ]
  },
  {
   "cell_type": "markdown",
   "metadata": {},
   "source": [
    "### HeatMap"
   ]
  },
  {
   "cell_type": "markdown",
   "metadata": {},
   "source": [
    "O __HeatMap__ (Mapa de Calor) é um gráfico bem interessante quando queremos criar um _Grid_ de variações.<br><br>\n",
    "Para usar o HeatMap, vamos definir primeiramente as correlações do DataFrame _Iris_:"
   ]
  },
  {
   "cell_type": "code",
   "execution_count": null,
   "metadata": {},
   "outputs": [],
   "source": []
  },
  {
   "cell_type": "code",
   "execution_count": null,
   "metadata": {},
   "outputs": [],
   "source": []
  },
  {
   "cell_type": "markdown",
   "metadata": {},
   "source": [
    "A função __corr__ mostra como as variáveis do DataFrame estão relacionadas, ou seja o quanto cada variável influência na variação das outras:"
   ]
  },
  {
   "cell_type": "code",
   "execution_count": null,
   "metadata": {},
   "outputs": [],
   "source": []
  },
  {
   "cell_type": "markdown",
   "metadata": {},
   "source": [
    "## "
   ]
  },
  {
   "cell_type": "markdown",
   "metadata": {},
   "source": [
    "### CountPlot e BarPlot"
   ]
  },
  {
   "cell_type": "code",
   "execution_count": null,
   "metadata": {},
   "outputs": [],
   "source": []
  },
  {
   "cell_type": "code",
   "execution_count": null,
   "metadata": {},
   "outputs": [],
   "source": []
  },
  {
   "cell_type": "code",
   "execution_count": null,
   "metadata": {},
   "outputs": [],
   "source": []
  },
  {
   "cell_type": "markdown",
   "metadata": {},
   "source": [
    "## "
   ]
  },
  {
   "cell_type": "markdown",
   "metadata": {},
   "source": [
    "## Configurações com o Seaborn"
   ]
  },
  {
   "cell_type": "markdown",
   "metadata": {},
   "source": [
    "Vamos aprender algumas outra modificações possíveis para fazermos com os gráficos:"
   ]
  },
  {
   "cell_type": "code",
   "execution_count": null,
   "metadata": {},
   "outputs": [],
   "source": []
  },
  {
   "cell_type": "code",
   "execution_count": null,
   "metadata": {},
   "outputs": [],
   "source": []
  },
  {
   "cell_type": "code",
   "execution_count": null,
   "metadata": {},
   "outputs": [],
   "source": []
  },
  {
   "cell_type": "markdown",
   "metadata": {},
   "source": [
    "##  "
   ]
  },
  {
   "cell_type": "markdown",
   "metadata": {},
   "source": [
    "## Links, Artigos e Referências:"
   ]
  },
  {
   "cell_type": "markdown",
   "metadata": {},
   "source": [
    "- [Documentação do Matplotlib](https://matplotlib.org/), documentação onde vocês podem encontrar mais informações sobre os gráficos do Matplotlib;\n",
    "- [Documentação do Seaborn](https://seaborn.pydata.org/), documentação onde vocês podem encontrar mais informações sobre os gráficos do Seaborn;\n",
    "- [Beautiful Plots with Python and Seaborn](https://betterprogramming.pub/beautiful-plots-with-python-and-seaborn-9d05c9ead6ed), artigo publicado no blog Better Programming"
   ]
  }
 ],
 "metadata": {
  "hide_input": false,
  "kernelspec": {
   "display_name": "Python 3 (ipykernel)",
   "language": "python",
   "name": "python3"
  },
  "language_info": {
   "codemirror_mode": {
    "name": "ipython",
    "version": 3
   },
   "file_extension": ".py",
   "mimetype": "text/x-python",
   "name": "python",
   "nbconvert_exporter": "python",
   "pygments_lexer": "ipython3",
   "version": "3.9.13"
  },
  "latex_envs": {
   "LaTeX_envs_menu_present": true,
   "autoclose": false,
   "autocomplete": true,
   "bibliofile": "biblio.bib",
   "cite_by": "apalike",
   "current_citInitial": 1,
   "eqLabelWithNumbers": true,
   "eqNumInitial": 1,
   "hotkeys": {
    "equation": "Ctrl-E",
    "itemize": "Ctrl-I"
   },
   "labels_anchors": false,
   "latex_user_defs": false,
   "report_style_numbering": false,
   "user_envs_cfg": false
  },
  "toc": {
   "base_numbering": 1,
   "nav_menu": {},
   "number_sections": true,
   "sideBar": true,
   "skip_h1_title": false,
   "title_cell": "Table of Contents",
   "title_sidebar": "Contents",
   "toc_cell": false,
   "toc_position": {},
   "toc_section_display": true,
   "toc_window_display": false
  },
  "varInspector": {
   "cols": {
    "lenName": 16,
    "lenType": 16,
    "lenVar": 40
   },
   "kernels_config": {
    "python": {
     "delete_cmd_postfix": "",
     "delete_cmd_prefix": "del ",
     "library": "var_list.py",
     "varRefreshCmd": "print(var_dic_list())"
    },
    "r": {
     "delete_cmd_postfix": ") ",
     "delete_cmd_prefix": "rm(",
     "library": "var_list.r",
     "varRefreshCmd": "cat(var_dic_list()) "
    }
   },
   "types_to_exclude": [
    "module",
    "function",
    "builtin_function_or_method",
    "instance",
    "_Feature"
   ],
   "window_display": false
  }
 },
 "nbformat": 4,
 "nbformat_minor": 2
}
