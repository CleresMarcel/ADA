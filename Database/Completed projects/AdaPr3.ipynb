{
  "cells": [
    {
      "cell_type": "code",
      "execution_count": 27,
      "metadata": {
        "id": "VDmATcIovUEV"
      },
      "outputs": [],
      "source": [
        "import pandas as pd\n",
        "import numpy as np\n",
        "from sklearn.model_selection import (train_test_split as tts,\n",
        "                                     cross_validate as cv,\n",
        "                                     RandomizedSearchCV as rscv)\n",
        "from sklearn.linear_model import LogisticRegression\n",
        "from sklearn.ensemble import (RandomForestClassifier,\n",
        "                              AdaBoostClassifier,\n",
        "                              GradientBoostingClassifier)\n",
        "from sklearn.pipeline import Pipeline\n",
        "from sklearn.compose import ColumnTransformer\n",
        "from sklearn.dummy import DummyClassifier\n",
        "\n",
        "from sklearn.neural_network import MLPClassifier\n",
        "from sklearn.preprocessing import (OneHotEncoder,\n",
        "                                  \n",
        "                                   StandardScaler)\n",
        "\n",
        "from sklearn import metrics\n",
        "\n",
        "import pickle \n",
        "import warnings\n",
        "warnings.filterwarnings(\"ignore\")\n",
        "\n",
        "\n"
      ]
    },
    {
      "cell_type": "code",
      "execution_count": 28,
      "metadata": {
        "id": "jWkl9PSsJLkj"
      },
      "outputs": [],
      "source": [
        "def calculate_metrics(model, X, y):\n",
        "        y_pred = model.predict(X)\n",
        "\n",
        "        model_metrics = {\n",
        "        'accuracy': metrics.accuracy_score(y, y_pred),\n",
        "        'balanced_accuracy': metrics.balanced_accuracy_score(y, y_pred),\n",
        "        'precision': metrics.precision_score(y, y_pred),\n",
        "        'recall': metrics.recall_score(y, y_pred),\n",
        "        'f1': metrics.f1_score(y, y_pred),\n",
        "    }\n",
        "\n",
        "        try:\n",
        "            y_pred_proba = model.predict_proba(X)[:,1]\n",
        "            model_metrics['roc-auc'] = metrics.roc_auc_score(y, y_pred_proba)\n",
        "            return model_metrics\n",
        "        except:\n",
        "            return model_metrics"
      ]
    },
    {
      "cell_type": "code",
      "execution_count": 29,
      "metadata": {
        "colab": {
          "base_uri": "https://localhost:8080/",
          "height": 206
        },
        "id": "xpyCCpWgDbj3",
        "outputId": "c68b42f3-6a76-4a69-d37b-12da0b4e0545"
      },
      "outputs": [
        {
          "data": {
            "text/html": [
              "<div>\n",
              "<style scoped>\n",
              "    .dataframe tbody tr th:only-of-type {\n",
              "        vertical-align: middle;\n",
              "    }\n",
              "\n",
              "    .dataframe tbody tr th {\n",
              "        vertical-align: top;\n",
              "    }\n",
              "\n",
              "    .dataframe thead th {\n",
              "        text-align: right;\n",
              "    }\n",
              "</style>\n",
              "<table border=\"1\" class=\"dataframe\">\n",
              "  <thead>\n",
              "    <tr style=\"text-align: right;\">\n",
              "      <th></th>\n",
              "      <th>paciente_id</th>\n",
              "      <th>medico_id</th>\n",
              "      <th>sexo_paciente</th>\n",
              "      <th>especialidade</th>\n",
              "    </tr>\n",
              "  </thead>\n",
              "  <tbody>\n",
              "    <tr>\n",
              "      <th>0</th>\n",
              "      <td>2</td>\n",
              "      <td>100045/SP</td>\n",
              "      <td>Female</td>\n",
              "      <td>Psicologo</td>\n",
              "    </tr>\n",
              "    <tr>\n",
              "      <th>1</th>\n",
              "      <td>666</td>\n",
              "      <td>100038/RJ</td>\n",
              "      <td>Female</td>\n",
              "      <td>Oncologia</td>\n",
              "    </tr>\n",
              "    <tr>\n",
              "      <th>2</th>\n",
              "      <td>907</td>\n",
              "      <td>100085/SP</td>\n",
              "      <td>Female</td>\n",
              "      <td>Oftalmologia</td>\n",
              "    </tr>\n",
              "    <tr>\n",
              "      <th>3</th>\n",
              "      <td>607</td>\n",
              "      <td>100024/SP</td>\n",
              "      <td>Female</td>\n",
              "      <td>Cardiologista</td>\n",
              "    </tr>\n",
              "    <tr>\n",
              "      <th>4</th>\n",
              "      <td>275</td>\n",
              "      <td>100092/SP</td>\n",
              "      <td>Male</td>\n",
              "      <td>Ginecologista</td>\n",
              "    </tr>\n",
              "  </tbody>\n",
              "</table>\n",
              "</div>"
            ],
            "text/plain": [
              "   paciente_id  medico_id sexo_paciente  especialidade\n",
              "0            2  100045/SP        Female      Psicologo\n",
              "1          666  100038/RJ        Female      Oncologia\n",
              "2          907  100085/SP        Female   Oftalmologia\n",
              "3          607  100024/SP        Female  Cardiologista\n",
              "4          275  100092/SP          Male  Ginecologista"
            ]
          },
          "execution_count": 29,
          "metadata": {},
          "output_type": "execute_result"
        }
      ],
      "source": [
        "df = pd.read_csv(r\"dataset/sql_trabalho.csv\",usecols=[\"paciente_id\",\"medico_id\",\"sexo_paciente\",\"especialidade\"])\n",
        "df.head()"
      ]
    },
    {
      "cell_type": "code",
      "execution_count": 30,
      "metadata": {
        "colab": {
          "base_uri": "https://localhost:8080/",
          "height": 206
        },
        "id": "AB48EcoJBTus",
        "outputId": "010a079c-6ab1-421e-ecc1-2867c03d302c"
      },
      "outputs": [
        {
          "data": {
            "text/html": [
              "<div>\n",
              "<style scoped>\n",
              "    .dataframe tbody tr th:only-of-type {\n",
              "        vertical-align: middle;\n",
              "    }\n",
              "\n",
              "    .dataframe tbody tr th {\n",
              "        vertical-align: top;\n",
              "    }\n",
              "\n",
              "    .dataframe thead th {\n",
              "        text-align: right;\n",
              "    }\n",
              "</style>\n",
              "<table border=\"1\" class=\"dataframe\">\n",
              "  <thead>\n",
              "    <tr style=\"text-align: right;\">\n",
              "      <th></th>\n",
              "      <th>paciente_id</th>\n",
              "      <th>medico_id</th>\n",
              "      <th>sexo_paciente</th>\n",
              "      <th>especialidade</th>\n",
              "      <th>recomenda</th>\n",
              "    </tr>\n",
              "  </thead>\n",
              "  <tbody>\n",
              "    <tr>\n",
              "      <th>0</th>\n",
              "      <td>2</td>\n",
              "      <td>100045/SP</td>\n",
              "      <td>Female</td>\n",
              "      <td>Psicologo</td>\n",
              "      <td>0</td>\n",
              "    </tr>\n",
              "    <tr>\n",
              "      <th>1</th>\n",
              "      <td>666</td>\n",
              "      <td>100038/RJ</td>\n",
              "      <td>Female</td>\n",
              "      <td>Oncologia</td>\n",
              "      <td>0</td>\n",
              "    </tr>\n",
              "    <tr>\n",
              "      <th>2</th>\n",
              "      <td>907</td>\n",
              "      <td>100085/SP</td>\n",
              "      <td>Female</td>\n",
              "      <td>Oftalmologia</td>\n",
              "      <td>1</td>\n",
              "    </tr>\n",
              "    <tr>\n",
              "      <th>3</th>\n",
              "      <td>607</td>\n",
              "      <td>100024/SP</td>\n",
              "      <td>Female</td>\n",
              "      <td>Cardiologista</td>\n",
              "      <td>1</td>\n",
              "    </tr>\n",
              "    <tr>\n",
              "      <th>4</th>\n",
              "      <td>275</td>\n",
              "      <td>100092/SP</td>\n",
              "      <td>Male</td>\n",
              "      <td>Ginecologista</td>\n",
              "      <td>1</td>\n",
              "    </tr>\n",
              "  </tbody>\n",
              "</table>\n",
              "</div>"
            ],
            "text/plain": [
              "   paciente_id  medico_id sexo_paciente  especialidade  recomenda\n",
              "0            2  100045/SP        Female      Psicologo          0\n",
              "1          666  100038/RJ        Female      Oncologia          0\n",
              "2          907  100085/SP        Female   Oftalmologia          1\n",
              "3          607  100024/SP        Female  Cardiologista          1\n",
              "4          275  100092/SP          Male  Ginecologista          1"
            ]
          },
          "execution_count": 30,
          "metadata": {},
          "output_type": "execute_result"
        }
      ],
      "source": [
        "#criando dados sinteticos\n",
        "rand_num=np.random.choice(2,100_000,p=[0.4,0.6])\n",
        "df_like=pd.DataFrame(rand_num)\n",
        "df_like.columns=[\"recomenda\"]\n",
        "\n",
        "df=pd.concat([df,df_like],axis=1)\n",
        "df.head()"
      ]
    },
    {
      "cell_type": "code",
      "execution_count": 31,
      "metadata": {
        "colab": {
          "base_uri": "https://localhost:8080/",
          "height": 206
        },
        "id": "aZDiMVYSHc7E",
        "outputId": "8169b721-0d87-4af6-c4bf-22a48f6990da"
      },
      "outputs": [
        {
          "data": {
            "text/html": [
              "<div>\n",
              "<style scoped>\n",
              "    .dataframe tbody tr th:only-of-type {\n",
              "        vertical-align: middle;\n",
              "    }\n",
              "\n",
              "    .dataframe tbody tr th {\n",
              "        vertical-align: top;\n",
              "    }\n",
              "\n",
              "    .dataframe thead th {\n",
              "        text-align: right;\n",
              "    }\n",
              "</style>\n",
              "<table border=\"1\" class=\"dataframe\">\n",
              "  <thead>\n",
              "    <tr style=\"text-align: right;\">\n",
              "      <th></th>\n",
              "      <th>paciente_id</th>\n",
              "      <th>medico_id</th>\n",
              "      <th>sexo_paciente</th>\n",
              "      <th>especialidade</th>\n",
              "      <th>recomenda</th>\n",
              "      <th>idade</th>\n",
              "    </tr>\n",
              "  </thead>\n",
              "  <tbody>\n",
              "    <tr>\n",
              "      <th>0</th>\n",
              "      <td>2</td>\n",
              "      <td>100045/SP</td>\n",
              "      <td>Female</td>\n",
              "      <td>Psicologo</td>\n",
              "      <td>0</td>\n",
              "      <td>19</td>\n",
              "    </tr>\n",
              "    <tr>\n",
              "      <th>1</th>\n",
              "      <td>666</td>\n",
              "      <td>100038/RJ</td>\n",
              "      <td>Female</td>\n",
              "      <td>Oncologia</td>\n",
              "      <td>0</td>\n",
              "      <td>83</td>\n",
              "    </tr>\n",
              "    <tr>\n",
              "      <th>2</th>\n",
              "      <td>907</td>\n",
              "      <td>100085/SP</td>\n",
              "      <td>Female</td>\n",
              "      <td>Oftalmologia</td>\n",
              "      <td>1</td>\n",
              "      <td>93</td>\n",
              "    </tr>\n",
              "    <tr>\n",
              "      <th>3</th>\n",
              "      <td>607</td>\n",
              "      <td>100024/SP</td>\n",
              "      <td>Female</td>\n",
              "      <td>Cardiologista</td>\n",
              "      <td>1</td>\n",
              "      <td>54</td>\n",
              "    </tr>\n",
              "    <tr>\n",
              "      <th>4</th>\n",
              "      <td>275</td>\n",
              "      <td>100092/SP</td>\n",
              "      <td>Male</td>\n",
              "      <td>Ginecologista</td>\n",
              "      <td>1</td>\n",
              "      <td>40</td>\n",
              "    </tr>\n",
              "  </tbody>\n",
              "</table>\n",
              "</div>"
            ],
            "text/plain": [
              "   paciente_id  medico_id sexo_paciente  especialidade  recomenda  idade\n",
              "0            2  100045/SP        Female      Psicologo          0     19\n",
              "1          666  100038/RJ        Female      Oncologia          0     83\n",
              "2          907  100085/SP        Female   Oftalmologia          1     93\n",
              "3          607  100024/SP        Female  Cardiologista          1     54\n",
              "4          275  100092/SP          Male  Ginecologista          1     40"
            ]
          },
          "execution_count": 31,
          "metadata": {},
          "output_type": "execute_result"
        }
      ],
      "source": [
        "age=np.random.randint(18,99,100_000)\n",
        "df_age=pd.DataFrame(age)\n",
        "df_age.columns=[\"idade\"]\n",
        "\n",
        "df=pd.concat([df,df_age],axis=1)\n",
        "df.head()"
      ]
    },
    {
      "cell_type": "code",
      "execution_count": 32,
      "metadata": {},
      "outputs": [
        {
          "data": {
            "text/plain": [
              "array(['Female', 'Male'], dtype=object)"
            ]
          },
          "execution_count": 32,
          "metadata": {},
          "output_type": "execute_result"
        }
      ],
      "source": [
        "df.sexo_paciente.unique()"
      ]
    },
    {
      "cell_type": "code",
      "execution_count": 33,
      "metadata": {
        "colab": {
          "base_uri": "https://localhost:8080/"
        },
        "id": "Ou0pCtdDCb_j",
        "outputId": "d161abcf-e4ba-4ae2-9610-53495945dae3"
      },
      "outputs": [
        {
          "data": {
            "text/plain": [
              "1    59798\n",
              "0    40202\n",
              "Name: recomenda, dtype: int64"
            ]
          },
          "execution_count": 33,
          "metadata": {},
          "output_type": "execute_result"
        }
      ],
      "source": [
        "# valor 1 para recomenda e 0 para nao recomenda\n",
        "df.recomenda.value_counts()"
      ]
    },
    {
      "cell_type": "code",
      "execution_count": 34,
      "metadata": {
        "id": "6DfThTnID_bY"
      },
      "outputs": [],
      "source": [
        "num_col=df.select_dtypes(\"number\").columns.to_list()\n",
        "cat_col=[col for col in df if col not in num_col]\n",
        "cat_col=[\n",
        "        #'medico_id',\n",
        "         'sexo_paciente',\n",
        "        'especialidade']"
      ]
    },
    {
      "cell_type": "code",
      "execution_count": 35,
      "metadata": {
        "id": "ZgJiZMq0G8_y"
      },
      "outputs": [],
      "source": [
        "num_col=[#'paciente_id',\n",
        "         #'recomenda',\n",
        "         'idade']\n",
        "x=cat_col+num_col\n",
        "y='recomenda'"
      ]
    },
    {
      "cell_type": "code",
      "execution_count": 36,
      "metadata": {
        "id": "33J5oBNkHRJ3"
      },
      "outputs": [],
      "source": [
        "X_train, X_test,y_train, y_test=tts(df[x], df[y], stratify=df[y], random_state=101,test_size=0.2 )"
      ]
    },
    {
      "cell_type": "code",
      "execution_count": 37,
      "metadata": {
        "id": "FVTMGZWRI-7u"
      },
      "outputs": [],
      "source": [
        "\n",
        "preprocessor=ColumnTransformer([\n",
        "    (\"scaler\",StandardScaler(), num_col),\n",
        "    (\"encoder\", OneHotEncoder(handle_unknown=\"ignore\"), cat_col)\n",
        "])\n",
        "pipe=Pipeline([\n",
        "    (\"preprocess\", preprocessor),\n",
        "    (\"model\",RandomForestClassifier(class_weight=\"balanced\", random_state=101))\n",
        "])"
      ]
    },
    {
      "cell_type": "code",
      "execution_count": 38,
      "metadata": {
        "colab": {
          "base_uri": "https://localhost:8080/",
          "height": 192
        },
        "id": "IOjPszohJt6h",
        "outputId": "caf0bd1c-ec9e-41a5-f087-6b29e00efc5d"
      },
      "outputs": [
        {
          "data": {
            "text/html": [
              "<style>#sk-container-id-3 {color: black;background-color: white;}#sk-container-id-3 pre{padding: 0;}#sk-container-id-3 div.sk-toggleable {background-color: white;}#sk-container-id-3 label.sk-toggleable__label {cursor: pointer;display: block;width: 100%;margin-bottom: 0;padding: 0.3em;box-sizing: border-box;text-align: center;}#sk-container-id-3 label.sk-toggleable__label-arrow:before {content: \"▸\";float: left;margin-right: 0.25em;color: #696969;}#sk-container-id-3 label.sk-toggleable__label-arrow:hover:before {color: black;}#sk-container-id-3 div.sk-estimator:hover label.sk-toggleable__label-arrow:before {color: black;}#sk-container-id-3 div.sk-toggleable__content {max-height: 0;max-width: 0;overflow: hidden;text-align: left;background-color: #f0f8ff;}#sk-container-id-3 div.sk-toggleable__content pre {margin: 0.2em;color: black;border-radius: 0.25em;background-color: #f0f8ff;}#sk-container-id-3 input.sk-toggleable__control:checked~div.sk-toggleable__content {max-height: 200px;max-width: 100%;overflow: auto;}#sk-container-id-3 input.sk-toggleable__control:checked~label.sk-toggleable__label-arrow:before {content: \"▾\";}#sk-container-id-3 div.sk-estimator input.sk-toggleable__control:checked~label.sk-toggleable__label {background-color: #d4ebff;}#sk-container-id-3 div.sk-label input.sk-toggleable__control:checked~label.sk-toggleable__label {background-color: #d4ebff;}#sk-container-id-3 input.sk-hidden--visually {border: 0;clip: rect(1px 1px 1px 1px);clip: rect(1px, 1px, 1px, 1px);height: 1px;margin: -1px;overflow: hidden;padding: 0;position: absolute;width: 1px;}#sk-container-id-3 div.sk-estimator {font-family: monospace;background-color: #f0f8ff;border: 1px dotted black;border-radius: 0.25em;box-sizing: border-box;margin-bottom: 0.5em;}#sk-container-id-3 div.sk-estimator:hover {background-color: #d4ebff;}#sk-container-id-3 div.sk-parallel-item::after {content: \"\";width: 100%;border-bottom: 1px solid gray;flex-grow: 1;}#sk-container-id-3 div.sk-label:hover label.sk-toggleable__label {background-color: #d4ebff;}#sk-container-id-3 div.sk-serial::before {content: \"\";position: absolute;border-left: 1px solid gray;box-sizing: border-box;top: 0;bottom: 0;left: 50%;z-index: 0;}#sk-container-id-3 div.sk-serial {display: flex;flex-direction: column;align-items: center;background-color: white;padding-right: 0.2em;padding-left: 0.2em;position: relative;}#sk-container-id-3 div.sk-item {position: relative;z-index: 1;}#sk-container-id-3 div.sk-parallel {display: flex;align-items: stretch;justify-content: center;background-color: white;position: relative;}#sk-container-id-3 div.sk-item::before, #sk-container-id-3 div.sk-parallel-item::before {content: \"\";position: absolute;border-left: 1px solid gray;box-sizing: border-box;top: 0;bottom: 0;left: 50%;z-index: -1;}#sk-container-id-3 div.sk-parallel-item {display: flex;flex-direction: column;z-index: 1;position: relative;background-color: white;}#sk-container-id-3 div.sk-parallel-item:first-child::after {align-self: flex-end;width: 50%;}#sk-container-id-3 div.sk-parallel-item:last-child::after {align-self: flex-start;width: 50%;}#sk-container-id-3 div.sk-parallel-item:only-child::after {width: 0;}#sk-container-id-3 div.sk-dashed-wrapped {border: 1px dashed gray;margin: 0 0.4em 0.5em 0.4em;box-sizing: border-box;padding-bottom: 0.4em;background-color: white;}#sk-container-id-3 div.sk-label label {font-family: monospace;font-weight: bold;display: inline-block;line-height: 1.2em;}#sk-container-id-3 div.sk-label-container {text-align: center;}#sk-container-id-3 div.sk-container {/* jupyter's `normalize.less` sets `[hidden] { display: none; }` but bootstrap.min.css set `[hidden] { display: none !important; }` so we also need the `!important` here to be able to override the default hidden behavior on the sphinx rendered scikit-learn.org. See: https://github.com/scikit-learn/scikit-learn/issues/21755 */display: inline-block !important;position: relative;}#sk-container-id-3 div.sk-text-repr-fallback {display: none;}</style><div id=\"sk-container-id-3\" class=\"sk-top-container\"><div class=\"sk-text-repr-fallback\"><pre>Pipeline(steps=[(&#x27;preprocess&#x27;,\n",
              "                 ColumnTransformer(transformers=[(&#x27;scaler&#x27;, StandardScaler(),\n",
              "                                                  [&#x27;idade&#x27;]),\n",
              "                                                 (&#x27;encoder&#x27;,\n",
              "                                                  OneHotEncoder(handle_unknown=&#x27;ignore&#x27;),\n",
              "                                                  [&#x27;sexo_paciente&#x27;,\n",
              "                                                   &#x27;especialidade&#x27;])])),\n",
              "                (&#x27;model&#x27;,\n",
              "                 RandomForestClassifier(class_weight=&#x27;balanced&#x27;,\n",
              "                                        random_state=101))])</pre><b>In a Jupyter environment, please rerun this cell to show the HTML representation or trust the notebook. <br />On GitHub, the HTML representation is unable to render, please try loading this page with nbviewer.org.</b></div><div class=\"sk-container\" hidden><div class=\"sk-item sk-dashed-wrapped\"><div class=\"sk-label-container\"><div class=\"sk-label sk-toggleable\"><input class=\"sk-toggleable__control sk-hidden--visually\" id=\"sk-estimator-id-16\" type=\"checkbox\" ><label for=\"sk-estimator-id-16\" class=\"sk-toggleable__label sk-toggleable__label-arrow\">Pipeline</label><div class=\"sk-toggleable__content\"><pre>Pipeline(steps=[(&#x27;preprocess&#x27;,\n",
              "                 ColumnTransformer(transformers=[(&#x27;scaler&#x27;, StandardScaler(),\n",
              "                                                  [&#x27;idade&#x27;]),\n",
              "                                                 (&#x27;encoder&#x27;,\n",
              "                                                  OneHotEncoder(handle_unknown=&#x27;ignore&#x27;),\n",
              "                                                  [&#x27;sexo_paciente&#x27;,\n",
              "                                                   &#x27;especialidade&#x27;])])),\n",
              "                (&#x27;model&#x27;,\n",
              "                 RandomForestClassifier(class_weight=&#x27;balanced&#x27;,\n",
              "                                        random_state=101))])</pre></div></div></div><div class=\"sk-serial\"><div class=\"sk-item sk-dashed-wrapped\"><div class=\"sk-label-container\"><div class=\"sk-label sk-toggleable\"><input class=\"sk-toggleable__control sk-hidden--visually\" id=\"sk-estimator-id-17\" type=\"checkbox\" ><label for=\"sk-estimator-id-17\" class=\"sk-toggleable__label sk-toggleable__label-arrow\">preprocess: ColumnTransformer</label><div class=\"sk-toggleable__content\"><pre>ColumnTransformer(transformers=[(&#x27;scaler&#x27;, StandardScaler(), [&#x27;idade&#x27;]),\n",
              "                                (&#x27;encoder&#x27;,\n",
              "                                 OneHotEncoder(handle_unknown=&#x27;ignore&#x27;),\n",
              "                                 [&#x27;sexo_paciente&#x27;, &#x27;especialidade&#x27;])])</pre></div></div></div><div class=\"sk-parallel\"><div class=\"sk-parallel-item\"><div class=\"sk-item\"><div class=\"sk-label-container\"><div class=\"sk-label sk-toggleable\"><input class=\"sk-toggleable__control sk-hidden--visually\" id=\"sk-estimator-id-18\" type=\"checkbox\" ><label for=\"sk-estimator-id-18\" class=\"sk-toggleable__label sk-toggleable__label-arrow\">scaler</label><div class=\"sk-toggleable__content\"><pre>[&#x27;idade&#x27;]</pre></div></div></div><div class=\"sk-serial\"><div class=\"sk-item\"><div class=\"sk-estimator sk-toggleable\"><input class=\"sk-toggleable__control sk-hidden--visually\" id=\"sk-estimator-id-19\" type=\"checkbox\" ><label for=\"sk-estimator-id-19\" class=\"sk-toggleable__label sk-toggleable__label-arrow\">StandardScaler</label><div class=\"sk-toggleable__content\"><pre>StandardScaler()</pre></div></div></div></div></div></div><div class=\"sk-parallel-item\"><div class=\"sk-item\"><div class=\"sk-label-container\"><div class=\"sk-label sk-toggleable\"><input class=\"sk-toggleable__control sk-hidden--visually\" id=\"sk-estimator-id-20\" type=\"checkbox\" ><label for=\"sk-estimator-id-20\" class=\"sk-toggleable__label sk-toggleable__label-arrow\">encoder</label><div class=\"sk-toggleable__content\"><pre>[&#x27;sexo_paciente&#x27;, &#x27;especialidade&#x27;]</pre></div></div></div><div class=\"sk-serial\"><div class=\"sk-item\"><div class=\"sk-estimator sk-toggleable\"><input class=\"sk-toggleable__control sk-hidden--visually\" id=\"sk-estimator-id-21\" type=\"checkbox\" ><label for=\"sk-estimator-id-21\" class=\"sk-toggleable__label sk-toggleable__label-arrow\">OneHotEncoder</label><div class=\"sk-toggleable__content\"><pre>OneHotEncoder(handle_unknown=&#x27;ignore&#x27;)</pre></div></div></div></div></div></div></div></div><div class=\"sk-item\"><div class=\"sk-estimator sk-toggleable\"><input class=\"sk-toggleable__control sk-hidden--visually\" id=\"sk-estimator-id-22\" type=\"checkbox\" ><label for=\"sk-estimator-id-22\" class=\"sk-toggleable__label sk-toggleable__label-arrow\">RandomForestClassifier</label><div class=\"sk-toggleable__content\"><pre>RandomForestClassifier(class_weight=&#x27;balanced&#x27;, random_state=101)</pre></div></div></div></div></div></div></div>"
            ],
            "text/plain": [
              "Pipeline(steps=[('preprocess',\n",
              "                 ColumnTransformer(transformers=[('scaler', StandardScaler(),\n",
              "                                                  ['idade']),\n",
              "                                                 ('encoder',\n",
              "                                                  OneHotEncoder(handle_unknown='ignore'),\n",
              "                                                  ['sexo_paciente',\n",
              "                                                   'especialidade'])])),\n",
              "                ('model',\n",
              "                 RandomForestClassifier(class_weight='balanced',\n",
              "                                        random_state=101))])"
            ]
          },
          "execution_count": 38,
          "metadata": {},
          "output_type": "execute_result"
        }
      ],
      "source": [
        "pipe.fit(X_train, y_train)"
      ]
    },
    {
      "cell_type": "code",
      "execution_count": 39,
      "metadata": {
        "colab": {
          "base_uri": "https://localhost:8080/"
        },
        "id": "0Xtyjdz-KJwV",
        "outputId": "393ccaba-c5aa-4c78-aaed-f134d95d93e5"
      },
      "outputs": [
        {
          "data": {
            "text/plain": [
              "{'accuracy': 0.5074,\n",
              " 'balanced_accuracy': 0.5040470723306545,\n",
              " 'precision': 0.6017570959644719,\n",
              " 'recall': 0.5211538461538462,\n",
              " 'f1': 0.558562595214625,\n",
              " 'roc-auc': 0.505010045924225}"
            ]
          },
          "execution_count": 39,
          "metadata": {},
          "output_type": "execute_result"
        }
      ],
      "source": [
        "calculate_metrics(pipe, X_test,y_test)"
      ]
    },
    {
      "cell_type": "code",
      "execution_count": 40,
      "metadata": {
        "colab": {
          "base_uri": "https://localhost:8080/"
        },
        "id": "ZQc73YI9KPhK",
        "outputId": "85326ac8-9896-4674-eecc-9fa2da623e57"
      },
      "outputs": [
        {
          "name": "stdout",
          "output_type": "stream",
          "text": [
            "dummy DummyClassifier()\n",
            "[{'accuracy': 0.598, 'balanced_accuracy': 0.5, 'precision': 0.598, 'recall': 1.0, 'f1': 0.7484355444305382, 'roc-auc': 0.5}]\n",
            "rf RandomForestClassifier(class_weight='balanced', random_state=101)\n",
            "[{'accuracy': 0.598, 'balanced_accuracy': 0.5, 'precision': 0.598, 'recall': 1.0, 'f1': 0.7484355444305382, 'roc-auc': 0.5}, {'accuracy': 0.5074, 'balanced_accuracy': 0.5040470723306545, 'precision': 0.6017570959644719, 'recall': 0.5211538461538462, 'f1': 0.558562595214625, 'roc-auc': 0.505010045924225}]\n",
            "ada AdaBoostClassifier(random_state=101)\n",
            "[{'accuracy': 0.598, 'balanced_accuracy': 0.5, 'precision': 0.598, 'recall': 1.0, 'f1': 0.7484355444305382, 'roc-auc': 0.5}, {'accuracy': 0.5074, 'balanced_accuracy': 0.5040470723306545, 'precision': 0.6017570959644719, 'recall': 0.5211538461538462, 'f1': 0.558562595214625, 'roc-auc': 0.505010045924225}, {'accuracy': 0.598, 'balanced_accuracy': 0.5, 'precision': 0.598, 'recall': 1.0, 'f1': 0.7484355444305382, 'roc-auc': 0.4911736884141167}]\n",
            "lr LogisticRegression(class_weight='balanced', random_state=101)\n",
            "[{'accuracy': 0.598, 'balanced_accuracy': 0.5, 'precision': 0.598, 'recall': 1.0, 'f1': 0.7484355444305382, 'roc-auc': 0.5}, {'accuracy': 0.5074, 'balanced_accuracy': 0.5040470723306545, 'precision': 0.6017570959644719, 'recall': 0.5211538461538462, 'f1': 0.558562595214625, 'roc-auc': 0.505010045924225}, {'accuracy': 0.598, 'balanced_accuracy': 0.5, 'precision': 0.598, 'recall': 1.0, 'f1': 0.7484355444305382, 'roc-auc': 0.4911736884141167}, {'accuracy': 0.4993, 'balanced_accuracy': 0.4948896820246593, 'precision': 0.5932885906040268, 'recall': 0.5173913043478261, 'f1': 0.552746761947298, 'roc-auc': 0.49762418051881063}]\n",
            "gbc GradientBoostingClassifier(random_state=101)\n",
            "[{'accuracy': 0.598, 'balanced_accuracy': 0.5, 'precision': 0.598, 'recall': 1.0, 'f1': 0.7484355444305382, 'roc-auc': 0.5}, {'accuracy': 0.5074, 'balanced_accuracy': 0.5040470723306545, 'precision': 0.6017570959644719, 'recall': 0.5211538461538462, 'f1': 0.558562595214625, 'roc-auc': 0.505010045924225}, {'accuracy': 0.598, 'balanced_accuracy': 0.5, 'precision': 0.598, 'recall': 1.0, 'f1': 0.7484355444305382, 'roc-auc': 0.4911736884141167}, {'accuracy': 0.4993, 'balanced_accuracy': 0.4948896820246593, 'precision': 0.5932885906040268, 'recall': 0.5173913043478261, 'f1': 0.552746761947298, 'roc-auc': 0.49762418051881063}, {'accuracy': 0.598, 'balanced_accuracy': 0.5, 'precision': 0.598, 'recall': 1.0, 'f1': 0.7484355444305382, 'roc-auc': 0.5004597674254148}]\n",
            "neural MLPClassifier(alpha=1e-05, hidden_layer_sizes=(5, 2), random_state=101,\n",
            "              solver='lbfgs')\n",
            "[{'accuracy': 0.598, 'balanced_accuracy': 0.5, 'precision': 0.598, 'recall': 1.0, 'f1': 0.7484355444305382, 'roc-auc': 0.5}, {'accuracy': 0.5074, 'balanced_accuracy': 0.5040470723306545, 'precision': 0.6017570959644719, 'recall': 0.5211538461538462, 'f1': 0.558562595214625, 'roc-auc': 0.505010045924225}, {'accuracy': 0.598, 'balanced_accuracy': 0.5, 'precision': 0.598, 'recall': 1.0, 'f1': 0.7484355444305382, 'roc-auc': 0.4911736884141167}, {'accuracy': 0.4993, 'balanced_accuracy': 0.4948896820246593, 'precision': 0.5932885906040268, 'recall': 0.5173913043478261, 'f1': 0.552746761947298, 'roc-auc': 0.49762418051881063}, {'accuracy': 0.598, 'balanced_accuracy': 0.5, 'precision': 0.598, 'recall': 1.0, 'f1': 0.7484355444305382, 'roc-auc': 0.5004597674254148}, {'accuracy': 0.598, 'balanced_accuracy': 0.5, 'precision': 0.598, 'recall': 1.0, 'f1': 0.7484355444305382, 'roc-auc': 0.49432978814123363}]\n"
          ]
        }
      ],
      "source": [
        "model={\n",
        "    \"dummy\":DummyClassifier(),\n",
        "    \"rf\":RandomForestClassifier(class_weight=\"balanced\", random_state=101),\n",
        "    \"ada\":AdaBoostClassifier(random_state=101),\n",
        "    \"lr\":LogisticRegression(class_weight=\"balanced\", random_state=101),\n",
        "    \"gbc\":GradientBoostingClassifier(random_state=101),\n",
        "    \"neural\":MLPClassifier(alpha=1e-05, hidden_layer_sizes=(5, 2), random_state=101,\n",
        "              solver='lbfgs'),\n",
        "    \n",
        "\n",
        "}\n",
        "results=[]\n",
        "for model_name , modelo in model.items():\n",
        "  print(model_name, modelo)\n",
        "  pipe.set_params(model=modelo).fit(X_train,y_train)\n",
        "  result=calculate_metrics(pipe, X_test,y_test)\n",
        "  results.append(result)\n",
        "  print(results)"
      ]
    },
    {
      "cell_type": "code",
      "execution_count": 41,
      "metadata": {
        "colab": {
          "base_uri": "https://localhost:8080/",
          "height": 237
        },
        "id": "zAMQLf4GLtQe",
        "outputId": "9db7f581-71f7-425f-8af9-aaac72078dfa"
      },
      "outputs": [
        {
          "data": {
            "text/html": [
              "<div>\n",
              "<style scoped>\n",
              "    .dataframe tbody tr th:only-of-type {\n",
              "        vertical-align: middle;\n",
              "    }\n",
              "\n",
              "    .dataframe tbody tr th {\n",
              "        vertical-align: top;\n",
              "    }\n",
              "\n",
              "    .dataframe thead th {\n",
              "        text-align: right;\n",
              "    }\n",
              "</style>\n",
              "<table border=\"1\" class=\"dataframe\">\n",
              "  <thead>\n",
              "    <tr style=\"text-align: right;\">\n",
              "      <th></th>\n",
              "      <th>dummy</th>\n",
              "      <th>rf</th>\n",
              "      <th>ada</th>\n",
              "      <th>lr</th>\n",
              "      <th>gbc</th>\n",
              "      <th>neural</th>\n",
              "    </tr>\n",
              "  </thead>\n",
              "  <tbody>\n",
              "    <tr>\n",
              "      <th>accuracy</th>\n",
              "      <td>0.598000</td>\n",
              "      <td>0.507400</td>\n",
              "      <td>0.598000</td>\n",
              "      <td>0.499300</td>\n",
              "      <td>0.598000</td>\n",
              "      <td>0.598000</td>\n",
              "    </tr>\n",
              "    <tr>\n",
              "      <th>balanced_accuracy</th>\n",
              "      <td>0.500000</td>\n",
              "      <td>0.504047</td>\n",
              "      <td>0.500000</td>\n",
              "      <td>0.494890</td>\n",
              "      <td>0.500000</td>\n",
              "      <td>0.500000</td>\n",
              "    </tr>\n",
              "    <tr>\n",
              "      <th>precision</th>\n",
              "      <td>0.598000</td>\n",
              "      <td>0.601757</td>\n",
              "      <td>0.598000</td>\n",
              "      <td>0.593289</td>\n",
              "      <td>0.598000</td>\n",
              "      <td>0.598000</td>\n",
              "    </tr>\n",
              "    <tr>\n",
              "      <th>recall</th>\n",
              "      <td>1.000000</td>\n",
              "      <td>0.521154</td>\n",
              "      <td>1.000000</td>\n",
              "      <td>0.517391</td>\n",
              "      <td>1.000000</td>\n",
              "      <td>1.000000</td>\n",
              "    </tr>\n",
              "    <tr>\n",
              "      <th>f1</th>\n",
              "      <td>0.748436</td>\n",
              "      <td>0.558563</td>\n",
              "      <td>0.748436</td>\n",
              "      <td>0.552747</td>\n",
              "      <td>0.748436</td>\n",
              "      <td>0.748436</td>\n",
              "    </tr>\n",
              "    <tr>\n",
              "      <th>roc-auc</th>\n",
              "      <td>0.500000</td>\n",
              "      <td>0.505010</td>\n",
              "      <td>0.491174</td>\n",
              "      <td>0.497624</td>\n",
              "      <td>0.500460</td>\n",
              "      <td>0.494330</td>\n",
              "    </tr>\n",
              "  </tbody>\n",
              "</table>\n",
              "</div>"
            ],
            "text/plain": [
              "                      dummy        rf       ada        lr       gbc    neural\n",
              "accuracy           0.598000  0.507400  0.598000  0.499300  0.598000  0.598000\n",
              "balanced_accuracy  0.500000  0.504047  0.500000  0.494890  0.500000  0.500000\n",
              "precision          0.598000  0.601757  0.598000  0.593289  0.598000  0.598000\n",
              "recall             1.000000  0.521154  1.000000  0.517391  1.000000  1.000000\n",
              "f1                 0.748436  0.558563  0.748436  0.552747  0.748436  0.748436\n",
              "roc-auc            0.500000  0.505010  0.491174  0.497624  0.500460  0.494330"
            ]
          },
          "execution_count": 41,
          "metadata": {},
          "output_type": "execute_result"
        }
      ],
      "source": [
        "df_results=pd.DataFrame(results).T\n",
        "df_results.columns=[\n",
        "    'dummy',\n",
        "    'rf',\n",
        "    'ada',\n",
        "    'lr',\n",
        "    \"gbc\",\n",
        "    \"neural\"\n",
        "]\n",
        "\n",
        "df_results\n"
      ]
    },
    {
      "cell_type": "code",
      "execution_count": 42,
      "metadata": {
        "colab": {
          "base_uri": "https://localhost:8080/"
        },
        "id": "uQewNxbdlSaX",
        "outputId": "91958192-4993-4324-98d7-0e4a88320970"
      },
      "outputs": [
        {
          "name": "stdout",
          "output_type": "stream",
          "text": [
            "dummy DummyClassifier()\n",
            "rf RandomForestClassifier(class_weight='balanced', random_state=101)\n",
            "ada AdaBoostClassifier(random_state=101)\n",
            "lr LogisticRegression(class_weight='balanced', random_state=101)\n",
            "gbc GradientBoostingClassifier(random_state=101)\n",
            "neural MLPClassifier(alpha=1e-05, hidden_layer_sizes=(5, 2), random_state=101,\n",
            "              solver='lbfgs')\n"
          ]
        }
      ],
      "source": [
        "model={\n",
        "    \"dummy\":DummyClassifier(),\n",
        "    \"rf\":RandomForestClassifier(class_weight=\"balanced\", random_state=101),\n",
        "    \"ada\":AdaBoostClassifier(random_state=101),\n",
        "    \"lr\":LogisticRegression(class_weight=\"balanced\", random_state=101),\n",
        "    \"gbc\":GradientBoostingClassifier(random_state=101),\n",
        "    \"neural\":MLPClassifier(alpha=1e-05, hidden_layer_sizes=(5, 2), random_state=101,\n",
        "              solver='lbfgs'),\n",
        "}\n",
        "\n",
        "cross_results=[]\n",
        "for model_name, modelo in model.items():\n",
        "  print(model_name, modelo)\n",
        "  pipe.set_params(model=modelo)\n",
        "  cross=cv(pipe, X_train, y_train, cv=5, scoring=[\"precision\", \"accuracy\", \"f1\",\"recall\", \"roc_auc\" ])\n",
        "  cross_result=pd.DataFrame(cross).mean().to_frame(model_name).T\n",
        "  cross_results.append(cross_result)\n",
        "\n",
        "\n",
        "  df_cross=pd.concat(cross_results)"
      ]
    },
    {
      "cell_type": "code",
      "execution_count": 43,
      "metadata": {
        "colab": {
          "base_uri": "https://localhost:8080/",
          "height": 300
        },
        "id": "QFIG4YzFnPX2",
        "outputId": "5fb986f4-2420-400c-8019-f43e5b7b61dc"
      },
      "outputs": [
        {
          "data": {
            "text/html": [
              "<div>\n",
              "<style scoped>\n",
              "    .dataframe tbody tr th:only-of-type {\n",
              "        vertical-align: middle;\n",
              "    }\n",
              "\n",
              "    .dataframe tbody tr th {\n",
              "        vertical-align: top;\n",
              "    }\n",
              "\n",
              "    .dataframe thead th {\n",
              "        text-align: right;\n",
              "    }\n",
              "</style>\n",
              "<table border=\"1\" class=\"dataframe\">\n",
              "  <thead>\n",
              "    <tr style=\"text-align: right;\">\n",
              "      <th></th>\n",
              "      <th>fit_time</th>\n",
              "      <th>score_time</th>\n",
              "      <th>test_precision</th>\n",
              "      <th>test_accuracy</th>\n",
              "      <th>test_f1</th>\n",
              "      <th>test_recall</th>\n",
              "      <th>test_roc_auc</th>\n",
              "    </tr>\n",
              "  </thead>\n",
              "  <tbody>\n",
              "    <tr>\n",
              "      <th>dummy</th>\n",
              "      <td>0.093841</td>\n",
              "      <td>0.086949</td>\n",
              "      <td>0.597975</td>\n",
              "      <td>0.597975</td>\n",
              "      <td>0.748416</td>\n",
              "      <td>1.000000</td>\n",
              "      <td>0.500000</td>\n",
              "    </tr>\n",
              "    <tr>\n",
              "      <th>rf</th>\n",
              "      <td>36.265019</td>\n",
              "      <td>0.855461</td>\n",
              "      <td>0.598764</td>\n",
              "      <td>0.504875</td>\n",
              "      <td>0.557451</td>\n",
              "      <td>0.521489</td>\n",
              "      <td>0.497328</td>\n",
              "    </tr>\n",
              "    <tr>\n",
              "      <th>ada</th>\n",
              "      <td>2.229942</td>\n",
              "      <td>0.751495</td>\n",
              "      <td>0.597975</td>\n",
              "      <td>0.597975</td>\n",
              "      <td>0.748416</td>\n",
              "      <td>1.000000</td>\n",
              "      <td>0.499626</td>\n",
              "    </tr>\n",
              "    <tr>\n",
              "      <th>lr</th>\n",
              "      <td>0.329844</td>\n",
              "      <td>0.120240</td>\n",
              "      <td>0.599714</td>\n",
              "      <td>0.506738</td>\n",
              "      <td>0.560136</td>\n",
              "      <td>0.526778</td>\n",
              "      <td>0.500384</td>\n",
              "    </tr>\n",
              "    <tr>\n",
              "      <th>gbc</th>\n",
              "      <td>6.147043</td>\n",
              "      <td>0.203199</td>\n",
              "      <td>0.597922</td>\n",
              "      <td>0.597800</td>\n",
              "      <td>0.748251</td>\n",
              "      <td>0.999561</td>\n",
              "      <td>0.494911</td>\n",
              "    </tr>\n",
              "    <tr>\n",
              "      <th>neural</th>\n",
              "      <td>1.166847</td>\n",
              "      <td>0.075711</td>\n",
              "      <td>0.597975</td>\n",
              "      <td>0.597975</td>\n",
              "      <td>0.748416</td>\n",
              "      <td>1.000000</td>\n",
              "      <td>0.499581</td>\n",
              "    </tr>\n",
              "  </tbody>\n",
              "</table>\n",
              "</div>"
            ],
            "text/plain": [
              "         fit_time  score_time  test_precision  test_accuracy   test_f1  \\\n",
              "dummy    0.093841    0.086949        0.597975       0.597975  0.748416   \n",
              "rf      36.265019    0.855461        0.598764       0.504875  0.557451   \n",
              "ada      2.229942    0.751495        0.597975       0.597975  0.748416   \n",
              "lr       0.329844    0.120240        0.599714       0.506738  0.560136   \n",
              "gbc      6.147043    0.203199        0.597922       0.597800  0.748251   \n",
              "neural   1.166847    0.075711        0.597975       0.597975  0.748416   \n",
              "\n",
              "        test_recall  test_roc_auc  \n",
              "dummy      1.000000      0.500000  \n",
              "rf         0.521489      0.497328  \n",
              "ada        1.000000      0.499626  \n",
              "lr         0.526778      0.500384  \n",
              "gbc        0.999561      0.494911  \n",
              "neural     1.000000      0.499581  "
            ]
          },
          "execution_count": 43,
          "metadata": {},
          "output_type": "execute_result"
        }
      ],
      "source": [
        "df_cross=pd.concat(cross_results)\n",
        "df_cross"
      ]
    },
    {
      "cell_type": "code",
      "execution_count": 44,
      "metadata": {},
      "outputs": [],
      "source": [
        "pipe_xgb=Pipeline([\n",
        "    (\"preprocess\",preprocessor),\n",
        "    (\"model\",GradientBoostingClassifier(random_state=101))\n",
        "])\n",
        "pipe_xgb\n",
        "\n",
        "\n",
        "params={\n",
        "    'model__learning_rate' : [0.05,0.1, 0.3],\n",
        "    'model__max_depth' : [ 2, 15],\n",
        "  }"
      ]
    },
    {
      "cell_type": "code",
      "execution_count": 45,
      "metadata": {},
      "outputs": [
        {
          "name": "stdout",
          "output_type": "stream",
          "text": [
            "Fitting 3 folds for each of 6 candidates, totalling 18 fits\n"
          ]
        },
        {
          "data": {
            "text/html": [
              "<style>#sk-container-id-4 {color: black;background-color: white;}#sk-container-id-4 pre{padding: 0;}#sk-container-id-4 div.sk-toggleable {background-color: white;}#sk-container-id-4 label.sk-toggleable__label {cursor: pointer;display: block;width: 100%;margin-bottom: 0;padding: 0.3em;box-sizing: border-box;text-align: center;}#sk-container-id-4 label.sk-toggleable__label-arrow:before {content: \"▸\";float: left;margin-right: 0.25em;color: #696969;}#sk-container-id-4 label.sk-toggleable__label-arrow:hover:before {color: black;}#sk-container-id-4 div.sk-estimator:hover label.sk-toggleable__label-arrow:before {color: black;}#sk-container-id-4 div.sk-toggleable__content {max-height: 0;max-width: 0;overflow: hidden;text-align: left;background-color: #f0f8ff;}#sk-container-id-4 div.sk-toggleable__content pre {margin: 0.2em;color: black;border-radius: 0.25em;background-color: #f0f8ff;}#sk-container-id-4 input.sk-toggleable__control:checked~div.sk-toggleable__content {max-height: 200px;max-width: 100%;overflow: auto;}#sk-container-id-4 input.sk-toggleable__control:checked~label.sk-toggleable__label-arrow:before {content: \"▾\";}#sk-container-id-4 div.sk-estimator input.sk-toggleable__control:checked~label.sk-toggleable__label {background-color: #d4ebff;}#sk-container-id-4 div.sk-label input.sk-toggleable__control:checked~label.sk-toggleable__label {background-color: #d4ebff;}#sk-container-id-4 input.sk-hidden--visually {border: 0;clip: rect(1px 1px 1px 1px);clip: rect(1px, 1px, 1px, 1px);height: 1px;margin: -1px;overflow: hidden;padding: 0;position: absolute;width: 1px;}#sk-container-id-4 div.sk-estimator {font-family: monospace;background-color: #f0f8ff;border: 1px dotted black;border-radius: 0.25em;box-sizing: border-box;margin-bottom: 0.5em;}#sk-container-id-4 div.sk-estimator:hover {background-color: #d4ebff;}#sk-container-id-4 div.sk-parallel-item::after {content: \"\";width: 100%;border-bottom: 1px solid gray;flex-grow: 1;}#sk-container-id-4 div.sk-label:hover label.sk-toggleable__label {background-color: #d4ebff;}#sk-container-id-4 div.sk-serial::before {content: \"\";position: absolute;border-left: 1px solid gray;box-sizing: border-box;top: 0;bottom: 0;left: 50%;z-index: 0;}#sk-container-id-4 div.sk-serial {display: flex;flex-direction: column;align-items: center;background-color: white;padding-right: 0.2em;padding-left: 0.2em;position: relative;}#sk-container-id-4 div.sk-item {position: relative;z-index: 1;}#sk-container-id-4 div.sk-parallel {display: flex;align-items: stretch;justify-content: center;background-color: white;position: relative;}#sk-container-id-4 div.sk-item::before, #sk-container-id-4 div.sk-parallel-item::before {content: \"\";position: absolute;border-left: 1px solid gray;box-sizing: border-box;top: 0;bottom: 0;left: 50%;z-index: -1;}#sk-container-id-4 div.sk-parallel-item {display: flex;flex-direction: column;z-index: 1;position: relative;background-color: white;}#sk-container-id-4 div.sk-parallel-item:first-child::after {align-self: flex-end;width: 50%;}#sk-container-id-4 div.sk-parallel-item:last-child::after {align-self: flex-start;width: 50%;}#sk-container-id-4 div.sk-parallel-item:only-child::after {width: 0;}#sk-container-id-4 div.sk-dashed-wrapped {border: 1px dashed gray;margin: 0 0.4em 0.5em 0.4em;box-sizing: border-box;padding-bottom: 0.4em;background-color: white;}#sk-container-id-4 div.sk-label label {font-family: monospace;font-weight: bold;display: inline-block;line-height: 1.2em;}#sk-container-id-4 div.sk-label-container {text-align: center;}#sk-container-id-4 div.sk-container {/* jupyter's `normalize.less` sets `[hidden] { display: none; }` but bootstrap.min.css set `[hidden] { display: none !important; }` so we also need the `!important` here to be able to override the default hidden behavior on the sphinx rendered scikit-learn.org. See: https://github.com/scikit-learn/scikit-learn/issues/21755 */display: inline-block !important;position: relative;}#sk-container-id-4 div.sk-text-repr-fallback {display: none;}</style><div id=\"sk-container-id-4\" class=\"sk-top-container\"><div class=\"sk-text-repr-fallback\"><pre>RandomizedSearchCV(cv=3,\n",
              "                   estimator=Pipeline(steps=[(&#x27;preprocess&#x27;,\n",
              "                                              ColumnTransformer(transformers=[(&#x27;scaler&#x27;,\n",
              "                                                                               StandardScaler(),\n",
              "                                                                               [&#x27;idade&#x27;]),\n",
              "                                                                              (&#x27;encoder&#x27;,\n",
              "                                                                               OneHotEncoder(handle_unknown=&#x27;ignore&#x27;),\n",
              "                                                                               [&#x27;sexo_paciente&#x27;,\n",
              "                                                                                &#x27;especialidade&#x27;])])),\n",
              "                                             (&#x27;model&#x27;,\n",
              "                                              GradientBoostingClassifier(random_state=101))]),\n",
              "                   param_distributions={&#x27;model__learning_rate&#x27;: [0.05, 0.1,\n",
              "                                                                 0.3],\n",
              "                                        &#x27;model__max_depth&#x27;: [2, 15]},\n",
              "                   scoring=&#x27;precision&#x27;, verbose=True)</pre><b>In a Jupyter environment, please rerun this cell to show the HTML representation or trust the notebook. <br />On GitHub, the HTML representation is unable to render, please try loading this page with nbviewer.org.</b></div><div class=\"sk-container\" hidden><div class=\"sk-item sk-dashed-wrapped\"><div class=\"sk-label-container\"><div class=\"sk-label sk-toggleable\"><input class=\"sk-toggleable__control sk-hidden--visually\" id=\"sk-estimator-id-23\" type=\"checkbox\" ><label for=\"sk-estimator-id-23\" class=\"sk-toggleable__label sk-toggleable__label-arrow\">RandomizedSearchCV</label><div class=\"sk-toggleable__content\"><pre>RandomizedSearchCV(cv=3,\n",
              "                   estimator=Pipeline(steps=[(&#x27;preprocess&#x27;,\n",
              "                                              ColumnTransformer(transformers=[(&#x27;scaler&#x27;,\n",
              "                                                                               StandardScaler(),\n",
              "                                                                               [&#x27;idade&#x27;]),\n",
              "                                                                              (&#x27;encoder&#x27;,\n",
              "                                                                               OneHotEncoder(handle_unknown=&#x27;ignore&#x27;),\n",
              "                                                                               [&#x27;sexo_paciente&#x27;,\n",
              "                                                                                &#x27;especialidade&#x27;])])),\n",
              "                                             (&#x27;model&#x27;,\n",
              "                                              GradientBoostingClassifier(random_state=101))]),\n",
              "                   param_distributions={&#x27;model__learning_rate&#x27;: [0.05, 0.1,\n",
              "                                                                 0.3],\n",
              "                                        &#x27;model__max_depth&#x27;: [2, 15]},\n",
              "                   scoring=&#x27;precision&#x27;, verbose=True)</pre></div></div></div><div class=\"sk-parallel\"><div class=\"sk-parallel-item\"><div class=\"sk-item\"><div class=\"sk-label-container\"><div class=\"sk-label sk-toggleable\"><input class=\"sk-toggleable__control sk-hidden--visually\" id=\"sk-estimator-id-24\" type=\"checkbox\" ><label for=\"sk-estimator-id-24\" class=\"sk-toggleable__label sk-toggleable__label-arrow\">estimator: Pipeline</label><div class=\"sk-toggleable__content\"><pre>Pipeline(steps=[(&#x27;preprocess&#x27;,\n",
              "                 ColumnTransformer(transformers=[(&#x27;scaler&#x27;, StandardScaler(),\n",
              "                                                  [&#x27;idade&#x27;]),\n",
              "                                                 (&#x27;encoder&#x27;,\n",
              "                                                  OneHotEncoder(handle_unknown=&#x27;ignore&#x27;),\n",
              "                                                  [&#x27;sexo_paciente&#x27;,\n",
              "                                                   &#x27;especialidade&#x27;])])),\n",
              "                (&#x27;model&#x27;, GradientBoostingClassifier(random_state=101))])</pre></div></div></div><div class=\"sk-serial\"><div class=\"sk-item\"><div class=\"sk-serial\"><div class=\"sk-item sk-dashed-wrapped\"><div class=\"sk-label-container\"><div class=\"sk-label sk-toggleable\"><input class=\"sk-toggleable__control sk-hidden--visually\" id=\"sk-estimator-id-25\" type=\"checkbox\" ><label for=\"sk-estimator-id-25\" class=\"sk-toggleable__label sk-toggleable__label-arrow\">preprocess: ColumnTransformer</label><div class=\"sk-toggleable__content\"><pre>ColumnTransformer(transformers=[(&#x27;scaler&#x27;, StandardScaler(), [&#x27;idade&#x27;]),\n",
              "                                (&#x27;encoder&#x27;,\n",
              "                                 OneHotEncoder(handle_unknown=&#x27;ignore&#x27;),\n",
              "                                 [&#x27;sexo_paciente&#x27;, &#x27;especialidade&#x27;])])</pre></div></div></div><div class=\"sk-parallel\"><div class=\"sk-parallel-item\"><div class=\"sk-item\"><div class=\"sk-label-container\"><div class=\"sk-label sk-toggleable\"><input class=\"sk-toggleable__control sk-hidden--visually\" id=\"sk-estimator-id-26\" type=\"checkbox\" ><label for=\"sk-estimator-id-26\" class=\"sk-toggleable__label sk-toggleable__label-arrow\">scaler</label><div class=\"sk-toggleable__content\"><pre>[&#x27;idade&#x27;]</pre></div></div></div><div class=\"sk-serial\"><div class=\"sk-item\"><div class=\"sk-estimator sk-toggleable\"><input class=\"sk-toggleable__control sk-hidden--visually\" id=\"sk-estimator-id-27\" type=\"checkbox\" ><label for=\"sk-estimator-id-27\" class=\"sk-toggleable__label sk-toggleable__label-arrow\">StandardScaler</label><div class=\"sk-toggleable__content\"><pre>StandardScaler()</pre></div></div></div></div></div></div><div class=\"sk-parallel-item\"><div class=\"sk-item\"><div class=\"sk-label-container\"><div class=\"sk-label sk-toggleable\"><input class=\"sk-toggleable__control sk-hidden--visually\" id=\"sk-estimator-id-28\" type=\"checkbox\" ><label for=\"sk-estimator-id-28\" class=\"sk-toggleable__label sk-toggleable__label-arrow\">encoder</label><div class=\"sk-toggleable__content\"><pre>[&#x27;sexo_paciente&#x27;, &#x27;especialidade&#x27;]</pre></div></div></div><div class=\"sk-serial\"><div class=\"sk-item\"><div class=\"sk-estimator sk-toggleable\"><input class=\"sk-toggleable__control sk-hidden--visually\" id=\"sk-estimator-id-29\" type=\"checkbox\" ><label for=\"sk-estimator-id-29\" class=\"sk-toggleable__label sk-toggleable__label-arrow\">OneHotEncoder</label><div class=\"sk-toggleable__content\"><pre>OneHotEncoder(handle_unknown=&#x27;ignore&#x27;)</pre></div></div></div></div></div></div></div></div><div class=\"sk-item\"><div class=\"sk-estimator sk-toggleable\"><input class=\"sk-toggleable__control sk-hidden--visually\" id=\"sk-estimator-id-30\" type=\"checkbox\" ><label for=\"sk-estimator-id-30\" class=\"sk-toggleable__label sk-toggleable__label-arrow\">GradientBoostingClassifier</label><div class=\"sk-toggleable__content\"><pre>GradientBoostingClassifier(random_state=101)</pre></div></div></div></div></div></div></div></div></div></div></div></div>"
            ],
            "text/plain": [
              "RandomizedSearchCV(cv=3,\n",
              "                   estimator=Pipeline(steps=[('preprocess',\n",
              "                                              ColumnTransformer(transformers=[('scaler',\n",
              "                                                                               StandardScaler(),\n",
              "                                                                               ['idade']),\n",
              "                                                                              ('encoder',\n",
              "                                                                               OneHotEncoder(handle_unknown='ignore'),\n",
              "                                                                               ['sexo_paciente',\n",
              "                                                                                'especialidade'])])),\n",
              "                                             ('model',\n",
              "                                              GradientBoostingClassifier(random_state=101))]),\n",
              "                   param_distributions={'model__learning_rate': [0.05, 0.1,\n",
              "                                                                 0.3],\n",
              "                                        'model__max_depth': [2, 15]},\n",
              "                   scoring='precision', verbose=True)"
            ]
          },
          "execution_count": 45,
          "metadata": {},
          "output_type": "execute_result"
        }
      ],
      "source": [
        "final_random=rscv(pipe_xgb,param_distributions=params, cv=3, scoring=\"precision\", verbose=True)\n",
        "final_random.fit(X_train,y_train)"
      ]
    },
    {
      "cell_type": "code",
      "execution_count": 46,
      "metadata": {},
      "outputs": [
        {
          "data": {
            "text/html": [
              "<div>\n",
              "<style scoped>\n",
              "    .dataframe tbody tr th:only-of-type {\n",
              "        vertical-align: middle;\n",
              "    }\n",
              "\n",
              "    .dataframe tbody tr th {\n",
              "        vertical-align: top;\n",
              "    }\n",
              "\n",
              "    .dataframe thead th {\n",
              "        text-align: right;\n",
              "    }\n",
              "</style>\n",
              "<table border=\"1\" class=\"dataframe\">\n",
              "  <thead>\n",
              "    <tr style=\"text-align: right;\">\n",
              "      <th></th>\n",
              "      <th>param_model__max_depth</th>\n",
              "      <th>param_model__learning_rate</th>\n",
              "      <th>params</th>\n",
              "      <th>mean_test_score</th>\n",
              "      <th>std_test_score</th>\n",
              "    </tr>\n",
              "    <tr>\n",
              "      <th>rank_test_score</th>\n",
              "      <th></th>\n",
              "      <th></th>\n",
              "      <th></th>\n",
              "      <th></th>\n",
              "      <th></th>\n",
              "    </tr>\n",
              "  </thead>\n",
              "  <tbody>\n",
              "    <tr>\n",
              "      <th>1</th>\n",
              "      <td>2</td>\n",
              "      <td>0.05</td>\n",
              "      <td>{'model__max_depth': 2, 'model__learning_rate'...</td>\n",
              "      <td>0.597975</td>\n",
              "      <td>0.000011</td>\n",
              "    </tr>\n",
              "  </tbody>\n",
              "</table>\n",
              "</div>"
            ],
            "text/plain": [
              "                param_model__max_depth param_model__learning_rate  \\\n",
              "rank_test_score                                                     \n",
              "1                                    2                       0.05   \n",
              "\n",
              "                                                            params  \\\n",
              "rank_test_score                                                      \n",
              "1                {'model__max_depth': 2, 'model__learning_rate'...   \n",
              "\n",
              "                 mean_test_score  std_test_score  \n",
              "rank_test_score                                   \n",
              "1                       0.597975        0.000011  "
            ]
          },
          "execution_count": 46,
          "metadata": {},
          "output_type": "execute_result"
        }
      ],
      "source": [
        "df_random_final=pd.DataFrame(final_random.cv_results_).set_index(\"rank_test_score\").sort_index()\n",
        "df_random_final.loc[:,~df_random_final.columns.str.contains(\"split|time\")].head(1)"
      ]
    },
    {
      "cell_type": "code",
      "execution_count": 47,
      "metadata": {},
      "outputs": [],
      "source": [
        "pipe_xgbfinal = Pipeline([\n",
        "    (\"preprocessor\", preprocessor),\n",
        "    (\"gbc\", GradientBoostingClassifier(random_state=101, \n",
        "                          max_depth=2, learning_rate=0.05))\n",
        "]).fit(X_train, y_train)"
      ]
    },
    {
      "cell_type": "code",
      "execution_count": 48,
      "metadata": {},
      "outputs": [
        {
          "data": {
            "text/plain": [
              "{'accuracy': 0.598,\n",
              " 'balanced_accuracy': 0.5,\n",
              " 'precision': 0.598,\n",
              " 'recall': 1.0,\n",
              " 'f1': 0.7484355444305382,\n",
              " 'roc-auc': 0.4952929749247076}"
            ]
          },
          "execution_count": 48,
          "metadata": {},
          "output_type": "execute_result"
        }
      ],
      "source": [
        "calculate_metrics(pipe_xgbfinal, X_test,y_test)"
      ]
    },
    {
      "cell_type": "code",
      "execution_count": 49,
      "metadata": {},
      "outputs": [],
      "source": [
        "with open(\"pipe_xgbfinal.pkl\",\"wb\") as file_model: # pode ser joblib tb\n",
        "    pickle.dump(pipe_xgbfinal,file_model)"
      ]
    }
  ],
  "metadata": {
    "colab": {
      "provenance": []
    },
    "kernelspec": {
      "display_name": "Python 3",
      "name": "python3"
    },
    "language_info": {
      "codemirror_mode": {
        "name": "ipython",
        "version": 3
      },
      "file_extension": ".py",
      "mimetype": "text/x-python",
      "name": "python",
      "nbconvert_exporter": "python",
      "pygments_lexer": "ipython3",
      "version": "3.8.18"
    }
  },
  "nbformat": 4,
  "nbformat_minor": 0
}
